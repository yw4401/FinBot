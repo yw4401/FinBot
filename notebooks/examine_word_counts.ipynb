{
 "cells": [
  {
   "cell_type": "code",
   "execution_count": 1,
   "id": "initial_id",
   "metadata": {
    "collapsed": true,
    "ExecuteTime": {
     "end_time": "2023-11-06T20:44:16.378762Z",
     "start_time": "2023-11-06T20:44:15.411989Z"
    }
   },
   "outputs": [],
   "source": [
    "import google.cloud.bigquery as bq\n",
    "import google.cloud.bigquery.dbapi as bqapi\n",
    "import pandas as pd\n",
    "import tqdm\n",
    "\n",
    "\n",
    "tqdm.tqdm.pandas()"
   ]
  },
  {
   "cell_type": "code",
   "execution_count": 2,
   "outputs": [
    {
     "data": {
      "text/plain": "                         published  \\\n0        2023-10-23 21:53:05+00:00   \n1        2023-10-23 12:32:25+00:00   \n2        2023-10-26 01:32:04+00:00   \n3 2023-10-18 15:24:00.111000+00:00   \n4        2023-10-18 22:22:58+00:00   \n\n                                                body  \n0  Oct 23 - The West Antarctic Ice Sheet will con...  \n1  LONDON, Oct 23 (Reuters) - Companies including...  \n2  October 26 - Top-seeded Russian Daniil Medvede...  \n3  October 18 - In 2014, The Guardian published a...  \n4  Oct 18 (Reuters) - A U.S. appeals court upheld...  ",
      "text/html": "<div>\n<style scoped>\n    .dataframe tbody tr th:only-of-type {\n        vertical-align: middle;\n    }\n\n    .dataframe tbody tr th {\n        vertical-align: top;\n    }\n\n    .dataframe thead th {\n        text-align: right;\n    }\n</style>\n<table border=\"1\" class=\"dataframe\">\n  <thead>\n    <tr style=\"text-align: right;\">\n      <th></th>\n      <th>published</th>\n      <th>body</th>\n    </tr>\n  </thead>\n  <tbody>\n    <tr>\n      <th>0</th>\n      <td>2023-10-23 21:53:05+00:00</td>\n      <td>Oct 23 - The West Antarctic Ice Sheet will con...</td>\n    </tr>\n    <tr>\n      <th>1</th>\n      <td>2023-10-23 12:32:25+00:00</td>\n      <td>LONDON, Oct 23 (Reuters) - Companies including...</td>\n    </tr>\n    <tr>\n      <th>2</th>\n      <td>2023-10-26 01:32:04+00:00</td>\n      <td>October 26 - Top-seeded Russian Daniil Medvede...</td>\n    </tr>\n    <tr>\n      <th>3</th>\n      <td>2023-10-18 15:24:00.111000+00:00</td>\n      <td>October 18 - In 2014, The Guardian published a...</td>\n    </tr>\n    <tr>\n      <th>4</th>\n      <td>2023-10-18 22:22:58+00:00</td>\n      <td>Oct 18 (Reuters) - A U.S. appeals court upheld...</td>\n    </tr>\n  </tbody>\n</table>\n</div>"
     },
     "execution_count": 2,
     "metadata": {},
     "output_type": "execute_result"
    }
   ],
   "source": [
    "from contextlib import closing\n",
    "\n",
    "bq_client = bq.Client()\n",
    "query = \"SELECT published, body FROM Articles.CleanedArticles\"\n",
    "results = []\n",
    "\n",
    "with closing(bqapi.Connection(client=bq_client)) as conn:\n",
    "    with closing(conn.cursor()) as cursor:\n",
    "        cursor.execute(query)\n",
    "        for r in cursor.fetchall():\n",
    "            results.append(list(r))\n",
    "\n",
    "result_df = pd.DataFrame(results, columns=[\"published\", \"body\"])\n",
    "result_df.head()"
   ],
   "metadata": {
    "collapsed": false,
    "ExecuteTime": {
     "end_time": "2023-11-06T20:44:25.097020Z",
     "start_time": "2023-11-06T20:44:16.380620Z"
    }
   },
   "id": "ebb5a56f0b437874"
  },
  {
   "cell_type": "code",
   "execution_count": null,
   "outputs": [
    {
     "name": "stderr",
     "output_type": "stream",
     "text": [
      " 92%|█████████▏| 37633/41095 [39:48<04:34, 12.60it/s]"
     ]
    }
   ],
   "source": [
    "import spacy\n",
    "\n",
    "nlp = spacy.load(\"en_core_web_sm\")\n",
    "docs = nlp.pipe(result_df.body)\n",
    "words_count = []\n",
    "for d in tqdm.tqdm(docs, total=result_df.shape[0]):\n",
    "    words_count.append(len([token for token in d]))\n",
    "    \n",
    "result_df[\"words_count\"] = words_count"
   ],
   "metadata": {
    "collapsed": false,
    "is_executing": true,
    "ExecuteTime": {
     "start_time": "2023-11-06T20:44:25.098169Z"
    }
   },
   "id": "977f07346fb376a1"
  }
 ],
 "metadata": {
  "kernelspec": {
   "display_name": "Python 3",
   "language": "python",
   "name": "python3"
  },
  "language_info": {
   "codemirror_mode": {
    "name": "ipython",
    "version": 2
   },
   "file_extension": ".py",
   "mimetype": "text/x-python",
   "name": "python",
   "nbconvert_exporter": "python",
   "pygments_lexer": "ipython2",
   "version": "2.7.6"
  }
 },
 "nbformat": 4,
 "nbformat_minor": 5
}
