{
 "cells": [
  {
   "cell_type": "code",
   "execution_count": 1,
   "id": "f142f899-e1a1-4de9-be71-ef314f7c9189",
   "metadata": {},
   "outputs": [],
   "source": [
    "#%pip install -U torch==1.12.1+cu113 torchvision==0.13.1+cu113 torchaudio==0.12.1 --extra-index-url https://download.pytorch.org/whl/cu113\n",
    "#%pip install -U transformers\n",
    "#%pip install -U accelerate\n",
    "#%pip install -U sentencepiece"
   ]
  },
  {
   "cell_type": "code",
   "execution_count": 2,
   "id": "96ff8fe2-1e2b-4c24-8b97-dd7c8a163bbf",
   "metadata": {},
   "outputs": [
    {
     "data": {
      "text/plain": [
       "True"
      ]
     },
     "execution_count": 2,
     "metadata": {},
     "output_type": "execute_result"
    }
   ],
   "source": [
    "import torch\n",
    "torch.cuda.is_available()"
   ]
  },
  {
   "cell_type": "code",
   "execution_count": 3,
   "id": "bcb31ae7-4810-4877-bcc5-0f03265b1489",
   "metadata": {},
   "outputs": [],
   "source": [
    "from transformers import AutoModelForCausalLM, AutoTokenizer"
   ]
  },
  {
   "cell_type": "code",
   "execution_count": 4,
   "id": "e003d47a-78fd-4837-bc14-b9e0f2e4abc1",
   "metadata": {},
   "outputs": [],
   "source": [
    "# directory where to cache models\n",
    "cache_dir = '/home/jupyter/data/transformers'"
   ]
  },
  {
   "cell_type": "code",
   "execution_count": 5,
   "id": "6829c3bf-203e-4f8a-b224-fd2ead6f0251",
   "metadata": {},
   "outputs": [],
   "source": [
    "tokenizer = AutoTokenizer.from_pretrained(\"cerebras/Cerebras-GPT-6.7B\", cache_dir=cache_dir, device_map=\"auto\")\n",
    "model = AutoModelForCausalLM.from_pretrained(\"cerebras/Cerebras-GPT-6.7B\", cache_dir=cache_dir, low_cpu_mem_usage=True, torch_dtype=torch.float16, device_map=\"auto\").cuda()"
   ]
  },
  {
   "cell_type": "code",
   "execution_count": 6,
   "id": "3c5b2bea-9bb2-49f4-a39f-74e734c68bbe",
   "metadata": {},
   "outputs": [],
   "source": [
    "def generate(prompt, max_new_tokens=1024):\n",
    "    \n",
    "    inputs = tokenizer(prompt, return_tensors=\"pt\").to(\"cuda\")\n",
    "    outputs = model.generate(**inputs, max_new_tokens=max_new_tokens, do_sample=True, top_p=0.95, temperature=0.8)\n",
    "    result = tokenizer.batch_decode(outputs, skip_special_tokens=True, spaces_between_special_tokens=False)\n",
    "    \n",
    "    return result[0]"
   ]
  },
  {
   "cell_type": "code",
   "execution_count": 7,
   "id": "2b8ea137-3eb1-4ca3-8150-6e90c0dd537f",
   "metadata": {},
   "outputs": [
    {
     "name": "stderr",
     "output_type": "stream",
     "text": [
      "Setting `pad_token_id` to `eos_token_id`:50256 for open-end generation.\n"
     ]
    },
    {
     "name": "stdout",
     "output_type": "stream",
     "text": [
      "To make a BLT,  \n",
      "combine the following ingredients,  \n",
      "one at a time:\n",
      "\n",
      "5 slices bacon, chopped\n",
      "\n",
      "1 medium onion, thinly sliced\n",
      "\n",
      "2 tablespoons (30 mL) butter, or more, if desired\n",
      "\n",
      "4 to 5 leaves of lettuce\n",
      "\n",
      "2 hard-boiled eggs, peeled and chopped\n",
      "\n",
      "1 medium tomato, chopped\n",
      "\n",
      "8 slices of raw bacon\n",
      "\n",
      "Salt and pepper\n",
      "\n",
      "1. In a skillet over medium heat, cook the bacon until brown and crisp. Drain off and reserve the bacon drippings.\n",
      "\n",
      "2. In the same skillet, sauté the onion in the butter for about 5 minutes. Add the lettuce, and then the bacon. Cook for 5 minutes, then remove from heat.\n",
      "\n",
      "3. To assemble the BLT, top each slice of bacon with a few leaves of lettuce, some chopped tomato, and a few slices of cooked bacon. Season with salt and pepper.\n",
      "\n",
      "4. Place a slice of bacon on top of each BLT.\n",
      "\n",
      "**Yield:** 4 servings\n",
      "\n",
      "### **CABBAGE CHEESE**\n",
      "\n",
      "_Cabbage is an excellent source of vitamin K, which is necessary for blood clotting and bone growth. It also contains calcium, which helps with the absorption of iron and zinc. And it's delicious. Serve as a side dish, or slice thinly, and put on a sandwich._\n",
      "\n",
      "**Prep time:** 10 minutes\n",
      "\n",
      "**Cook time:** 1 hour\n",
      "\n",
      "**Total time:** 1 hour, 30 minutes\n",
      "\n",
      "1 head of cabbage, shredded\n",
      "\n",
      "1/4 cup (60 mL) butter\n",
      "\n",
      "1/4 cup (60 mL) grated Parmesan cheese\n",
      "\n",
      "1/4 cup (60 mL) shredded mozzarella cheese\n",
      "\n",
      "1/4 cup (60 mL) shredded Asiago cheese\n",
      "\n",
      "1/4 cup (60 mL) grated Parmesan cheese\n",
      "\n",
      "1/4 cup (60 mL) grated mozzarella cheese\n",
      "\n",
      "Salt and pepper\n",
      "\n",
      "1. In a large saucepan over medium-low heat, sauté the cabbage in butter until tender. Add the cheeses, and sauté for another 2 minutes. Season with salt and pepper.\n",
      "\n",
      "2. Transfer to a serving dish, and serve warm.\n",
      "\n",
      "**Yield:** 4 servings\n",
      "\n",
      "### **CURRIED CABBAGE SALAD**\n",
      "\n",
      "_Cabbage is a very popular salad ingredient. This recipe is very easy to prepare and very tasty. You can add anything you like—cabbage, carrots, or even peas._\n",
      "\n",
      "**Prep time:** 10 minutes\n",
      "\n",
      "**Cook time:** 10 minutes\n",
      "\n",
      "**Total time:** 20 minutes\n",
      "\n",
      "2 tablespoons (30 mL) olive oil\n",
      "\n",
      "1/4 cup (60 mL) chopped onions\n",
      "\n",
      "1/4 cup (60 mL) chopped bell pepper\n",
      "\n",
      "2 tablespoons (30 mL) curry powder\n",
      "\n",
      "1/2 teaspoon (2 mL) turmeric\n",
      "\n",
      "1/2 cup (120 mL) white wine\n",
      "\n",
      "1 teaspoon (5 mL) salt\n",
      "\n",
      "1/2 teaspoon (2 mL) pepper\n",
      "\n",
      "1 head of cabbage, shredded\n",
      "\n",
      "1 cup (250 mL) peas\n",
      "\n",
      "1/2 cup (125 mL) grated Parmesan cheese\n",
      "\n",
      "1/2 cup (125 mL) grated mozzarella cheese\n",
      "\n",
      "1. In a large skillet over medium heat, sauté the onions and bell pepper in oil until the onions are translucent.\n",
      "\n",
      "2. In a small bowl, combine the curry powder, turmeric, wine, salt, and pepper.\n",
      "\n",
      "3. Add the curry sauce to the vegetables in the skillet, and sauté for another minute.\n",
      "\n",
      "4. Add the cabbage and peas, and cook for 5 minutes.\n",
      "\n",
      "5. Transfer to a serving dish. Sprinkle with Parmesan cheese and mozzarella cheese.\n",
      "\n",
      "**Yield:** 4 servings\n",
      "\n",
      "### **CINNAMON-SUGAR CABBAGE SALAD**\n",
      "\n",
      "_This is a wonderful salad to serve with grilled fish or chicken._\n",
      "\n",
      "**Prep time:** 10 minutes\n",
      "\n",
      "**Cook time:** 15 minutes\n",
      "\n",
      "**Total time:** 25 minutes\n",
      "\n",
      "1/4 cup (60 mL) butter\n",
      "\n",
      "1/4 cup (60 mL) brown sugar\n",
      "\n",
      "1 teaspoon (5 mL) cinnamon\n",
      "\n",
      "1/4 teaspoon (1 mL) nutmeg\n",
      "\n",
      "1 head of cabbage, shredded\n",
      "\n",
      "1 cup (250 mL) peas\n",
      "\n",
      "1/2 cup (125 mL) grated Parmesan cheese\n",
      "\n",
      "1/2 cup (125 mL) grated mozzarella cheese\n",
      "\n",
      "1. In a large skillet over medium heat, sauté the butter and brown sugar until the sugar is dissolved. Stir in the cinnamon and nutmeg, and cook for another minute.\n",
      "\n"
     ]
    }
   ],
   "source": [
    "print(generate(\"To make a BLT, \", max_new_tokens=1024))"
   ]
  },
  {
   "cell_type": "code",
   "execution_count": 9,
   "id": "3f66390e-52e2-4979-af5f-5db1f7f73c07",
   "metadata": {},
   "outputs": [
    {
     "name": "stderr",
     "output_type": "stream",
     "text": [
      "Setting `pad_token_id` to `eos_token_id`:50256 for open-end generation.\n"
     ]
    },
    {
     "name": "stdout",
     "output_type": "stream",
     "text": [
      "You are an equity researcher specialized in the health and pharmaceutical industry. Write a summary for the following article. Focus on the information that will impact investment decisions on the companies mentioned.\n",
      "Alzheimer’s disease treatment stocks are focused on Alzheimer’s disease, a degenerative brain disorder that results in declining memory and thinking skills and typically affects people in their mid-60s.According to the Alzheimer’s Association, neurons in other areas of the brain also begin to deteriorate as Alzheimer’s disease gets worse, resulting in the loss of basic human functions and overall cognitive impairment.This condition affects more than 6.7 million people in the US alone; it’s also the most common form of dementia and is the sixth leading cause of death in America. Treatments are available to alleviate Alzheimer’s disease symptoms, but because they do not affect the underlying causes of this neurodegenerative disease, they’re only a bandaid solution.Therapies approved by the US Food and Drug Administration (FDA) include: rivastigmine by Novartis (NYSE:NVS); galantamine, developed by Janssen, a division of Johnson & Johnson (NYSE:JNJ); donepezil by Pfizer (NYSE:PFE); and AbbVie's (NYSE:ABBV) memantine.Since there is no cure for Alzheimer’s disease, death is often the result for patients as the ailment devastates the brain. And unfortunately, Alzheimer’s disease is rising in prevalence — a report from Research and Markets suggests that the global Alzheimer’s disease treatment market will be worth a significant US$9.64 billion by 2028 as more patients need treatment, and as more investments are made in biomarkers for diagnosis and drug development.Here the Investing News Network takes a look at a few of the biggest Alzheimer’s disease treatment stocks on the NASDAQ. Companies are listed in order of market cap from largest to smallest, and all data was current as of April 19, 2023.. Biogen (NASDAQ:BIIB) Company Profile.Market cap: US$42.27 billion; current share price: US$292.80.Massachusetts-based Biogen, a pioneer in the field of neuroscience, is developing, manufacturing and marketing therapies aimed at treating serious neurological, neurodegenerative, autoimmune and rare diseases.The global biotechnology firm’s research areas include Alzheimer's disease and dementia. However, Biogen’s launch of its FDA-approved Alzheimer’s disease drug Aduhelm faced a lot of pushback in 2022, both from the market and from Congress, over what was viewed as a hasty fast-track approval process and exorbitant costs to patients.In early 2023, Biogen is looking to give it another go, this time with LEQEMBI (lecanemab-irmb) for the treatment of Alzheimer's disease, which the FDA has approved under its accelerated approval pathway. The drug was jointly developed by Biogen and Tokyo-based pharmaceutical company Eisai (OTC Pink:ESALF,TSE:4523). Intra-Cellular Therapies (NASDAQ:ITCI).Company Profile.Market cap: US$5.96 billion; current share price: US$62.59.As its name suggests, biopharma company Intra-Cellular Therapies is taking an intracellular approach to developing therapies for patients with complex psychiatric and neurologic diseases, including Parkinson’s disease and Alzheimer’s disease.Intra-Cellular Therapies is currently evaluating ITI-1284-ODT-SL, a deuterated form of lumateperone that comes in an oral disintegrating tablet; ITI-1284-ODT-SL is in Phase 1 studies, including drug-drug interaction studies. The company expects to commence Phase 2 clinical trials in agitation in patients with probable Alzheimer’s disease in 2023. 3. Axsome Therapeutics (NASDAQ:AXSM).Company Profile.Market cap: US$3.16 billion; current share price: US$72.64.New York-based Axsome Therapeutics is developing and commercializing a portfolio of novel therapies for disorders of the central nervous system with limited treatment options. Products currently on the market from the biopharmaceutical company include Auvelity, a rapid-acting oral antidepressant for the treatment of major depressive disorder; and Sunosi, a once-daily prescription medicine to treat excessive daytime sleepiness due to obstructive sleep apnea or narcolepsy.Axsome’s product pipeline includes AXS-05, a NMDA receptor antagonist with multimodal activity. It has breakthrough therapy designation from the FDA and is currently in Phase 3 clinical studies for the treatment of Alzheimer’s disease agitation. ‏.Alzheimer’s disease is a complex disease and the neurodegenerative process is still not fully understood. But as patients are diagnosed with Alzheimer’s disease, they need to make decisions regarding their health and the future of their loved ones.The Alzheimer’s Association urges patients and their loved ones to be proactive. The organization’s website has information on the symptoms of Alzheimer’s disease, as well as tools to help people learn what to do to be a caregiver. The website also provides advice on how to take care of your loved one as well as how to make an appointment with a professional caregiver. ‏.Biogen’s Alzheimer’s disease drug Aduhelm has seen pushback in 2022, both from the market and from Congress, over what was viewed as a hasty fast-track approval process and exorbitant costs to patients.And Biogen is looking to give it another go, this time with LEQEMBI (lecanemab-irmb) for the treatment of Alzheimer’s disease, which the FDA has approved under its accelerated approval pathway.The drug was jointly developed by Biogen and Tokyo-based pharmaceutical company Eisai (OTC Pink:ESALF,TSE:4523).Intra-Cellular Therapies (NASDAQ:ITCI).Company Profile.Market cap: US$5.96 billion; current share price: US$62.59.Biogen is a world leader in developing treatments for Alzheimer’s disease. The Massachusetts-based biopharmaceutical company develops, manufactures and markets therapies for serious neurological, neurodegenerative, autoimmune and rare diseases.The global biotechnology firm’s research areas include Alzheimer’s disease and dementia.Biogen is also exploring new ways to develop treatments for Alzheimer’s disease, with a focus on the brain's neurotransmitter systems, which are responsible for communication between neurons and the brain.In 2023, Biogen plans to initiate Phase 2 clinical trials of its brain-penetrating drug Axsome-101, which is aimed at treating Alzheimer’s disease with a focus on the brain’s neurotransmitter systems, which are responsible for communication between neurons and the brain. Biogen is also exploring new ways to develop treatments for Alzheimer’s disease, with a focus on the brain's neurotransmitter systems, which are responsible for communication between neurons and the brain.The company is also evaluating its drug in Phase 1 studies, including in combination with the NMDA receptor antagonist MK-8931.4. Eli Lilly and Company (NYSE:LLY) Company Profile.Market cap: US$31.35 billion; current share price: US$135.88.With a history of creating breakthrough treatments for patients with serious illnesses, Eli Lilly and Company offers a portfolio of pharmaceutical and biotechnology products. Its research focuses on the discovery and development of therapeutics for the central nervous system (CNS), with a focus on conditions that affect a wide range of patients, including Alzheimer’s disease, Parkinson’s disease, Huntington‡s disease, dementia, depression, epilepsy, migraine, spinal cord injury and stroke.The company also develops and markets generic drugs for many chronic conditions, including Alzheimer‡s disease, Parkinson‡s disease, Huntington‡s disease, dementia, depression, epilepsy, migraine, spinal cord injury and stroke. The company’s pipeline currently includes six Alzheimer‡s disease-specific drug candidates and four for depression, with a focus on the brain‒gut and central nervous system‒gut axis.In 2023, the company plans to initiate Phase 2 clinical trials of its drug Axsome-101, which is aimed at treating Alzheimer‡s disease with a focus on the brain‒gut and central nervous system‒gut axis. The company is also evaluating its drug in Phase 1 studies, including in combination with the NMDA receptor antagonist MK-8931.5. AbbVie (NYSE:ABBV) Company Profile.Market cap: US$34.47 billion; current share price: US$153.95.With a history of creating breakthrough treatments for patients with serious illnesses, AbbVie offers a portfolio of pharmaceutical and biotechnology products. The company's research focuses on the discovery and development of therapeutics for the central nervous system, with a focus on conditions that affect a wide range of patients, including Alzheimer‡s disease, Parkinson‡s disease, Huntington‡s disease, dementia, depression, epilepsy, migraine, spinal cord injury and stroke.The company also develops and markets generic drugs for many chronic conditions, including Alzheimer‡s disease, Parkinson‡s disease, Huntington‡s disease, dementia, depression, epilepsy, migraine, spinal cord injury and stroke. The company’s pipeline currently includes eight Alzheimer‡s disease-specific drug candidates and four for depression\n"
     ]
    }
   ],
   "source": [
    "article = \"\"\"Alzheimer’s disease treatment stocks are focused on Alzheimer’s disease, a degenerative brain disorder that results in declining memory and thinking skills and typically affects people in their mid-60s.According to the Alzheimer’s Association, neurons in other areas of the brain also begin to deteriorate as Alzheimer’s disease gets worse, resulting in the loss of basic human functions and overall cognitive impairment.This condition affects more than 6.7 million people in the US alone; it’s also the most common form of dementia and is the sixth leading cause of death in America. Treatments are available to alleviate Alzheimer’s disease symptoms, but because they do not affect the underlying causes of this neurodegenerative disease, they’re only a bandaid solution.Therapies approved by the US Food and Drug Administration (FDA) include: rivastigmine by Novartis (NYSE:NVS); galantamine, developed by Janssen, a division of Johnson & Johnson (NYSE:JNJ); donepezil by Pfizer (NYSE:PFE); and AbbVie's (NYSE:ABBV) memantine.Since there is no cure for Alzheimer’s disease, death is often the result for patients as the ailment devastates the brain. And unfortunately, Alzheimer’s disease is rising in prevalence — a report from Research and Markets suggests that the global Alzheimer’s disease treatment market will be worth a significant US$9.64 billion by 2028 as more patients need treatment, and as more investments are made in biomarkers for diagnosis and drug development.Here the Investing News Network takes a look at a few of the biggest Alzheimer’s disease treatment stocks on the NASDAQ. Companies are listed in order of market cap from largest to smallest, and all data was current as of April 19, 2023.. Biogen (NASDAQ:BIIB) Company Profile.Market cap: US$42.27 billion; current share price: US$292.80.Massachusetts-based Biogen, a pioneer in the field of neuroscience, is developing, manufacturing and marketing therapies aimed at treating serious neurological, neurodegenerative, autoimmune and rare diseases.The global biotechnology firm’s research areas include Alzheimer's disease and dementia. However, Biogen’s launch of its FDA-approved Alzheimer’s disease drug Aduhelm faced a lot of pushback in 2022, both from the market and from Congress, over what was viewed as a hasty fast-track approval process and exorbitant costs to patients.In early 2023, Biogen is looking to give it another go, this time with LEQEMBI (lecanemab-irmb) for the treatment of Alzheimer's disease, which the FDA has approved under its accelerated approval pathway. The drug was jointly developed by Biogen and Tokyo-based pharmaceutical company Eisai (OTC Pink:ESALF,TSE:4523). Intra-Cellular Therapies (NASDAQ:ITCI).Company Profile.Market cap: US$5.96 billion; current share price: US$62.59.As its name suggests, biopharma company Intra-Cellular Therapies is taking an intracellular approach to developing therapies for patients with complex psychiatric and neurologic diseases, including Parkinson’s disease and Alzheimer’s disease.Intra-Cellular Therapies is currently evaluating ITI-1284-ODT-SL, a deuterated form of lumateperone that comes in an oral disintegrating tablet; ITI-1284-ODT-SL is in Phase 1 studies, including drug-drug interaction studies. The company expects to commence Phase 2 clinical trials in agitation in patients with probable Alzheimer’s disease in 2023. 3. Axsome Therapeutics (NASDAQ:AXSM).Company Profile.Market cap: US$3.16 billion; current share price: US$72.64.New York-based Axsome Therapeutics is developing and commercializing a portfolio of novel therapies for disorders of the central nervous system with limited treatment options. Products currently on the market from the biopharmaceutical company include Auvelity, a rapid-acting oral antidepressant for the treatment of major depressive disorder; and Sunosi, a once-daily prescription medicine to treat excessive daytime sleepiness due to obstructive sleep apnea or narcolepsy.Axsome’s product pipeline includes AXS-05, a NMDA receptor antagonist with multimodal activity. It has breakthrough therapy designation from the FDA and is currently in Phase 3 clinical studies for the treatment of Alzheimer’s disease agitation. \"\"\"\n",
    "\n",
    "response = generate(\"You are an equity researcher specialized in the health and pharmaceutical industry. Write a summary for the following article. Focus on the information that will impact investment decisions on the companies mentioned.\\n\" + article)\n",
    "print(response)"
   ]
  },
  {
   "cell_type": "code",
   "execution_count": null,
   "id": "a788281c-9700-4d8d-ac59-dd895cbe6f06",
   "metadata": {},
   "outputs": [],
   "source": []
  }
 ],
 "metadata": {
  "environment": {
   "kernel": "python3",
   "name": "common-cu110.m108",
   "type": "gcloud",
   "uri": "gcr.io/deeplearning-platform-release/base-cu110:m108"
  },
  "kernelspec": {
   "display_name": "Python 3",
   "language": "python",
   "name": "python3"
  },
  "language_info": {
   "codemirror_mode": {
    "name": "ipython",
    "version": 3
   },
   "file_extension": ".py",
   "mimetype": "text/x-python",
   "name": "python",
   "nbconvert_exporter": "python",
   "pygments_lexer": "ipython3",
   "version": "3.7.12"
  }
 },
 "nbformat": 4,
 "nbformat_minor": 5
}
