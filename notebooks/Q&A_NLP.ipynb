{
 "cells": [
  {
   "cell_type": "code",
   "execution_count": 1,
   "id": "183257c6",
   "metadata": {},
   "outputs": [],
   "source": [
    "# Imports \n",
    "\n",
    "import numpy as np \n",
    "import pandas as pd \n",
    "import os"
   ]
  },
  {
   "cell_type": "code",
   "execution_count": 2,
   "id": "ce3fe59f",
   "metadata": {},
   "outputs": [
    {
     "name": "stdout",
     "output_type": "stream",
     "text": [
      "/Users/takumakoide/Downloads/archive/S10_question_answer_pairs.txt 832\n",
      "/Users/takumakoide/Downloads/archive/S09_question_answer_pairs.txt 598\n",
      "/Users/takumakoide/Downloads/archive/S08_question_answer_pairs.txt 1033\n"
     ]
    }
   ],
   "source": [
    "# Dataset Construction\n",
    "\n",
    "folder = '/Users/takumakoide/Downloads/archive/' # subject to user's directory\n",
    "\n",
    "df = pd.DataFrame()\n",
    "for file in ['S10_question_answer_pairs.txt','S09_question_answer_pairs.txt','S08_question_answer_pairs.txt']:\n",
    "    filename = os.path.join(folder, file)\n",
    "    df_tmp = pd.read_csv(filename, encoding='latin1', sep='\\t').drop_duplicates(subset=\"Question\")\n",
    "    print(filename, len(df_tmp))\n",
    "    df = pd.concat([df,df_tmp])"
   ]
  },
  {
   "cell_type": "code",
   "execution_count": 3,
   "id": "e003def9",
   "metadata": {},
   "outputs": [
    {
     "name": "stdout",
     "output_type": "stream",
     "text": [
      "<class 'pandas.core.frame.DataFrame'>\n",
      "Index: 2463 entries, 0 to 1714\n",
      "Data columns (total 7 columns):\n",
      " #   Column                    Non-Null Count  Dtype \n",
      "---  ------                    --------------  ----- \n",
      " 0   ArticleTitle              832 non-null    object\n",
      " 1   Question                  2461 non-null   object\n",
      " 2   Answer                    2188 non-null   object\n",
      " 3   DifficultyFromQuestioner  1570 non-null   object\n",
      " 4   DifficultyFromAnswerer    2185 non-null   object\n",
      " 5   ArticleFile               2461 non-null   object\n",
      " 6   ï»¿ArticleTitle           1631 non-null   object\n",
      "dtypes: object(7)\n",
      "memory usage: 153.9+ KB\n"
     ]
    }
   ],
   "source": [
    "df.info()\n"
   ]
  },
  {
   "cell_type": "code",
   "execution_count": 4,
   "id": "ff32f61a",
   "metadata": {},
   "outputs": [],
   "source": [
    "# normalize the name of columns\n",
    "df.columns = ['articleTitle','question','answer','difficultyFromQuestioner',\n",
    "              'difficultyFromAnswerer','articleFile',\"articleTitle_to_drop\"]\n",
    "\n",
    "# drop the last column\n",
    "df.drop('articleTitle_to_drop', axis=1, inplace=True)"
   ]
  },
  {
   "cell_type": "code",
   "execution_count": 5,
   "id": "f2cea513",
   "metadata": {},
   "outputs": [
    {
     "data": {
      "text/plain": [
       "articleTitle                1631\n",
       "question                       2\n",
       "answer                       275\n",
       "difficultyFromQuestioner     893\n",
       "difficultyFromAnswerer       278\n",
       "articleFile                    2\n",
       "dtype: int64"
      ]
     },
     "execution_count": 5,
     "metadata": {},
     "output_type": "execute_result"
    }
   ],
   "source": [
    "# nb of na values in each column\n",
    "df.isna().sum()"
   ]
  },
  {
   "cell_type": "code",
   "execution_count": 6,
   "id": "36f59b90",
   "metadata": {},
   "outputs": [
    {
     "name": "stdout",
     "output_type": "stream",
     "text": [
      "original df length:  2463\n",
      "new df length:  511\n"
     ]
    }
   ],
   "source": [
    "# drop na values\n",
    "print('original df length: ',len(df))\n",
    "df.dropna(subset=['question'], inplace=True)\n",
    "df.dropna(subset=['answer'], inplace=True)\n",
    "df.dropna(subset=['articleTitle'], inplace=True)\n",
    "df = df[~df.question.str.contains('#')] # remove badly formatted questions\n",
    "df = df[~df.answer.isin(['no','yes','Yes','No','No,','Yes,','No.','Yes.','yes.','no.'])] # remove yes/no questions\n",
    "print('new df length: ',len(df))"
   ]
  },
  {
   "cell_type": "code",
   "execution_count": 7,
   "id": "fd701fef",
   "metadata": {},
   "outputs": [
    {
     "data": {
      "text/html": [
       "<div>\n",
       "<style scoped>\n",
       "    .dataframe tbody tr th:only-of-type {\n",
       "        vertical-align: middle;\n",
       "    }\n",
       "\n",
       "    .dataframe tbody tr th {\n",
       "        vertical-align: top;\n",
       "    }\n",
       "\n",
       "    .dataframe thead th {\n",
       "        text-align: right;\n",
       "    }\n",
       "</style>\n",
       "<table border=\"1\" class=\"dataframe\">\n",
       "  <thead>\n",
       "    <tr style=\"text-align: right;\">\n",
       "      <th></th>\n",
       "      <th>articleTitle</th>\n",
       "      <th>question</th>\n",
       "      <th>answer</th>\n",
       "      <th>difficultyFromQuestioner</th>\n",
       "      <th>difficultyFromAnswerer</th>\n",
       "      <th>articleFile</th>\n",
       "    </tr>\n",
       "  </thead>\n",
       "  <tbody>\n",
       "    <tr>\n",
       "      <th>0</th>\n",
       "      <td>Alessandro_Volta</td>\n",
       "      <td>Was Alessandro Volta a professor of chemistry?</td>\n",
       "      <td>Alessandro Volta was not a professor of chemistry.</td>\n",
       "      <td>easy</td>\n",
       "      <td>easy</td>\n",
       "      <td>S10_set4_a10</td>\n",
       "    </tr>\n",
       "    <tr>\n",
       "      <th>2</th>\n",
       "      <td>Alessandro_Volta</td>\n",
       "      <td>Did Alessandro Volta invent the remotely operated pistol?</td>\n",
       "      <td>Alessandro Volta did invent the remotely operated pistol.</td>\n",
       "      <td>easy</td>\n",
       "      <td>easy</td>\n",
       "      <td>S10_set4_a10</td>\n",
       "    </tr>\n",
       "    <tr>\n",
       "      <th>4</th>\n",
       "      <td>Alessandro_Volta</td>\n",
       "      <td>Was Alessandro Volta taught in public schools?</td>\n",
       "      <td>Volta was taught in public schools.</td>\n",
       "      <td>easy</td>\n",
       "      <td>easy</td>\n",
       "      <td>S10_set4_a10</td>\n",
       "    </tr>\n",
       "    <tr>\n",
       "      <th>6</th>\n",
       "      <td>Alessandro_Volta</td>\n",
       "      <td>Who did Alessandro Volta marry?</td>\n",
       "      <td>Alessandro Volta married Teresa Peregrini.</td>\n",
       "      <td>medium</td>\n",
       "      <td>medium</td>\n",
       "      <td>S10_set4_a10</td>\n",
       "    </tr>\n",
       "    <tr>\n",
       "      <th>8</th>\n",
       "      <td>Alessandro_Volta</td>\n",
       "      <td>What did Alessandro Volta invent in 1800?</td>\n",
       "      <td>In 1800, Alessandro Volta invented the voltaic pile.</td>\n",
       "      <td>medium</td>\n",
       "      <td>easy</td>\n",
       "      <td>S10_set4_a10</td>\n",
       "    </tr>\n",
       "  </tbody>\n",
       "</table>\n",
       "</div>"
      ],
      "text/plain": [
       "       articleTitle  \\\n",
       "0  Alessandro_Volta   \n",
       "2  Alessandro_Volta   \n",
       "4  Alessandro_Volta   \n",
       "6  Alessandro_Volta   \n",
       "8  Alessandro_Volta   \n",
       "\n",
       "                                                    question  \\\n",
       "0             Was Alessandro Volta a professor of chemistry?   \n",
       "2  Did Alessandro Volta invent the remotely operated pistol?   \n",
       "4             Was Alessandro Volta taught in public schools?   \n",
       "6                            Who did Alessandro Volta marry?   \n",
       "8                  What did Alessandro Volta invent in 1800?   \n",
       "\n",
       "                                                      answer  \\\n",
       "0         Alessandro Volta was not a professor of chemistry.   \n",
       "2  Alessandro Volta did invent the remotely operated pistol.   \n",
       "4                        Volta was taught in public schools.   \n",
       "6                 Alessandro Volta married Teresa Peregrini.   \n",
       "8       In 1800, Alessandro Volta invented the voltaic pile.   \n",
       "\n",
       "  difficultyFromQuestioner difficultyFromAnswerer   articleFile  \n",
       "0                     easy                   easy  S10_set4_a10  \n",
       "2                     easy                   easy  S10_set4_a10  \n",
       "4                     easy                   easy  S10_set4_a10  \n",
       "6                   medium                 medium  S10_set4_a10  \n",
       "8                   medium                   easy  S10_set4_a10  "
      ]
     },
     "execution_count": 7,
     "metadata": {},
     "output_type": "execute_result"
    }
   ],
   "source": [
    "pd.options.display.max_colwidth=None\n",
    "df.head()"
   ]
  },
  {
   "cell_type": "code",
   "execution_count": 8,
   "id": "4ad388fa",
   "metadata": {},
   "outputs": [
    {
     "name": "stderr",
     "output_type": "stream",
     "text": [
      "No model was supplied, defaulted to distilbert-base-cased-distilled-squad and revision 626af31 (https://huggingface.co/distilbert-base-cased-distilled-squad).\n",
      "Using a pipeline without specifying a model name and revision in production is not recommended.\n"
     ]
    }
   ],
   "source": [
    "# load question-answering model\n",
    "\n",
    "from transformers import pipeline\n",
    "qa_model = pipeline(\"question-answering\")"
   ]
  },
  {
   "cell_type": "code",
   "execution_count": 9,
   "id": "3899dd3c",
   "metadata": {},
   "outputs": [],
   "source": [
    "def answer_question_given_article(question, article_name):\n",
    "    '''\n",
    "    given the question, read the article and use it as a context and return a dictionary with an \n",
    "    answer and a score and the position of the answer in the article\n",
    "    '''\n",
    "    folder_name = '/Users/takumakoide/Downloads/archive/text_data'\n",
    "    article_file = str(df[df.articleTitle==article_name].articleFile.unique()[0]) + '.txt.clean'\n",
    "    article_path = os.path.join(folder_name, article_file)\n",
    "    \n",
    "    with open(article_path, 'r') as file:\n",
    "        context = file.read().replace('\\n', '')\n",
    "        \n",
    "    return qa_model(question, context)"
   ]
  },
  {
   "cell_type": "code",
   "execution_count": 10,
   "id": "5f97004d",
   "metadata": {},
   "outputs": [
    {
     "name": "stdout",
     "output_type": "stream",
     "text": [
      "CPU times: user 8.6 s, sys: 1.58 s, total: 10.2 s\n",
      "Wall time: 5.62 s\n"
     ]
    },
    {
     "data": {
      "text/plain": [
       "{'score': 0.8335656523704529,\n",
       " 'start': 3262,\n",
       " 'end': 3281,\n",
       " 'answer': 'Sir James Lancaster'}"
      ]
     },
     "execution_count": 10,
     "metadata": {},
     "output_type": "execute_result"
    }
   ],
   "source": [
    "%%time\n",
    "\n",
    "# question example and the time it takes to answer it\n",
    "question_example = \"\"\"In 1602, the British East India Company's first voyage, commanded by Sir who, arrived in Aceh and sailed on to Banten where they were allowed to build a trading post?\"\"\"\n",
    "answer_question_given_article(question_example, \"Jakarta\")"
   ]
  },
  {
   "cell_type": "code",
   "execution_count": 11,
   "id": "b8ece711",
   "metadata": {},
   "outputs": [
    {
     "data": {
      "text/html": [
       "<div>\n",
       "<style scoped>\n",
       "    .dataframe tbody tr th:only-of-type {\n",
       "        vertical-align: middle;\n",
       "    }\n",
       "\n",
       "    .dataframe tbody tr th {\n",
       "        vertical-align: top;\n",
       "    }\n",
       "\n",
       "    .dataframe thead th {\n",
       "        text-align: right;\n",
       "    }\n",
       "</style>\n",
       "<table border=\"1\" class=\"dataframe\">\n",
       "  <thead>\n",
       "    <tr style=\"text-align: right;\">\n",
       "      <th></th>\n",
       "      <th>articleTitle</th>\n",
       "      <th>question</th>\n",
       "      <th>answer</th>\n",
       "      <th>difficultyFromQuestioner</th>\n",
       "      <th>difficultyFromAnswerer</th>\n",
       "      <th>articleFile</th>\n",
       "    </tr>\n",
       "  </thead>\n",
       "  <tbody>\n",
       "    <tr>\n",
       "      <th>663</th>\n",
       "      <td>Jakarta</td>\n",
       "      <td>In 1602, the British East India Company's first voyage, commanded by Sir who, arrived in Aceh and sailed on to Banten where they were allowed to build a trading post?</td>\n",
       "      <td>James Lancaster</td>\n",
       "      <td>NaN</td>\n",
       "      <td>medium</td>\n",
       "      <td>S10_set3_a5</td>\n",
       "    </tr>\n",
       "  </tbody>\n",
       "</table>\n",
       "</div>"
      ],
      "text/plain": [
       "    articleTitle  \\\n",
       "663      Jakarta   \n",
       "\n",
       "                                                                                                                                                                   question  \\\n",
       "663  In 1602, the British East India Company's first voyage, commanded by Sir who, arrived in Aceh and sailed on to Banten where they were allowed to build a trading post?   \n",
       "\n",
       "              answer difficultyFromQuestioner difficultyFromAnswerer  \\\n",
       "663  James Lancaster                      NaN                 medium   \n",
       "\n",
       "     articleFile  \n",
       "663  S10_set3_a5  "
      ]
     },
     "execution_count": 11,
     "metadata": {},
     "output_type": "execute_result"
    }
   ],
   "source": [
    "# let's compare with what the answerer provided \n",
    "\n",
    "df[df.question==question_example]"
   ]
  },
  {
   "cell_type": "code",
   "execution_count": 12,
   "id": "4b4d4f45",
   "metadata": {},
   "outputs": [],
   "source": [
    "# Apply the answering function on a small sample of 20 questions\n",
    "df_sample = df.sample(30)\n",
    "\n",
    "# complete answer\n",
    "df_sample['answer_from_model'] = df_sample.apply(lambda x: answer_question_given_article(x.question, x.articleTitle), axis=1)\n",
    "\n",
    "# extract the exact answer \n",
    "df_sample['models_answer'] = df_sample['answer_from_model'].map(lambda x:x['answer'])\n",
    "\n",
    "# extract the score (confidence of the model)\n",
    "df_sample['models_score'] = df_sample['answer_from_model'].map(lambda x:x['score'])\n"
   ]
  },
  {
   "cell_type": "code",
   "execution_count": 13,
   "id": "8cb3e817",
   "metadata": {},
   "outputs": [
    {
     "data": {
      "text/html": [
       "<div>\n",
       "<style scoped>\n",
       "    .dataframe tbody tr th:only-of-type {\n",
       "        vertical-align: middle;\n",
       "    }\n",
       "\n",
       "    .dataframe tbody tr th {\n",
       "        vertical-align: top;\n",
       "    }\n",
       "\n",
       "    .dataframe thead th {\n",
       "        text-align: right;\n",
       "    }\n",
       "</style>\n",
       "<table border=\"1\" class=\"dataframe\">\n",
       "  <thead>\n",
       "    <tr style=\"text-align: right;\">\n",
       "      <th></th>\n",
       "      <th>question</th>\n",
       "      <th>answer</th>\n",
       "      <th>models_answer</th>\n",
       "      <th>models_score</th>\n",
       "    </tr>\n",
       "  </thead>\n",
       "  <tbody>\n",
       "    <tr>\n",
       "      <th>464</th>\n",
       "      <td>What is the earliest extant transverse flute?</td>\n",
       "      <td>it dates from 433 BC</td>\n",
       "      <td>a chi</td>\n",
       "      <td>0.455581</td>\n",
       "    </tr>\n",
       "    <tr>\n",
       "      <th>1436</th>\n",
       "      <td>Did the golden age of xylophones come before or after the first usage of the European-derived orchestral?</td>\n",
       "      <td>after</td>\n",
       "      <td>since the Middle Ages</td>\n",
       "      <td>0.814323</td>\n",
       "    </tr>\n",
       "    <tr>\n",
       "      <th>889</th>\n",
       "      <td>Where is Melbourne situated?</td>\n",
       "      <td>boundary of the very hot inland areas and the cold southern ocean</td>\n",
       "      <td>Derbyshire</td>\n",
       "      <td>0.669771</td>\n",
       "    </tr>\n",
       "    <tr>\n",
       "      <th>725</th>\n",
       "      <td>What is the official language of North Korea?</td>\n",
       "      <td>Korean</td>\n",
       "      <td>Korean</td>\n",
       "      <td>0.864950</td>\n",
       "    </tr>\n",
       "    <tr>\n",
       "      <th>333</th>\n",
       "      <td>What are the three heaviest cats in the world?</td>\n",
       "      <td>The three heaviest cats in the world are the tiger, lion and jaguar.</td>\n",
       "      <td>bobcat and Canadian lynx</td>\n",
       "      <td>0.854326</td>\n",
       "    </tr>\n",
       "  </tbody>\n",
       "</table>\n",
       "</div>"
      ],
      "text/plain": [
       "                                                                                                       question  \\\n",
       "464                                                               What is the earliest extant transverse flute?   \n",
       "1436  Did the golden age of xylophones come before or after the first usage of the European-derived orchestral?   \n",
       "889                                                                                Where is Melbourne situated?   \n",
       "725                                                               What is the official language of North Korea?   \n",
       "333                                                              What are the three heaviest cats in the world?   \n",
       "\n",
       "                                                                    answer  \\\n",
       "464                                                   it dates from 433 BC   \n",
       "1436                                                                 after   \n",
       "889      boundary of the very hot inland areas and the cold southern ocean   \n",
       "725                                                                 Korean   \n",
       "333   The three heaviest cats in the world are the tiger, lion and jaguar.   \n",
       "\n",
       "                 models_answer  models_score  \n",
       "464                      a chi      0.455581  \n",
       "1436     since the Middle Ages      0.814323  \n",
       "889                 Derbyshire      0.669771  \n",
       "725                     Korean      0.864950  \n",
       "333   bobcat and Canadian lynx      0.854326  "
      ]
     },
     "execution_count": 13,
     "metadata": {},
     "output_type": "execute_result"
    }
   ],
   "source": [
    "cols_of_interst = ['question','answer','models_answer','models_score']\n",
    "df_sample.head()[cols_of_interst]"
   ]
  },
  {
   "cell_type": "code",
   "execution_count": 14,
   "id": "01e53f78",
   "metadata": {},
   "outputs": [],
   "source": [
    "# pip install -Uq sentence-transformers\n"
   ]
  },
  {
   "cell_type": "code",
   "execution_count": 15,
   "id": "ca64cbd7",
   "metadata": {},
   "outputs": [
    {
     "data": {
      "application/vnd.jupyter.widget-view+json": {
       "model_id": "26692e35223c4a66acee521541ab566e",
       "version_major": 2,
       "version_minor": 0
      },
      "text/plain": [
       "Downloading (…)55de9125/config.json:   0%|          | 0.00/612 [00:00<?, ?B/s]"
      ]
     },
     "metadata": {},
     "output_type": "display_data"
    },
    {
     "data": {
      "application/vnd.jupyter.widget-view+json": {
       "model_id": "d25fda4061f947ff96ed2286cc5fea5f",
       "version_major": 2,
       "version_minor": 0
      },
      "text/plain": [
       "Downloading (…)ce_transformers.json:   0%|          | 0.00/116 [00:00<?, ?B/s]"
      ]
     },
     "metadata": {},
     "output_type": "display_data"
    },
    {
     "data": {
      "application/vnd.jupyter.widget-view+json": {
       "model_id": "3cf45ce3b63b4b53850ad01d24fb4928",
       "version_major": 2,
       "version_minor": 0
      },
      "text/plain": [
       "Downloading (…)125/data_config.json:   0%|          | 0.00/39.3k [00:00<?, ?B/s]"
      ]
     },
     "metadata": {},
     "output_type": "display_data"
    },
    {
     "data": {
      "application/vnd.jupyter.widget-view+json": {
       "model_id": "64dcf9b69628476cacb3f1c8c31ddc27",
       "version_major": 2,
       "version_minor": 0
      },
      "text/plain": [
       "Downloading pytorch_model.bin:   0%|          | 0.00/90.9M [00:00<?, ?B/s]"
      ]
     },
     "metadata": {},
     "output_type": "display_data"
    },
    {
     "data": {
      "application/vnd.jupyter.widget-view+json": {
       "model_id": "3cd52678169f475ebfab5de31e3a76f4",
       "version_major": 2,
       "version_minor": 0
      },
      "text/plain": [
       "Downloading (…)nce_bert_config.json:   0%|          | 0.00/53.0 [00:00<?, ?B/s]"
      ]
     },
     "metadata": {},
     "output_type": "display_data"
    },
    {
     "data": {
      "application/vnd.jupyter.widget-view+json": {
       "model_id": "646879fd40ef41449b1c580e925c85ad",
       "version_major": 2,
       "version_minor": 0
      },
      "text/plain": [
       "Downloading (…)cial_tokens_map.json:   0%|          | 0.00/112 [00:00<?, ?B/s]"
      ]
     },
     "metadata": {},
     "output_type": "display_data"
    },
    {
     "data": {
      "application/vnd.jupyter.widget-view+json": {
       "model_id": "a55794a5f63440f596c807a658407b14",
       "version_major": 2,
       "version_minor": 0
      },
      "text/plain": [
       "Downloading (…)e9125/tokenizer.json:   0%|          | 0.00/466k [00:00<?, ?B/s]"
      ]
     },
     "metadata": {},
     "output_type": "display_data"
    },
    {
     "data": {
      "application/vnd.jupyter.widget-view+json": {
       "model_id": "e3c9f188e17e45759ba37038d66325b7",
       "version_major": 2,
       "version_minor": 0
      },
      "text/plain": [
       "Downloading (…)okenizer_config.json:   0%|          | 0.00/350 [00:00<?, ?B/s]"
      ]
     },
     "metadata": {},
     "output_type": "display_data"
    },
    {
     "data": {
      "application/vnd.jupyter.widget-view+json": {
       "model_id": "64424ac693a343369ddb8fc107ae24a6",
       "version_major": 2,
       "version_minor": 0
      },
      "text/plain": [
       "Downloading (…)9125/train_script.py:   0%|          | 0.00/13.2k [00:00<?, ?B/s]"
      ]
     },
     "metadata": {},
     "output_type": "display_data"
    },
    {
     "data": {
      "application/vnd.jupyter.widget-view+json": {
       "model_id": "8cd1d14b976740efbcbc08e880459224",
       "version_major": 2,
       "version_minor": 0
      },
      "text/plain": [
       "Downloading (…)7e55de9125/vocab.txt:   0%|          | 0.00/232k [00:00<?, ?B/s]"
      ]
     },
     "metadata": {},
     "output_type": "display_data"
    },
    {
     "data": {
      "application/vnd.jupyter.widget-view+json": {
       "model_id": "dd5d536a464f47b18df4d324304ab74d",
       "version_major": 2,
       "version_minor": 0
      },
      "text/plain": [
       "Downloading (…)5de9125/modules.json:   0%|          | 0.00/349 [00:00<?, ?B/s]"
      ]
     },
     "metadata": {},
     "output_type": "display_data"
    }
   ],
   "source": [
    "def how_similar(sent1, sent2, model):\n",
    "    '''\n",
    "    compute sentence similarity. \n",
    "    '''\n",
    "    #Compute embedding for both lists\n",
    "    embedding_1= model.encode(str(sent1), convert_to_tensor=True)\n",
    "    embedding_2 = model.encode(str(sent2), convert_to_tensor=True)\n",
    "\n",
    "    return util.pytorch_cos_sim(embedding_1, embedding_2).item()\n",
    "\n",
    "from sentence_transformers import SentenceTransformer, util\n",
    "\n",
    "model = SentenceTransformer('sentence-transformers/all-MiniLM-L6-v2')\n",
    "df_sample['answers_similarity'] = df_sample.apply(lambda x: how_similar(x.answer, x.models_answer, model=model), axis=1)"
   ]
  },
  {
   "cell_type": "code",
   "execution_count": 16,
   "id": "1a6204ce",
   "metadata": {},
   "outputs": [
    {
     "data": {
      "text/html": [
       "<div>\n",
       "<style scoped>\n",
       "    .dataframe tbody tr th:only-of-type {\n",
       "        vertical-align: middle;\n",
       "    }\n",
       "\n",
       "    .dataframe tbody tr th {\n",
       "        vertical-align: top;\n",
       "    }\n",
       "\n",
       "    .dataframe thead th {\n",
       "        text-align: right;\n",
       "    }\n",
       "</style>\n",
       "<table border=\"1\" class=\"dataframe\">\n",
       "  <thead>\n",
       "    <tr style=\"text-align: right;\">\n",
       "      <th></th>\n",
       "      <th>question</th>\n",
       "      <th>answer</th>\n",
       "      <th>models_answer</th>\n",
       "      <th>answers_similarity</th>\n",
       "      <th>models_score</th>\n",
       "    </tr>\n",
       "  </thead>\n",
       "  <tbody>\n",
       "    <tr>\n",
       "      <th>1073</th>\n",
       "      <td>Give an example of the most comprehensive records extant of any major artists beginnings.</td>\n",
       "      <td>Museu Picasso</td>\n",
       "      <td>Museu Picasso</td>\n",
       "      <td>1.000000</td>\n",
       "      <td>0.471382</td>\n",
       "    </tr>\n",
       "    <tr>\n",
       "      <th>725</th>\n",
       "      <td>What is the official language of North Korea?</td>\n",
       "      <td>Korean</td>\n",
       "      <td>Korean</td>\n",
       "      <td>1.000000</td>\n",
       "      <td>0.864950</td>\n",
       "    </tr>\n",
       "    <tr>\n",
       "      <th>887</th>\n",
       "      <td>How many sister cities does the City of Melbourne have?</td>\n",
       "      <td>six</td>\n",
       "      <td>six</td>\n",
       "      <td>1.000000</td>\n",
       "      <td>0.894697</td>\n",
       "    </tr>\n",
       "    <tr>\n",
       "      <th>781</th>\n",
       "      <td>What is the city's population?</td>\n",
       "      <td>1.6 million</td>\n",
       "      <td>1.6 million</td>\n",
       "      <td>1.000000</td>\n",
       "      <td>0.870069</td>\n",
       "    </tr>\n",
       "    <tr>\n",
       "      <th>794</th>\n",
       "      <td>When did Baldassare Castiglione, author of Il Cortegiano ( \" The Courtier \" ), write?</td>\n",
       "      <td>1528</td>\n",
       "      <td>1528</td>\n",
       "      <td>1.000000</td>\n",
       "      <td>0.961219</td>\n",
       "    </tr>\n",
       "    <tr>\n",
       "      <th>843</th>\n",
       "      <td>What is the basic word order in Malay?</td>\n",
       "      <td>Subject Verb Object</td>\n",
       "      <td>Subject Verb Object</td>\n",
       "      <td>1.000000</td>\n",
       "      <td>0.957562</td>\n",
       "    </tr>\n",
       "    <tr>\n",
       "      <th>458</th>\n",
       "      <td>For how long has the classification of dialects spoken outside of Finland been a controversial issue?</td>\n",
       "      <td>Since Finland's independence in 1917</td>\n",
       "      <td>since Finland's independence in 1917</td>\n",
       "      <td>1.000000</td>\n",
       "      <td>0.837275</td>\n",
       "    </tr>\n",
       "    <tr>\n",
       "      <th>1024</th>\n",
       "      <td>When did Tesla receive his last patent?</td>\n",
       "      <td>1928</td>\n",
       "      <td>1928</td>\n",
       "      <td>1.000000</td>\n",
       "      <td>0.974320</td>\n",
       "    </tr>\n",
       "    <tr>\n",
       "      <th>982</th>\n",
       "      <td>Which embassy in Nairobi was bombed in August 1998?</td>\n",
       "      <td>The United States Embassy</td>\n",
       "      <td>United States Embassy</td>\n",
       "      <td>0.972272</td>\n",
       "      <td>0.374236</td>\n",
       "    </tr>\n",
       "    <tr>\n",
       "      <th>309</th>\n",
       "      <td>Do linguists often view Chinese as a language family?</td>\n",
       "      <td>Yes, linguists often view Chinese as a language family.</td>\n",
       "      <td>Linguists often view Chinese as a language family</td>\n",
       "      <td>0.943564</td>\n",
       "      <td>0.337964</td>\n",
       "    </tr>\n",
       "    <tr>\n",
       "      <th>978</th>\n",
       "      <td>What is the current estimated population of Nairobi?</td>\n",
       "      <td>About 3 million</td>\n",
       "      <td>1.5 million</td>\n",
       "      <td>0.783538</td>\n",
       "      <td>0.685299</td>\n",
       "    </tr>\n",
       "    <tr>\n",
       "      <th>337</th>\n",
       "      <td>What are the three cat species that are native to Canada?</td>\n",
       "      <td>The three cat species that are native to Canada are the cougar, the bobcat and the Canadian lynx.</td>\n",
       "      <td>bobcat and Canadian lynx</td>\n",
       "      <td>0.702045</td>\n",
       "      <td>0.819486</td>\n",
       "    </tr>\n",
       "    <tr>\n",
       "      <th>172</th>\n",
       "      <td>Is Berlin the capital city of Germany?</td>\n",
       "      <td>Berlin is the capital city of Germany.</td>\n",
       "      <td>Berlin as a German state has accumulated more debt than any other city in Germany</td>\n",
       "      <td>0.687286</td>\n",
       "      <td>0.583601</td>\n",
       "    </tr>\n",
       "    <tr>\n",
       "      <th>1064</th>\n",
       "      <td>Do the octopuses in the less familiar Cirrina suborder have two fins and an internal shell?</td>\n",
       "      <td>Yes, the octopuses in the less familiar Cirrina suborder have two fins and an internal shell.</td>\n",
       "      <td>Most octopuses have no internal or external skeleton</td>\n",
       "      <td>0.680214</td>\n",
       "      <td>0.207531</td>\n",
       "    </tr>\n",
       "    <tr>\n",
       "      <th>1103</th>\n",
       "      <td>What are a piano's keys generally made of?</td>\n",
       "      <td>Piano keys are generally made of spruce or basswood.</td>\n",
       "      <td>spruce or basswood</td>\n",
       "      <td>0.542312</td>\n",
       "      <td>0.872845</td>\n",
       "    </tr>\n",
       "    <tr>\n",
       "      <th>313</th>\n",
       "      <td>How does the government of the People's Republic of China often refer to all divisions of the Sinitic language(s) besides Standard Mandarin?</td>\n",
       "      <td>The government of the People's Republic of China refers to all divisions of the Sinitic language(s) besides Standard Mandarin as fangyan.</td>\n",
       "      <td>fangyan</td>\n",
       "      <td>0.506797</td>\n",
       "      <td>0.842490</td>\n",
       "    </tr>\n",
       "    <tr>\n",
       "      <th>333</th>\n",
       "      <td>What are the three heaviest cats in the world?</td>\n",
       "      <td>The three heaviest cats in the world are the tiger, lion and jaguar.</td>\n",
       "      <td>bobcat and Canadian lynx</td>\n",
       "      <td>0.371401</td>\n",
       "      <td>0.854326</td>\n",
       "    </tr>\n",
       "    <tr>\n",
       "      <th>1050</th>\n",
       "      <td>Where is the mouth of an octopus?</td>\n",
       "      <td>The mouth of an octopus is at the center point of the arms.</td>\n",
       "      <td>Haliphron atlanticus</td>\n",
       "      <td>0.358001</td>\n",
       "      <td>0.784248</td>\n",
       "    </tr>\n",
       "    <tr>\n",
       "      <th>892</th>\n",
       "      <td>What religion holds majority in Melbourne?</td>\n",
       "      <td>Christian</td>\n",
       "      <td>Greek</td>\n",
       "      <td>0.339409</td>\n",
       "      <td>0.775899</td>\n",
       "    </tr>\n",
       "    <tr>\n",
       "      <th>1149</th>\n",
       "      <td>What were some other names of the city?</td>\n",
       "      <td>Petrograd, Leningrad, and Piter</td>\n",
       "      <td>Zimny Stadion and Konnogvardeisky Manezh</td>\n",
       "      <td>0.318990</td>\n",
       "      <td>0.737037</td>\n",
       "    </tr>\n",
       "    <tr>\n",
       "      <th>617</th>\n",
       "      <td>What religion did Isaac Newton follow?</td>\n",
       "      <td>he never made a public declaration of his private faith</td>\n",
       "      <td>Christian</td>\n",
       "      <td>0.267258</td>\n",
       "      <td>0.987943</td>\n",
       "    </tr>\n",
       "    <tr>\n",
       "      <th>490</th>\n",
       "      <td>How many main varieties of Indian flutes are currently used?</td>\n",
       "      <td>two</td>\n",
       "      <td>IndiaTwo</td>\n",
       "      <td>0.258350</td>\n",
       "      <td>0.812277</td>\n",
       "    </tr>\n",
       "    <tr>\n",
       "      <th>1259</th>\n",
       "      <td>What does Taipei produce?</td>\n",
       "      <td>Taipei produces high technology and hi-tech components</td>\n",
       "      <td>textiles and apparel</td>\n",
       "      <td>0.238712</td>\n",
       "      <td>0.887883</td>\n",
       "    </tr>\n",
       "    <tr>\n",
       "      <th>889</th>\n",
       "      <td>Where is Melbourne situated?</td>\n",
       "      <td>boundary of the very hot inland areas and the cold southern ocean</td>\n",
       "      <td>Derbyshire</td>\n",
       "      <td>0.223481</td>\n",
       "      <td>0.669771</td>\n",
       "    </tr>\n",
       "    <tr>\n",
       "      <th>1436</th>\n",
       "      <td>Did the golden age of xylophones come before or after the first usage of the European-derived orchestral?</td>\n",
       "      <td>after</td>\n",
       "      <td>since the Middle Ages</td>\n",
       "      <td>0.206171</td>\n",
       "      <td>0.814323</td>\n",
       "    </tr>\n",
       "    <tr>\n",
       "      <th>1241</th>\n",
       "      <td>What are the differences between English and Swedish pronouns?</td>\n",
       "      <td>Swedish pronouns are basically the same as those of English but distinguish two genders and have an additional object form, derived from the old dative form, as well as a distinct genitive case.</td>\n",
       "      <td>intonation, stress, tone, etc.</td>\n",
       "      <td>0.198802</td>\n",
       "      <td>0.586311</td>\n",
       "    </tr>\n",
       "    <tr>\n",
       "      <th>1054</th>\n",
       "      <td>How many arms does an octopus have?</td>\n",
       "      <td>An octopus has four pairs of arms.</td>\n",
       "      <td>Seven</td>\n",
       "      <td>0.188478</td>\n",
       "      <td>0.753940</td>\n",
       "    </tr>\n",
       "    <tr>\n",
       "      <th>685</th>\n",
       "      <td>Where did Watt attend university?</td>\n",
       "      <td>Watt did not attend school regularly.</td>\n",
       "      <td>University of Glasgow</td>\n",
       "      <td>0.178020</td>\n",
       "      <td>0.864932</td>\n",
       "    </tr>\n",
       "    <tr>\n",
       "      <th>1349</th>\n",
       "      <td>Is the Red River Delta traditionally poor?</td>\n",
       "      <td>Not compared to Nghe An, Ha Tinh, or Quang Binh</td>\n",
       "      <td>poorer provinces</td>\n",
       "      <td>0.113256</td>\n",
       "      <td>0.059517</td>\n",
       "    </tr>\n",
       "    <tr>\n",
       "      <th>464</th>\n",
       "      <td>What is the earliest extant transverse flute?</td>\n",
       "      <td>it dates from 433 BC</td>\n",
       "      <td>a chi</td>\n",
       "      <td>-0.027088</td>\n",
       "      <td>0.455581</td>\n",
       "    </tr>\n",
       "  </tbody>\n",
       "</table>\n",
       "</div>"
      ],
      "text/plain": [
       "                                                                                                                                          question  \\\n",
       "1073                                                    Give an example of the most comprehensive records extant of any major artists beginnings.    \n",
       "725                                                                                                  What is the official language of North Korea?   \n",
       "887                                                                                        How many sister cities does the City of Melbourne have?   \n",
       "781                                                                                                                 What is the city's population?   \n",
       "794                                                          When did Baldassare Castiglione, author of Il Cortegiano ( \" The Courtier \" ), write?   \n",
       "843                                                                                                         What is the basic word order in Malay?   \n",
       "458                                          For how long has the classification of dialects spoken outside of Finland been a controversial issue?   \n",
       "1024                                                                                                       When did Tesla receive his last patent?   \n",
       "982                                                                                            Which embassy in Nairobi was bombed in August 1998?   \n",
       "309                                                                                          Do linguists often view Chinese as a language family?   \n",
       "978                                                                                           What is the current estimated population of Nairobi?   \n",
       "337                                                                                      What are the three cat species that are native to Canada?   \n",
       "172                                                                                                         Is Berlin the capital city of Germany?   \n",
       "1064                                                   Do the octopuses in the less familiar Cirrina suborder have two fins and an internal shell?   \n",
       "1103                                                                                                    What are a piano's keys generally made of?   \n",
       "313   How does the government of the People's Republic of China often refer to all divisions of the Sinitic language(s) besides Standard Mandarin?   \n",
       "333                                                                                                 What are the three heaviest cats in the world?   \n",
       "1050                                                                                                             Where is the mouth of an octopus?   \n",
       "892                                                                                                     What religion holds majority in Melbourne?   \n",
       "1149                                                                                                       What were some other names of the city?   \n",
       "617                                                                                                         What religion did Isaac Newton follow?   \n",
       "490                                                                                   How many main varieties of Indian flutes are currently used?   \n",
       "1259                                                                                                                     What does Taipei produce?   \n",
       "889                                                                                                                   Where is Melbourne situated?   \n",
       "1436                                     Did the golden age of xylophones come before or after the first usage of the European-derived orchestral?   \n",
       "1241                                                                                What are the differences between English and Swedish pronouns?   \n",
       "1054                                                                                                           How many arms does an octopus have?   \n",
       "685                                                                                                              Where did Watt attend university?   \n",
       "1349                                                                                                    Is the Red River Delta traditionally poor?   \n",
       "464                                                                                                  What is the earliest extant transverse flute?   \n",
       "\n",
       "                                                                                                                                                                                                  answer  \\\n",
       "1073                                                                                                                                                                                       Museu Picasso   \n",
       "725                                                                                                                                                                                               Korean   \n",
       "887                                                                                                                                                                                                  six   \n",
       "781                                                                                                                                                                                          1.6 million   \n",
       "794                                                                                                                                                                                                 1528   \n",
       "843                                                                                                                                                                                  Subject Verb Object   \n",
       "458                                                                                                                                                                 Since Finland's independence in 1917   \n",
       "1024                                                                                                                                                                                                1928   \n",
       "982                                                                                                                                                                            The United States Embassy   \n",
       "309                                                                                                                                              Yes, linguists often view Chinese as a language family.   \n",
       "978                                                                                                                                                                                      About 3 million   \n",
       "337                                                                                                    The three cat species that are native to Canada are the cougar, the bobcat and the Canadian lynx.   \n",
       "172                                                                                                                                                               Berlin is the capital city of Germany.   \n",
       "1064                                                                                                       Yes, the octopuses in the less familiar Cirrina suborder have two fins and an internal shell.   \n",
       "1103                                                                                                                                                Piano keys are generally made of spruce or basswood.   \n",
       "313                                                            The government of the People's Republic of China refers to all divisions of the Sinitic language(s) besides Standard Mandarin as fangyan.   \n",
       "333                                                                                                                                 The three heaviest cats in the world are the tiger, lion and jaguar.   \n",
       "1050                                                                                                                                         The mouth of an octopus is at the center point of the arms.   \n",
       "892                                                                                                                                                                                            Christian   \n",
       "1149                                                                                                                                                                     Petrograd, Leningrad, and Piter   \n",
       "617                                                                                                                                              he never made a public declaration of his private faith   \n",
       "490                                                                                                                                                                                                  two   \n",
       "1259                                                                                                                                              Taipei produces high technology and hi-tech components   \n",
       "889                                                                                                                                    boundary of the very hot inland areas and the cold southern ocean   \n",
       "1436                                                                                                                                                                                               after   \n",
       "1241  Swedish pronouns are basically the same as those of English but distinguish two genders and have an additional object form, derived from the old dative form, as well as a distinct genitive case.   \n",
       "1054                                                                                                                                                                  An octopus has four pairs of arms.   \n",
       "685                                                                                                                                                                Watt did not attend school regularly.   \n",
       "1349                                                                                                                                                     Not compared to Nghe An, Ha Tinh, or Quang Binh   \n",
       "464                                                                                                                                                                                 it dates from 433 BC   \n",
       "\n",
       "                                                                          models_answer  \\\n",
       "1073                                                                      Museu Picasso   \n",
       "725                                                                              Korean   \n",
       "887                                                                                 six   \n",
       "781                                                                         1.6 million   \n",
       "794                                                                                1528   \n",
       "843                                                                 Subject Verb Object   \n",
       "458                                                since Finland's independence in 1917   \n",
       "1024                                                                               1928   \n",
       "982                                                               United States Embassy   \n",
       "309                                   Linguists often view Chinese as a language family   \n",
       "978                                                                         1.5 million   \n",
       "337                                                            bobcat and Canadian lynx   \n",
       "172   Berlin as a German state has accumulated more debt than any other city in Germany   \n",
       "1064                               Most octopuses have no internal or external skeleton   \n",
       "1103                                                                 spruce or basswood   \n",
       "313                                                                             fangyan   \n",
       "333                                                            bobcat and Canadian lynx   \n",
       "1050                                                               Haliphron atlanticus   \n",
       "892                                                                               Greek   \n",
       "1149                                           Zimny Stadion and Konnogvardeisky Manezh   \n",
       "617                                                                           Christian   \n",
       "490                                                                            IndiaTwo   \n",
       "1259                                                               textiles and apparel   \n",
       "889                                                                          Derbyshire   \n",
       "1436                                                              since the Middle Ages   \n",
       "1241                                                     intonation, stress, tone, etc.   \n",
       "1054                                                                              Seven   \n",
       "685                                                               University of Glasgow   \n",
       "1349                                                                   poorer provinces   \n",
       "464                                                                               a chi   \n",
       "\n",
       "      answers_similarity  models_score  \n",
       "1073            1.000000      0.471382  \n",
       "725             1.000000      0.864950  \n",
       "887             1.000000      0.894697  \n",
       "781             1.000000      0.870069  \n",
       "794             1.000000      0.961219  \n",
       "843             1.000000      0.957562  \n",
       "458             1.000000      0.837275  \n",
       "1024            1.000000      0.974320  \n",
       "982             0.972272      0.374236  \n",
       "309             0.943564      0.337964  \n",
       "978             0.783538      0.685299  \n",
       "337             0.702045      0.819486  \n",
       "172             0.687286      0.583601  \n",
       "1064            0.680214      0.207531  \n",
       "1103            0.542312      0.872845  \n",
       "313             0.506797      0.842490  \n",
       "333             0.371401      0.854326  \n",
       "1050            0.358001      0.784248  \n",
       "892             0.339409      0.775899  \n",
       "1149            0.318990      0.737037  \n",
       "617             0.267258      0.987943  \n",
       "490             0.258350      0.812277  \n",
       "1259            0.238712      0.887883  \n",
       "889             0.223481      0.669771  \n",
       "1436            0.206171      0.814323  \n",
       "1241            0.198802      0.586311  \n",
       "1054            0.188478      0.753940  \n",
       "685             0.178020      0.864932  \n",
       "1349            0.113256      0.059517  \n",
       "464            -0.027088      0.455581  "
      ]
     },
     "execution_count": 16,
     "metadata": {},
     "output_type": "execute_result"
    }
   ],
   "source": [
    "# let's inspect \n",
    "df_sample[['question','answer',\n",
    "           'models_answer','answers_similarity','models_score']].sort_values(by='answers_similarity', ascending=False)"
   ]
  },
  {
   "cell_type": "code",
   "execution_count": null,
   "id": "0394cd52",
   "metadata": {},
   "outputs": [],
   "source": []
  }
 ],
 "metadata": {
  "kernelspec": {
   "display_name": "Python 3 (ipykernel)",
   "language": "python",
   "name": "python3"
  },
  "language_info": {
   "codemirror_mode": {
    "name": "ipython",
    "version": 3
   },
   "file_extension": ".py",
   "mimetype": "text/x-python",
   "name": "python",
   "nbconvert_exporter": "python",
   "pygments_lexer": "ipython3",
   "version": "3.11.5"
  }
 },
 "nbformat": 4,
 "nbformat_minor": 5
}
