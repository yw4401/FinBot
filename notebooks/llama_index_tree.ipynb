{
 "cells": [
  {
   "cell_type": "code",
   "execution_count": 1,
   "id": "f580d3c7-8afc-453b-90d5-8fac93378bcd",
   "metadata": {},
   "outputs": [],
   "source": [
    "#%pip install llama-index\n",
    "#%pip install fsspec\n",
    "#%pip install gcsfs\n",
    "#%pip install openpyxl"
   ]
  },
  {
   "cell_type": "code",
   "execution_count": 2,
   "id": "083b15c2-42e2-43e1-93ab-fc8d751609cd",
   "metadata": {},
   "outputs": [],
   "source": [
    "from llama_index import GPTTreeIndex, SimpleDirectoryReader\n",
    "from llama_index.llm_predictor import HuggingFaceLLMPredictor\n",
    "from IPython.display import Markdown, display\n",
    "\n",
    "import os"
   ]
  },
  {
   "cell_type": "code",
   "execution_count": 3,
   "id": "eb7a7d09-e5e4-4609-a049-b7ae1994ceee",
   "metadata": {},
   "outputs": [],
   "source": [
    "import logging\n",
    "import sys\n",
    "\n",
    "logging.basicConfig(stream=sys.stdout, level=logging.INFO)\n",
    "logging.getLogger().addHandler(logging.StreamHandler(stream=sys.stdout))"
   ]
  },
  {
   "cell_type": "code",
   "execution_count": 4,
   "id": "0d4b84d0-2f6c-4aa0-b187-e142effe03c1",
   "metadata": {},
   "outputs": [],
   "source": [
    "data_dir = \"../test data/sample_articles\""
   ]
  },
  {
   "cell_type": "code",
   "execution_count": 5,
   "id": "bfb54e35-5751-4162-baba-263268b4c893",
   "metadata": {},
   "outputs": [],
   "source": [
    "from llama_index.prompts.prompts import SimpleInputPrompt\n",
    "\n",
    "system_prompt = \"\"\"<|SYSTEM|># StableLM Tuned (Alpha version)\n",
    "- StableLM is a helpful and harmless open-source AI language model developed by StabilityAI.\n",
    "- StableLM is excited to be able to help the user, but will refuse to do anything that could be considered harmful to the user.\n",
    "- StableLM is more than just an information source, StableLM is also able to write poetry, short stories, and make jokes.\n",
    "- StableLM will refuse to participate in anything that could harm a human.\n",
    "\"\"\" \n",
    "\n",
    "# This will wrap the default prompts that are internal to llama-index\n",
    "query_wrapper_prompt = SimpleInputPrompt(\"<|USER|>{query_str}<|ASSISTANT|>\")"
   ]
  },
  {
   "cell_type": "code",
   "execution_count": 6,
   "id": "8bc2072b-1de3-4f27-b454-850eff78dc53",
   "metadata": {},
   "outputs": [
    {
     "data": {
      "application/vnd.jupyter.widget-view+json": {
       "model_id": "61f995ffaa9b4c978fe1a17237f32ad8",
       "version_major": 2,
       "version_minor": 0
      },
      "text/plain": [
       "Loading checkpoint shards:   0%|          | 0/4 [00:00<?, ?it/s]"
      ]
     },
     "metadata": {},
     "output_type": "display_data"
    }
   ],
   "source": [
    "import torch\n",
    "\n",
    "\n",
    "hf_predictor = HuggingFaceLLMPredictor(\n",
    "    max_input_size=4096, \n",
    "    max_new_tokens=2048,\n",
    "    temperature=0,\n",
    "    do_sample=False,\n",
    "    system_prompt=system_prompt,\n",
    "    query_wrapper_prompt=query_wrapper_prompt,\n",
    "    tokenizer_name=\"stabilityai/stablelm-tuned-alpha-7b\",\n",
    "    model_name=\"stabilityai/stablelm-tuned-alpha-7b\",\n",
    "    device_map=\"auto\",\n",
    "    stopping_ids=[50278, 50279, 50277, 1, 0],\n",
    "    tokenizer_kwargs={\"max_length\": 4096},\n",
    "    # uncomment this if using CUDA to reduce memory usage\n",
    "    model_kwargs={\"torch_dtype\": torch.float16}\n",
    ")"
   ]
  },
  {
   "cell_type": "code",
   "execution_count": 7,
   "id": "fff730a4-5504-4c39-ba61-dcc7ab6d276d",
   "metadata": {},
   "outputs": [],
   "source": [
    "from llama_index import ServiceContext\n",
    "\n",
    "\n",
    "service_context = ServiceContext.from_defaults(chunk_size_limit=1024, llm_predictor=hf_predictor)"
   ]
  },
  {
   "cell_type": "code",
   "execution_count": 10,
   "id": "180bfdb2-6e49-49d0-97e5-542961972bd2",
   "metadata": {},
   "outputs": [
    {
     "name": "stdout",
     "output_type": "stream",
     "text": [
      "INFO:llama_index.indices.common_tree.base:> Building index from nodes: 2 chunks\n",
      "> Building index from nodes: 2 chunks\n"
     ]
    },
    {
     "name": "stderr",
     "output_type": "stream",
     "text": [
      "Setting `pad_token_id` to `eos_token_id`:0 for open-end generation.\n",
      "Setting `pad_token_id` to `eos_token_id`:0 for open-end generation.\n",
      "Setting `pad_token_id` to `eos_token_id`:0 for open-end generation.\n"
     ]
    },
    {
     "name": "stdout",
     "output_type": "stream",
     "text": [
      "INFO:llama_index.token_counter.token_counter:> [build_index_from_nodes] Total LLM token usage: 6837 tokens\n",
      "> [build_index_from_nodes] Total LLM token usage: 6837 tokens\n",
      "INFO:llama_index.token_counter.token_counter:> [build_index_from_nodes] Total embedding token usage: 0 tokens\n",
      "> [build_index_from_nodes] Total embedding token usage: 0 tokens\n"
     ]
    }
   ],
   "source": [
    "documents = SimpleDirectoryReader(data_dir).load_data()\n",
    "new_index = GPTTreeIndex.from_documents(documents, service_context=service_context)"
   ]
  },
  {
   "cell_type": "code",
   "execution_count": 11,
   "id": "4b4ad7ef-5a01-4b46-be95-3c4f6d2b8db9",
   "metadata": {},
   "outputs": [
    {
     "name": "stderr",
     "output_type": "stream",
     "text": [
      "Setting `pad_token_id` to `eos_token_id`:0 for open-end generation.\n"
     ]
    },
    {
     "name": "stdout",
     "output_type": "stream",
     "text": [
      "INFO:llama_index.indices.tree.select_leaf_retriever:>[Level 0] Selected node: [1]/[1]\n",
      ">[Level 0] Selected node: [1]/[1]\n"
     ]
    },
    {
     "name": "stderr",
     "output_type": "stream",
     "text": [
      "Setting `pad_token_id` to `eos_token_id`:0 for open-end generation.\n"
     ]
    },
    {
     "name": "stdout",
     "output_type": "stream",
     "text": [
      "INFO:llama_index.indices.tree.select_leaf_retriever:>[Level 1] Selected node: [1]/[1]\n",
      ">[Level 1] Selected node: [1]/[1]\n",
      "INFO:llama_index.token_counter.token_counter:> [retrieve] Total LLM token usage: 5744 tokens\n",
      "> [retrieve] Total LLM token usage: 5744 tokens\n",
      "INFO:llama_index.token_counter.token_counter:> [retrieve] Total embedding token usage: 0 tokens\n",
      "> [retrieve] Total embedding token usage: 0 tokens\n"
     ]
    },
    {
     "name": "stderr",
     "output_type": "stream",
     "text": [
      "Setting `pad_token_id` to `eos_token_id`:0 for open-end generation.\n"
     ]
    },
    {
     "name": "stdout",
     "output_type": "stream",
     "text": [
      "INFO:llama_index.token_counter.token_counter:> [get_response] Total LLM token usage: 3055 tokens\n",
      "> [get_response] Total LLM token usage: 3055 tokens\n",
      "INFO:llama_index.token_counter.token_counter:> [get_response] Total embedding token usage: 0 tokens\n",
      "> [get_response] Total embedding token usage: 0 tokens\n"
     ]
    }
   ],
   "source": [
    "query_engine = new_index.as_query_engine()\n",
    "response = query_engine.query(\"Which companies made drugs to help alzheimer disease?\")"
   ]
  },
  {
   "cell_type": "code",
   "execution_count": 12,
   "id": "11ef00c9-8eec-4de9-aa81-bf0a57b4227e",
   "metadata": {},
   "outputs": [
    {
     "name": "stdout",
     "output_type": "stream",
     "text": [
      "Pfizer is a pharmaceutical company that specializes in developing drugs to treat Alzheimer's disease. The company reported first-quarter revenue and adjusted earnings that topped Wall Street's expectations, despite a decline in sales driven by the lower demand for the company's Covid vaccine. Pfizer's net income of $5.54 billion, or 97 cents per share, fell from $7.86 billion, or $1.37 per share, during the year-earlier quarter.\n",
      "\n",
      "Pfizer's CEO, Albert Bourla, said during the earnings call that the company expects 2023 to be a \"transition year\" for Covid sales as the U.S. pivots to the commercial market for Covid products.\n",
      "\n",
      "Pfizer CEO, Albert Bourla, said during the earnings call that the company expects 2023 to be a \"transition year\" for Covid sales as the U.S. pivots to the commercial market for Covid products.\n",
      "\n",
      "Pfizer CEO, Albert Bourla, said during the earnings call that the company expects 2023 to be a \"transition year\" for Covid sales as the U.S. pivots to the commercial market for Covid products.\n",
      "\n",
      "Pfizer CEO, Albert Bourla, said during the earnings call that the company expects 2023 to be a \"transition year\" for Covid sales as the U.S. pivots to the commercial market for Covid products.\n",
      "\n",
      "Pfizer CEO, Albert Bourla, said during the earnings call that the company expects 2023 to be a \"transition year\" for Covid sales as the U.S. pivots to the commercial market for Covid products.\n",
      "\n",
      "Pfizer CEO, Albert Bourla, said during the earnings call that the company expects 2023 to be a \"transition year\" for Covid sales as the U.S. pivots to the commercial market for Covid products.\n",
      "\n",
      "Pfizer CEO, Albert Bourla, said during the earnings call that the company expects 2023 to be a \"transition year\" for Covid sales as the U.S. pivots to the commercial market for Covid products.\n",
      "\n",
      "Pfizer CEO, Albert Bourla, said during the earnings call that the company expects 2023 to be a \"transition year\" for Covid sales as the U.S. pivots to the commercial market for Covid products.\n",
      "\n",
      "Pfizer CEO, Albert Bourla, said during the earnings call that the company expects 2023 to be a \"transition year\" for Covid sales as the U.S. pivots to the commercial market for Covid products.\n",
      "\n",
      "Pfizer CEO, Albert Bourla, said during the earnings call that the company expects 2023 to be a \"transition year\" for Covid sales as the U.S. pivots to the commercial market for Covid products.\n",
      "\n",
      "Pfizer CEO, Albert Bourla, said during the earnings call that the company expects 2023 to be a \"transition year\" for Covid sales as the U.S. pivots to the commercial market for Covid products.\n",
      "\n",
      "Pfizer CEO, Albert Bourla, said during the earnings call that the company expects 2023 to be a \"transition year\" for Covid sales as the U.S. pivots to the commercial market for Covid products.\n",
      "\n",
      "Pfizer CEO, Albert Bourla, said during the earnings call that the company expects 2023 to be a \"transition year\" for Covid sales as the U.S. pivots to the commercial market for Covid products.\n",
      "\n",
      "Pfizer CEO, Albert Bourla, said during the earnings call that the company expects 2023 to be a \"transition year\" for Covid sales as the U.S. pivots to the commercial market for Covid products.\n",
      "\n",
      "Pfizer CEO, Albert Bourla, said during the earnings call that the company expects 2023 to be a \"transition year\" for Covid sales as the U.S. pivots to the commercial market for Covid products.\n",
      "\n",
      "Pfizer CEO, Albert Bourla, said during the earnings call that the company expects 2023 to be a \"transition year\" for Covid sales as the U.S. pivots to the commercial market for Covid products.\n",
      "\n",
      "Pfizer CEO, Albert Bourla, said during the earnings call that the company expects 2023 to be a \"transition year\" for Covid sales as the U.S. pivots to the commercial market for Covid products.\n",
      "\n",
      "Pfizer CEO, Albert Bourla, said during the earnings call that the company expects 2023 to be a \"transition year\" for Covid sales as the U.S. pivots to the commercial market for Covid products.\n",
      "\n",
      "Pfizer CEO, Albert Bourla, said during the earnings call that the company expects 2023 to be a \"transition year\" for Covid sales as the U.S. pivots to the commercial market for Covid products.\n",
      "\n",
      "Pfizer CEO, Albert Bourla, said during the earnings call that the company expects 2023 to be a \"transition year\" for Covid sales as the U.S. pivots to the commercial market for Covid products.\n",
      "\n",
      "Pfizer CEO, Albert Bourla, said during the earnings call that the company expects 2023 to be a \"transition year\" for Covid sales as the U.S. pivots to the commercial market for Covid products.\n",
      "\n",
      "Pfizer CEO, Albert Bourla, said during the earnings call that the company expects 2023 to be a \"transition year\" for Covid sales as the U.S. pivots to the commercial market for Covid products.\n",
      "\n",
      "Pfizer CEO, Albert Bourla, said during the earnings call that the company expects 2023 to be a \"transition year\" for Covid sales as the U.S. pivots to the commercial market for Covid products.\n",
      "\n",
      "Pfizer CEO, Albert Bourla, said during the earnings call that the company expects 2023 to be a \"transition year\" for Covid sales as the U.S. pivots to the commercial market for Covid products.\n",
      "\n",
      "Pfizer CEO, Albert Bourla, said during the earnings call that the company expects 2023 to be a \"transition year\" for Covid sales as the U.S. pivots to the commercial market for Covid products.\n",
      "\n",
      "Pfizer CEO, Albert Bourla, said during the earnings call that the company expects 2023 to be a \"transition year\" for Covid sales as the U.S. pivots to the commercial market for Covid products.\n",
      "\n",
      "Pfizer CEO, Albert Bourla, said during the earnings call that the company expects 2023 to be a \"transition year\" for Covid sales as the U.S. pivots to the commercial market for Covid products.\n",
      "\n",
      "Pfizer CEO, Albert Bourla, said during the earnings call that the company expects 2023 to be a \"transition year\" for Covid sales as the U.S. pivots to the commercial market for Covid products.\n",
      "\n",
      "Pfizer CEO, Albert Bourla, said during the earnings call that the company expects 2023 to be a \"transition year\" for Covid sales as the U.S. pivots to the commercial market for Covid products.\n",
      "\n",
      "Pfizer CEO, Albert Bourla, said during the earnings call that the company expects 2023 to be a \"transition year\" for Covid sales as the U.S. pivots to the commercial market for Covid products.\n",
      "\n",
      "Pfizer CEO, Albert Bourla, said during the earnings call that the company expects 2023 to be a \"transition year\" for Covid sales as the U.S. pivots to the commercial market for Covid products.\n",
      "\n",
      "Pfizer CEO, Albert Bourla, said during the earnings call that the company expects 2023 to be a \"transition year\" for Covid sales as the U.S. pivots to the commercial market for Covid products.\n",
      "\n",
      "Pfizer CEO, Albert Bourla, said during the earnings call that the company expects 2023 to be a \"transition year\" for Covid sales as the U.S. pivots to the commercial market for Covid products.\n",
      "\n",
      "Pfizer CEO, Albert Bourla, said during the earnings call that the company expects 2023 to be a \"transition year\" for Covid sales as the U.S. pivots to the commercial market for Covid products.\n",
      "\n",
      "Pfizer CEO, Albert Bourla, said during the earnings call that the company expects 2023 to be a \"transition year\" for Covid sales as the U.S. pivots to the commercial market for Covid products.\n",
      "\n",
      "Pfizer CEO, Albert Bourla, said during the earnings call that the company expects 2023 to be a \"transition year\" for Covid sales as the U.S. pivots to the commercial market for Covid products.\n",
      "\n",
      "Pfizer CEO, Albert Bourla, said during the earnings call that the company expects 2023 to be a \"transition year\" for Covid sales as the U.S. pivots to the commercial market for Covid products.\n",
      "\n",
      "Pfizer CEO, Albert Bourla, said during the earnings call that the company expects 2023 to be a \"transition year\" for Covid sales as the U.S. pivots to the commercial market for Covid products.\n",
      "\n",
      "Pfizer CEO, Albert Bourla, said during the earnings call that the company expects 2023 to be a \"transition year\" for Covid sales as the U.S. pivots to the commercial market for Covid products.\n",
      "\n",
      "Pfizer CEO, Albert Bourla, said during the earnings call that the company expects 2023 to be a \"transition year\" for Covid sales as the U.S. pivots to the\n"
     ]
    }
   ],
   "source": [
    "print(response.response)"
   ]
  },
  {
   "cell_type": "code",
   "execution_count": null,
   "id": "11bacc02-40fc-4865-87c3-a6190296d780",
   "metadata": {},
   "outputs": [],
   "source": []
  }
 ],
 "metadata": {
  "environment": {
   "kernel": "llamaidx",
   "name": "common-cu110.m108",
   "type": "gcloud",
   "uri": "gcr.io/deeplearning-platform-release/base-cu110:m108"
  },
  "kernelspec": {
   "display_name": "llamaidx",
   "language": "python",
   "name": "llamaidx"
  },
  "language_info": {
   "codemirror_mode": {
    "name": "ipython",
    "version": 3
   },
   "file_extension": ".py",
   "mimetype": "text/x-python",
   "name": "python",
   "nbconvert_exporter": "python",
   "pygments_lexer": "ipython3",
   "version": "3.10.11"
  }
 },
 "nbformat": 4,
 "nbformat_minor": 5
}
