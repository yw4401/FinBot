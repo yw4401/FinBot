{
 "cells": [
  {
   "cell_type": "code",
   "execution_count": 2,
   "metadata": {},
   "outputs": [],
   "source": [
    "import transformers\n",
    "from transformers import AutoTokenizer\n",
    "from datasets import load_dataset\n",
    "from evaluate import load\n",
    "import pandas as pd\n",
    "import re"
   ]
  },
  {
   "cell_type": "code",
   "execution_count": 3,
   "metadata": {},
   "outputs": [
    {
     "data": {
      "text/plain": "    source     id           category  \\\n0  reuters  33048      Macro Matters   \n1     cnbc   8589  CNBC Disruptor 50   \n2  reuters  53400             Europe   \n3  reuters  70915      Asian Markets   \n4     cnbc  12123   Personal Finance   \n\n                                               title  \\\n0  Drop in business activity flags UK recession r...   \n1  Cybereason CEO told the world about DarkSide's...   \n2  Belarus says it will host Russian nuclear weap...   \n3  LIVE MARKETS Europe gains after three weeks of...   \n4                 How to teach your kids about money   \n\n                   published  \\\n0        2023-01-24T10:55:00   \n1  2021-05-27T12:53:48+00:00   \n2        2023-03-28T16:54:00   \n3        2022-03-11T17:11:00   \n4  2017-11-19T16:00:00+00:00   \n\n                                                body  \\\n0  LONDON, Jan 24 (Reuters) - British private-sec...   \n1  Cybereason CEO Lior Div on disrupting the cybe...   \n2  LONDON, March 28 (Reuters) - Belarus on Tuesda...   \n3  March 11 - Welcome to the home for real-time c...   \n4  ## Kids and money\\n\\n## On the Money\\n\\nIn ord...   \n\n                                             summary summary_type  \n0  * \\n* Flash composite PMI 47.8 vs Reuters poll...      BULLETS  \n1  * Cybereason ranked No. 32 on CNBC's Disruptor...      BULLETS  \n2  * \\n* Belarus justifies its decision to host R...      BULLETS  \n3  * \\n* S&P 500, Nasdaq down, Dow up\\n* Energy l...      BULLETS  \n4  When it comes to teaching your own children, t...        PLAIN  ",
      "text/html": "<div>\n<style scoped>\n    .dataframe tbody tr th:only-of-type {\n        vertical-align: middle;\n    }\n\n    .dataframe tbody tr th {\n        vertical-align: top;\n    }\n\n    .dataframe thead th {\n        text-align: right;\n    }\n</style>\n<table border=\"1\" class=\"dataframe\">\n  <thead>\n    <tr style=\"text-align: right;\">\n      <th></th>\n      <th>source</th>\n      <th>id</th>\n      <th>category</th>\n      <th>title</th>\n      <th>published</th>\n      <th>body</th>\n      <th>summary</th>\n      <th>summary_type</th>\n    </tr>\n  </thead>\n  <tbody>\n    <tr>\n      <th>0</th>\n      <td>reuters</td>\n      <td>33048</td>\n      <td>Macro Matters</td>\n      <td>Drop in business activity flags UK recession r...</td>\n      <td>2023-01-24T10:55:00</td>\n      <td>LONDON, Jan 24 (Reuters) - British private-sec...</td>\n      <td>* \\n* Flash composite PMI 47.8 vs Reuters poll...</td>\n      <td>BULLETS</td>\n    </tr>\n    <tr>\n      <th>1</th>\n      <td>cnbc</td>\n      <td>8589</td>\n      <td>CNBC Disruptor 50</td>\n      <td>Cybereason CEO told the world about DarkSide's...</td>\n      <td>2021-05-27T12:53:48+00:00</td>\n      <td>Cybereason CEO Lior Div on disrupting the cybe...</td>\n      <td>* Cybereason ranked No. 32 on CNBC's Disruptor...</td>\n      <td>BULLETS</td>\n    </tr>\n    <tr>\n      <th>2</th>\n      <td>reuters</td>\n      <td>53400</td>\n      <td>Europe</td>\n      <td>Belarus says it will host Russian nuclear weap...</td>\n      <td>2023-03-28T16:54:00</td>\n      <td>LONDON, March 28 (Reuters) - Belarus on Tuesda...</td>\n      <td>* \\n* Belarus justifies its decision to host R...</td>\n      <td>BULLETS</td>\n    </tr>\n    <tr>\n      <th>3</th>\n      <td>reuters</td>\n      <td>70915</td>\n      <td>Asian Markets</td>\n      <td>LIVE MARKETS Europe gains after three weeks of...</td>\n      <td>2022-03-11T17:11:00</td>\n      <td>March 11 - Welcome to the home for real-time c...</td>\n      <td>* \\n* S&amp;P 500, Nasdaq down, Dow up\\n* Energy l...</td>\n      <td>BULLETS</td>\n    </tr>\n    <tr>\n      <th>4</th>\n      <td>cnbc</td>\n      <td>12123</td>\n      <td>Personal Finance</td>\n      <td>How to teach your kids about money</td>\n      <td>2017-11-19T16:00:00+00:00</td>\n      <td>## Kids and money\\n\\n## On the Money\\n\\nIn ord...</td>\n      <td>When it comes to teaching your own children, t...</td>\n      <td>PLAIN</td>\n    </tr>\n  </tbody>\n</table>\n</div>"
     },
     "execution_count": 3,
     "metadata": {},
     "output_type": "execute_result"
    }
   ],
   "source": [
    "sample_df = pd.read_parquet(\"gs://scraped-news-article-data-null/fine-tune-summary--1.parquet\")\n",
    "sample_df = sample_df.sample(frac=1, random_state=93).reset_index(drop=True)\n",
    "sample_df.head()"
   ]
  },
  {
   "cell_type": "code",
   "execution_count": 4,
   "metadata": {},
   "outputs": [
    {
     "data": {
      "text/plain": "    source     id           category  \\\n0  reuters  33048      Macro Matters   \n1     cnbc   8589  CNBC Disruptor 50   \n2  reuters  53400             Europe   \n3  reuters  70915      Asian Markets   \n4     cnbc  12123   Personal Finance   \n\n                                               title  \\\n0  Drop in business activity flags UK recession r...   \n1  Cybereason CEO told the world about DarkSide's...   \n2  Belarus says it will host Russian nuclear weap...   \n3  LIVE MARKETS Europe gains after three weeks of...   \n4                 How to teach your kids about money   \n\n                   published  \\\n0        2023-01-24T10:55:00   \n1  2021-05-27T12:53:48+00:00   \n2        2023-03-28T16:54:00   \n3        2022-03-11T17:11:00   \n4  2017-11-19T16:00:00+00:00   \n\n                                                body  \\\n0  LONDON, Jan 24 (Reuters) - British private-sec...   \n1  Cybereason CEO Lior Div on disrupting the cybe...   \n2  LONDON, March 28 (Reuters) - Belarus on Tuesda...   \n3  March 11 - Welcome to the home for real-time c...   \n4  ## Kids and money\\n\\n## On the Money\\n\\nIn ord...   \n\n                                             summary summary_type  \n0  * Flash composite PMI 47.8 vs Reuters poll 49....      BULLETS  \n1  * Cybereason ranked No. 32 on CNBC's Disruptor...      BULLETS  \n2  * Belarus justifies its decision to host Russi...      BULLETS  \n3  * S&P 500, Nasdaq down, Dow up\\n* Energy leads...      BULLETS  \n4  When it comes to teaching your own children, t...        PLAIN  ",
      "text/html": "<div>\n<style scoped>\n    .dataframe tbody tr th:only-of-type {\n        vertical-align: middle;\n    }\n\n    .dataframe tbody tr th {\n        vertical-align: top;\n    }\n\n    .dataframe thead th {\n        text-align: right;\n    }\n</style>\n<table border=\"1\" class=\"dataframe\">\n  <thead>\n    <tr style=\"text-align: right;\">\n      <th></th>\n      <th>source</th>\n      <th>id</th>\n      <th>category</th>\n      <th>title</th>\n      <th>published</th>\n      <th>body</th>\n      <th>summary</th>\n      <th>summary_type</th>\n    </tr>\n  </thead>\n  <tbody>\n    <tr>\n      <th>0</th>\n      <td>reuters</td>\n      <td>33048</td>\n      <td>Macro Matters</td>\n      <td>Drop in business activity flags UK recession r...</td>\n      <td>2023-01-24T10:55:00</td>\n      <td>LONDON, Jan 24 (Reuters) - British private-sec...</td>\n      <td>* Flash composite PMI 47.8 vs Reuters poll 49....</td>\n      <td>BULLETS</td>\n    </tr>\n    <tr>\n      <th>1</th>\n      <td>cnbc</td>\n      <td>8589</td>\n      <td>CNBC Disruptor 50</td>\n      <td>Cybereason CEO told the world about DarkSide's...</td>\n      <td>2021-05-27T12:53:48+00:00</td>\n      <td>Cybereason CEO Lior Div on disrupting the cybe...</td>\n      <td>* Cybereason ranked No. 32 on CNBC's Disruptor...</td>\n      <td>BULLETS</td>\n    </tr>\n    <tr>\n      <th>2</th>\n      <td>reuters</td>\n      <td>53400</td>\n      <td>Europe</td>\n      <td>Belarus says it will host Russian nuclear weap...</td>\n      <td>2023-03-28T16:54:00</td>\n      <td>LONDON, March 28 (Reuters) - Belarus on Tuesda...</td>\n      <td>* Belarus justifies its decision to host Russi...</td>\n      <td>BULLETS</td>\n    </tr>\n    <tr>\n      <th>3</th>\n      <td>reuters</td>\n      <td>70915</td>\n      <td>Asian Markets</td>\n      <td>LIVE MARKETS Europe gains after three weeks of...</td>\n      <td>2022-03-11T17:11:00</td>\n      <td>March 11 - Welcome to the home for real-time c...</td>\n      <td>* S&amp;P 500, Nasdaq down, Dow up\\n* Energy leads...</td>\n      <td>BULLETS</td>\n    </tr>\n    <tr>\n      <th>4</th>\n      <td>cnbc</td>\n      <td>12123</td>\n      <td>Personal Finance</td>\n      <td>How to teach your kids about money</td>\n      <td>2017-11-19T16:00:00+00:00</td>\n      <td>## Kids and money\\n\\n## On the Money\\n\\nIn ord...</td>\n      <td>When it comes to teaching your own children, t...</td>\n      <td>PLAIN</td>\n    </tr>\n  </tbody>\n</table>\n</div>"
     },
     "execution_count": 4,
     "metadata": {},
     "output_type": "execute_result"
    }
   ],
   "source": [
    "clean_regex = re.compile(r\"\\*[\\s\\n]*(?=\\*)\")\n",
    "sample_df[\"summary\"] = sample_df.summary.apply(lambda s: clean_regex.sub(\" \", s).strip())\n",
    "sample_df.head()"
   ]
  },
  {
   "cell_type": "code",
   "execution_count": 4,
   "metadata": {},
   "outputs": [
    {
     "data": {
      "text/plain": [
       "summary_type\n",
       "BULLETS    29381\n",
       "PLAIN        798\n",
       "Name: count, dtype: int64"
      ]
     },
     "execution_count": 4,
     "metadata": {},
     "output_type": "execute_result"
    }
   ],
   "source": [
    "sample_df.summary_type.value_counts()"
   ]
  },
  {
   "cell_type": "code",
   "execution_count": 5,
   "metadata": {},
   "outputs": [
    {
     "data": {
      "text/html": [
       "<div>\n",
       "<style scoped>\n",
       "    .dataframe tbody tr th:only-of-type {\n",
       "        vertical-align: middle;\n",
       "    }\n",
       "\n",
       "    .dataframe tbody tr th {\n",
       "        vertical-align: top;\n",
       "    }\n",
       "\n",
       "    .dataframe thead th {\n",
       "        text-align: right;\n",
       "    }\n",
       "</style>\n",
       "<table border=\"1\" class=\"dataframe\">\n",
       "  <thead>\n",
       "    <tr style=\"text-align: right;\">\n",
       "      <th></th>\n",
       "      <th>source</th>\n",
       "      <th>id</th>\n",
       "      <th>category</th>\n",
       "      <th>title</th>\n",
       "      <th>published</th>\n",
       "      <th>body</th>\n",
       "      <th>summary</th>\n",
       "      <th>summary_type</th>\n",
       "    </tr>\n",
       "  </thead>\n",
       "  <tbody>\n",
       "    <tr>\n",
       "      <th>21125</th>\n",
       "      <td>cnbc</td>\n",
       "      <td>937</td>\n",
       "      <td>Media</td>\n",
       "      <td>Russia detains Wall Street Journal reporter, p...</td>\n",
       "      <td>2023-03-30T14:43:26+00:00</td>\n",
       "      <td>An undated ID photo of U.S. journalist Evan Ge...</td>\n",
       "      <td>* Russian authorities detained Wall Street Jou...</td>\n",
       "      <td>BULLETS</td>\n",
       "    </tr>\n",
       "    <tr>\n",
       "      <th>21126</th>\n",
       "      <td>reuters</td>\n",
       "      <td>97761</td>\n",
       "      <td>Asian Markets</td>\n",
       "      <td>Sri Lanka closes in on $2.9 bln IMF deal after...</td>\n",
       "      <td>2023-03-08T12:04:00</td>\n",
       "      <td>COLOMBO/WASHINGTON, March 7 (Reuters) - Sri La...</td>\n",
       "      <td>* Bonds jump, rupee soars on prospect of IMF d...</td>\n",
       "      <td>BULLETS</td>\n",
       "    </tr>\n",
       "    <tr>\n",
       "      <th>21127</th>\n",
       "      <td>cnbc</td>\n",
       "      <td>7932</td>\n",
       "      <td>Asia Economy</td>\n",
       "      <td>Here's a list of the Australian exports hit by...</td>\n",
       "      <td>2020-12-18T01:32:13+00:00</td>\n",
       "      <td>A general view of a Australian flag is seen ou...</td>\n",
       "      <td>* The two countries' relationship has deterior...</td>\n",
       "      <td>BULLETS</td>\n",
       "    </tr>\n",
       "    <tr>\n",
       "      <th>21128</th>\n",
       "      <td>reuters</td>\n",
       "      <td>25437</td>\n",
       "      <td>EmploymentClass Actions &amp; Multi-District Litig...</td>\n",
       "      <td>Activision sex bias settlement would derail st...</td>\n",
       "      <td>2022-05-20T18:44:00</td>\n",
       "      <td>(Reuters) - The California agency that enforce...</td>\n",
       "      <td>* State and federal agencies both sued Activis...</td>\n",
       "      <td>BULLETS</td>\n",
       "    </tr>\n",
       "    <tr>\n",
       "      <th>21129</th>\n",
       "      <td>cnbc</td>\n",
       "      <td>11128</td>\n",
       "      <td>Markets</td>\n",
       "      <td>First Republic jumps nearly 30%, leads comebac...</td>\n",
       "      <td>2023-03-21T10:56:56+00:00</td>\n",
       "      <td>## In this article\\n\\nFollow your favorite sto...</td>\n",
       "      <td>* The move comes after a speech from Treasury ...</td>\n",
       "      <td>BULLETS</td>\n",
       "    </tr>\n",
       "  </tbody>\n",
       "</table>\n",
       "</div>"
      ],
      "text/plain": [
       "        source     id                                           category  \\\n",
       "21125     cnbc    937                                              Media   \n",
       "21126  reuters  97761                                      Asian Markets   \n",
       "21127     cnbc   7932                                       Asia Economy   \n",
       "21128  reuters  25437  EmploymentClass Actions & Multi-District Litig...   \n",
       "21129     cnbc  11128                                            Markets   \n",
       "\n",
       "                                                   title  \\\n",
       "21125  Russia detains Wall Street Journal reporter, p...   \n",
       "21126  Sri Lanka closes in on $2.9 bln IMF deal after...   \n",
       "21127  Here's a list of the Australian exports hit by...   \n",
       "21128  Activision sex bias settlement would derail st...   \n",
       "21129  First Republic jumps nearly 30%, leads comebac...   \n",
       "\n",
       "                       published  \\\n",
       "21125  2023-03-30T14:43:26+00:00   \n",
       "21126        2023-03-08T12:04:00   \n",
       "21127  2020-12-18T01:32:13+00:00   \n",
       "21128        2022-05-20T18:44:00   \n",
       "21129  2023-03-21T10:56:56+00:00   \n",
       "\n",
       "                                                    body  \\\n",
       "21125  An undated ID photo of U.S. journalist Evan Ge...   \n",
       "21126  COLOMBO/WASHINGTON, March 7 (Reuters) - Sri La...   \n",
       "21127  A general view of a Australian flag is seen ou...   \n",
       "21128  (Reuters) - The California agency that enforce...   \n",
       "21129  ## In this article\\n\\nFollow your favorite sto...   \n",
       "\n",
       "                                                 summary summary_type  \n",
       "21125  * Russian authorities detained Wall Street Jou...      BULLETS  \n",
       "21126  * Bonds jump, rupee soars on prospect of IMF d...      BULLETS  \n",
       "21127  * The two countries' relationship has deterior...      BULLETS  \n",
       "21128  * State and federal agencies both sued Activis...      BULLETS  \n",
       "21129  * The move comes after a speech from Treasury ...      BULLETS  "
      ]
     },
     "execution_count": 5,
     "metadata": {},
     "output_type": "execute_result"
    }
   ],
   "source": [
    "train_df = sample_df.iloc[:21125]\n",
    "eval_df = sample_df.iloc[21125:]\n",
    "eval_df.head()"
   ]
  },
  {
   "cell_type": "code",
   "execution_count": 6,
   "metadata": {
    "collapsed": false,
    "jupyter": {
     "outputs_hidden": false
    }
   },
   "outputs": [],
   "source": [
    "from datasets import Dataset, DatasetDict\n",
    "\n",
    "model_checkpoint = \"t5-small\"\n",
    "metric = load(\"rouge\")\n",
    "train_data = Dataset.from_pandas(train_df[[\"body\", \"summary\", \"summary_type\"]])\n",
    "eval_data = Dataset.from_pandas(eval_df[[\"body\", \"summary\", \"summary_type\"]])\n",
    "raw_datasets = DatasetDict({\n",
    "    \"train\": train_data,\n",
    "    \"eval\": eval_data\n",
    "})"
   ]
  },
  {
   "cell_type": "code",
   "execution_count": 7,
   "metadata": {},
   "outputs": [
    {
     "data": {
      "text/plain": [
       "{'body': 'COLOMBO/WASHINGTON, March 7 (Reuters) - Sri Lanka looks set to get a sign-off on a long-awaited $2.9 billion four-year bailout from the International Monetary Fund (IMF) on March 20 after the crisis-hit country secured new financing support from China.\\n\\nThe IMF and the island nation confirmed on Tuesday that Sri Lanka had received assurances from all its major bilateral creditors, a key step to deploy financing and an important moment for the country engulfed in its worst economic crisis since independence from Britain in 1948.\\n\\nSri Lankan President Ranil Wickremesinghe told parliament there were signs the economy was improving, but there was still insufficient foreign currency for all imports, making the IMF deal crucial so other creditors could also start releasing funds.\\n\\n\"Sri Lanka has completed all prior actions that were required by the IMF,\" Wickremesinghe said, and that he and the central bank governor had sent a letter of intent to the IMF.\\n\\n\"I welcome the progress made by Sri Lankan authorities in taking decisive policy actions & obtaining financing assurances from all their major creditors, incl. China, India & the Paris Club,\" IMF chief Kristalina Georgieva said on Twitter, adding that she looked forward to presenting the IMF-supported program to the executive board on March 20.\\n\\nApproval is expected since the board generally will not add items to its agenda unless its members are ready to act.\\n\\nThe country\\'s international debt and currency soared higher on the news, with bonds adding around 3 cents in the dollar, while the Sri Lankan rupee jumped as much as 7.8% to a 10-month high. Stocks closed more than 2% higher.\\n\\nA new letter by the Export-Import Bank of China (EXIM) sent on Monday to Sri Lanka resolved the stalemate. Sources close to the talks said EXIM provided \"specific and credible\" financing assurances for a debt restructuring, with a specific link to the IMF program and clear language on debt sustainability.\\n\\nThe first tranche of funding was expected to be released shortly after the board meeting, the sources added.\\n\\nIn a letter in January, EXIM had offered Sri Lanka a two-year debt moratorium, but sources said this was not enough to meet IMF conditions.\\n\\n\"This is a positive development: it might be the first time that China provides textbook financing assurances to the IMF outside of a Common Framework process,\" said Theo Maret, senior research analyst at Global Sovereign Advisory, in Paris.\\n\\nBy end-2020, Sri Lanka owed EXIM $2.83 billion, or 3.5% of its central government debt, according to IMF data. In total, Sri Lanka owed Chinese lenders $7.4 billion, or nearly a fifth of public external debt, by end-2022, calculations by the China Africa Research Initiative showed.\\n\\nIMF financing provides an anchor for countries to unlock other funding sources. Sri Lanka was in negotiations with India, its second biggest creditor, to extend a $1 billon credit line due to expire by March 17, two sources said.\\n\\nSri Lanka needs to repay about $6 billion on average each year until 2029 and will have to keep engaging with the IMF, Wickremesinghe said.\\n\\nCountries in debt distress such as Zambia and Sri Lanka have faced unprecedented delays in securing IMF bailouts as China and Western economies have clashed over how to provide debt relief.\\n\\nSri Lanka has been waiting for about 187 days to finalise a bailout after reaching a preliminary deal. This compares to a median of 55 days it took low- and middle-income countries over the past decade to go from preliminary deal to board sign-off, according to data compiled by Reuters.\\n\\n\"Debt restructurings both within and outside the Common Framework have been taking longer than usual due to issues with creditor coordination and foot-dragging by China,\" said Patrick Curran at Tellimer. \"The restructurings in Sri Lanka and Zambia are likely to set important precedents for future restructurings.\"\\n\\nChinese Foreign Minister Qin Gang said on Tuesday that Beijing would continue to participate in the settlement of international debt problems in a constructive manner.\\n\\nResponding to a question on the sidelines of an annual parliament meeting, Qin also said China should be the last to be accused of causing debt traps and called on other parties to share the burden.\\n\\n(This story has been corrected to say central government debt instead of external debt in paragraph 12)',\n",
       " 'summary': \"* Bonds jump, rupee soars on prospect of IMF deal sign off\\n* Sri Lanka says has completed all prior actions demanded by IMF\\n* China EXIM gave 'specific' financing assurances - sources\\n* Colombo in talks with India over extension of $1 bln credit line\",\n",
       " 'summary_type': 'BULLETS'}"
      ]
     },
     "execution_count": 7,
     "metadata": {},
     "output_type": "execute_result"
    }
   ],
   "source": [
    "raw_datasets[\"eval\"][1]"
   ]
  },
  {
   "cell_type": "code",
   "execution_count": 8,
   "metadata": {
    "collapsed": false,
    "jupyter": {
     "outputs_hidden": false
    }
   },
   "outputs": [
    {
     "data": {
      "application/vnd.jupyter.widget-view+json": {
       "model_id": "d43d9dd128404b7e9db461d5e0833442",
       "version_major": 2,
       "version_minor": 0
      },
      "text/plain": [
       "Map:   0%|          | 0/21125 [00:00<?, ? examples/s]"
      ]
     },
     "metadata": {},
     "output_type": "display_data"
    },
    {
     "data": {
      "application/vnd.jupyter.widget-view+json": {
       "model_id": "5819f2eb59374dde824eb9de58645a01",
       "version_major": 2,
       "version_minor": 0
      },
      "text/plain": [
       "Map:   0%|          | 0/9054 [00:00<?, ? examples/s]"
      ]
     },
     "metadata": {},
     "output_type": "display_data"
    }
   ],
   "source": [
    "tokenizer = AutoTokenizer.from_pretrained(model_checkpoint)\n",
    "prefix_bullets = \"summarize in bullet points: \"\n",
    "prefix_plain = \"summarize as paragraph: \"\n",
    "max_input_length = 2048\n",
    "max_target_length = 512\n",
    "\n",
    "def preprocess_function(examples):\n",
    "    inputs = []\n",
    "    for body, type in zip(examples[\"body\"], examples[\"summary_type\"]):\n",
    "        if type == \"BULLETS\":\n",
    "            inputs.append(prefix_bullets + body)\n",
    "        elif type == \"PLAIN\":\n",
    "            inputs.append(prefix_plain + body)\n",
    "        else:\n",
    "            raise ValueError(\"typo\")\n",
    "            \n",
    "    model_inputs = tokenizer(inputs, max_length=max_input_length, truncation=True)\n",
    "    labels = tokenizer(text_target=examples[\"summary\"], max_length=max_target_length, truncation=True)\n",
    "    model_inputs[\"labels\"] = labels[\"input_ids\"]\n",
    "    \n",
    "    return model_inputs\n",
    "\n",
    "\n",
    "tokenized_datasets = raw_datasets.map(preprocess_function, batched=True)"
   ]
  },
  {
   "cell_type": "code",
   "execution_count": 9,
   "metadata": {
    "collapsed": false,
    "jupyter": {
     "outputs_hidden": false
    }
   },
   "outputs": [],
   "source": [
    "from transformers import Seq2SeqTrainingArguments, DataCollatorForSeq2Seq, AutoModelForSeq2SeqLM\n",
    "\n",
    "model_name = \"t5\"\n",
    "BATCH_TRAIN = 4\n",
    "BATCH_EVAL = 8\n",
    "GRADIENT_STEP = 1\n",
    "LEARNING_RATE = 2e-5\n",
    "EPOCHS = 4\n",
    "LAMBDA = 0.01\n",
    "\n",
    "args = Seq2SeqTrainingArguments(\n",
    "    f\"{model_name}-finetuned-xsum\",\n",
    "    evaluation_strategy = \"epoch\",\n",
    "    learning_rate=LEARNING_RATE,\n",
    "    gradient_checkpointing=True,\n",
    "    per_device_train_batch_size=BATCH_TRAIN,\n",
    "    per_device_eval_batch_size=BATCH_EVAL,\n",
    "    weight_decay=LAMBDA,\n",
    "    num_train_epochs=EPOCHS,\n",
    "    predict_with_generate=True,\n",
    "    fp16=True,\n",
    "    seed=93\n",
    ")\n",
    "\n",
    "model = AutoModelForSeq2SeqLM.from_pretrained(model_checkpoint)\n",
    "data_collator = DataCollatorForSeq2Seq(tokenizer, model=model)"
   ]
  },
  {
   "cell_type": "code",
   "execution_count": 10,
   "metadata": {},
   "outputs": [
    {
     "name": "stderr",
     "output_type": "stream",
     "text": [
      "/home/sdai/Documents/NLP/FinBot/venv/lib/python3.11/site-packages/transformers/generation/configuration_utils.py:362: UserWarning: `do_sample` is set to `False`. However, `temperature` is set to `0` -- this flag is only used in sample-based generation modes. You should set `do_sample=True` or unset `temperature`.\n",
      "  warnings.warn(\n"
     ]
    },
    {
     "name": "stdout",
     "output_type": "stream",
     "text": [
      "a new letter from the IMF to Sri Lanka resolved the stalemate. the country has been waiting for about 187 days to finalise a bailout. the country has been engulfed in its worst economic crisis since independence from Britain.\n"
     ]
    }
   ],
   "source": [
    "sample = tokenizer(prefix_bullets + tokenized_datasets[\"eval\"][1][\"body\"], \n",
    "                   max_length=max_input_length, truncation=True, \n",
    "                   return_tensors=\"pt\")\n",
    "print(tokenizer.batch_decode(model.generate(**sample, max_new_tokens=512, temperature=0), skip_special_tokens=True)[0])"
   ]
  },
  {
   "cell_type": "code",
   "execution_count": 11,
   "metadata": {
    "collapsed": false,
    "jupyter": {
     "outputs_hidden": false
    }
   },
   "outputs": [],
   "source": [
    "import nltk\n",
    "import numpy as np\n",
    "\n",
    "def compute_metrics(eval_pred):\n",
    "    predictions, labels = eval_pred\n",
    "    decoded_preds = tokenizer.batch_decode(predictions, skip_special_tokens=True)\n",
    "    # Replace -100 in the labels as we can't decode them.\n",
    "    labels = np.where(labels != -100, labels, tokenizer.pad_token_id)\n",
    "    decoded_labels = tokenizer.batch_decode(labels, skip_special_tokens=True)\n",
    "\n",
    "    # Rouge expects a newline after each sentence\n",
    "    decoded_preds = [\"\\n\".join(nltk.sent_tokenize(pred.strip())) for pred in decoded_preds]\n",
    "    decoded_labels = [\"\\n\".join(nltk.sent_tokenize(label.strip())) for label in decoded_labels]\n",
    "\n",
    "    # Note that other metrics may not have a `use_aggregator` parameter\n",
    "    # and thus will return a list, computing a metric for each sentence.\n",
    "    result = metric.compute(predictions=decoded_preds, references=decoded_labels, use_stemmer=True, use_aggregator=True)\n",
    "    # Extract a few results\n",
    "    result = {key: value * 100 for key, value in result.items()}\n",
    "\n",
    "    # Add mean generated length\n",
    "    prediction_lens = [np.count_nonzero(pred != tokenizer.pad_token_id) for pred in predictions]\n",
    "    result[\"gen_len\"] = np.mean(prediction_lens)\n",
    "\n",
    "    return {k: round(v, 4) for k, v in result.items()}"
   ]
  },
  {
   "cell_type": "code",
   "execution_count": 12,
   "metadata": {
    "collapsed": false,
    "jupyter": {
     "outputs_hidden": false
    },
    "pycharm": {
     "is_executing": true
    }
   },
   "outputs": [
    {
     "name": "stderr",
     "output_type": "stream",
     "text": [
      "You're using a T5TokenizerFast tokenizer. Please note that with a fast tokenizer, using the `__call__` method is faster than using a method to encode the text followed by a call to the `pad` method to get a padded encoding.\n",
      "`use_cache=True` is incompatible with gradient checkpointing. Setting `use_cache=False`...\n"
     ]
    },
    {
     "data": {
      "text/html": [
       "\n",
       "    <div>\n",
       "      \n",
       "      <progress value='21128' max='21128' style='width:300px; height:20px; vertical-align: middle;'></progress>\n",
       "      [21128/21128 1:32:49, Epoch 4/4]\n",
       "    </div>\n",
       "    <table border=\"1\" class=\"dataframe\">\n",
       "  <thead>\n",
       " <tr style=\"text-align: left;\">\n",
       "      <th>Epoch</th>\n",
       "      <th>Training Loss</th>\n",
       "      <th>Validation Loss</th>\n",
       "      <th>Rouge1</th>\n",
       "      <th>Rouge2</th>\n",
       "      <th>Rougel</th>\n",
       "      <th>Rougelsum</th>\n",
       "      <th>Gen Len</th>\n",
       "    </tr>\n",
       "  </thead>\n",
       "  <tbody>\n",
       "    <tr>\n",
       "      <td>1</td>\n",
       "      <td>2.285600</td>\n",
       "      <td>2.045327</td>\n",
       "      <td>20.874400</td>\n",
       "      <td>7.988300</td>\n",
       "      <td>17.420600</td>\n",
       "      <td>17.947600</td>\n",
       "      <td>18.956900</td>\n",
       "    </tr>\n",
       "    <tr>\n",
       "      <td>2</td>\n",
       "      <td>2.200100</td>\n",
       "      <td>1.985655</td>\n",
       "      <td>21.297900</td>\n",
       "      <td>8.291100</td>\n",
       "      <td>17.736500</td>\n",
       "      <td>18.243600</td>\n",
       "      <td>18.941900</td>\n",
       "    </tr>\n",
       "    <tr>\n",
       "      <td>3</td>\n",
       "      <td>2.198300</td>\n",
       "      <td>1.962469</td>\n",
       "      <td>21.497400</td>\n",
       "      <td>8.431300</td>\n",
       "      <td>17.943300</td>\n",
       "      <td>18.442500</td>\n",
       "      <td>18.946000</td>\n",
       "    </tr>\n",
       "    <tr>\n",
       "      <td>4</td>\n",
       "      <td>2.194400</td>\n",
       "      <td>1.950999</td>\n",
       "      <td>21.648300</td>\n",
       "      <td>8.532400</td>\n",
       "      <td>18.023900</td>\n",
       "      <td>18.522800</td>\n",
       "      <td>18.946300</td>\n",
       "    </tr>\n",
       "  </tbody>\n",
       "</table><p>"
      ],
      "text/plain": [
       "<IPython.core.display.HTML object>"
      ]
     },
     "metadata": {},
     "output_type": "display_data"
    }
   ],
   "source": [
    "from transformers import Seq2SeqTrainer\n",
    "\n",
    "trainer = Seq2SeqTrainer(\n",
    "    model,\n",
    "    args,\n",
    "    train_dataset=tokenized_datasets[\"train\"],\n",
    "    eval_dataset=tokenized_datasets[\"eval\"],\n",
    "    data_collator=data_collator,\n",
    "    tokenizer=tokenizer,\n",
    "    compute_metrics=compute_metrics\n",
    ")\n",
    "\n",
    "try:\n",
    "    results = trainer.train(resume_from_checkpoint = True)\n",
    "except ValueError as e:\n",
    "    results = trainer.train(resume_from_checkpoint = False)"
   ]
  },
  {
   "cell_type": "code",
   "execution_count": 13,
   "metadata": {},
   "outputs": [
    {
     "name": "stderr",
     "output_type": "stream",
     "text": [
      "/home/sdai/Documents/NLP/FinBot/venv/lib/python3.11/site-packages/transformers/generation/configuration_utils.py:362: UserWarning: `do_sample` is set to `False`. However, `temperature` is set to `0` -- this flag is only used in sample-based generation modes. You should set `do_sample=True` or unset `temperature`.\n",
      "  warnings.warn(\n"
     ]
    },
    {
     "name": "stdout",
     "output_type": "stream",
     "text": [
      "* IMF, IMF confirm Sri Lanka to get sign-off on March 20 * IMF says it has received assurances from all creditors * IMF says it will not add items to agenda unless members act\n"
     ]
    }
   ],
   "source": [
    "sample = tokenizer(prefix_bullets + tokenized_datasets[\"eval\"][1][\"body\"], \n",
    "                   max_length=max_input_length, truncation=True, \n",
    "                   return_tensors=\"pt\").to(\"cuda\")\n",
    "print(tokenizer.batch_decode(model.generate(**sample, max_new_tokens=512, temperature=0), skip_special_tokens=True)[0])"
   ]
  },
  {
   "cell_type": "code",
   "execution_count": null,
   "metadata": {},
   "outputs": [],
   "source": []
  }
 ],
 "metadata": {
  "kernelspec": {
   "display_name": "Python 3 (ipykernel)",
   "language": "python",
   "name": "python3"
  },
  "language_info": {
   "codemirror_mode": {
    "name": "ipython",
    "version": 3
   },
   "file_extension": ".py",
   "mimetype": "text/x-python",
   "name": "python",
   "nbconvert_exporter": "python",
   "pygments_lexer": "ipython3",
   "version": "3.11.5"
  }
 },
 "nbformat": 4,
 "nbformat_minor": 4
}
