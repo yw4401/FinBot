{
 "cells": [
  {
   "cell_type": "code",
   "execution_count": 1,
   "metadata": {},
   "outputs": [],
   "source": [
    "import transformers\n",
    "from transformers import AutoTokenizer\n",
    "from datasets import load_dataset\n",
    "from evaluate import load\n",
    "import pandas as pd\n",
    "import re"
   ]
  },
  {
   "cell_type": "code",
   "execution_count": 2,
   "metadata": {},
   "outputs": [
    {
     "data": {
      "text/html": [
       "<div>\n",
       "<style scoped>\n",
       "    .dataframe tbody tr th:only-of-type {\n",
       "        vertical-align: middle;\n",
       "    }\n",
       "\n",
       "    .dataframe tbody tr th {\n",
       "        vertical-align: top;\n",
       "    }\n",
       "\n",
       "    .dataframe thead th {\n",
       "        text-align: right;\n",
       "    }\n",
       "</style>\n",
       "<table border=\"1\" class=\"dataframe\">\n",
       "  <thead>\n",
       "    <tr style=\"text-align: right;\">\n",
       "      <th></th>\n",
       "      <th>source</th>\n",
       "      <th>id</th>\n",
       "      <th>category</th>\n",
       "      <th>title</th>\n",
       "      <th>published</th>\n",
       "      <th>body</th>\n",
       "      <th>summary</th>\n",
       "      <th>summary_type</th>\n",
       "    </tr>\n",
       "  </thead>\n",
       "  <tbody>\n",
       "    <tr>\n",
       "      <th>0</th>\n",
       "      <td>reuters</td>\n",
       "      <td>41422</td>\n",
       "      <td>United Kingdom</td>\n",
       "      <td>UK's William Hill given record $24 million fin...</td>\n",
       "      <td>2023-03-28T07:26:00</td>\n",
       "      <td>LONDON, March 28 (Reuters) - Britain's Gamblin...</td>\n",
       "      <td>* \\n* Fine is largest in UK gambling\\n* Regula...</td>\n",
       "      <td>BULLETS</td>\n",
       "    </tr>\n",
       "    <tr>\n",
       "      <th>1</th>\n",
       "      <td>reuters</td>\n",
       "      <td>109510</td>\n",
       "      <td>U.S. Markets</td>\n",
       "      <td>Indexes slip with tech-related shares; consume...</td>\n",
       "      <td>2023-05-13T00:05:00</td>\n",
       "      <td>May 12 (Reuters) - U.S. stocks ended slightly ...</td>\n",
       "      <td>* \\n* U.S. consumer sentiment drops to six-mon...</td>\n",
       "      <td>BULLETS</td>\n",
       "    </tr>\n",
       "    <tr>\n",
       "      <th>2</th>\n",
       "      <td>reuters</td>\n",
       "      <td>48857</td>\n",
       "      <td>Exploration &amp; ProductionClimate Change</td>\n",
       "      <td>Shell wins UK Supreme Court case on 2011 oil s...</td>\n",
       "      <td>2023-05-10T11:41:00</td>\n",
       "      <td>LONDON, May 10 (Reuters) - The UK Supreme Cour...</td>\n",
       "      <td>* \\n* Nigerians trying to sue Shell over offsh...</td>\n",
       "      <td>BULLETS</td>\n",
       "    </tr>\n",
       "    <tr>\n",
       "      <th>3</th>\n",
       "      <td>reuters</td>\n",
       "      <td>93908</td>\n",
       "      <td>Europe</td>\n",
       "      <td>Ukraine gets more U.S. aid as Russia-Iran ties...</td>\n",
       "      <td>2022-12-10T21:08:00</td>\n",
       "      <td>KYIV, Dec 9 (Reuters) - The United States anno...</td>\n",
       "      <td>* \\n* Washington announces new military aid fo...</td>\n",
       "      <td>BULLETS</td>\n",
       "    </tr>\n",
       "    <tr>\n",
       "      <th>4</th>\n",
       "      <td>cnbc</td>\n",
       "      <td>2218</td>\n",
       "      <td>Personal Finance</td>\n",
       "      <td>Secure 2.0 changes 3 key rules around required...</td>\n",
       "      <td>2023-01-03T19:26:50+00:00</td>\n",
       "      <td>President Joe Biden signed a $1.7 trillion leg...</td>\n",
       "      <td>* President Joe Biden signed a $1.7 trillion o...</td>\n",
       "      <td>BULLETS</td>\n",
       "    </tr>\n",
       "  </tbody>\n",
       "</table>\n",
       "</div>"
      ],
      "text/plain": [
       "    source      id                                category  \\\n",
       "0  reuters   41422                          United Kingdom   \n",
       "1  reuters  109510                            U.S. Markets   \n",
       "2  reuters   48857  Exploration & ProductionClimate Change   \n",
       "3  reuters   93908                                  Europe   \n",
       "4     cnbc    2218                        Personal Finance   \n",
       "\n",
       "                                               title  \\\n",
       "0  UK's William Hill given record $24 million fin...   \n",
       "1  Indexes slip with tech-related shares; consume...   \n",
       "2  Shell wins UK Supreme Court case on 2011 oil s...   \n",
       "3  Ukraine gets more U.S. aid as Russia-Iran ties...   \n",
       "4  Secure 2.0 changes 3 key rules around required...   \n",
       "\n",
       "                   published  \\\n",
       "0        2023-03-28T07:26:00   \n",
       "1        2023-05-13T00:05:00   \n",
       "2        2023-05-10T11:41:00   \n",
       "3        2022-12-10T21:08:00   \n",
       "4  2023-01-03T19:26:50+00:00   \n",
       "\n",
       "                                                body  \\\n",
       "0  LONDON, March 28 (Reuters) - Britain's Gamblin...   \n",
       "1  May 12 (Reuters) - U.S. stocks ended slightly ...   \n",
       "2  LONDON, May 10 (Reuters) - The UK Supreme Cour...   \n",
       "3  KYIV, Dec 9 (Reuters) - The United States anno...   \n",
       "4  President Joe Biden signed a $1.7 trillion leg...   \n",
       "\n",
       "                                             summary summary_type  \n",
       "0  * \\n* Fine is largest in UK gambling\\n* Regula...      BULLETS  \n",
       "1  * \\n* U.S. consumer sentiment drops to six-mon...      BULLETS  \n",
       "2  * \\n* Nigerians trying to sue Shell over offsh...      BULLETS  \n",
       "3  * \\n* Washington announces new military aid fo...      BULLETS  \n",
       "4  * President Joe Biden signed a $1.7 trillion o...      BULLETS  "
      ]
     },
     "execution_count": 2,
     "metadata": {},
     "output_type": "execute_result"
    }
   ],
   "source": [
    "sample_df = pd.read_parquet(\"gs://scraped-news-article-data-null/fine-tune-summary--1.parquet\")\n",
    "sample_df = sample_df.sample(frac=1, random_state=93).reset_index(drop=True)\n",
    "sample_df.head()"
   ]
  },
  {
   "cell_type": "code",
   "execution_count": 3,
   "metadata": {},
   "outputs": [
    {
     "data": {
      "text/html": [
       "<div>\n",
       "<style scoped>\n",
       "    .dataframe tbody tr th:only-of-type {\n",
       "        vertical-align: middle;\n",
       "    }\n",
       "\n",
       "    .dataframe tbody tr th {\n",
       "        vertical-align: top;\n",
       "    }\n",
       "\n",
       "    .dataframe thead th {\n",
       "        text-align: right;\n",
       "    }\n",
       "</style>\n",
       "<table border=\"1\" class=\"dataframe\">\n",
       "  <thead>\n",
       "    <tr style=\"text-align: right;\">\n",
       "      <th></th>\n",
       "      <th>source</th>\n",
       "      <th>id</th>\n",
       "      <th>category</th>\n",
       "      <th>title</th>\n",
       "      <th>published</th>\n",
       "      <th>body</th>\n",
       "      <th>summary</th>\n",
       "      <th>summary_type</th>\n",
       "    </tr>\n",
       "  </thead>\n",
       "  <tbody>\n",
       "    <tr>\n",
       "      <th>0</th>\n",
       "      <td>reuters</td>\n",
       "      <td>41422</td>\n",
       "      <td>United Kingdom</td>\n",
       "      <td>UK's William Hill given record $24 million fin...</td>\n",
       "      <td>2023-03-28T07:26:00</td>\n",
       "      <td>LONDON, March 28 (Reuters) - Britain's Gamblin...</td>\n",
       "      <td>* Fine is largest in UK gambling\\n* Regulator ...</td>\n",
       "      <td>BULLETS</td>\n",
       "    </tr>\n",
       "    <tr>\n",
       "      <th>1</th>\n",
       "      <td>reuters</td>\n",
       "      <td>109510</td>\n",
       "      <td>U.S. Markets</td>\n",
       "      <td>Indexes slip with tech-related shares; consume...</td>\n",
       "      <td>2023-05-13T00:05:00</td>\n",
       "      <td>May 12 (Reuters) - U.S. stocks ended slightly ...</td>\n",
       "      <td>* U.S. consumer sentiment drops to six-month l...</td>\n",
       "      <td>BULLETS</td>\n",
       "    </tr>\n",
       "    <tr>\n",
       "      <th>2</th>\n",
       "      <td>reuters</td>\n",
       "      <td>48857</td>\n",
       "      <td>Exploration &amp; ProductionClimate Change</td>\n",
       "      <td>Shell wins UK Supreme Court case on 2011 oil s...</td>\n",
       "      <td>2023-05-10T11:41:00</td>\n",
       "      <td>LONDON, May 10 (Reuters) - The UK Supreme Cour...</td>\n",
       "      <td>* Nigerians trying to sue Shell over offshore ...</td>\n",
       "      <td>BULLETS</td>\n",
       "    </tr>\n",
       "    <tr>\n",
       "      <th>3</th>\n",
       "      <td>reuters</td>\n",
       "      <td>93908</td>\n",
       "      <td>Europe</td>\n",
       "      <td>Ukraine gets more U.S. aid as Russia-Iran ties...</td>\n",
       "      <td>2022-12-10T21:08:00</td>\n",
       "      <td>KYIV, Dec 9 (Reuters) - The United States anno...</td>\n",
       "      <td>* Washington announces new military aid for Uk...</td>\n",
       "      <td>BULLETS</td>\n",
       "    </tr>\n",
       "    <tr>\n",
       "      <th>4</th>\n",
       "      <td>cnbc</td>\n",
       "      <td>2218</td>\n",
       "      <td>Personal Finance</td>\n",
       "      <td>Secure 2.0 changes 3 key rules around required...</td>\n",
       "      <td>2023-01-03T19:26:50+00:00</td>\n",
       "      <td>President Joe Biden signed a $1.7 trillion leg...</td>\n",
       "      <td>* President Joe Biden signed a $1.7 trillion o...</td>\n",
       "      <td>BULLETS</td>\n",
       "    </tr>\n",
       "  </tbody>\n",
       "</table>\n",
       "</div>"
      ],
      "text/plain": [
       "    source      id                                category  \\\n",
       "0  reuters   41422                          United Kingdom   \n",
       "1  reuters  109510                            U.S. Markets   \n",
       "2  reuters   48857  Exploration & ProductionClimate Change   \n",
       "3  reuters   93908                                  Europe   \n",
       "4     cnbc    2218                        Personal Finance   \n",
       "\n",
       "                                               title  \\\n",
       "0  UK's William Hill given record $24 million fin...   \n",
       "1  Indexes slip with tech-related shares; consume...   \n",
       "2  Shell wins UK Supreme Court case on 2011 oil s...   \n",
       "3  Ukraine gets more U.S. aid as Russia-Iran ties...   \n",
       "4  Secure 2.0 changes 3 key rules around required...   \n",
       "\n",
       "                   published  \\\n",
       "0        2023-03-28T07:26:00   \n",
       "1        2023-05-13T00:05:00   \n",
       "2        2023-05-10T11:41:00   \n",
       "3        2022-12-10T21:08:00   \n",
       "4  2023-01-03T19:26:50+00:00   \n",
       "\n",
       "                                                body  \\\n",
       "0  LONDON, March 28 (Reuters) - Britain's Gamblin...   \n",
       "1  May 12 (Reuters) - U.S. stocks ended slightly ...   \n",
       "2  LONDON, May 10 (Reuters) - The UK Supreme Cour...   \n",
       "3  KYIV, Dec 9 (Reuters) - The United States anno...   \n",
       "4  President Joe Biden signed a $1.7 trillion leg...   \n",
       "\n",
       "                                             summary summary_type  \n",
       "0  * Fine is largest in UK gambling\\n* Regulator ...      BULLETS  \n",
       "1  * U.S. consumer sentiment drops to six-month l...      BULLETS  \n",
       "2  * Nigerians trying to sue Shell over offshore ...      BULLETS  \n",
       "3  * Washington announces new military aid for Uk...      BULLETS  \n",
       "4  * President Joe Biden signed a $1.7 trillion o...      BULLETS  "
      ]
     },
     "execution_count": 3,
     "metadata": {},
     "output_type": "execute_result"
    }
   ],
   "source": [
    "clean_regex = re.compile(r\"\\*[\\s\\n]*(?=\\*)\")\n",
    "sample_df[\"summary\"] = sample_df.summary.apply(lambda s: clean_regex.sub(\" \", s).strip())\n",
    "sample_df.head()"
   ]
  },
  {
   "cell_type": "code",
   "execution_count": 4,
   "metadata": {},
   "outputs": [
    {
     "data": {
      "text/plain": [
       "summary_type\n",
       "BULLETS    2630\n",
       "PLAIN        61\n",
       "Name: count, dtype: int64"
      ]
     },
     "execution_count": 4,
     "metadata": {},
     "output_type": "execute_result"
    }
   ],
   "source": [
    "sample_df.summary_type.value_counts()"
   ]
  },
  {
   "cell_type": "code",
   "execution_count": 5,
   "metadata": {},
   "outputs": [
    {
     "data": {
      "text/html": [
       "<div>\n",
       "<style scoped>\n",
       "    .dataframe tbody tr th:only-of-type {\n",
       "        vertical-align: middle;\n",
       "    }\n",
       "\n",
       "    .dataframe tbody tr th {\n",
       "        vertical-align: top;\n",
       "    }\n",
       "\n",
       "    .dataframe thead th {\n",
       "        text-align: right;\n",
       "    }\n",
       "</style>\n",
       "<table border=\"1\" class=\"dataframe\">\n",
       "  <thead>\n",
       "    <tr style=\"text-align: right;\">\n",
       "      <th></th>\n",
       "      <th>source</th>\n",
       "      <th>id</th>\n",
       "      <th>category</th>\n",
       "      <th>title</th>\n",
       "      <th>published</th>\n",
       "      <th>body</th>\n",
       "      <th>summary</th>\n",
       "      <th>summary_type</th>\n",
       "    </tr>\n",
       "  </thead>\n",
       "  <tbody>\n",
       "    <tr>\n",
       "      <th>2000</th>\n",
       "      <td>reuters</td>\n",
       "      <td>35795</td>\n",
       "      <td>United Kingdom</td>\n",
       "      <td>UK's Sunak to meet EU chief in push to finalis...</td>\n",
       "      <td>2023-02-26T20:14:00</td>\n",
       "      <td>LONDON, Feb 26 (Reuters) - British Prime Minis...</td>\n",
       "      <td>* UK and EU leaders to meet on Monday seeking ...</td>\n",
       "      <td>BULLETS</td>\n",
       "    </tr>\n",
       "    <tr>\n",
       "      <th>2001</th>\n",
       "      <td>cnbc</td>\n",
       "      <td>4169</td>\n",
       "      <td>CNBC Disruptor 50</td>\n",
       "      <td>The pandemic drove Clubhouse to a $4 billion v...</td>\n",
       "      <td>2023-04-27T23:02:05+00:00</td>\n",
       "      <td>In this photo illustration the Clubhouse logo ...</td>\n",
       "      <td>* Clubhouse said on Thursday that it's cutting...</td>\n",
       "      <td>BULLETS</td>\n",
       "    </tr>\n",
       "    <tr>\n",
       "      <th>2002</th>\n",
       "      <td>reuters</td>\n",
       "      <td>91712</td>\n",
       "      <td>Europe</td>\n",
       "      <td>EU grants Ukraine candidate status, 'beginning...</td>\n",
       "      <td>2022-06-23T23:36:00</td>\n",
       "      <td>BRUSSELS, June 23 (Reuters) - European Union l...</td>\n",
       "      <td>* Summit accepts Ukraine, Moldova as candidate...</td>\n",
       "      <td>BULLETS</td>\n",
       "    </tr>\n",
       "    <tr>\n",
       "      <th>2003</th>\n",
       "      <td>reuters</td>\n",
       "      <td>67607</td>\n",
       "      <td>Autos &amp; Transportation</td>\n",
       "      <td>Defying gloom, Ferrari sees strong demand for ...</td>\n",
       "      <td>2022-11-02T16:28:00</td>\n",
       "      <td>MILAN, Nov 2 (Reuters) - Ferrari (RACE.MI) sai...</td>\n",
       "      <td>* Co lifts FY core profit forecast to over 1.7...</td>\n",
       "      <td>BULLETS</td>\n",
       "    </tr>\n",
       "    <tr>\n",
       "      <th>2004</th>\n",
       "      <td>reuters</td>\n",
       "      <td>42820</td>\n",
       "      <td>European Markets</td>\n",
       "      <td>European shares log weekly gains, UK's blue-ch...</td>\n",
       "      <td>2023-02-03T17:27:00</td>\n",
       "      <td>Feb 3 (Reuters) - European shares rose on Frid...</td>\n",
       "      <td>* STOXX 600 up 0.3%, logs gains for second str...</td>\n",
       "      <td>BULLETS</td>\n",
       "    </tr>\n",
       "  </tbody>\n",
       "</table>\n",
       "</div>"
      ],
      "text/plain": [
       "       source     id                category  \\\n",
       "2000  reuters  35795          United Kingdom   \n",
       "2001     cnbc   4169       CNBC Disruptor 50   \n",
       "2002  reuters  91712                  Europe   \n",
       "2003  reuters  67607  Autos & Transportation   \n",
       "2004  reuters  42820        European Markets   \n",
       "\n",
       "                                                  title  \\\n",
       "2000  UK's Sunak to meet EU chief in push to finalis...   \n",
       "2001  The pandemic drove Clubhouse to a $4 billion v...   \n",
       "2002  EU grants Ukraine candidate status, 'beginning...   \n",
       "2003  Defying gloom, Ferrari sees strong demand for ...   \n",
       "2004  European shares log weekly gains, UK's blue-ch...   \n",
       "\n",
       "                      published  \\\n",
       "2000        2023-02-26T20:14:00   \n",
       "2001  2023-04-27T23:02:05+00:00   \n",
       "2002        2022-06-23T23:36:00   \n",
       "2003        2022-11-02T16:28:00   \n",
       "2004        2023-02-03T17:27:00   \n",
       "\n",
       "                                                   body  \\\n",
       "2000  LONDON, Feb 26 (Reuters) - British Prime Minis...   \n",
       "2001  In this photo illustration the Clubhouse logo ...   \n",
       "2002  BRUSSELS, June 23 (Reuters) - European Union l...   \n",
       "2003  MILAN, Nov 2 (Reuters) - Ferrari (RACE.MI) sai...   \n",
       "2004  Feb 3 (Reuters) - European shares rose on Frid...   \n",
       "\n",
       "                                                summary summary_type  \n",
       "2000  * UK and EU leaders to meet on Monday seeking ...      BULLETS  \n",
       "2001  * Clubhouse said on Thursday that it's cutting...      BULLETS  \n",
       "2002  * Summit accepts Ukraine, Moldova as candidate...      BULLETS  \n",
       "2003  * Co lifts FY core profit forecast to over 1.7...      BULLETS  \n",
       "2004  * STOXX 600 up 0.3%, logs gains for second str...      BULLETS  "
      ]
     },
     "execution_count": 5,
     "metadata": {},
     "output_type": "execute_result"
    }
   ],
   "source": [
    "train_df = sample_df.iloc[:2000]\n",
    "eval_df = sample_df.iloc[2000:]\n",
    "eval_df.head()"
   ]
  },
  {
   "cell_type": "code",
   "execution_count": 6,
   "metadata": {
    "collapsed": false,
    "jupyter": {
     "outputs_hidden": false
    }
   },
   "outputs": [],
   "source": [
    "from datasets import Dataset, DatasetDict\n",
    "\n",
    "model_checkpoint = \"t5-small\"\n",
    "metric = load(\"rouge\")\n",
    "train_data = Dataset.from_pandas(train_df[[\"body\", \"summary\", \"summary_type\"]])\n",
    "eval_data = Dataset.from_pandas(eval_df[[\"body\", \"summary\", \"summary_type\"]])\n",
    "raw_datasets = DatasetDict({\n",
    "    \"train\": train_data,\n",
    "    \"eval\": eval_data\n",
    "})"
   ]
  },
  {
   "cell_type": "code",
   "execution_count": 7,
   "metadata": {},
   "outputs": [
    {
     "data": {
      "text/plain": [
       "{'body': 'In this photo illustration the Clubhouse logo seen displayed on a smartphone screen.\\n\\nSocial audio platform Clubhouse announced Thursday that it was laying off half its staff in order to \"reset\" the company. It shouldn\\\\\\'t come as a surprise.\\n\\nIf there was a posterchild for the tech industry\\\\\\'s irrational exuberance during the Covid pandemic, it was Clubhouse.\\n\\nWith the physical world closed for business, consumers looked for other ways to congregate and find entertainment. So did celebrities. So did tech executives. So did venture capitalists.\\n\\nBack then, capital was still cheap and plentiful. Software was still perceived as \"eating the world,\" in the famous words of investor Marc Andreessen. It was time for the next great social network. Clubhouse, which allowed people to listen in on discussions about topics including music, technology, fashion, technology and more technology, was on a viral curve. MC Hammer, Oprah Winfrey, and Mark Zuckerberg were there.\\n\\nIn January 2021, Andreessen\\\\\\'s venture firm, Andreessen Horowitz, led an investment in the company at a reported $1 billion valuation, up from $100 million in mid-2020. Three months later, that number swelled to $4 billion, with Tiger Global and DST Global joining the party. As of mid-April of that year, downloads had reached 14.2 million, according to App Annie (now Data.ai), but growth had flattened before a revenue model was ever put in place.\\n\\nBy late 2021, the Covid boom was fading. Economies were reopening and the Federal Reserve was signaling that the extended stretch of rock-bottom interest rates would be coming to an end. Tech stocks peaked in November 2021, just as the last of a massive wave of high-valued IPOs hit the market. Share prices of stay-at-home beneficiaries like Zoom and Peloton got crushed.\\n\\nThe Clubhouse fad evaporated so quickly that Thursday\\\\\\'s blog post, indicating that the company was laying off 50% its staff, seemed as if it should\\\\\\'ve come many months earlier. Davison told Bloomberg in late 2021 that we \"grew way, way too fast\" earlier in the year.\\n\\nIn Thursday\\\\\\'s post, Clubhouse said the downsizing was necessary to \"reset the company,\" which, according to LinkedIn, has just over 200 employees.\\n\\n\"As the world has opened up post-Covid, it\\\\\\'s become harder for many people to find their friends on Clubhouse and to fit long conversations into their daily lives,\" co-founders Paul Davison and Rohan Seth wrote. \"To find its role in the world, the product needs to evolve. This requires a period of change.\"\\n\\nLayoffs have become a central part of the fabric of the tech industry in the past year as companies across software, e-commerce and social media grapple with a sluggish economy. There have been more than 184,000 job cuts in tech this year among more than 600 companies, following almost 165,000 in 2022 at more than 1,000 companies, according to Layoffs.fyi.\\n\\nClubhouse\\\\\\'s situation was more precarious than most. Its valuation was viewed as frothy even in 2021, when the market was red hot. Venture capital, particularly at the late stage, has largely dried up since early last year, and even the most promising high-valued companies like Stripe and Canva have seen their valuations dramatically reduced.\\n\\nOutside of the artificial intelligence boom sparked by OpenAI\\\\\\'s ChatGPT, there\\\\\\'s little action in the world of billion-dollar private tech.\\n\\nStill, the Clubhouse founders insist they have enough capital to keep going, after reportedly raising hundreds of millions of dollars in 2021.\\n\\n\"We arrived at this conclusion reluctantly, as we have years of runway remaining and do not feel immediate pressure to reduce costs,\" the blog post said. \"But we believe that a smaller team will give us focus and speed, and help us launch the next evolution of the product.\"\\n\\nFor departing employees, Clubhouse said it\\\\\\'s paying salaries and covering health care through the end of August, accelerating equity vesting and providing career support.\\n\\nWhere does the company go from here? The founders addressed that concern as well.\\n\\n\"For those who are staying, we know this is a difficult time for you as well,\" they wrote. \"Not only are you saying goodbye to people you\\\\\\'ve built alongside, but many of you will be feeling uncertainty about the future. We want you to know that we\\\\\\'re making this change to ensure that our future is strong.\"\\n\\nDavison and Seth said they\\\\\\'re working on \"Clubhouse 2.0\" to be a \"better way for all of us to hear our friends\\\\\\' voices, have more meaningful conversations and feel connected to the people around us.\"\\n\\nTo succeed, they have defy increasingly long odds. Consumer internet companies win by first attracting huge audiences. Once they\\\\\\'ve reached critical mass, they can monetize their user base through some combination of advertising, subscriptions or virtual goods.\\n\\nMore often than not, though, viral apps are hot for a moment, and then die off either because the novelty disappears or a larger platform creates a copycat. Either way, when the buzz goes away, the momentum rarely returns.\\n\\nWATCH: Facebook is taking on Clubhouse\\n\\nFacebook is taking on Clubhouse, Substack with new features',\n",
       " 'summary': \"* Clubhouse said on Thursday that it's cutting half its staff.\\n* Two years ago investors valued the startup at $4 billion following a meteoric rise during the pandemic.\\n* As of late 2021, the founders were already acknowledging that the company had grown too fast.\",\n",
       " 'summary_type': 'BULLETS'}"
      ]
     },
     "execution_count": 7,
     "metadata": {},
     "output_type": "execute_result"
    }
   ],
   "source": [
    "raw_datasets[\"eval\"][1]"
   ]
  },
  {
   "cell_type": "code",
   "execution_count": 8,
   "metadata": {
    "collapsed": false,
    "jupyter": {
     "outputs_hidden": false
    }
   },
   "outputs": [
    {
     "data": {
      "application/vnd.jupyter.widget-view+json": {
       "model_id": "938dd79d25554a94a5b16fb7fef39b7a",
       "version_major": 2,
       "version_minor": 0
      },
      "text/plain": [
       "Map:   0%|          | 0/2000 [00:00<?, ? examples/s]"
      ]
     },
     "metadata": {},
     "output_type": "display_data"
    },
    {
     "data": {
      "application/vnd.jupyter.widget-view+json": {
       "model_id": "5848a3d6e76c44889cb2f70c2d12b7a4",
       "version_major": 2,
       "version_minor": 0
      },
      "text/plain": [
       "Map:   0%|          | 0/691 [00:00<?, ? examples/s]"
      ]
     },
     "metadata": {},
     "output_type": "display_data"
    }
   ],
   "source": [
    "tokenizer = AutoTokenizer.from_pretrained(model_checkpoint)\n",
    "prefix_bullets = \"summarize in bullet points: \"\n",
    "prefix_plain = \"summarize as paragraph: \"\n",
    "max_input_length = 2048\n",
    "max_target_length = 512\n",
    "\n",
    "def preprocess_function(examples):\n",
    "    inputs = []\n",
    "    for body, type in zip(examples[\"body\"], examples[\"summary_type\"]):\n",
    "        if type == \"BULLETS\":\n",
    "            inputs.append(prefix_bullets + body)\n",
    "        elif type == \"PLAIN\":\n",
    "            inputs.append(prefix_plain + body)\n",
    "        else:\n",
    "            raise ValueError(\"typo\")\n",
    "            \n",
    "    model_inputs = tokenizer(inputs, max_length=max_input_length, truncation=True)\n",
    "    labels = tokenizer(text_target=examples[\"summary\"], max_length=max_target_length, truncation=True)\n",
    "    model_inputs[\"labels\"] = labels[\"input_ids\"]\n",
    "    \n",
    "    return model_inputs\n",
    "\n",
    "\n",
    "tokenized_datasets = raw_datasets.map(preprocess_function, batched=True)"
   ]
  },
  {
   "cell_type": "code",
   "execution_count": 9,
   "metadata": {
    "collapsed": false,
    "jupyter": {
     "outputs_hidden": false
    }
   },
   "outputs": [],
   "source": [
    "from transformers import Seq2SeqTrainingArguments, DataCollatorForSeq2Seq, AutoModelForSeq2SeqLM\n",
    "\n",
    "model_name = \"t5\"\n",
    "BATCH_TRAIN = 4\n",
    "BATCH_EVAL = 8\n",
    "GRADIENT_STEP = 1\n",
    "LEARNING_RATE = 2e-5\n",
    "EPOCHS = 4\n",
    "LAMBDA = 0.01\n",
    "\n",
    "args = Seq2SeqTrainingArguments(\n",
    "    f\"{model_name}-finetuned-xsum\",\n",
    "    evaluation_strategy = \"epoch\",\n",
    "    learning_rate=LEARNING_RATE,\n",
    "    per_device_train_batch_size=BATCH_TRAIN,\n",
    "    per_device_eval_batch_size=BATCH_EVAL,\n",
    "    weight_decay=LAMBDA,\n",
    "    num_train_epochs=EPOCHS,\n",
    "    predict_with_generate=True,\n",
    "    fp16=True\n",
    ")\n",
    "\n",
    "model = AutoModelForSeq2SeqLM.from_pretrained(model_checkpoint)\n",
    "data_collator = DataCollatorForSeq2Seq(tokenizer, model=model)"
   ]
  },
  {
   "cell_type": "code",
   "execution_count": 10,
   "metadata": {},
   "outputs": [
    {
     "name": "stderr",
     "output_type": "stream",
     "text": [
      "/home/sdai/Documents/NLP/FinBot/venv/lib/python3.11/site-packages/transformers/generation/configuration_utils.py:362: UserWarning: `do_sample` is set to `False`. However, `temperature` is set to `0` -- this flag is only used in sample-based generation modes. You should set `do_sample=True` or unset `temperature`.\n",
      "  warnings.warn(\n"
     ]
    },
    {
     "name": "stdout",
     "output_type": "stream",
     "text": [
      "social media platform Clubhouse announced it was laying off half its staff. it was a viral curve, with a sluggish economy. founders say it's a \"difficult time\" for people to find their friends.\n"
     ]
    }
   ],
   "source": [
    "sample = tokenizer(prefix_bullets + tokenized_datasets[\"eval\"][1][\"body\"], \n",
    "                   max_length=max_input_length, truncation=True, \n",
    "                   return_tensors=\"pt\")\n",
    "print(tokenizer.batch_decode(model.generate(**sample, max_new_tokens=512, temperature=0), skip_special_tokens=True)[0])"
   ]
  },
  {
   "cell_type": "code",
   "execution_count": 11,
   "metadata": {
    "collapsed": false,
    "jupyter": {
     "outputs_hidden": false
    }
   },
   "outputs": [],
   "source": [
    "import nltk\n",
    "import numpy as np\n",
    "\n",
    "def compute_metrics(eval_pred):\n",
    "    predictions, labels = eval_pred\n",
    "    decoded_preds = tokenizer.batch_decode(predictions, skip_special_tokens=True)\n",
    "    # Replace -100 in the labels as we can't decode them.\n",
    "    labels = np.where(labels != -100, labels, tokenizer.pad_token_id)\n",
    "    decoded_labels = tokenizer.batch_decode(labels, skip_special_tokens=True)\n",
    "\n",
    "    # Rouge expects a newline after each sentence\n",
    "    decoded_preds = [\"\\n\".join(nltk.sent_tokenize(pred.strip())) for pred in decoded_preds]\n",
    "    decoded_labels = [\"\\n\".join(nltk.sent_tokenize(label.strip())) for label in decoded_labels]\n",
    "\n",
    "    # Note that other metrics may not have a `use_aggregator` parameter\n",
    "    # and thus will return a list, computing a metric for each sentence.\n",
    "    result = metric.compute(predictions=decoded_preds, references=decoded_labels, use_stemmer=True, use_aggregator=True)\n",
    "    # Extract a few results\n",
    "    result = {key: value * 100 for key, value in result.items()}\n",
    "\n",
    "    # Add mean generated length\n",
    "    prediction_lens = [np.count_nonzero(pred != tokenizer.pad_token_id) for pred in predictions]\n",
    "    result[\"gen_len\"] = np.mean(prediction_lens)\n",
    "\n",
    "    return {k: round(v, 4) for k, v in result.items()}"
   ]
  },
  {
   "cell_type": "code",
   "execution_count": null,
   "metadata": {
    "collapsed": false,
    "jupyter": {
     "outputs_hidden": false
    },
    "pycharm": {
     "is_executing": true
    }
   },
   "outputs": [
    {
     "name": "stderr",
     "output_type": "stream",
     "text": [
      "You're using a T5TokenizerFast tokenizer. Please note that with a fast tokenizer, using the `__call__` method is faster than using a method to encode the text followed by a call to the `pad` method to get a padded encoding.\n"
     ]
    },
    {
     "data": {
      "text/html": [
       "\n",
       "    <div>\n",
       "      \n",
       "      <progress value='1840' max='2000' style='width:300px; height:20px; vertical-align: middle;'></progress>\n",
       "      [1840/2000 05:41 < 00:29, 5.39 it/s, Epoch 3.68/4]\n",
       "    </div>\n",
       "    <table border=\"1\" class=\"dataframe\">\n",
       "  <thead>\n",
       " <tr style=\"text-align: left;\">\n",
       "      <th>Epoch</th>\n",
       "      <th>Training Loss</th>\n",
       "      <th>Validation Loss</th>\n",
       "      <th>Rouge1</th>\n",
       "      <th>Rouge2</th>\n",
       "      <th>Rougel</th>\n",
       "      <th>Rougelsum</th>\n",
       "      <th>Gen Len</th>\n",
       "    </tr>\n",
       "  </thead>\n",
       "  <tbody>\n",
       "    <tr>\n",
       "      <td>1</td>\n",
       "      <td>2.891000</td>\n",
       "      <td>2.307005</td>\n",
       "      <td>14.687900</td>\n",
       "      <td>5.189500</td>\n",
       "      <td>12.299500</td>\n",
       "      <td>12.752100</td>\n",
       "      <td>18.949300</td>\n",
       "    </tr>\n",
       "    <tr>\n",
       "      <td>2</td>\n",
       "      <td>2.556700</td>\n",
       "      <td>2.218881</td>\n",
       "      <td>17.469200</td>\n",
       "      <td>6.213500</td>\n",
       "      <td>14.552900</td>\n",
       "      <td>15.127600</td>\n",
       "      <td>18.939200</td>\n",
       "    </tr>\n",
       "    <tr>\n",
       "      <td>3</td>\n",
       "      <td>2.483800</td>\n",
       "      <td>2.188127</td>\n",
       "      <td>18.000400</td>\n",
       "      <td>6.595600</td>\n",
       "      <td>14.955000</td>\n",
       "      <td>15.541700</td>\n",
       "      <td>18.892900</td>\n",
       "    </tr>\n",
       "  </tbody>\n",
       "</table><p>"
      ],
      "text/plain": [
       "<IPython.core.display.HTML object>"
      ]
     },
     "metadata": {},
     "output_type": "display_data"
    }
   ],
   "source": [
    "from transformers import Seq2SeqTrainer\n",
    "\n",
    "trainer = Seq2SeqTrainer(\n",
    "    model,\n",
    "    args,\n",
    "    train_dataset=tokenized_datasets[\"train\"],\n",
    "    eval_dataset=tokenized_datasets[\"eval\"],\n",
    "    data_collator=data_collator,\n",
    "    tokenizer=tokenizer,\n",
    "    compute_metrics=compute_metrics\n",
    ")\n",
    "\n",
    "try:\n",
    "    results = trainer.train(resume_from_checkpoint = True)\n",
    "except ValueError as e:\n",
    "    results = trainer.train(resume_from_checkpoint = False)"
   ]
  },
  {
   "cell_type": "code",
   "execution_count": null,
   "metadata": {},
   "outputs": [],
   "source": [
    "sample = tokenizer(prefix_bullets + tokenized_datasets[\"eval\"][1][\"body\"], \n",
    "                   max_length=max_input_length, truncation=True, \n",
    "                   return_tensors=\"pt\").to(\"cuda\")\n",
    "print(tokenizer.batch_decode(model.generate(**sample, max_new_tokens=512, temperature=0), skip_special_tokens=True)[0])"
   ]
  },
  {
   "cell_type": "code",
   "execution_count": null,
   "metadata": {},
   "outputs": [],
   "source": []
  }
 ],
 "metadata": {
  "kernelspec": {
   "display_name": "Python 3 (ipykernel)",
   "language": "python",
   "name": "python3"
  },
  "language_info": {
   "codemirror_mode": {
    "name": "ipython",
    "version": 3
   },
   "file_extension": ".py",
   "mimetype": "text/x-python",
   "name": "python",
   "nbconvert_exporter": "python",
   "pygments_lexer": "ipython3",
   "version": "3.11.5"
  }
 },
 "nbformat": 4,
 "nbformat_minor": 4
}
