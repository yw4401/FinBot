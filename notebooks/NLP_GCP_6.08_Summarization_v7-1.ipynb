{
 "cells": [
  {
   "cell_type": "markdown",
   "metadata": {},
   "source": [
    "# Text Summarization"
   ]
  },
  {
   "cell_type": "code",
   "execution_count": 7,
   "metadata": {},
   "outputs": [
    {
     "name": "stdout",
     "output_type": "stream",
     "text": [
      "3.7.12 | packaged by conda-forge | (default, Oct 26 2021, 06:08:21) \n",
      "[GCC 9.4.0]\n"
     ]
    }
   ],
   "source": [
    "import os\n",
    "import sys\n",
    "import requests\n",
    "import pandas as pd\n",
    "import re\n",
    "print(sys.version)"
   ]
  },
  {
   "cell_type": "code",
   "execution_count": 8,
   "metadata": {},
   "outputs": [],
   "source": [
    "import warnings\n",
    "warnings.filterwarnings('ignore', category=FutureWarning)\n",
    "warnings.filterwarnings('ignore', category=DeprecationWarning)\n",
    "warnings.filterwarnings(action='ignore', category=UserWarning, module='gensim')"
   ]
  },
  {
   "cell_type": "markdown",
   "metadata": {},
   "source": [
    "## Summarization with Summa"
   ]
  },
  {
   "cell_type": "code",
   "execution_count": 23,
   "metadata": {},
   "outputs": [
    {
     "name": "stdout",
     "output_type": "stream",
     "text": [
      "Requirement already satisfied: spacy in /opt/conda/lib/python3.7/site-packages (3.5.2)\n",
      "Requirement already satisfied: preshed<3.1.0,>=3.0.2 in /opt/conda/lib/python3.7/site-packages (from spacy) (3.0.8)\n",
      "Requirement already satisfied: langcodes<4.0.0,>=3.2.0 in /opt/conda/lib/python3.7/site-packages (from spacy) (3.3.0)\n",
      "Requirement already satisfied: requests<3.0.0,>=2.13.0 in /opt/conda/lib/python3.7/site-packages (from spacy) (2.28.2)\n",
      "Requirement already satisfied: spacy-loggers<2.0.0,>=1.0.0 in /opt/conda/lib/python3.7/site-packages (from spacy) (1.0.4)\n",
      "Collecting typing-extensions<4.5.0,>=3.7.4.1\n",
      "  Using cached typing_extensions-4.4.0-py3-none-any.whl (26 kB)\n",
      "Requirement already satisfied: numpy>=1.15.0 in /opt/conda/lib/python3.7/site-packages (from spacy) (1.21.6)\n",
      "Requirement already satisfied: murmurhash<1.1.0,>=0.28.0 in /opt/conda/lib/python3.7/site-packages (from spacy) (1.0.9)\n",
      "Requirement already satisfied: typer<0.8.0,>=0.3.0 in /opt/conda/lib/python3.7/site-packages (from spacy) (0.7.0)\n",
      "Requirement already satisfied: spacy-legacy<3.1.0,>=3.0.11 in /opt/conda/lib/python3.7/site-packages (from spacy) (3.0.12)\n",
      "Requirement already satisfied: packaging>=20.0 in /opt/conda/lib/python3.7/site-packages (from spacy) (23.0)\n",
      "Requirement already satisfied: jinja2 in /opt/conda/lib/python3.7/site-packages (from spacy) (3.1.2)\n",
      "Requirement already satisfied: wasabi<1.2.0,>=0.9.1 in /opt/conda/lib/python3.7/site-packages (from spacy) (1.1.1)\n",
      "Requirement already satisfied: tqdm<5.0.0,>=4.38.0 in /opt/conda/lib/python3.7/site-packages (from spacy) (4.64.1)\n",
      "Requirement already satisfied: pydantic!=1.8,!=1.8.1,<1.11.0,>=1.7.4 in /opt/conda/lib/python3.7/site-packages (from spacy) (1.10.7)\n",
      "Requirement already satisfied: setuptools in /opt/conda/lib/python3.7/site-packages (from spacy) (67.6.1)\n",
      "Requirement already satisfied: smart-open<7.0.0,>=5.2.1 in /opt/conda/lib/python3.7/site-packages (from spacy) (6.3.0)\n",
      "Requirement already satisfied: thinc<8.2.0,>=8.1.8 in /opt/conda/lib/python3.7/site-packages (from spacy) (8.1.9)\n",
      "Requirement already satisfied: catalogue<2.1.0,>=2.0.6 in /opt/conda/lib/python3.7/site-packages (from spacy) (2.0.8)\n",
      "Requirement already satisfied: srsly<3.0.0,>=2.4.3 in /opt/conda/lib/python3.7/site-packages (from spacy) (2.4.6)\n",
      "Requirement already satisfied: pathy>=0.10.0 in /opt/conda/lib/python3.7/site-packages (from spacy) (0.10.1)\n",
      "Requirement already satisfied: cymem<2.1.0,>=2.0.2 in /opt/conda/lib/python3.7/site-packages (from spacy) (2.0.7)\n",
      "Requirement already satisfied: zipp>=0.5 in /opt/conda/lib/python3.7/site-packages (from catalogue<2.1.0,>=2.0.6->spacy) (3.15.0)\n",
      "Requirement already satisfied: charset-normalizer<4,>=2 in /opt/conda/lib/python3.7/site-packages (from requests<3.0.0,>=2.13.0->spacy) (2.1.1)\n",
      "Requirement already satisfied: urllib3<1.27,>=1.21.1 in /opt/conda/lib/python3.7/site-packages (from requests<3.0.0,>=2.13.0->spacy) (1.26.15)\n",
      "Requirement already satisfied: idna<4,>=2.5 in /opt/conda/lib/python3.7/site-packages (from requests<3.0.0,>=2.13.0->spacy) (3.4)\n",
      "Requirement already satisfied: certifi>=2017.4.17 in /opt/conda/lib/python3.7/site-packages (from requests<3.0.0,>=2.13.0->spacy) (2022.12.7)\n",
      "Requirement already satisfied: blis<0.8.0,>=0.7.8 in /opt/conda/lib/python3.7/site-packages (from thinc<8.2.0,>=8.1.8->spacy) (0.7.9)\n",
      "Requirement already satisfied: confection<1.0.0,>=0.0.1 in /opt/conda/lib/python3.7/site-packages (from thinc<8.2.0,>=8.1.8->spacy) (0.0.4)\n",
      "Requirement already satisfied: click<9.0.0,>=7.1.1 in /opt/conda/lib/python3.7/site-packages (from typer<0.8.0,>=0.3.0->spacy) (8.1.3)\n",
      "Requirement already satisfied: MarkupSafe>=2.0 in /opt/conda/lib/python3.7/site-packages (from jinja2->spacy) (2.1.1)\n",
      "Requirement already satisfied: importlib-metadata in /opt/conda/lib/python3.7/site-packages (from click<9.0.0,>=7.1.1->typer<0.8.0,>=0.3.0->spacy) (6.0.1)\n",
      "\u001b[33mWARNING: Error parsing requirements for typing-extensions: [Errno 2] No such file or directory: '/opt/conda/lib/python3.7/site-packages/typing_extensions-4.5.0.dist-info/METADATA'\u001b[0m\u001b[33m\n",
      "\u001b[0mInstalling collected packages: typing-extensions\n",
      "  Attempting uninstall: typing-extensions\n",
      "\u001b[33m    WARNING: No metadata found in /opt/conda/lib/python3.7/site-packages\u001b[0m\u001b[33m\n",
      "\u001b[0m    Found existing installation: typing-extensions 4.5.0\n",
      "\u001b[31mERROR: Cannot uninstall typing-extensions 4.5.0, RECORD file not found. You might be able to recover from this via: 'pip install --force-reinstall --no-deps typing-extensions==4.5.0'.\u001b[0m\u001b[31m\n",
      "\u001b[0mNote: you may need to restart the kernel to use updated packages.\n"
     ]
    }
   ],
   "source": [
    "# %pip install summa\n",
    "# %pip install sumy\n",
    "# %pip install pytextrank\n",
    "%pip install spacy"
   ]
  },
  {
   "cell_type": "code",
   "execution_count": 12,
   "metadata": {},
   "outputs": [],
   "source": [
    "import summa"
   ]
  },
  {
   "cell_type": "markdown",
   "metadata": {},
   "source": [
    "investingnews.com"
   ]
  },
  {
   "cell_type": "code",
   "execution_count": 37,
   "metadata": {},
   "outputs": [
    {
     "name": "stdout",
     "output_type": "stream",
     "text": [
      "\n",
      "A Mubadala Investment Co.-backed healthcare company said it agreed to acquire kidney-care provider Diaverum, extending the Abu Dhabi sovereign-wealth fund’s bet on healthcare. M42, a newly launched healthcare operator owned by Mubadala and a partner company, G42, is acquiring Diaverum from U.K.-based buyout firm Bridgepoint Group PLC. BPT 0.17%increase; green up pointing triangle The deal value wasn’t disclosed. The Wall Street Journal earlier reported the transaction values the business at more than $2 billion including debt, according to people familiar with the matter. M42 said it expects to close the deal later this year. A pre-markets primer packed with news, trends and ideas. Plus, up-to-the-minute market data. Diaverum, based in Sweden, oversees a global network of 440 dialysis clinics, almost triple the 155 facilities Bridgepoint inherited when it bought the business in 2007 for an undisclosed amount. Diaverum has also expanded geographically over that period, operating in 23 countries, up from 15.  Dialysis is a procedure to remove waste products and excess fluid from the blood when the kidneys stop working properly. It often involves diverting blood to a machine to be cleaned. The size of the dialysis market globally is expected to grow in coming years because of aging populations and the increased incidence of kidney disease related to diabetes and other conditions. Diaverum’s operations include 40 dialysis facilities in Saudi Arabia where Diaverum operates under a five-year contract with the Saudi Ministry of Health, according to the company’s website. Confidence in winning renewal of the license in 2024 was key to the deal, which gave M42 an advantage over other bidders because of its existing base in the region and Mubadala’s backing, said some bankers following the sale process.  Mubadala is the investment arm for the Abu Dhabi government. It oversees $284 billion in assets and invests across a range of industries including business services, energy, financials, healthcare and industrials. Bridgepoint manages more than €37 billion, equivalent to about $40.6 billion of assets, focusing its investments in industrials, business and financial services, consumer and healthcare, according to the firm’s website. Bridgepoint attempted to list Diaverum in an initial public offering in 2020. It withdrew the IPO after not achieving a high-enough valuation.\n",
      "\n",
      "\n",
      "The abortion pill mifepristone is either banned or restricted to varying degrees in 27 states despite a Supreme Court decision that — for now — maintains Food and Drug Administration regulations allowing easy access to the medication.\n",
      "\n",
      "The Supreme Court, acting on an emergency basis, last week blocked lower federal court orders that had imposed severe restrictions on mifepristone even in some states where abortion remains legal.\n",
      "\n",
      "The ruling stemmed from a lawsuit against the FDA by a coalition of doctors who oppose abortion. That group wants to force the agency to pull mifepristone from the market entirely. The Biden administration is opposing that effort.\n",
      "\n",
      "The U.S. 5th Circuit Court of Appeals is now scheduled to hear oral arguments in the case on May 17.\n",
      "\n",
      "The side that loses at the appeals court is certain to ask the Supreme Court to take the case to make a final determination on the legality of the FDA rules.\n",
      "\n",
      "The FDA rules upheld by the Supreme Court on Friday for several years have allowed women to obtain a mifepristone prescription through a telehealth appointment and to receive the medication by mail.\n",
      "\n",
      "Patients previously were required by the FDA to obtain mifepristone in person from a health-care provider or take the medication under their supervision.\n",
      "\n",
      "While the Supreme Court’s decision at least temporarily maintains access to mifepristone in states that support broad access to abortion, it will have less or no impact in conservative states that banned the procedure since last summer, when the high court overturned the half-century-old federal constitutional right to abortion.\n",
      "\n",
      "Mifepristone will remain largely unavailable in 13 states that have completely banned abortion.\n",
      "\n",
      "Those states are Alabama, Arkansas, Idaho, Kentucky, Louisiana, Mississippi, Missouri, North Dakota, Oklahoma, South Dakota, Tennessee, Texas and West Virginia, according to the Guttmacher Institute, a nonprofit group that supports abortion access.\n",
      "\n",
      "All of those states have exceptions that allow abortion when the woman’s life is in danger.\n",
      "\n",
      "And Idaho, West Virginia and North Dakota have exceptions for pregnancies that result from rape and incest, although in North Dakota that exception applies only through the sixth week of pregnancy.\n",
      "\n",
      "Fourteen other states have restrictions on mifepristone that go beyond the FDA regulations temporarily upheld by the Supreme Court.\n",
      "\n",
      "Those states require women to obtain the pill from a doctor.\n",
      "\n",
      "Those states are: Alaska, Arizona, Florida, Georgia, Indiana, Iowa, Michigan, Nebraska, Nevada, North Carolina, Ohio, Pennsylvania, South Carolina and Utah.\n",
      "\n",
      "Florida, Georgia and Ohio ban abortion after six weeks before many women know they are pregnant.\n",
      "\n",
      "Mifepristone is FDA approved to terminate an early pregnancy up to the 10th week of pregnancy.\n",
      "\n",
      "There are pending federal lawsuits in North Carolina and West Virginia that seek to overturn those states’ mifepristone restrictions.\n",
      "\n",
      "\n",
      "The News\n",
      "Kaiser Permanente, a large California-based health care group with 39 hospitals and 24,000 doctors, said on Wednesday that it expected to acquire Geisinger Health, a smaller East Coast group, in an effort to develop a new company that would operate nonprofit community health systems.\n",
      "\n",
      "“If we can take much of what is in our value-based care platform and extend that to these leading community health systems, then we extend our mission,” Greg A. Adams, Kaiser’s chairman and chief executive, said in an interview. “We reach more people, we drive greater affordability for health care in this country.” Both organizations are nonprofit.\n",
      "\n",
      "Kaiser will not absorb Geisinger, which will keep its name. Instead, Geisinger, which is headquartered in Danville, Pa., will be folded into Risant Health, a new nonprofit group that will operate independently. Geisinger’s chief executive, Dr. Jaewon Ryu, will serve as Risant’s chief executive when the deal is closed.\n",
      "\n",
      "ImageAn exterior view looking up at a medical building with “Kaiser Permanente” in large blue letters on its top with its logo.\n",
      "Credit...Mike Blake/Reuters\n",
      "What’s Next: Regulatory Review\n",
      "Federal and state regulators must approve the deal. While Mr. Adams did not say what other health systems he might be talking to regarding acquisitions, Kaiser said it hoped to invest $5 billion in Risant over the next five years, in addition to its spending on Kaiser’s core operations. The company expects to add five or six health systems to Risant in that time.\n",
      "\n",
      "Why It Matters: Increasing Consolidation\n",
      "Kaiser, which serves 13 million people in eight states and the District of Columbia, has built a reputation for delivering high-quality care at low costs. The organization operates like a health maintenance organization, in which it is paid a fixed sum to care for someone through a closed network of hospitals and doctors. But it has not succeeded in offering its model broadly across the country.\n",
      "\n",
      "The creation of Risant Health represents an opportunity for Kaiser, which had $95 billion in revenue last year, to become an even bigger and more influential organization by working with other hospital groups and health plans.\n",
      "\n",
      "The formation of the company is also a response to the rapid changes taking place in the health care industry. Large for-profit companies like health insurers, pharmacy chains and other corporations are scooping up physician practices and urgent care centers and devouring more of the country’s health care dollars.\n",
      "\n",
      "In keeping with Kaiser’s model, the community health systems under Risant would invest in technology and preventive care to keep patients healthy, so they would need less expensive specialty and hospital care, Mr. Adams said.\n",
      "\n",
      "As national systems and new players grow larger, “they are pulling away in some respects from our communities and from our community health systems,” he said.\n",
      "\n",
      "The new venture “is a way to really ensure that not-for-profit, value-based community health is not only alive but is thriving in this country,” Mr. Adams added.\n",
      "\n",
      "Background: A Tough Environment\n",
      "As hospital groups emerge from the pandemic, many are struggling with higher expenses for supplies and labor. Both Kaiser and Geisinger reported operating losses in 2022.\n",
      "\n",
      "“Covid has really shown not having integrated, value-based relationships puts our health systems and our communities at risk,” Mr. Adams said.\n",
      "\n",
      "While Geisinger has long focused on improving care, Dr. Ryu said the health system would benefit from Kaiser’s ability to invest in the kind of technology and preventive care necessary to keep people healthier. “This model made sense to us as a way to accelerate and further bolster those capabilities and bring better health into our communities,” he said.\n",
      "\n",
      "Because it has specialized in providing care under arrangements where it is paid a fixed amount, Kaiser has become one of the largest insurers in the profitable Medicare Advantage market, where its private plans are sold as an alternative to traditional Medicare.\n",
      "\n",
      "But Kaiser has not been immune to criticism for overbilling the federal government, and some people say its financial model means it can be slow to refer patients for costly services. Kaiser has defended its billing practices and says its doctors work with patients to provide the most appropriate care.\n",
      "\n",
      "\n",
      "Alzheimer’s disease treatment stocks are focused on Alzheimer’s disease, a degenerative brain disorder that results in declining memory and thinking skills and typically affects people in their mid-60s.According to the Alzheimer’s Association, neurons in other areas of the brain also begin to deteriorate as Alzheimer’s disease gets worse, resulting in the loss of basic human functions and overall cognitive impairment.This condition affects more than 6.7 million people in the US alone; it’s also the most common form of dementia and is the sixth leading cause of death in America. Treatments are available to alleviate Alzheimer’s disease symptoms, but because they do not affect the underlying causes of this neurodegenerative disease, they’re only a bandaid solution.Therapies approved by the US Food and Drug Administration (FDA) include: rivastigmine by Novartis (NYSE:NVS); galantamine, developed by Janssen, a division of Johnson & Johnson (NYSE:JNJ); donepezil by Pfizer (NYSE:PFE); and AbbVie's (NYSE:ABBV) memantine.Since there is no cure for Alzheimer’s disease, death is often the result for patients as the ailment devastates the brain. And unfortunately, Alzheimer’s disease is rising in prevalence — a report from Research and Markets suggests that the global Alzheimer’s disease treatment market will be worth a significant US$9.64 billion by 2028 as more patients need treatment, and as more investments are made in biomarkers for diagnosis and drug development.Here the Investing News Network takes a look at a few of the biggest Alzheimer’s disease treatment stocks on the NASDAQ. Companies are listed in order of market cap from largest to smallest, and all data was current as of April 19, 2023.. Biogen (NASDAQ:BIIB) Company Profile.Market cap: US$42.27 billion; current share price: US$292.80.Massachusetts-based Biogen, a pioneer in the field of neuroscience, is developing, manufacturing and marketing therapies aimed at treating serious neurological, neurodegenerative, autoimmune and rare diseases.The global biotechnology firm’s research areas include Alzheimer's disease and dementia. However, Biogen’s launch of its FDA-approved Alzheimer’s disease drug Aduhelm faced a lot of pushback in 2022, both from the market and from Congress, over what was viewed as a hasty fast-track approval process and exorbitant costs to patients.In early 2023, Biogen is looking to give it another go, this time with LEQEMBI (lecanemab-irmb) for the treatment of Alzheimer's disease, which the FDA has approved under its accelerated approval pathway. The drug was jointly developed by Biogen and Tokyo-based pharmaceutical company Eisai (OTC Pink:ESALF,TSE:4523). Intra-Cellular Therapies (NASDAQ:ITCI).Company Profile.Market cap: US$5.96 billion; current share price: US$62.59.As its name suggests, biopharma company Intra-Cellular Therapies is taking an intracellular approach to developing therapies for patients with complex psychiatric and neurologic diseases, including Parkinson’s disease and Alzheimer’s disease.Intra-Cellular Therapies is currently evaluating ITI-1284-ODT-SL, a deuterated form of lumateperone that comes in an oral disintegrating tablet; ITI-1284-ODT-SL is in Phase 1 studies, including drug-drug interaction studies. The company expects to commence Phase 2 clinical trials in agitation in patients with probable Alzheimer’s disease in 2023. 3. Axsome Therapeutics (NASDAQ:AXSM).Company Profile.Market cap: US$3.16 billion; current share price: US$72.64.New York-based Axsome Therapeutics is developing and commercializing a portfolio of novel therapies for disorders of the central nervous system with limited treatment options. Products currently on the market from the biopharmaceutical company include Auvelity, a rapid-acting oral antidepressant for the treatment of major depressive disorder; and Sunosi, a once-daily prescription medicine to treat excessive daytime sleepiness due to obstructive sleep apnea or narcolepsy.Axsome’s product pipeline includes AXS-05, a NMDA receptor antagonist with multimodal activity. It has breakthrough therapy designation from the FDA and is currently in Phase 3 clinical studies for the treatment of Alzheimer’s disease agitation. \n",
      "\n"
     ]
    }
   ],
   "source": [
    "article_1 = \"\"\"\n",
    "A Mubadala Investment Co.-backed healthcare company said it agreed to acquire kidney-care provider Diaverum, extending the Abu Dhabi sovereign-wealth fund’s bet on healthcare. M42, a newly launched healthcare operator owned by Mubadala and a partner company, G42, is acquiring Diaverum from U.K.-based buyout firm Bridgepoint Group PLC. BPT 0.17%increase; green up pointing triangle The deal value wasn’t disclosed. The Wall Street Journal earlier reported the transaction values the business at more than $2 billion including debt, according to people familiar with the matter. M42 said it expects to close the deal later this year. A pre-markets primer packed with news, trends and ideas. Plus, up-to-the-minute market data. Diaverum, based in Sweden, oversees a global network of 440 dialysis clinics, almost triple the 155 facilities Bridgepoint inherited when it bought the business in 2007 for an undisclosed amount. Diaverum has also expanded geographically over that period, operating in 23 countries, up from 15.  Dialysis is a procedure to remove waste products and excess fluid from the blood when the kidneys stop working properly. It often involves diverting blood to a machine to be cleaned. The size of the dialysis market globally is expected to grow in coming years because of aging populations and the increased incidence of kidney disease related to diabetes and other conditions. Diaverum’s operations include 40 dialysis facilities in Saudi Arabia where Diaverum operates under a five-year contract with the Saudi Ministry of Health, according to the company’s website. Confidence in winning renewal of the license in 2024 was key to the deal, which gave M42 an advantage over other bidders because of its existing base in the region and Mubadala’s backing, said some bankers following the sale process.  Mubadala is the investment arm for the Abu Dhabi government. It oversees $284 billion in assets and invests across a range of industries including business services, energy, financials, healthcare and industrials. Bridgepoint manages more than €37 billion, equivalent to about $40.6 billion of assets, focusing its investments in industrials, business and financial services, consumer and healthcare, according to the firm’s website. Bridgepoint attempted to list Diaverum in an initial public offering in 2020. It withdrew the IPO after not achieving a high-enough valuation.\n",
    "\"\"\"\n",
    "\n",
    "article_2 = \"\"\"\n",
    "The abortion pill mifepristone is either banned or restricted to varying degrees in 27 states despite a Supreme Court decision that — for now — maintains Food and Drug Administration regulations allowing easy access to the medication.\n",
    "\n",
    "The Supreme Court, acting on an emergency basis, last week blocked lower federal court orders that had imposed severe restrictions on mifepristone even in some states where abortion remains legal.\n",
    "\n",
    "The ruling stemmed from a lawsuit against the FDA by a coalition of doctors who oppose abortion. That group wants to force the agency to pull mifepristone from the market entirely. The Biden administration is opposing that effort.\n",
    "\n",
    "The U.S. 5th Circuit Court of Appeals is now scheduled to hear oral arguments in the case on May 17.\n",
    "\n",
    "The side that loses at the appeals court is certain to ask the Supreme Court to take the case to make a final determination on the legality of the FDA rules.\n",
    "\n",
    "The FDA rules upheld by the Supreme Court on Friday for several years have allowed women to obtain a mifepristone prescription through a telehealth appointment and to receive the medication by mail.\n",
    "\n",
    "Patients previously were required by the FDA to obtain mifepristone in person from a health-care provider or take the medication under their supervision.\n",
    "\n",
    "While the Supreme Court’s decision at least temporarily maintains access to mifepristone in states that support broad access to abortion, it will have less or no impact in conservative states that banned the procedure since last summer, when the high court overturned the half-century-old federal constitutional right to abortion.\n",
    "\n",
    "Mifepristone will remain largely unavailable in 13 states that have completely banned abortion.\n",
    "\n",
    "Those states are Alabama, Arkansas, Idaho, Kentucky, Louisiana, Mississippi, Missouri, North Dakota, Oklahoma, South Dakota, Tennessee, Texas and West Virginia, according to the Guttmacher Institute, a nonprofit group that supports abortion access.\n",
    "\n",
    "All of those states have exceptions that allow abortion when the woman’s life is in danger.\n",
    "\n",
    "And Idaho, West Virginia and North Dakota have exceptions for pregnancies that result from rape and incest, although in North Dakota that exception applies only through the sixth week of pregnancy.\n",
    "\n",
    "Fourteen other states have restrictions on mifepristone that go beyond the FDA regulations temporarily upheld by the Supreme Court.\n",
    "\n",
    "Those states require women to obtain the pill from a doctor.\n",
    "\n",
    "Those states are: Alaska, Arizona, Florida, Georgia, Indiana, Iowa, Michigan, Nebraska, Nevada, North Carolina, Ohio, Pennsylvania, South Carolina and Utah.\n",
    "\n",
    "Florida, Georgia and Ohio ban abortion after six weeks before many women know they are pregnant.\n",
    "\n",
    "Mifepristone is FDA approved to terminate an early pregnancy up to the 10th week of pregnancy.\n",
    "\n",
    "There are pending federal lawsuits in North Carolina and West Virginia that seek to overturn those states’ mifepristone restrictions.\n",
    "\"\"\"\n",
    "\n",
    "article_3 = \"\"\"\n",
    "The News\n",
    "Kaiser Permanente, a large California-based health care group with 39 hospitals and 24,000 doctors, said on Wednesday that it expected to acquire Geisinger Health, a smaller East Coast group, in an effort to develop a new company that would operate nonprofit community health systems.\n",
    "\n",
    "“If we can take much of what is in our value-based care platform and extend that to these leading community health systems, then we extend our mission,” Greg A. Adams, Kaiser’s chairman and chief executive, said in an interview. “We reach more people, we drive greater affordability for health care in this country.” Both organizations are nonprofit.\n",
    "\n",
    "Kaiser will not absorb Geisinger, which will keep its name. Instead, Geisinger, which is headquartered in Danville, Pa., will be folded into Risant Health, a new nonprofit group that will operate independently. Geisinger’s chief executive, Dr. Jaewon Ryu, will serve as Risant’s chief executive when the deal is closed.\n",
    "\n",
    "ImageAn exterior view looking up at a medical building with “Kaiser Permanente” in large blue letters on its top with its logo.\n",
    "Credit...Mike Blake/Reuters\n",
    "What’s Next: Regulatory Review\n",
    "Federal and state regulators must approve the deal. While Mr. Adams did not say what other health systems he might be talking to regarding acquisitions, Kaiser said it hoped to invest $5 billion in Risant over the next five years, in addition to its spending on Kaiser’s core operations. The company expects to add five or six health systems to Risant in that time.\n",
    "\n",
    "Why It Matters: Increasing Consolidation\n",
    "Kaiser, which serves 13 million people in eight states and the District of Columbia, has built a reputation for delivering high-quality care at low costs. The organization operates like a health maintenance organization, in which it is paid a fixed sum to care for someone through a closed network of hospitals and doctors. But it has not succeeded in offering its model broadly across the country.\n",
    "\n",
    "The creation of Risant Health represents an opportunity for Kaiser, which had $95 billion in revenue last year, to become an even bigger and more influential organization by working with other hospital groups and health plans.\n",
    "\n",
    "The formation of the company is also a response to the rapid changes taking place in the health care industry. Large for-profit companies like health insurers, pharmacy chains and other corporations are scooping up physician practices and urgent care centers and devouring more of the country’s health care dollars.\n",
    "\n",
    "In keeping with Kaiser’s model, the community health systems under Risant would invest in technology and preventive care to keep patients healthy, so they would need less expensive specialty and hospital care, Mr. Adams said.\n",
    "\n",
    "As national systems and new players grow larger, “they are pulling away in some respects from our communities and from our community health systems,” he said.\n",
    "\n",
    "The new venture “is a way to really ensure that not-for-profit, value-based community health is not only alive but is thriving in this country,” Mr. Adams added.\n",
    "\n",
    "Background: A Tough Environment\n",
    "As hospital groups emerge from the pandemic, many are struggling with higher expenses for supplies and labor. Both Kaiser and Geisinger reported operating losses in 2022.\n",
    "\n",
    "“Covid has really shown not having integrated, value-based relationships puts our health systems and our communities at risk,” Mr. Adams said.\n",
    "\n",
    "While Geisinger has long focused on improving care, Dr. Ryu said the health system would benefit from Kaiser’s ability to invest in the kind of technology and preventive care necessary to keep people healthier. “This model made sense to us as a way to accelerate and further bolster those capabilities and bring better health into our communities,” he said.\n",
    "\n",
    "Because it has specialized in providing care under arrangements where it is paid a fixed amount, Kaiser has become one of the largest insurers in the profitable Medicare Advantage market, where its private plans are sold as an alternative to traditional Medicare.\n",
    "\n",
    "But Kaiser has not been immune to criticism for overbilling the federal government, and some people say its financial model means it can be slow to refer patients for costly services. Kaiser has defended its billing practices and says its doctors work with patients to provide the most appropriate care.\n",
    "\"\"\"\n",
    "\n",
    "article_4 = \"\"\"\n",
    "Alzheimer’s disease treatment stocks are focused on Alzheimer’s disease, a degenerative brain disorder that results in declining memory and thinking skills and typically affects people in their mid-60s.According to the Alzheimer’s Association, neurons in other areas of the brain also begin to deteriorate as Alzheimer’s disease gets worse, resulting in the loss of basic human functions and overall cognitive impairment.This condition affects more than 6.7 million people in the US alone; it’s also the most common form of dementia and is the sixth leading cause of death in America. Treatments are available to alleviate Alzheimer’s disease symptoms, but because they do not affect the underlying causes of this neurodegenerative disease, they’re only a bandaid solution.Therapies approved by the US Food and Drug Administration (FDA) include: rivastigmine by Novartis (NYSE:NVS); galantamine, developed by Janssen, a division of Johnson & Johnson (NYSE:JNJ); donepezil by Pfizer (NYSE:PFE); and AbbVie's (NYSE:ABBV) memantine.Since there is no cure for Alzheimer’s disease, death is often the result for patients as the ailment devastates the brain. And unfortunately, Alzheimer’s disease is rising in prevalence — a report from Research and Markets suggests that the global Alzheimer’s disease treatment market will be worth a significant US$9.64 billion by 2028 as more patients need treatment, and as more investments are made in biomarkers for diagnosis and drug development.Here the Investing News Network takes a look at a few of the biggest Alzheimer’s disease treatment stocks on the NASDAQ. Companies are listed in order of market cap from largest to smallest, and all data was current as of April 19, 2023.. Biogen (NASDAQ:BIIB) Company Profile.Market cap: US$42.27 billion; current share price: US$292.80.Massachusetts-based Biogen, a pioneer in the field of neuroscience, is developing, manufacturing and marketing therapies aimed at treating serious neurological, neurodegenerative, autoimmune and rare diseases.The global biotechnology firm’s research areas include Alzheimer's disease and dementia. However, Biogen’s launch of its FDA-approved Alzheimer’s disease drug Aduhelm faced a lot of pushback in 2022, both from the market and from Congress, over what was viewed as a hasty fast-track approval process and exorbitant costs to patients.In early 2023, Biogen is looking to give it another go, this time with LEQEMBI (lecanemab-irmb) for the treatment of Alzheimer's disease, which the FDA has approved under its accelerated approval pathway. The drug was jointly developed by Biogen and Tokyo-based pharmaceutical company Eisai (OTC Pink:ESALF,TSE:4523). Intra-Cellular Therapies (NASDAQ:ITCI).Company Profile.Market cap: US$5.96 billion; current share price: US$62.59.As its name suggests, biopharma company Intra-Cellular Therapies is taking an intracellular approach to developing therapies for patients with complex psychiatric and neurologic diseases, including Parkinson’s disease and Alzheimer’s disease.Intra-Cellular Therapies is currently evaluating ITI-1284-ODT-SL, a deuterated form of lumateperone that comes in an oral disintegrating tablet; ITI-1284-ODT-SL is in Phase 1 studies, including drug-drug interaction studies. The company expects to commence Phase 2 clinical trials in agitation in patients with probable Alzheimer’s disease in 2023. 3. Axsome Therapeutics (NASDAQ:AXSM).Company Profile.Market cap: US$3.16 billion; current share price: US$72.64.New York-based Axsome Therapeutics is developing and commercializing a portfolio of novel therapies for disorders of the central nervous system with limited treatment options. Products currently on the market from the biopharmaceutical company include Auvelity, a rapid-acting oral antidepressant for the treatment of major depressive disorder; and Sunosi, a once-daily prescription medicine to treat excessive daytime sleepiness due to obstructive sleep apnea or narcolepsy.Axsome’s product pipeline includes AXS-05, a NMDA receptor antagonist with multimodal activity. It has breakthrough therapy designation from the FDA and is currently in Phase 3 clinical studies for the treatment of Alzheimer’s disease agitation. \n",
    "\"\"\"\n",
    "\n",
    "article = article_1 + \"\\n\" + article_2 + \"\\n\" + article_3 + \"\\n\" + article_4 \n",
    "\n",
    "print(article)"
   ]
  },
  {
   "cell_type": "code",
   "execution_count": 38,
   "metadata": {},
   "outputs": [
    {
     "name": "stdout",
     "output_type": "stream",
     "text": [
      "A Mubadala Investment Co.-backed healthcare company said it agreed to acquire kidney-care provider Diaverum, extending the Abu Dhabi sovereign-wealth fund’s bet on healthcare.\n",
      "Diaverum’s operations include 40 dialysis facilities in Saudi Arabia where Diaverum operates under a five-year contract with the Saudi Ministry of Health, according to the company’s website.\n",
      "The abortion pill mifepristone is either banned or restricted to varying degrees in 27 states despite a Supreme Court decision that — for now — maintains Food and Drug Administration regulations allowing easy access to the medication.\n",
      "The Supreme Court, acting on an emergency basis, last week blocked lower federal court orders that had imposed severe restrictions on mifepristone even in some states where abortion remains legal.\n",
      "Patients previously were required by the FDA to obtain mifepristone in person from a health-care provider or take the medication under their supervision.\n",
      "While the Supreme Court’s decision at least temporarily maintains access to mifepristone in states that support broad access to abortion, it will have less or no impact in conservative states that banned the procedure since last summer, when the high court overturned the half-century-old federal constitutional right to abortion.\n",
      "Kaiser Permanente, a large California-based health care group with 39 hospitals and 24,000 doctors, said on Wednesday that it expected to acquire Geisinger Health, a smaller East Coast group, in an effort to develop a new company that would operate nonprofit community health systems.\n",
      "While Mr. Adams did not say what other health systems he might be talking to regarding acquisitions, Kaiser said it hoped to invest $5 billion in Risant over the next five years, in addition to its spending on Kaiser’s core operations.\n",
      "The creation of Risant Health represents an opportunity for Kaiser, which had $95 billion in revenue last year, to become an even bigger and more influential organization by working with other hospital groups and health plans.\n",
      "In keeping with Kaiser’s model, the community health systems under Risant would invest in technology and preventive care to keep patients healthy, so they would need less expensive specialty and hospital care, Mr. Adams said.\n",
      "“Covid has really shown not having integrated, value-based relationships puts our health systems and our communities at risk,” Mr. Adams said.\n",
      "While Geisinger has long focused on improving care, Dr. Ryu said the health system would benefit from Kaiser’s ability to invest in the kind of technology and preventive care necessary to keep people healthier.\n",
      "And unfortunately, Alzheimer’s disease is rising in prevalence — a report from Research and Markets suggests that the global Alzheimer’s disease treatment market will be worth a significant US$9.64 billion by 2028 as more patients need treatment, and as more investments are made in biomarkers for diagnosis and drug development.Here the Investing News Network takes a look at a few of the biggest Alzheimer’s disease treatment stocks on the NASDAQ.\n",
      "Biogen (NASDAQ:BIIB) Company Profile.Market cap: US$42.27 billion; current share price: US$292.80.Massachusetts-based Biogen, a pioneer in the field of neuroscience, is developing, manufacturing and marketing therapies aimed at treating serious neurological, neurodegenerative, autoimmune and rare diseases.The global biotechnology firm’s research areas include Alzheimer's disease and dementia.\n",
      "Intra-Cellular Therapies (NASDAQ:ITCI).Company Profile.Market cap: US$5.96 billion; current share price: US$62.59.As its name suggests, biopharma company Intra-Cellular Therapies is taking an intracellular approach to developing therapies for patients with complex psychiatric and neurologic diseases, including Parkinson’s disease and Alzheimer’s disease.Intra-Cellular Therapies is currently evaluating ITI-1284-ODT-SL, a deuterated form of lumateperone that comes in an oral disintegrating tablet; ITI-1284-ODT-SL is in Phase 1 studies, including drug-drug interaction studies.\n",
      "3. Axsome Therapeutics (NASDAQ:AXSM).Company Profile.Market cap: US$3.16 billion; current share price: US$72.64.New York-based Axsome Therapeutics is developing and commercializing a portfolio of novel therapies for disorders of the central nervous system with limited treatment options.\n"
     ]
    }
   ],
   "source": [
    "textSum = summa.summarizer.summarize(article)\n",
    "print(textSum)"
   ]
  },
  {
   "cell_type": "code",
   "execution_count": 35,
   "metadata": {},
   "outputs": [],
   "source": [
    "from sumy.parsers.plaintext import PlaintextParser\n",
    "from sumy.nlp.tokenizers import Tokenizer\n",
    "from sumy.summarizers.lex_rank import LexRankSummarizer "
   ]
  },
  {
   "cell_type": "code",
   "execution_count": 39,
   "metadata": {},
   "outputs": [
    {
     "name": "stdout",
     "output_type": "stream",
     "text": [
      "Bridgepoint manages more than €37 billion, equivalent to about $40.6 billion of assets, focusing its investments in industrials, business and financial services, consumer and healthcare, according to the firm’s website.\n",
      "The abortion pill mifepristone is either banned or restricted to varying degrees in 27 states despite a Supreme Court decision that — for now — maintains Food and Drug Administration regulations allowing easy access to the medication.\n",
      "The News Kaiser Permanente, a large California-based health care group with 39 hospitals and 24,000 doctors, said on Wednesday that it expected to acquire Geisinger Health, a smaller East Coast group, in an effort to develop a new company that would operate nonprofit community health systems.\n",
      "“If we can take much of what is in our value-based care platform and extend that to these leading community health systems, then we extend our mission,” Greg A. Adams, Kaiser’s chairman and chief executive, said in an interview.\n",
      "While Mr. Adams did not say what other health systems he might be talking to regarding acquisitions, Kaiser said it hoped to invest $5 billion in Risant over the next five years, in addition to its spending on Kaiser’s core operations.\n",
      "The creation of Risant Health represents an opportunity for Kaiser, which had $95 billion in revenue last year, to become an even bigger and more influential organization by working with other hospital groups and health plans.\n",
      "Both Kaiser and Geisinger reported operating losses in 2022.\n",
      "And unfortunately, Alzheimer’s disease is rising in prevalence — a report from Research and Markets suggests that the global Alzheimer’s disease treatment market will be worth a significant US$9.64 billion by 2028 as more patients need treatment, and as more investments are made in biomarkers for diagnosis and drug development.Here the Investing News Network takes a look at a few of the biggest Alzheimer’s disease treatment stocks on the NASDAQ.\n",
      "However, Biogen’s launch of its FDA-approved Alzheimer’s disease drug Aduhelm faced a lot of pushback in 2022, both from the market and from Congress, over what was viewed as a hasty fast-track approval process and exorbitant costs to patients.In early 2023, Biogen is looking to give it another go, this time with LEQEMBI (lecanemab-irmb) for the treatment of Alzheimer's disease, which the FDA has approved under its accelerated approval pathway.\n",
      "The company expects to commence Phase 2 clinical trials in agitation in patients with probable Alzheimer’s disease in 2023.\n"
     ]
    }
   ],
   "source": [
    "summarizer = LexRankSummarizer()\n",
    "parser = PlaintextParser.from_string(article, Tokenizer('english'))\n",
    "summary = summarizer(parser.document, 10)\n",
    "\n",
    "for sentence in summary:\n",
    "    print(sentence)"
   ]
  },
  {
   "cell_type": "markdown",
   "metadata": {},
   "source": [
    "#### Summa keyword extraction"
   ]
  },
  {
   "cell_type": "code",
   "execution_count": 10,
   "metadata": {},
   "outputs": [
    {
     "name": "stdout",
     "output_type": "stream",
     "text": [
      "new\n",
      "laboratories\n",
      "laboratory\n",
      "students\n",
      "develop\n",
      "developing\n",
      "national\n",
      "deeper\n",
      "private\n",
      "bigger\n",
      "industry\n",
      "conventional\n",
      "hole\n",
      "uchicago\n",
      "urban research\n",
      "university\n",
      "interdisciplinary core\n",
      "education economic\n",
      "economics\n",
      "establishing\n"
     ]
    }
   ],
   "source": [
    "keywords = summa.keywords.keywords(text)\n",
    "print(keywords)"
   ]
  },
  {
   "cell_type": "markdown",
   "metadata": {},
   "source": [
    "### Summarizing book with Summa"
   ]
  },
  {
   "cell_type": "code",
   "execution_count": 11,
   "metadata": {},
   "outputs": [],
   "source": [
    "directory = '/home/jupyter/data/books/'\n",
    "book = '3boat10.txt'\n",
    "f = open(directory+book)\n",
    "textRaw = f.read()\n",
    "text = re.sub(r'\\n', ' ', textRaw)"
   ]
  },
  {
   "cell_type": "code",
   "execution_count": 12,
   "metadata": {},
   "outputs": [
    {
     "name": "stdout",
     "output_type": "stream",
     "text": [
      "CPU times: user 2min 5s, sys: 42.9 s, total: 2min 48s\n",
      "Wall time: 1min 28s\n",
      "And we sit there, by its margin, while the moon, who loves it too, stoops  down to kiss it with a sister's kiss, and throws her silver arms around  it clingingly; and we watch it as it flows, ever singing, ever  whispering, out to meet its king, the sea - till our voices die away in  silence, and the pipes go out - till we, common-place, everyday young men  enough, feel strangely full of thoughts, half sad, half sweet, and do not  care or want to speak - till we laugh, and, rising, knock the ashes from  our burnt-out pipes, and say \"Good-night,\" and, lulled by the lapping  water and the rustling trees, we fall asleep beneath the great, still  stars, and dream that the world is young again - young and sweet as she  used to be ere the centuries of fret and care had furrowed her fair face,  ere her children's sins and follies had made old her loving heart - sweet  as she was in those bygone days when, a new-made mother, she nursed us,  her children, upon her own deep breast - ere the wiles of painted  civilization had lured us away from her fond arms, and the poisoned  sneers of artificiality had made us ashamed of the simple life we led  with her, and the simple, stately home where mankind was born so many  thousands years ago.\n",
      "As it was, he said: \"Steady, old man; `ware wheat.\"  And Harris, instead of merely observing, in his most unpleasant tones,  that a fellow could hardly help treading on some bit of George's foot, if  he had to move about at all within ten yards of where George was sitting,  suggesting that George never ought to come into an ordinary sized boat  with feet that length, and advising him to hang them over the side, as he  would have done before supper, now said: \"Oh, I'm so sorry, old chap; I  hope I haven't hurt you.\"  And George said: \"Not at all;\" that it was his fault; and Harris said no,  it was his.\n",
      "And then Harris would break off in the most interesting part  of his narrative, and look up with mild surprise, and say to George:  \"Why, George, bless me, if here isn't a steam launch!\"  And George would answer:  \"Well, do you know, I THOUGHT I heard something!\"  Upon which we would get nervous and confused, and not know how to get the  boat out of the way, and the people in the launch would crowd round and  instruct us:  \"Pull your right - you, you idiot!\n"
     ]
    }
   ],
   "source": [
    "%time textSum = summa.summarizer.summarize(text, ratio=0.001)\n",
    "print(textSum)"
   ]
  },
  {
   "cell_type": "code",
   "execution_count": 13,
   "metadata": {},
   "outputs": [
    {
     "name": "stdout",
     "output_type": "stream",
     "text": [
      "CPU times: user 2min 5s, sys: 42.3 s, total: 2min 47s\n",
      "Wall time: 1min 30s\n",
      "\n"
     ]
    }
   ],
   "source": [
    "%time textSum = summa.summarizer.summarize(text, words=100)\n",
    "print(textSum)"
   ]
  },
  {
   "cell_type": "markdown",
   "metadata": {},
   "source": [
    "### Summarizing news articles with Summa"
   ]
  },
  {
   "cell_type": "code",
   "execution_count": 14,
   "metadata": {},
   "outputs": [],
   "source": [
    "directory = '/home/jupyter/data/news/'\n",
    "news_articles = 'news_toyota.json'\n",
    "\n",
    "path = directory+news_articles"
   ]
  },
  {
   "cell_type": "code",
   "execution_count": 15,
   "metadata": {},
   "outputs": [],
   "source": [
    "news_df = pd.read_json(directory+news_articles, orient='records', lines=True)"
   ]
  },
  {
   "cell_type": "code",
   "execution_count": 16,
   "metadata": {},
   "outputs": [],
   "source": [
    "# Filter non-English news\n",
    "news_eng = news_df[news_df['language']=='english'].reset_index(drop=True)"
   ]
  },
  {
   "cell_type": "code",
   "execution_count": 17,
   "metadata": {},
   "outputs": [],
   "source": [
    "# Remove /n characters to avoid problems with analysis\n",
    "news_eng['text_clean'] = news_eng['text'].map(lambda x: re.sub(r'\\n', '.  ', str(x)))"
   ]
  },
  {
   "cell_type": "code",
   "execution_count": 18,
   "metadata": {},
   "outputs": [
    {
     "data": {
      "text/html": [
       "<div>\n",
       "<style scoped>\n",
       "    .dataframe tbody tr th:only-of-type {\n",
       "        vertical-align: middle;\n",
       "    }\n",
       "\n",
       "    .dataframe tbody tr th {\n",
       "        vertical-align: top;\n",
       "    }\n",
       "\n",
       "    .dataframe thead th {\n",
       "        text-align: right;\n",
       "    }\n",
       "</style>\n",
       "<table border=\"1\" class=\"dataframe\">\n",
       "  <thead>\n",
       "    <tr style=\"text-align: right;\">\n",
       "      <th></th>\n",
       "      <th>text</th>\n",
       "      <th>text_clean</th>\n",
       "    </tr>\n",
       "  </thead>\n",
       "  <tbody>\n",
       "    <tr>\n",
       "      <th>0</th>\n",
       "      <td>QR Code Link to This Post All maintenance receipts available, one owner truck. Cash sale. No tra...</td>\n",
       "      <td>QR Code Link to This Post All maintenance receipts available, one owner truck. Cash sale. No tra...</td>\n",
       "    </tr>\n",
       "    <tr>\n",
       "      <th>1</th>\n",
       "      <td>0 \\nNEW YORK: Automakers reported mixed US car sales in January, with strong demand for SUVs and...</td>\n",
       "      <td>0 .  NEW YORK: Automakers reported mixed US car sales in January, with strong demand for SUVs an...</td>\n",
       "    </tr>\n",
       "    <tr>\n",
       "      <th>2</th>\n",
       "      <td>transmission: automatic   2005 Toyota Camry LE 4 door 4 cyl AUTOMATIC VERY CLEAN INSIDE CLOTH IN...</td>\n",
       "      <td>transmission: automatic   2005 Toyota Camry LE 4 door 4 cyl AUTOMATIC VERY CLEAN INSIDE CLOTH IN...</td>\n",
       "    </tr>\n",
       "    <tr>\n",
       "      <th>3</th>\n",
       "      <td>favorite this post Brand New Toyota Avalon Floor Mats - $115 (New Britain) hide this posting unh...</td>\n",
       "      <td>favorite this post Brand New Toyota Avalon Floor Mats - $115 (New Britain) hide this posting unh...</td>\n",
       "    </tr>\n",
       "    <tr>\n",
       "      <th>4</th>\n",
       "      <td>more ads by this user QR Code Link to This Post Black w/Piano Black w/Perforated NuLuxe Seat Tri...</td>\n",
       "      <td>more ads by this user QR Code Link to This Post Black w/Piano Black w/Perforated NuLuxe Seat Tri...</td>\n",
       "    </tr>\n",
       "  </tbody>\n",
       "</table>\n",
       "</div>"
      ],
      "text/plain": [
       "                                                                                                  text  \\\n",
       "0  QR Code Link to This Post All maintenance receipts available, one owner truck. Cash sale. No tra...   \n",
       "1  0 \\nNEW YORK: Automakers reported mixed US car sales in January, with strong demand for SUVs and...   \n",
       "2  transmission: automatic   2005 Toyota Camry LE 4 door 4 cyl AUTOMATIC VERY CLEAN INSIDE CLOTH IN...   \n",
       "3  favorite this post Brand New Toyota Avalon Floor Mats - $115 (New Britain) hide this posting unh...   \n",
       "4  more ads by this user QR Code Link to This Post Black w/Piano Black w/Perforated NuLuxe Seat Tri...   \n",
       "\n",
       "                                                                                            text_clean  \n",
       "0  QR Code Link to This Post All maintenance receipts available, one owner truck. Cash sale. No tra...  \n",
       "1  0 .  NEW YORK: Automakers reported mixed US car sales in January, with strong demand for SUVs an...  \n",
       "2  transmission: automatic   2005 Toyota Camry LE 4 door 4 cyl AUTOMATIC VERY CLEAN INSIDE CLOTH IN...  \n",
       "3  favorite this post Brand New Toyota Avalon Floor Mats - $115 (New Britain) hide this posting unh...  \n",
       "4  more ads by this user QR Code Link to This Post Black w/Piano Black w/Perforated NuLuxe Seat Tri...  "
      ]
     },
     "execution_count": 18,
     "metadata": {},
     "output_type": "execute_result"
    }
   ],
   "source": [
    "pd.set_option('display.max_colwidth', 100)\n",
    "news_eng[['text', 'text_clean']].head(5)"
   ]
  },
  {
   "cell_type": "code",
   "execution_count": 19,
   "metadata": {},
   "outputs": [
    {
     "data": {
      "text/plain": [
       "\"['QR Code Link to This Post All maintenance receipts available, one owner truck. Cash sale. No trades.   6477478013', '0 .  NEW YORK: Automakers reported mixed US car sales in January, with strong demand for SUVs and pickup trucks continuing to provide a cushion in a declining overall auto market. .  Ford and Fiat Chrysler reported declines in year-over-year sales, while General Motors scored a modest increase and Toyota saw a more substantial jump. .  US car sales fell last year for the first time since the financial crisis and are projected to decline again in 2018. Still, analysts and industry executives expect US sales this year to come in above a solid 16 million vehicles amid low unemployment and strong consumer confidence. .  “US economic factors are very healthy and we’re seeing the effect in the auto industry — not just in strong demand for SUVs and pickups, but in demand for high trim versions of vehicles,” said Mark LaNeve, Ford’s vice president for US marketing. .  Ford’s J\""
      ]
     },
     "execution_count": 19,
     "metadata": {},
     "output_type": "execute_result"
    }
   ],
   "source": [
    "text = str(news_eng['text_clean'].tolist())\n",
    "#text = str(news_eng['text'].tolist())\n",
    "text[:1000]"
   ]
  },
  {
   "cell_type": "code",
   "execution_count": 20,
   "metadata": {},
   "outputs": [
    {
     "name": "stdout",
     "output_type": "stream",
     "text": [
      "CPU times: user 17.6 s, sys: 5.74 s, total: 23.4 s\n",
      "Wall time: 15 s\n",
      "That works out to a 32.7 per cent share of the market, and signals the company’s first sales uptick in three years.', 'January Auto Sales Winners and Losers Automobile 3 days ago Ed Tahaney © Automobile Magazine Staff January 2018 auto sales are looking up and Toyota was the biggest winner with a 17 percent gain over last year\\'s sales figures.\n",
      "In Japan, selling at least 1,000 fuel cell vehicles per month (well in excess of 10,000 per year) Beginning sales of fuel cell buses in small numbers by early 2017, focusing on Tokyo; preparing to sell over 100 fuel cell buses ahead of the Olympic and Paralympic Games Tokyo 2020 Achieving sales of 1.5 million hybrids annually and 15 million hybrids cumulatively by 2020 Reducing average CO 2 emissions from new vehicles by more than 22 percent by 2020 (compared to Toyota\\'s 2010 global average) Toyota Electrified Vehicle Sales Based on TMC data (Unit = 1,000 vehicles) ', '– Digital Producer, Birmingham Business Journal Feb 1, 2018, 11:00pm CST Over the past decade, Alabama’s automotive industry has grown at an exponential pace.\n",
      "“The challenge for us is to maintain the high standards that we’ve created.” ￼ – Digital Producer, Birmingham Business Journal Feb 1, 2018, 11:00pm CST', 'QR Code Link to This Post Toyota Camry 2009 Doors lights seats and other thing do NOT contact me with unsolicited services or offers post id: 6481548595', 'By a News Reporter-Staff News Editor at Journal of Transportation -- Toyota is named again by Fortune as one of the \"World\\'s Most Admired Companies\" and named the No. 1 motor vehicle company for the fourth consecutive year in an annual ranking.\n",
      "Hydrogen Mobility Australia co-founded by Toyota, Hyundai gives sector a new voice 2 Feb 2018 By JUSTIN HILLIARD TOYOTA Motor Corporation Australia (TMCA) and Hyundai Motor Company Australia (HMCA) joined forces this week to help establish Hydrogen Mobility Australia (HMA), a national body for the emerging hydrogen industry.According to HMA, its “vision is a hydrogen society for Australia built upon clean- and renewable-energy technology, including hydrogen-powered transport”.Working to accelerate the commercialisation of hydrogen and fuel-cell technologies over traditional fossil fuels, HMA will encourage collaboration between the industry and government via a forum of respective representatives that will try to enact the necessary regulations, codes and standards.It will also undertake research and education programs that promote the benefits of these technologies.This effort will be led by recently appointed HMA chief executive officer Claire Johnson, who was previously employed by TMCA as its government liaison officer from 2013 to 2016 and has advocacy experience in both the public and private sectors.“I am honoured to be appointed as the CEO of Hydrogen Mobility Australia and look forward toworking with its members to advance a hydrogen economy for Australia,” Ms Johnson said.Commenting on Ms Johnson's appointment, HMA chairman Ian Mutton said: “Claire’s proven track record in building relationships with government and industry will be of great benefit to Hydrogen Mobility Australia as the hydrogen sector in Australia starts to build momentum”.“I am confident Claire’s leadership of Hydrogen Mobility Australia will position the organisation to be a highly effective advocate for its members.\n",
      "Hyundai is a world leader in the development of zero-emissions and low-emissions vehicles and hydrogen power will play a key role in the future of how we drive.”When it was revealed at the 2012 Paris motor show, the Hyundai ix35 Fuel Cell beat its hydrogen-powered rivals to market, becoming the first fuel-cell production vehicle ever.Two years later, an example was permanently imported to Australia and has since been used by HMCA to demonstrate the green technology.However, prior to the ix35 Fuel Cell’s arrival Down Under, there were no local hydrogen refuelling stations, so HMCA built its own at its headquarters in Macquarie Park, Sydney, which remains the only one currently available.Similarly, Toyota rolled out the world’s first mass-produced fuel-cell sedan, dubbed the Mirai, in late 2014, which provided a glimpse at the brand’s future zero-emission vehicle plans.Three examples briefly toured around Australia and were powered by a purpose-built mobile hydrogen refuelling station, but the model was never sold locally.As previously reported, HMCA will launch its next-generation fuel-cell SUV, the Nexo, early next year when 20 examples are supplied to the ACT government as part of the Hornsdale Windfarm Project.Other founding members of HMA include BP Australia, Caltex Australia, Siemens, The BOC Group, CNH Industrial, Coregas, ITM Power and Viva Energy Australia.\n"
     ]
    }
   ],
   "source": [
    "%time textSum = summa.summarizer.summarize(text, ratio=0.003)\n",
    "print(textSum)"
   ]
  },
  {
   "cell_type": "code",
   "execution_count": 21,
   "metadata": {},
   "outputs": [
    {
     "data": {
      "text/plain": [
       "[Sentence(\"That works out to a 32.7 per cent share of the market, and signals the company’s first sales uptick in three years.\"),\n",
       " Sentence(\"', 'January Auto Sales Winners and Losers Automobile 3 days ago Ed Tahaney © Automobile Magazine Staff January 2018 auto sales are looking up and Toyota was the biggest winner with a 17 percent gain over last year\\'s sales figures.\"),\n",
       " Sentence(\"In Japan, selling at least 1,000 fuel cell vehicles per month (well in excess of 10,000 per year) Beginning sales of fuel cell buses in small numbers by early 2017, focusing on Tokyo; preparing to sell over 100 fuel cell buses ahead of the Olympic and Paralympic Games Tokyo 2020 Achieving sales of 1.5 million hybrids annually and 15 million hybrids cumulatively by 2020 Reducing average CO 2 emissions from new vehicles by more than 22 percent by 2020 (compared to Toyota\\'s 2010 global average) Toyota Electrified Vehicle Sales Based on TMC data (Unit = 1,000 vehicles) ', '– Digital Producer, Birmingham Business Journal Feb 1, 2018, 11:00pm CST Over the past decade, Alabama’s automotive industry has grown at an exponential pace.\"),\n",
       " Sentence(\"“The challenge for us is to maintain the high standards that we’ve created.” ￼ – Digital Producer, Birmingham Business Journal Feb 1, 2018, 11:00pm CST', 'QR Code Link to This Post Toyota Camry 2009 Doors lights seats and other thing do NOT contact me with unsolicited services or offers post id: 6481548595', 'By a News Reporter-Staff News Editor at Journal of Transportation -- Toyota is named again by Fortune as one of the \"World\\'s Most Admired Companies\" and named the No.\"),\n",
       " Sentence(\"1 motor vehicle company for the fourth consecutive year in an annual ranking.\"),\n",
       " Sentence(\"Hydrogen Mobility Australia co-founded by Toyota, Hyundai gives sector a new voice 2 Feb 2018 By JUSTIN HILLIARD TOYOTA Motor Corporation Australia (TMCA) and Hyundai Motor Company Australia (HMCA) joined forces this week to help establish Hydrogen Mobility Australia (HMA), a national body for the emerging hydrogen industry.According to HMA, its “vision is a hydrogen society for Australia built upon clean- and renewable-energy technology, including hydrogen-powered transport”.Working to accelerate the commercialisation of hydrogen and fuel-cell technologies over traditional fossil fuels, HMA will encourage collaboration between the industry and government via a forum of respective representatives that will try to enact the necessary regulations, codes and standards.It will also undertake research and education programs that promote the benefits of these technologies.This effort will be led by recently appointed HMA chief executive officer Claire Johnson, who was previously employed by TMCA as its government liaison officer from 2013 to 2016 and has advocacy experience in both the public and private sectors.“I am honoured to be appointed as the CEO of Hydrogen Mobility Australia and look forward toworking with its members to advance a hydrogen economy for Australia,” Ms Johnson said.Commenting on Ms Johnson's appointment, HMA chairman Ian Mutton said: “Claire’s proven track record in building relationships with government and industry will be of great benefit to Hydrogen Mobility Australia as the hydrogen sector in Australia starts to build momentum”.“I am confident Claire’s leadership of Hydrogen Mobility Australia will position the organisation to be a highly effective advocate for its members.\"),\n",
       " Sentence(\"Hyundai is a world leader in the development of zero-emissions and low-emissions vehicles and hydrogen power will play a key role in the future of how we drive.”When it was revealed at the 2012 Paris motor show, the Hyundai ix35 Fuel Cell beat its hydrogen-powered rivals to market, becoming the first fuel-cell production vehicle ever.Two years later, an example was permanently imported to Australia and has since been used by HMCA to demonstrate the green technology.However, prior to the ix35 Fuel Cell’s arrival Down Under, there were no local hydrogen refuelling stations, so HMCA built its own at its headquarters in Macquarie Park, Sydney, which remains the only one currently available.Similarly, Toyota rolled out the world’s first mass-produced fuel-cell sedan, dubbed the Mirai, in late 2014, which provided a glimpse at the brand’s future zero-emission vehicle plans.Three examples briefly toured around Australia and were powered by a purpose-built mobile hydrogen refuelling station, but the model was never sold locally.As previously reported, HMCA will launch its next-generation fuel-cell SUV, the Nexo, early next year when 20 examples are supplied to the ACT government as part of the Hornsdale Windfarm Project.Other founding members of HMA include BP Australia, Caltex Australia, Siemens, The BOC Group, CNH Industrial, Coregas, ITM Power and Viva Energy Australia.\")]"
      ]
     },
     "execution_count": 21,
     "metadata": {},
     "output_type": "execute_result"
    }
   ],
   "source": [
    "from textblob import TextBlob\n",
    "blob = TextBlob(textSum)\n",
    "\n",
    "blob.sentences"
   ]
  },
  {
   "cell_type": "markdown",
   "metadata": {},
   "source": [
    "## Summarization with sumy LexRank"
   ]
  },
  {
   "cell_type": "code",
   "execution_count": 22,
   "metadata": {},
   "outputs": [],
   "source": [
    "# !pip install sumy"
   ]
  },
  {
   "cell_type": "code",
   "execution_count": 23,
   "metadata": {},
   "outputs": [],
   "source": [
    "from sumy.parsers.plaintext import PlaintextParser\n",
    "from sumy.nlp.tokenizers import Tokenizer\n",
    "from sumy.summarizers.lex_rank import LexRankSummarizer "
   ]
  },
  {
   "cell_type": "code",
   "execution_count": 24,
   "metadata": {},
   "outputs": [],
   "source": [
    "text = '''\n",
    "\n",
    "The University of Chicago is an urban research university that has driven new ways of thinking since 1890. Our commitment to free and open inquiry draws inspired scholars to our global campuses, where ideas are born that challenge and change the world.\n",
    "\n",
    "We empower individuals to challenge conventional thinking in pursuit of original ideas. Students in the College develop critical, analytic, and writing skills in our rigorous, interdisciplinary core curriculum. Through graduate programs, students test their ideas with UChicago scholars, and become the next generation of leaders in academia, industry, nonprofits, and government.\n",
    "\n",
    "UChicago research has led to such breakthroughs as discovering the link between cancer and genetics, establishing revolutionary theories of economics, and developing tools to produce reliably excellent urban schooling. We generate new insights for the benefit of present and future generations with our national and affiliated laboratories: Argonne National Laboratory, Fermi National Accelerator Laboratory, and the Marine Biological Laboratory in Woods Hole, Massachusetts.\n",
    "\n",
    "The University of Chicago is enriched by the city we call home. In partnership with our neighbors, we invest in Chicago's mid-South Side across such areas as health, education, economic growth, and the arts. Together with our medical center, we are the largest private employer on the South Side.\n",
    "\n",
    "In all we do, we are driven to dig deeper, push further, and ask bigger questions—and to leverage our knowledge to enrich all human life. Our diverse and creative students and alumni drive innovation, lead international conversations, and make masterpieces. Alumni and faculty, lecturers and postdocs go on to become Nobel laureates, CEOs, university presidents, attorneys general, literary giants, and astronauts. \n",
    "'''"
   ]
  },
  {
   "cell_type": "code",
   "execution_count": 25,
   "metadata": {},
   "outputs": [],
   "source": [
    "parser = PlaintextParser.from_string(text, Tokenizer('english'))"
   ]
  },
  {
   "cell_type": "code",
   "execution_count": 26,
   "metadata": {},
   "outputs": [
    {
     "name": "stdout",
     "output_type": "stream",
     "text": [
      "CPU times: user 12 ms, sys: 34 µs, total: 12.1 ms\n",
      "Wall time: 11.7 ms\n",
      "The University of Chicago is an urban research university that has driven new ways of thinking since 1890.\n",
      "Our commitment to free and open inquiry draws inspired scholars to our global campuses, where ideas are born that challenge and change the world.\n"
     ]
    }
   ],
   "source": [
    "summarizer = LexRankSummarizer()\n",
    "\n",
    "#Summarize the document, output 2 sentences\n",
    "%time summary = summarizer(parser.document, 2)\n",
    "\n",
    "for sentence in summary:\n",
    "    print(sentence)"
   ]
  },
  {
   "cell_type": "markdown",
   "metadata": {},
   "source": [
    "### Summarizing book with LexRank"
   ]
  },
  {
   "cell_type": "code",
   "execution_count": 27,
   "metadata": {},
   "outputs": [],
   "source": [
    "directory = '/home/jupyter/data/books/'\n",
    "book = '3boat10.txt'\n",
    "text = directory+book"
   ]
  },
  {
   "cell_type": "code",
   "execution_count": 28,
   "metadata": {},
   "outputs": [],
   "source": [
    "parser = PlaintextParser.from_file(text, Tokenizer('english'))"
   ]
  },
  {
   "cell_type": "code",
   "execution_count": 29,
   "metadata": {},
   "outputs": [
    {
     "name": "stdout",
     "output_type": "stream",
     "text": [
      "CPU times: user 4min 15s, sys: 458 ms, total: 4min 15s\n",
      "Wall time: 4min 15s\n",
      "George said he should be all right, and would rather like it, but he would advise Harris and me not to think of it, as he felt sure we should both be ill. Harris said that, to himself, it was always a mystery how people managed to get sick at sea - said he thought people must do it on purpose, from affectation - said he had often wished to be, but had never been able.\n",
      "We would find the hammer for him, and then he would have lost sight of the mark he had made on the wall, where the nail was to go in, and each of us had to get up on the chair, beside him, and see if we could find it; and we would each discover it in a different place, and he would call us all fools, one after another, and tell us to get down.\n",
      "I was in Liverpool at the time, and my friend said that if I didn't mind he would get me to take them back with me to London, as he should not be coming up for a day or two himself, and he did not think the cheeses ought to be kept much longer.\n",
      "That is all I can do for you.\"\n",
      "Then we thought we were going to have supper (we had dispensed with tea, so as to save time), but George said no; that we had better get the canvas up first, before it got quite dark, and while we could see what we were doing.\n",
      "And George said: \"Not at all;\" that it was his fault; and Harris said no, it was his.\n",
      "that's where it is, is it?\"\n",
      "\"Is it?\"\n",
      "But he had.\n",
      "That -\n"
     ]
    }
   ],
   "source": [
    "summarizer = LexRankSummarizer()\n",
    "\n",
    "%time summary = summarizer(parser.document, 10)\n",
    "\n",
    "for sentence in summary:\n",
    "    print(sentence)"
   ]
  },
  {
   "cell_type": "code",
   "execution_count": 30,
   "metadata": {},
   "outputs": [
    {
     "name": "stdout",
     "output_type": "stream",
     "text": [
      "CPU times: user 4min 17s, sys: 766 ms, total: 4min 17s\n",
      "Wall time: 4min 17s\n",
      "I had them all.\n",
      "He said:\n",
      "George said he should be all right, and would rather like it, but he would advise Harris and me not to think of it, as he felt sure we should both be ill. Harris said that, to himself, it was always a mystery how people managed to get sick at sea - said he thought people must do it on purpose, from affectation - said he had often wished to be, but had never been able.\n",
      "\"There you are!\n",
      "We would find the hammer for him, and then he would have lost sight of the mark he had made on the wall, where the nail was to go in, and each of us had to get up on the chair, beside him, and see if we could find it; and we would each discover it in a different place, and he would call us all fools, one after another, and tell us to get down.\n",
      "I was in Liverpool at the time, and my friend said that if I didn't mind he would get me to take them back with me to London, as he should not be coming up for a day or two himself, and he did not think the cheeses ought to be kept much longer.\n",
      "He said:\n",
      "Harris said it was old.\n",
      "He said:\n",
      "He said:\n",
      "He said:\n",
      "That is all I can do for you.\"\n",
      "I said it was a thing I felt I wanted to be in at, too; and I drew out a map I had with me to see exactly how far it was.\n",
      "Then we thought we were going to have supper (we had dispensed with tea, so as to save time), but George said no; that we had better get the canvas up first, before it got quite dark, and while we could see what we were doing.\n",
      "And George said: \"Not at all;\" that it was his fault; and Harris said no, it was his.\n",
      "that's where it is, is it?\"\n",
      "\"Is it?\"\n",
      "We said:\n",
      "But he had.\n",
      "That -\n"
     ]
    }
   ],
   "source": [
    "summarizer = LexRankSummarizer()\n",
    "\n",
    "%time summary = summarizer(parser.document, 20)\n",
    "\n",
    "for sentence in summary:\n",
    "    print(sentence)"
   ]
  },
  {
   "cell_type": "code",
   "execution_count": 31,
   "metadata": {},
   "outputs": [
    {
     "name": "stdout",
     "output_type": "stream",
     "text": [
      "CPU times: user 4min 15s, sys: 671 ms, total: 4min 16s\n",
      "Wall time: 4min 15s\n",
      "I had them all.\n",
      "He said:\n",
      "George said he should be all right, and would rather like it, but he would advise Harris and me not to think of it, as he felt sure we should both be ill. Harris said that, to himself, it was always a mystery how people managed to get sick at sea - said he thought people must do it on purpose, from affectation - said he had often wished to be, but had never been able.\n",
      "\"There you are!\n",
      "We would find the hammer for him, and then he would have lost sight of the mark he had made on the wall, where the nail was to go in, and each of us had to get up on the chair, beside him, and see if we could find it; and we would each discover it in a different place, and he would call us all fools, one after another, and tell us to get down.\n",
      "\"Why, some people would have had a man in to do a little thing like that!\"\n",
      "I was in Liverpool at the time, and my friend said that if I didn't mind he would get me to take them back with me to London, as he should not be coming up for a day or two himself, and he did not think the cheeses ought to be kept much longer.\n",
      "He said:\n",
      "Harris said it was old.\n",
      "He said:\n",
      "He said:\n",
      "He said:\n",
      "Harris said he thought it was a very fine maze, so far as he was a judge; and we agreed that we would try to get George to go into it, on our way back.\n",
      "he said.\n",
      "He said:\n",
      "YOU wouldn't if I did.\"\n",
      "That is all I can do for you.\"\n",
      "I said it was a thing I felt I wanted to be in at, too; and I drew out a map I had with me to see exactly how far it was.\n",
      "Then we thought we were going to have supper (we had dispensed with tea, so as to save time), but George said no; that we had better get the canvas up first, before it got quite dark, and while we could see what we were doing.\n",
      "And George said: \"Not at all;\" that it was his fault; and Harris said no, it was his.\n",
      "that's where it is, is it?\"\n",
      "Of course, this conduct made the force only more distrustful of him than ever, and they would come and rout him out and ask him what he was doing there; and when he answered, \"Nothing,\" he had merely come out for a stroll (it was then four o'clock in the morning), they looked as though they did not believe him, and two plain-clothes constables came home with him to see if he really did live where he had said he did.\n",
      "\"Is it?\"\n",
      "they would have said.\n",
      "He said:\n",
      "We said:\n",
      "He said:\n",
      "But he had.\n",
      "and what is it?\"\n",
      "That -\n"
     ]
    }
   ],
   "source": [
    "summarizer = LexRankSummarizer()\n",
    "\n",
    "%time summary = summarizer(parser.document, 30)\n",
    "\n",
    "for sentence in summary:\n",
    "    print(sentence)"
   ]
  },
  {
   "cell_type": "markdown",
   "metadata": {},
   "source": [
    "## Summarization with PyTextRank"
   ]
  },
  {
   "cell_type": "code",
   "execution_count": 32,
   "metadata": {
    "tags": []
   },
   "outputs": [],
   "source": [
    "# !pip install pytextrank"
   ]
  },
  {
   "cell_type": "code",
   "execution_count": 33,
   "metadata": {},
   "outputs": [
    {
     "data": {
      "text/plain": [
       "<pytextrank.base.BaseTextRankFactory at 0x7f7ab0905f90>"
      ]
     },
     "execution_count": 33,
     "metadata": {},
     "output_type": "execute_result"
    }
   ],
   "source": [
    "import pytextrank\n",
    "import spacy\n",
    "\n",
    "nlp = spacy.load(\"en_core_web_sm\")\n",
    "nlp.add_pipe(\"textrank\")"
   ]
  },
  {
   "cell_type": "code",
   "execution_count": 34,
   "metadata": {},
   "outputs": [],
   "source": [
    "text = '''\n",
    "\n",
    "The University of Chicago is an urban research university that has driven new ways of thinking since 1890. Our commitment to free and open inquiry draws inspired scholars to our global campuses, where ideas are born that challenge and change the world.\n",
    "\n",
    "We empower individuals to challenge conventional thinking in pursuit of original ideas. Students in the College develop critical, analytic, and writing skills in our rigorous, interdisciplinary core curriculum. Through graduate programs, students test their ideas with UChicago scholars, and become the next generation of leaders in academia, industry, nonprofits, and government.\n",
    "\n",
    "UChicago research has led to such breakthroughs as discovering the link between cancer and genetics, establishing revolutionary theories of economics, and developing tools to produce reliably excellent urban schooling. We generate new insights for the benefit of present and future generations with our national and affiliated laboratories: Argonne National Laboratory, Fermi National Accelerator Laboratory, and the Marine Biological Laboratory in Woods Hole, Massachusetts.\n",
    "\n",
    "The University of Chicago is enriched by the city we call home. In partnership with our neighbors, we invest in Chicago's mid-South Side across such areas as health, education, economic growth, and the arts. Together with our medical center, we are the largest private employer on the South Side.\n",
    "\n",
    "In all we do, we are driven to dig deeper, push further, and ask bigger questions—and to leverage our knowledge to enrich all human life. Our diverse and creative students and alumni drive innovation, lead international conversations, and make masterpieces. Alumni and faculty, lecturers and postdocs go on to become Nobel laureates, CEOs, university presidents, attorneys general, literary giants, and astronauts. \n",
    "'''"
   ]
  },
  {
   "cell_type": "code",
   "execution_count": 35,
   "metadata": {},
   "outputs": [
    {
     "name": "stdout",
     "output_type": "stream",
     "text": [
      "\n",
      "\n",
      "The University of Chicago is an urban research university that has driven new ways of thinking since 1890. Our commitment to free and open inquiry draws inspired scholars to our global campuses, where ideas are born that challenge and change the world.\n",
      "\n",
      "We empower individuals to challenge conventional thinking in pursuit of original ideas. Students in the College develop critical, analytic, and writing skills in our rigorous, interdisciplinary core curriculum. Through graduate programs, students test their ideas with UChicago scholars, and become the next generation of leaders in academia, industry, nonprofits, and government.\n",
      "\n",
      "UChicago research has led to such breakthroughs as discovering the link between cancer and genetics, establishing revolutionary theories of economics, and developing tools to produce reliably excellent urban schooling. We generate new insights for the benefit of present and future generations with our national and affiliated laboratories: Argonne National Laboratory, Fermi National Accelerator Laboratory, and the Marine Biological Laboratory in Woods Hole, Massachusetts.\n",
      "\n",
      "The University of Chicago is enriched by the city we call home. In partnership with our neighbors, we invest in Chicago's mid-South Side across such areas as health, education, economic growth, and the arts. Together with our medical center, we are the largest private employer on the South Side.\n",
      "\n",
      "In all we do, we are driven to dig deeper, push further, and ask bigger questions—and to leverage our knowledge to enrich all human life. Our diverse and creative students and alumni drive innovation, lead international conversations, and make masterpieces. Alumni and faculty, lecturers and postdocs go on to become Nobel laureates, CEOs, university presidents, attorneys general, literary giants, and astronauts. \n",
      "\n"
     ]
    }
   ],
   "source": [
    "print(text)"
   ]
  },
  {
   "cell_type": "code",
   "execution_count": 36,
   "metadata": {},
   "outputs": [
    {
     "name": "stdout",
     "output_type": "stream",
     "text": [
      "We generate new insights for the benefit of present and future generations with our national and affiliated laboratories: Argonne National Laboratory, Fermi National Accelerator Laboratory, and the Marine Biological Laboratory in Woods Hole, Massachusetts.\n"
     ]
    }
   ],
   "source": [
    "phrases = 1 # Summarize based on its top N phrases\n",
    "sentences = 1 # Yielding its top K sentences\n",
    "\n",
    "doc = nlp(text)\n",
    "tr = doc._.textrank\n",
    "\n",
    "for sent in tr.summary(limit_phrases=phrases,\n",
    "                       limit_sentences=sentences):\n",
    "    print(sent)"
   ]
  },
  {
   "cell_type": "code",
   "execution_count": 37,
   "metadata": {},
   "outputs": [
    {
     "name": "stdout",
     "output_type": "stream",
     "text": [
      "We generate new insights for the benefit of present and future generations with our national and affiliated laboratories: Argonne National Laboratory, Fermi National Accelerator Laboratory, and the Marine Biological Laboratory in Woods Hole, Massachusetts.\n",
      "\n",
      "\n",
      "The University of Chicago is an urban research university that has driven new ways of thinking since 1890.\n"
     ]
    }
   ],
   "source": [
    "phrases = 2 # Summarize based on its top N phrases\n",
    "sentences = 2 # Yielding its top K sentences\n",
    "\n",
    "doc = nlp(text)\n",
    "tr = doc._.textrank\n",
    "\n",
    "for sent in tr.summary(limit_phrases=phrases,\n",
    "                       limit_sentences=sentences):\n",
    "    print(sent)"
   ]
  },
  {
   "cell_type": "code",
   "execution_count": 38,
   "metadata": {},
   "outputs": [
    {
     "name": "stdout",
     "output_type": "stream",
     "text": [
      "We generate new insights for the benefit of present and future generations with our national and affiliated laboratories: Argonne National Laboratory, Fermi National Accelerator Laboratory, and the Marine Biological Laboratory in Woods Hole, Massachusetts.\n",
      "\n",
      "\n",
      "The University of Chicago is an urban research university that has driven new ways of thinking since 1890.\n",
      "Our commitment to free and open inquiry draws inspired scholars to our global campuses, where ideas are born that challenge and change the world.\n"
     ]
    }
   ],
   "source": [
    "phrases = 1 # Summarize based on its top N phrases\n",
    "sentences = 3 # Yielding its top K sentences\n",
    "\n",
    "doc = nlp(text)\n",
    "tr = doc._.textrank\n",
    "\n",
    "for sent in tr.summary(limit_phrases=phrases,\n",
    "                       limit_sentences=sentences):\n",
    "    print(sent)"
   ]
  },
  {
   "cell_type": "code",
   "execution_count": 39,
   "metadata": {},
   "outputs": [
    {
     "name": "stdout",
     "output_type": "stream",
     "text": [
      "We generate new insights for the benefit of present and future generations with our national and affiliated laboratories: Argonne National Laboratory, Fermi National Accelerator Laboratory, and the Marine Biological Laboratory in Woods Hole, Massachusetts.\n",
      "Alumni and faculty, lecturers and postdocs go on to become Nobel laureates, CEOs, university presidents, attorneys general, literary giants, and astronauts.\n",
      "\n",
      "\n",
      "We empower individuals to challenge conventional thinking in pursuit of original ideas.\n"
     ]
    }
   ],
   "source": [
    "phrases = 10 # Summarize based on its top N phrases\n",
    "sentences = 3 # Yielding its top K sentences\n",
    "\n",
    "doc = nlp(text)\n",
    "tr = doc._.textrank\n",
    "\n",
    "for sent in tr.summary(limit_phrases=phrases,\n",
    "                       limit_sentences=sentences):\n",
    "    print(sent)"
   ]
  },
  {
   "cell_type": "code",
   "execution_count": 40,
   "metadata": {},
   "outputs": [
    {
     "name": "stdout",
     "output_type": "stream",
     "text": [
      "We generate new insights for the benefit of present and future generations with our national and affiliated laboratories: Argonne National Laboratory, Fermi National Accelerator Laboratory, and the Marine Biological Laboratory in Woods Hole, Massachusetts.\n",
      "Alumni and faculty, lecturers and postdocs go on to become Nobel laureates, CEOs, university presidents, attorneys general, literary giants, and astronauts.\n",
      "\n",
      "\n",
      "We empower individuals to challenge conventional thinking in pursuit of original ideas.\n",
      "Through graduate programs, students test their ideas with UChicago scholars, and become the next generation of leaders in academia, industry, nonprofits, and government.\n",
      "In partnership with our neighbors, we invest in Chicago's mid-South Side across such areas as health, education, economic growth, and the arts.\n"
     ]
    }
   ],
   "source": [
    "phrases = 15 # Summarize based on its top N phrases\n",
    "sentences = 5 # Yielding its top K sentences\n",
    "\n",
    "doc = nlp(text)\n",
    "tr = doc._.textrank\n",
    "\n",
    "for sent in tr.summary(limit_phrases=phrases,\n",
    "                       limit_sentences=sentences):\n",
    "    print(sent)"
   ]
  },
  {
   "cell_type": "markdown",
   "metadata": {},
   "source": [
    "### Summarizing book with PyTextRank"
   ]
  },
  {
   "cell_type": "code",
   "execution_count": 41,
   "metadata": {},
   "outputs": [],
   "source": [
    "directory = '/home/jupyter/data/books/'\n",
    "book = '3boat10.txt'\n",
    "f = open(directory+book)\n",
    "textRaw = f.read()\n",
    "text = re.sub(r'\\n', ' ', textRaw)"
   ]
  },
  {
   "cell_type": "code",
   "execution_count": 42,
   "metadata": {},
   "outputs": [
    {
     "name": "stdout",
     "output_type": "stream",
     "text": [
      " The expression on the face of the  man who, with his hands in his pockets, stands by the stern, smoking a  cigar, is sufficient to excuse a breach of the peace by itself; and the  lordly whistle for you to get out of the way would, I am confident,  ensure a verdict of \"justifiable homicide\" from any jury of river men.\n",
      "*  You meet other boats there,  and river gossip is exchanged.\n",
      " \"Go away, you miserable old man,\" I said.\n",
      " I was thinking of other things,  and forgot, as any one might easily understand, that I was steering, and  the consequence was that we had got mixed up a good deal with the tow- path.\n",
      " George and I - I don't know what had become of Harris; he had gone out  and had a shave, early in the afternoon, and had then come back and spent  full forty minutes in pipeclaying his shoes, we had not seen him since -  George and I, therefore, and the dog, left to ourselves, went for a walk  to Wallingford on the second evening, and, coming home, we called in at a  little river-side inn, for a rest, and other things.\n",
      "CPU times: user 17.5 s, sys: 1.38 s, total: 18.8 s\n",
      "Wall time: 18.8 s\n"
     ]
    }
   ],
   "source": [
    "%%time\n",
    "\n",
    "phrases = 15 # Summarize based on its top N phrases\n",
    "sentences = 5 # Yielding its top K sentences\n",
    "\n",
    "doc = nlp(text)\n",
    "tr = doc._.textrank\n",
    "\n",
    "for sent in tr.summary(limit_phrases=phrases,\n",
    "                       limit_sentences=sentences):\n",
    "    print(sent)"
   ]
  },
  {
   "cell_type": "code",
   "execution_count": 43,
   "metadata": {},
   "outputs": [
    {
     "name": "stdout",
     "output_type": "stream",
     "text": [
      " The expression on the face of the  man who, with his hands in his pockets, stands by the stern, smoking a  cigar, is sufficient to excuse a breach of the peace by itself; and the  lordly whistle for you to get out of the way would, I am confident,  ensure a verdict of \"justifiable homicide\" from any jury of river men.\n",
      "*  You meet other boats there,  and river gossip is exchanged.\n",
      " \"Go away, you miserable old man,\" I said.\n",
      " I was thinking of other things,  and forgot, as any one might easily understand, that I was steering, and  the consequence was that we had got mixed up a good deal with the tow- path.\n",
      " George and I - I don't know what had become of Harris; he had gone out  and had a shave, early in the afternoon, and had then come back and spent  full forty minutes in pipeclaying his shoes, we had not seen him since -  George and I, therefore, and the dog, left to ourselves, went for a walk  to Wallingford on the second evening, and, coming home, we called in at a  little river-side inn, for a rest, and other things.\n",
      " He pondered a good deal during the  afternoon, and at one time it seemed to him that he had been eating  nothing but boiled beef for weeks, and at other times it seemed that he  must have been living on strawberries and cream for years.\n",
      "  Sometimes he shot up stream and sometimes he shot down stream, and at  other times he simply spun round and came up the other side of the pole.\n",
      " We tried river water once, later on in the season, but it was not a  success.\n",
      " For other breakfast things, George suggested eggs and bacon, which were  easy to cook, cold meat, tea, bread and butter, and jam.\n",
      " I take no interest in creeping round dim and chilly  churches behind wheezy old men, and reading epitaphs.\n",
      " On a fine Sunday it presents this appearance nearly all day long, while,  up the stream, and down the stream, lie, waiting their turn, outside the  gates, long lines of still more boats; and boats are drawing near and  passing away, so that the sunny river, from the Palace up to Hampton  Church, is dotted and decked with yellow, and blue, and orange, and  white, and red, and pink.\n",
      " And all the river down to Staines is dotted with small craft and boats  and tiny coracles - which last are growing out of favour now, and are  used only by the poorer folk.\n",
      " The boat you hire up the river above Marlow  is not the sort of boat in which you can flash about and give yourself  airs.\n",
      " We had on our best  clothes, and we talked pretty, and were very happy - all except two young  fellows, students, just returned from Germany, commonplace young men, who  seemed restless and uncomfortable, as if they found the proceedings slow.\n",
      " An obelisk marks the spot  where two men have already been drowned, while bathing there; and the  steps of the obelisk are generally used as a diving-board by young men  now who wish to see if the place really IS dangerous.\n",
      " At Weybridge, the Wey (a pretty little stream, navigable for small boats  up to Guildford, and one which I have always been making up my mind to  explore, and never have), the Bourne, and the Basingstoke Canal all enter  the Thames together.\n",
      " WE made George work, now we had got him.\n",
      " Harris will be just that sort of man when he grows up, I know, and I told  him so.\n",
      " It is lumber, man - all lumber!\n",
      " They were upraised in the days \"when men knew how  to build.\"\n",
      "CPU times: user 16.1 s, sys: 1.41 s, total: 17.5 s\n",
      "Wall time: 17.5 s\n"
     ]
    }
   ],
   "source": [
    "%%time\n",
    "\n",
    "phrases = 15 # Summarize based on its top N phrases\n",
    "sentences = 20 # Yielding its top K sentences\n",
    "\n",
    "doc = nlp(text)\n",
    "tr = doc._.textrank\n",
    "\n",
    "for sent in tr.summary(limit_phrases=phrases,\n",
    "                       limit_sentences=sentences):\n",
    "    print(sent)"
   ]
  },
  {
   "cell_type": "code",
   "execution_count": 44,
   "metadata": {},
   "outputs": [
    {
     "name": "stdout",
     "output_type": "stream",
     "text": [
      " George and I - I don't know what had become of Harris; he had gone out  and had a shave, early in the afternoon, and had then come back and spent  full forty minutes in pipeclaying his shoes, we had not seen him since -  George and I, therefore, and the dog, left to ourselves, went for a walk  to Wallingford on the second evening, and, coming home, we called in at a  little river-side inn, for a rest, and other things.\n",
      " He came and sat down on things, just when they were wanted to be packed;  and he laboured under the fixed belief that, whenever Harris or George  reached out their hand for anything, it was his cold, damp nose that they  wanted.\n",
      " For other breakfast things, George suggested eggs and bacon, which were  easy to cook, cold meat, tea, bread and butter, and jam.\n",
      " Harris will be just that sort of man when he grows up, I know, and I told  him so.\n",
      " Harris told them they ought to be grateful for a little excitement,  sitting there fishing all day, and he also said that he was shocked and  grieved to hear men their age give way to temper so.\n",
      " That's Harris all over - so ready to take the burden of everything  himself, and put it on the backs of other people.\n",
      "  Harris said he felt such extraordinary fits of giddiness come over him at  times, that he hardly knew what he was doing; and then George said that  HE had fits of giddiness too, and hardly knew what HE was doing.\n",
      " George said  he should be all right, and would rather like it, but he would advise  Harris and me not to think of it, as he felt sure we should both be ill.\n",
      " Harris said he didn't think George ought to do anything that would have a  tendency to make him sleepier than he always was, as it might be  dangerous.\n",
      " It suited me to a \"T\" too, and Harris and I both said it was a good idea  of George's; and we said it in a tone that seemed to somehow imply that  we were surprised that George should have come out so sensible.\n",
      " Harris and  I would go down in the morning, and take the boat up to Chertsey, and  George, who would not be able to get away from the City till the  afternoon (George goes to sleep at a bank from ten to four each day,  except Saturdays, when they wake him up and put him outside at two),  would meet us there.\n",
      " George said that if it was going to make Harris  eat more than Harris ordinarily ate, then he should protest against  Harris having a bath at all.\n",
      " I urged upon George, however, how much pleasanter it would be to have  Harris clean and fresh about the boat, even if we did have to take a few  more hundredweight of provisions; and he got to see it in my light, and  withdrew his opposition to Harris's bath.\n",
      " \"Now for breakfast we  shall want a frying-pan\" - (Harris said it was indigestible; but we  merely urged him not to be an ass, and George went on) - \"a tea-pot and a  kettle, and a methylated spirit stove.\"\n",
      " \"No oil,\" said George, with a significant look; and Harris and I agreed.\n",
      " For drink, we took some  wonderful sticky concoction of Harris's, which you mixed with water and  called lemonade, plenty of tea, and a bottle of whisky, in case, as  George said, we got upset.\n",
      " I  impressed the fact upon George and Harris, and told them that they had  better leave the whole matter entirely to me.\n",
      " What I had meant, of course, was, that  I should boss the job, and that Harris and George should potter about  under my directions, I pushing them aside every now and then with, \"Oh,  you - !\"\n",
      " Of course, I found George's and Harris's eighteen times over,  \n",
      " Harris said that we should be  wanting to start in less than twelve hours' time, and thought that he and  George had better do the rest; and I agreed and sat down, and they had a  go.\n",
      "CPU times: user 16.9 s, sys: 1.36 s, total: 18.2 s\n",
      "Wall time: 18.2 s\n"
     ]
    }
   ],
   "source": [
    "%%time\n",
    "\n",
    "phrases = 50 # Summarize based on its top N phrases\n",
    "sentences = 20 # Yielding its top K sentences\n",
    "\n",
    "doc = nlp(text)\n",
    "tr = doc._.textrank\n",
    "\n",
    "for sent in tr.summary(limit_phrases=phrases,\n",
    "                       limit_sentences=sentences):\n",
    "    print(sent)"
   ]
  },
  {
   "cell_type": "markdown",
   "metadata": {},
   "source": [
    "### Summarizing news articles with PyTextRank"
   ]
  },
  {
   "cell_type": "code",
   "execution_count": 45,
   "metadata": {},
   "outputs": [],
   "source": [
    "directory = '/home/jupyter/data/news/'\n",
    "news_articles = 'news_toyota.json'\n",
    "\n",
    "path = directory+news_articles"
   ]
  },
  {
   "cell_type": "code",
   "execution_count": 46,
   "metadata": {},
   "outputs": [],
   "source": [
    "news_df = pd.read_json(directory+news_articles, orient='records', lines=True)"
   ]
  },
  {
   "cell_type": "code",
   "execution_count": 47,
   "metadata": {},
   "outputs": [],
   "source": [
    "# Filter non-English news\n",
    "news_eng = news_df[news_df['language']=='english'].reset_index(drop=True)"
   ]
  },
  {
   "cell_type": "code",
   "execution_count": 48,
   "metadata": {},
   "outputs": [],
   "source": [
    "# Remove /n characters to avoid problems with analysis\n",
    "news_eng['text_clean'] = news_eng['text'].map(lambda x: re.sub(r'\\n', '.  ', str(x)))"
   ]
  },
  {
   "cell_type": "code",
   "execution_count": 49,
   "metadata": {},
   "outputs": [
    {
     "data": {
      "text/html": [
       "<div>\n",
       "<style scoped>\n",
       "    .dataframe tbody tr th:only-of-type {\n",
       "        vertical-align: middle;\n",
       "    }\n",
       "\n",
       "    .dataframe tbody tr th {\n",
       "        vertical-align: top;\n",
       "    }\n",
       "\n",
       "    .dataframe thead th {\n",
       "        text-align: right;\n",
       "    }\n",
       "</style>\n",
       "<table border=\"1\" class=\"dataframe\">\n",
       "  <thead>\n",
       "    <tr style=\"text-align: right;\">\n",
       "      <th></th>\n",
       "      <th>text</th>\n",
       "      <th>text_clean</th>\n",
       "    </tr>\n",
       "  </thead>\n",
       "  <tbody>\n",
       "    <tr>\n",
       "      <th>0</th>\n",
       "      <td>QR Code Link to This Post All maintenance receipts available, one owner truck. Cash sale. No tra...</td>\n",
       "      <td>QR Code Link to This Post All maintenance receipts available, one owner truck. Cash sale. No tra...</td>\n",
       "    </tr>\n",
       "    <tr>\n",
       "      <th>1</th>\n",
       "      <td>0 \\nNEW YORK: Automakers reported mixed US car sales in January, with strong demand for SUVs and...</td>\n",
       "      <td>0 .  NEW YORK: Automakers reported mixed US car sales in January, with strong demand for SUVs an...</td>\n",
       "    </tr>\n",
       "    <tr>\n",
       "      <th>2</th>\n",
       "      <td>transmission: automatic   2005 Toyota Camry LE 4 door 4 cyl AUTOMATIC VERY CLEAN INSIDE CLOTH IN...</td>\n",
       "      <td>transmission: automatic   2005 Toyota Camry LE 4 door 4 cyl AUTOMATIC VERY CLEAN INSIDE CLOTH IN...</td>\n",
       "    </tr>\n",
       "    <tr>\n",
       "      <th>3</th>\n",
       "      <td>favorite this post Brand New Toyota Avalon Floor Mats - $115 (New Britain) hide this posting unh...</td>\n",
       "      <td>favorite this post Brand New Toyota Avalon Floor Mats - $115 (New Britain) hide this posting unh...</td>\n",
       "    </tr>\n",
       "    <tr>\n",
       "      <th>4</th>\n",
       "      <td>more ads by this user QR Code Link to This Post Black w/Piano Black w/Perforated NuLuxe Seat Tri...</td>\n",
       "      <td>more ads by this user QR Code Link to This Post Black w/Piano Black w/Perforated NuLuxe Seat Tri...</td>\n",
       "    </tr>\n",
       "  </tbody>\n",
       "</table>\n",
       "</div>"
      ],
      "text/plain": [
       "                                                                                                  text  \\\n",
       "0  QR Code Link to This Post All maintenance receipts available, one owner truck. Cash sale. No tra...   \n",
       "1  0 \\nNEW YORK: Automakers reported mixed US car sales in January, with strong demand for SUVs and...   \n",
       "2  transmission: automatic   2005 Toyota Camry LE 4 door 4 cyl AUTOMATIC VERY CLEAN INSIDE CLOTH IN...   \n",
       "3  favorite this post Brand New Toyota Avalon Floor Mats - $115 (New Britain) hide this posting unh...   \n",
       "4  more ads by this user QR Code Link to This Post Black w/Piano Black w/Perforated NuLuxe Seat Tri...   \n",
       "\n",
       "                                                                                            text_clean  \n",
       "0  QR Code Link to This Post All maintenance receipts available, one owner truck. Cash sale. No tra...  \n",
       "1  0 .  NEW YORK: Automakers reported mixed US car sales in January, with strong demand for SUVs an...  \n",
       "2  transmission: automatic   2005 Toyota Camry LE 4 door 4 cyl AUTOMATIC VERY CLEAN INSIDE CLOTH IN...  \n",
       "3  favorite this post Brand New Toyota Avalon Floor Mats - $115 (New Britain) hide this posting unh...  \n",
       "4  more ads by this user QR Code Link to This Post Black w/Piano Black w/Perforated NuLuxe Seat Tri...  "
      ]
     },
     "execution_count": 49,
     "metadata": {},
     "output_type": "execute_result"
    }
   ],
   "source": [
    "pd.set_option('display.max_colwidth', 100)\n",
    "news_eng[['text', 'text_clean']].head(5)"
   ]
  },
  {
   "cell_type": "code",
   "execution_count": 50,
   "metadata": {},
   "outputs": [
    {
     "data": {
      "text/plain": [
       "\"['QR Code Link to This Post All maintenance receipts available, one owner truck. Cash sale. No trades.   6477478013', '0 .  NEW YORK: Automakers reported mixed US car sales in January, with strong demand for SUVs and pickup trucks continuing to provide a cushion in a declining overall auto market. .  Ford and Fiat Chrysler reported declines in year-over-year sales, while General Motors scored a modest increase and Toyota saw a more substantial jump. .  US car sales fell last year for the first time since the financial crisis and are projected to decline again in 2018. Still, analysts and industry executives expect US sales this year to come in above a solid 16 million vehicles amid low unemployment and strong consumer confidence. .  “US economic factors are very healthy and we’re seeing the effect in the auto industry — not just in strong demand for SUVs and pickups, but in demand for high trim versions of vehicles,” said Mark LaNeve, Ford’s vice president for US marketing. .  Ford’s J\""
      ]
     },
     "execution_count": 50,
     "metadata": {},
     "output_type": "execute_result"
    }
   ],
   "source": [
    "text = str(news_eng['text_clean'].tolist())\n",
    "#text = str(news_eng['text'].tolist())\n",
    "text[:1000]"
   ]
  },
  {
   "cell_type": "code",
   "execution_count": 51,
   "metadata": {},
   "outputs": [
    {
     "name": "stdout",
     "output_type": "stream",
     "text": [
      " TMMC builds 571,535 vehicles in 2017 to lead all Canadian automotive manufacturers 40% of Toyota vehicles sold in Canada are made in Canada , TMMC is TCI\\'s primary supplier TMMC once again a net exporter of vehicles, making a significant contribution to our economy.\n",
      "Every year, the skills and passion of more than 8,000 Canadians build Toyota vehicles at three assembly plants in Cambridge and Woodstock , supported by thousands of people across the country who supply parts and services..  \"We have a very strong partnership with TMMC and its Team Members, and each Toyota vehicle manufactured delivers the quality, dependability and reliability that our Canadian customers have come to expect,\" Hutchinson added.\n",
      "do NOT contact me with unsolicited services or offers post id: 6481378985', 'by Autocar Pro News Desk Feb 01, 2018 The Fortuner, Innova and Corolla Altis are powering Toyota sales. .\n",
      "Toyota also aims to further expand sales of hybrid electric vehicles in emerging markets to further contribute to lowering CO 2 from new vehicles sales worldwide. .\n",
      "The key drivers of new vehicle sales remain the continued elevated levels of net immigration, low costs of debt, a strong national economy and a stable government,” he says.', \"transmission: automatic QR Code Link to This Post Selling my 1995 Toyota 4 runner to the best offer...\n",
      "CPU times: user 9.87 s, sys: 453 ms, total: 10.3 s\n",
      "Wall time: 10.3 s\n"
     ]
    }
   ],
   "source": [
    "%%time\n",
    "\n",
    "phrases = 15 # Summarize based on its top N phrases\n",
    "sentences = 5 # Yielding its top K sentences\n",
    "\n",
    "doc = nlp(text)\n",
    "tr = doc._.textrank\n",
    "\n",
    "for sent in tr.summary(limit_phrases=phrases,\n",
    "                       limit_sentences=sentences):\n",
    "    print(sent)"
   ]
  },
  {
   "cell_type": "code",
   "execution_count": 52,
   "metadata": {},
   "outputs": [
    {
     "name": "stdout",
     "output_type": "stream",
     "text": [
      " TMMC builds 571,535 vehicles in 2017 to lead all Canadian automotive manufacturers 40% of Toyota vehicles sold in Canada are made in Canada , TMMC is TCI\\'s primary supplier TMMC once again a net exporter of vehicles, making a significant contribution to our economy.\n",
      "Every year, the skills and passion of more than 8,000 Canadians build Toyota vehicles at three assembly plants in Cambridge and Woodstock , supported by thousands of people across the country who supply parts and services..  \"We have a very strong partnership with TMMC and its Team Members, and each Toyota vehicle manufactured delivers the quality, dependability and reliability that our Canadian customers have come to expect,\" Hutchinson added.\n",
      "do NOT contact me with unsolicited services or offers post id: 6481378985', 'by Autocar Pro News Desk Feb 01, 2018 The Fortuner, Innova and Corolla Altis are powering Toyota sales. .\n",
      "Toyota also aims to further expand sales of hybrid electric vehicles in emerging markets to further contribute to lowering CO 2 from new vehicles sales worldwide. .\n",
      "The key drivers of new vehicle sales remain the continued elevated levels of net immigration, low costs of debt, a strong national economy and a stable government,” he says.', \"transmission: automatic QR Code Link to This Post Selling my 1995 Toyota 4 runner to the best offer...\n",
      " Toyota Australia has announced it is the founding member of a new national body called Hydrogen Mobility Australia, which aims to assist in the development and infrastructure for a clean, renewable energy future. .\n",
      "Photos', 'Hybrids – Vehicles, Battery & Hydraulic Technology Toyota Recalls Prius, Lexus RX and NX for Air Bags January 31, 2018 Print Photo of Toyota Prius courtesy of Toyota. .\n",
      "Having produced more than seven million vehicles, popular Canadian models built at these facilities include Toyota RAV4, Toyota Corolla, Lexus RX 350 and RX 450h hybrid..  SOURCE Toyota Canada Inc..  View original content with multimedia: http://www.newswire.ca/en/releases/archive/February2018/01/c4462.html.\n",
      " Deliveries climbed 16 percent for Toyota’s revamped Camry sedan and 20 percent for the RAV4, the industry’s top-selling SUV last year.\n",
      " Those two CH-R variants are smallish crossover SUVs that others, most notably Japan’s Honda Motor Co ( 7267.T ), have leveraged to grow sales significantly in China..  A Toyota spokesman said that though the 2018 sales target was not one that can be easily achieved due to the highly competitive market environment, the recent launch of a redesigned Camry sedan and the planned introduction of two subcompact SUVs later this year would enable Toyota to challenge the previous year’s numbers..  China’s overall vehicle market growth was the weakest last year in at least two decades, increasing just 3 percent year-on-year to 28.88 million vehicles, pegged back chiefly by a phasing out of tax breaks on smaller-engine cars that begun in 2017..\n",
      "Fortune also recognized Toyota as one of the Top 50 \"All-Star\" companies surveyed, moving up five spots from last year..  Fortune\\'s \"World\\'s Most Admired Companies\" list is widely acknowledged as the definitive report card on corporate reputation and is based on company surveys and industry peer ratings from senior executives, directors and industry analysts.\n",
      " Domestically, the laws amendments were already used in the 2017 Currie Cup competition after SA Rugby successfully sought special permission from World Rugby, as a result of the Toyota Cheetahs and Southern Kings joining the Guinness PRO14 competition last year. .\n",
      " \"We are very proud Toyota was, once again, the number one maker of vehicles in Canada last year,\" said Larry Hutchinson , President and CEO, Toyota Canada Inc.\n",
      " Consumers with questions may call Toyota customer service.\n",
      " Continue reading Trucks, SUVs — and Camry — shine in mixed U.S. January vehicle sales .\n",
      " Trucks, SUVs — and Camry — shine in mixed U.S. January vehicle sales originally appeared on Autoblog on Thu, 01 Feb 2018 17:00:00 EST.\n",
      "The key drivers of new vehicle sales remain the continued elevated levels of net immigration, low costs of debt, a strong national economy and a stable government.\" said Mr Crawford. .\n",
      " January 2018’s aggregate new vehicle sales in South Africa came in at 45 888 units or a decline of 8,9% year-on-year, according to Naamsa . .\n",
      "The key drivers of new vehicle sales remain the continued elevated levels of net immigration, low costs of debt, a strong national economy and a stable government.” said Mr Crawford. .\n",
      "Within the total, car sales slumped 23.3 percent, including big drops for the Fusion and Focus, but that was partially countered by increased sales of the market-leading F-Series pickups. .\n",
      "CPU times: user 9.64 s, sys: 250 ms, total: 9.89 s\n",
      "Wall time: 9.86 s\n"
     ]
    }
   ],
   "source": [
    "%%time\n",
    "\n",
    "phrases = 15 # Summarize based on its top N phrases\n",
    "sentences = 20 # Yielding its top K sentences\n",
    "\n",
    "doc = nlp(text)\n",
    "tr = doc._.textrank\n",
    "\n",
    "for sent in tr.summary(limit_phrases=phrases,\n",
    "                       limit_sentences=sentences):\n",
    "    print(sent)"
   ]
  },
  {
   "cell_type": "code",
   "execution_count": 53,
   "metadata": {},
   "outputs": [
    {
     "name": "stdout",
     "output_type": "stream",
     "text": [
      "Having produced more than seven million vehicles, popular Canadian models built at these facilities include Toyota RAV4, Toyota Corolla, Lexus RX 350 and RX 450h hybrid..  SOURCE Toyota Canada Inc..  View original content with multimedia: http://www.newswire.ca/en/releases/archive/February2018/01/c4462.html.\n",
      " \"We are very proud Toyota was, once again, the number one maker of vehicles in Canada last year,\" said Larry Hutchinson , President and CEO, Toyota Canada Inc.\n",
      " Those two CH-R variants are smallish crossover SUVs that others, most notably Japan’s Honda Motor Co ( 7267.T ), have leveraged to grow sales significantly in China..  A Toyota spokesman said that though the 2018 sales target was not one that can be easily achieved due to the highly competitive market environment, the recent launch of a redesigned Camry sedan and the planned introduction of two subcompact SUVs later this year would enable Toyota to challenge the previous year’s numbers..  China’s overall vehicle market growth was the weakest last year in at least two decades, increasing just 3 percent year-on-year to 28.88 million vehicles, pegged back chiefly by a phasing out of tax breaks on smaller-engine cars that begun in 2017..\n",
      " Toyota Kirloskar Motor has recorded robust sales growth in January 2018, selling 12,351 units which marks 19 percent year-on-year growth (January 2016: 10,336).\n",
      "CLEAN TITLE\", 'BEIJING (Reuters) - Toyota Motor Corp ( 7203.T ) aims to sell 1.4 million vehicles in China in 2018, nearly 9 percent more than it sold last year, but two insiders at the Japanese automaker said production constraints and other hurdles make it a tough target to meet..  The sales goal announced by Japan’s biggest automaker on Friday comes at a time when the world’s biggest auto market is experiencing a slowdown in overall vehicle sales growth..\n",
      " About Toyota Canada Inc..  Toyota Canada Inc. (TCI) is the exclusive Canadian distributor of Toyota and Lexus vehicles.\n",
      " The firm continued to reduce fleet sales with a 50-percent cut..  No Negatives For Toyota Toyota North America recorded a 16.8-percent total sales increase driven by a 17-percent rise in Toyota and 15-percent pop in Lexus..  The divisions posted best-ever sales in light trucks, the RAV4, 4Runner, Highlander and NX, with increases across all other segments..  \"We\\'re encouraged by the strength of the market and the momentum we have with a full calendar year of the all-new Camry, followed by the launch of the all-new Avalon in the spring,” Jack Hollis, group vice president and general manager of the Toyota division, said in a press release..  Honda Posts Record Sales American Honda set a new January sales record on a 5.9-percent year-over-year rise..\n",
      " TMMC builds 571,535 vehicles in 2017 to lead all Canadian automotive manufacturers 40% of Toyota vehicles sold in Canada are made in Canada , TMMC is TCI\\'s primary supplier TMMC once again a net exporter of vehicles, making a significant contribution to our economy.\n",
      "Every year, the skills and passion of more than 8,000 Canadians build Toyota vehicles at three assembly plants in Cambridge and Woodstock , supported by thousands of people across the country who supply parts and services..  \"We have a very strong partnership with TMMC and its Team Members, and each Toyota vehicle manufactured delivers the quality, dependability and reliability that our Canadian customers have come to expect,\" Hutchinson added.\n",
      "do NOT contact me with unsolicited services or offers post id: 6481378985', 'by Autocar Pro News Desk Feb 01, 2018 The Fortuner, Innova and Corolla Altis are powering Toyota sales. .\n",
      "Toyota also aims to further expand sales of hybrid electric vehicles in emerging markets to further contribute to lowering CO 2 from new vehicles sales worldwide. .\n",
      "The key drivers of new vehicle sales remain the continued elevated levels of net immigration, low costs of debt, a strong national economy and a stable government,” he says.', \"transmission: automatic QR Code Link to This Post Selling my 1995 Toyota 4 runner to the best offer...\n",
      " Toyota Australia has announced it is the founding member of a new national body called Hydrogen Mobility Australia, which aims to assist in the development and infrastructure for a clean, renewable energy future. .\n",
      "Photos', 'Hybrids – Vehicles, Battery & Hydraulic Technology Toyota Recalls Prius, Lexus RX and NX for Air Bags January 31, 2018 Print Photo of Toyota Prius courtesy of Toyota. .\n",
      " Deliveries climbed 16 percent for Toyota’s revamped Camry sedan and 20 percent for the RAV4, the industry’s top-selling SUV last year.\n",
      "Fortune also recognized Toyota as one of the Top 50 \"All-Star\" companies surveyed, moving up five spots from last year..  Fortune\\'s \"World\\'s Most Admired Companies\" list is widely acknowledged as the definitive report card on corporate reputation and is based on company surveys and industry peer ratings from senior executives, directors and industry analysts.\n",
      " Domestically, the laws amendments were already used in the 2017 Currie Cup competition after SA Rugby successfully sought special permission from World Rugby, as a result of the Toyota Cheetahs and Southern Kings joining the Guinness PRO14 competition last year. .\n",
      " Consumers with questions may call Toyota customer service.\n",
      " January 2018’s aggregate new vehicle sales in South Africa came in at 45 888 units or a decline of 8,9% year-on-year, according to Naamsa . .\n",
      "Also included with all Lexus and Toyota Vehicles unless certified, 3 synthetic oil changes, filter and inspection are included.\n",
      "CPU times: user 9.47 s, sys: 133 ms, total: 9.6 s\n",
      "Wall time: 9.59 s\n"
     ]
    }
   ],
   "source": [
    "%%time\n",
    "\n",
    "phrases = 50 # Summarize based on its top N phrases\n",
    "sentences = 20 # Yielding its top K sentences\n",
    "\n",
    "doc = nlp(text)\n",
    "tr = doc._.textrank\n",
    "\n",
    "for sent in tr.summary(limit_phrases=phrases,\n",
    "                       limit_sentences=sentences):\n",
    "    print(sent)"
   ]
  },
  {
   "cell_type": "code",
   "execution_count": null,
   "metadata": {},
   "outputs": [],
   "source": []
  },
  {
   "cell_type": "code",
   "execution_count": null,
   "metadata": {},
   "outputs": [],
   "source": []
  },
  {
   "cell_type": "code",
   "execution_count": null,
   "metadata": {},
   "outputs": [],
   "source": []
  },
  {
   "cell_type": "code",
   "execution_count": 54,
   "metadata": {},
   "outputs": [
    {
     "data": {
      "text/plain": [
       "'Sun, 30 October 2022 12:29:31'"
      ]
     },
     "execution_count": 54,
     "metadata": {},
     "output_type": "execute_result"
    }
   ],
   "source": [
    "import datetime\n",
    "import pytz\n",
    "\n",
    "datetime.datetime.now(pytz.timezone('US/Central')).strftime(\"%a, %d %B %Y %H:%M:%S\")"
   ]
  }
 ],
 "metadata": {
  "environment": {
   "kernel": "python3",
   "name": "tf2-cpu.2-11.m106",
   "type": "gcloud",
   "uri": "gcr.io/deeplearning-platform-release/tf2-cpu.2-11:m106"
  },
  "kernelspec": {
   "display_name": "Python 3",
   "language": "python",
   "name": "python3"
  },
  "language_info": {
   "codemirror_mode": {
    "name": "ipython",
    "version": 3
   },
   "file_extension": ".py",
   "mimetype": "text/x-python",
   "name": "python",
   "nbconvert_exporter": "python",
   "pygments_lexer": "ipython3",
   "version": "3.7.12"
  }
 },
 "nbformat": 4,
 "nbformat_minor": 4
}
