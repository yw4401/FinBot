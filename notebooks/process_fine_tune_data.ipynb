{
 "cells": [
  {
   "cell_type": "code",
   "execution_count": 1,
   "id": "05254a1f-ff99-44da-839d-12d0976b3fbc",
   "metadata": {},
   "outputs": [],
   "source": [
    "import os\n",
    "import pandas as pd"
   ]
  },
  {
   "cell_type": "code",
   "execution_count": 2,
   "id": "4be4361d-89d3-4d82-8620-425c95d58afc",
   "metadata": {},
   "outputs": [
    {
     "data": {
      "text/html": [
       "<div>\n",
       "<style scoped>\n",
       "    .dataframe tbody tr th:only-of-type {\n",
       "        vertical-align: middle;\n",
       "    }\n",
       "\n",
       "    .dataframe tbody tr th {\n",
       "        vertical-align: top;\n",
       "    }\n",
       "\n",
       "    .dataframe thead th {\n",
       "        text-align: right;\n",
       "    }\n",
       "</style>\n",
       "<table border=\"1\" class=\"dataframe\">\n",
       "  <thead>\n",
       "    <tr style=\"text-align: right;\">\n",
       "      <th></th>\n",
       "      <th>source</th>\n",
       "      <th>id</th>\n",
       "      <th>category</th>\n",
       "      <th>title</th>\n",
       "      <th>published</th>\n",
       "      <th>body</th>\n",
       "      <th>summary</th>\n",
       "      <th>summary_type</th>\n",
       "    </tr>\n",
       "  </thead>\n",
       "  <tbody>\n",
       "    <tr>\n",
       "      <th>0</th>\n",
       "      <td>reuters</td>\n",
       "      <td>29667</td>\n",
       "      <td>Europe</td>\n",
       "      <td>European shares rise on upbeat cues from Powel...</td>\n",
       "      <td>2023-02-08T17:11:00</td>\n",
       "      <td>Feb 8 (Reuters) - European shares rose on Wedn...</td>\n",
       "      <td>* \\n* STOXX 600 pulls back from 9-mth high to ...</td>\n",
       "      <td>BULLETS</td>\n",
       "    </tr>\n",
       "    <tr>\n",
       "      <th>1</th>\n",
       "      <td>reuters</td>\n",
       "      <td>79619</td>\n",
       "      <td>China</td>\n",
       "      <td>China Evergrande debt restructuring incentive ...</td>\n",
       "      <td>2023-04-27T06:05:00</td>\n",
       "      <td>HONG KONG, April 27 (Reuters) - Embattled prop...</td>\n",
       "      <td></td>\n",
       "      <td>NULL</td>\n",
       "    </tr>\n",
       "    <tr>\n",
       "      <th>2</th>\n",
       "      <td>reuters</td>\n",
       "      <td>48010</td>\n",
       "      <td>European Markets</td>\n",
       "      <td>European stocks rally as banking worries fade</td>\n",
       "      <td>2023-03-30T16:27:00</td>\n",
       "      <td>March 30 (Reuters) - European stocks rose to n...</td>\n",
       "      <td>* \\n* H&amp;M posts surprise profit in Dec-Feb\\n* ...</td>\n",
       "      <td>BULLETS</td>\n",
       "    </tr>\n",
       "    <tr>\n",
       "      <th>3</th>\n",
       "      <td>reuters</td>\n",
       "      <td>67859</td>\n",
       "      <td>Aerospace &amp; Defense</td>\n",
       "      <td>China gears up to compete with SpaceX's Starli...</td>\n",
       "      <td>2023-03-02T10:29:00</td>\n",
       "      <td>BEIJING, March 2 (Reuters) - China's military-...</td>\n",
       "      <td></td>\n",
       "      <td>NULL</td>\n",
       "    </tr>\n",
       "    <tr>\n",
       "      <th>4</th>\n",
       "      <td>reuters</td>\n",
       "      <td>109054</td>\n",
       "      <td>World</td>\n",
       "      <td>Russia's war on Ukraine latest: Moscow denies ...</td>\n",
       "      <td>2023-05-12T05:13:00</td>\n",
       "      <td>May 11 (Reuters) - Russia's defence ministry o...</td>\n",
       "      <td></td>\n",
       "      <td>NULL</td>\n",
       "    </tr>\n",
       "  </tbody>\n",
       "</table>\n",
       "</div>"
      ],
      "text/plain": [
       "    source      id             category  \\\n",
       "0  reuters   29667               Europe   \n",
       "1  reuters   79619                China   \n",
       "2  reuters   48010     European Markets   \n",
       "3  reuters   67859  Aerospace & Defense   \n",
       "4  reuters  109054                World   \n",
       "\n",
       "                                               title            published  \\\n",
       "0  European shares rise on upbeat cues from Powel...  2023-02-08T17:11:00   \n",
       "1  China Evergrande debt restructuring incentive ...  2023-04-27T06:05:00   \n",
       "2      European stocks rally as banking worries fade  2023-03-30T16:27:00   \n",
       "3  China gears up to compete with SpaceX's Starli...  2023-03-02T10:29:00   \n",
       "4  Russia's war on Ukraine latest: Moscow denies ...  2023-05-12T05:13:00   \n",
       "\n",
       "                                                body  \\\n",
       "0  Feb 8 (Reuters) - European shares rose on Wedn...   \n",
       "1  HONG KONG, April 27 (Reuters) - Embattled prop...   \n",
       "2  March 30 (Reuters) - European stocks rose to n...   \n",
       "3  BEIJING, March 2 (Reuters) - China's military-...   \n",
       "4  May 11 (Reuters) - Russia's defence ministry o...   \n",
       "\n",
       "                                             summary summary_type  \n",
       "0  * \\n* STOXX 600 pulls back from 9-mth high to ...      BULLETS  \n",
       "1                                                            NULL  \n",
       "2  * \\n* H&M posts surprise profit in Dec-Feb\\n* ...      BULLETS  \n",
       "3                                                            NULL  \n",
       "4                                                            NULL  "
      ]
     },
     "execution_count": 2,
     "metadata": {},
     "output_type": "execute_result"
    }
   ],
   "source": [
    "article_df = pd.read_parquet(\"gs://scraped-news-article-data-null/2023-coref.parquet\")\n",
    "article_df.head()"
   ]
  },
  {
   "cell_type": "code",
   "execution_count": 6,
   "id": "bef75693-c69a-4801-b11c-5663ed601f4e",
   "metadata": {},
   "outputs": [
    {
     "data": {
      "text/plain": [
       "61921"
      ]
     },
     "execution_count": 6,
     "metadata": {},
     "output_type": "execute_result"
    }
   ],
   "source": [
    "len(article_df.index)"
   ]
  },
  {
   "cell_type": "code",
   "execution_count": 3,
   "id": "25857726-4810-47d7-b3c0-3df5c018c490",
   "metadata": {},
   "outputs": [],
   "source": [
    "import json"
   ]
  },
  {
   "cell_type": "code",
   "execution_count": 4,
   "id": "2b23a9d3-aaf8-4039-984e-09217fe9be3a",
   "metadata": {},
   "outputs": [],
   "source": [
    "result = []\n",
    "counter = 1\n",
    "\n",
    "for index, r, *l in article_df.iterrows():\n",
    "    if r.summary_type == \"NULL\":\n",
    "        continue\n",
    "    if r.summary_type == \"BULLETS\":\n",
    "        human = \"summarize the keypoints from following article in bullet points. Ensure that the keypoints read well.\\n\"\n",
    "    if r.summary_type == \"PLAIN\":\n",
    "        human = \"summarize the following article. Ensure that the keypoints read well.\\n\"\n",
    "        \n",
    "    human = human + r.body\n",
    "    gpt = str(r.summary)\n",
    "    \n",
    "    conversation = [\n",
    "        {\"from\": \"human\", \"value\": human},\n",
    "        {\"from\": \"gpt\", \"value\": gpt}\n",
    "    ]\n",
    "    \n",
    "    output_dict = {\n",
    "        \"id\": counter,\n",
    "        \"conversations\": conversation\n",
    "    }\n",
    "    result.append(output_dict)\n",
    "    counter = counter + 1\n"
   ]
  },
  {
   "cell_type": "code",
   "execution_count": 5,
   "id": "55f76512-6ef5-403f-bf04-4e3ffd0cf64b",
   "metadata": {},
   "outputs": [],
   "source": [
    "with open(\"/home/jupyter/fine_tune.json\", \"w\") as fp:\n",
    "    json.dump(fp=fp, obj=result)"
   ]
  },
  {
   "cell_type": "code",
   "execution_count": null,
   "id": "003b7707-0f28-4505-a836-763e1efe4211",
   "metadata": {},
   "outputs": [],
   "source": []
  }
 ],
 "metadata": {
  "environment": {
   "kernel": "python3",
   "name": "common-cu110.m108",
   "type": "gcloud",
   "uri": "gcr.io/deeplearning-platform-release/base-cu110:m108"
  },
  "kernelspec": {
   "display_name": "Python 3",
   "language": "python",
   "name": "python3"
  },
  "language_info": {
   "codemirror_mode": {
    "name": "ipython",
    "version": 3
   },
   "file_extension": ".py",
   "mimetype": "text/x-python",
   "name": "python",
   "nbconvert_exporter": "python",
   "pygments_lexer": "ipython3",
   "version": "3.7.12"
  }
 },
 "nbformat": 4,
 "nbformat_minor": 5
}
