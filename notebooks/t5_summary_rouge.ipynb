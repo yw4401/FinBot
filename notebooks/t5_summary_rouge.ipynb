{
 "cells": [
  {
   "cell_type": "code",
   "execution_count": 1,
   "id": "d2e586a2-aa5e-4b00-baae-95a85c53ea50",
   "metadata": {},
   "outputs": [
    {
     "name": "stdout",
     "output_type": "stream",
     "text": [
      "INFO: Pandarallel will run on 6 workers.\n",
      "INFO: Pandarallel will use Memory file system to transfer data between the main process and workers.\n"
     ]
    }
   ],
   "source": [
    "import pandas as pd\n",
    "from pandarallel import pandarallel\n",
    "from evaluate import load\n",
    "\n",
    "pandarallel.initialize(progress_bar=True)"
   ]
  },
  {
   "cell_type": "code",
   "execution_count": 2,
   "id": "c25b329b-796e-44c3-9e89-950ab1e091af",
   "metadata": {},
   "outputs": [
    {
     "data": {
      "text/plain": "                                                body  \\\n0  Published: 2022-12-16\\nPARIS, Dec 16 (Reuters)...   \n1  Published: 2023-10-25\\n## In this article\\nFol...   \n2  Published: 2023-10-02\\n\"In mitigating climate ...   \n3  Published: 2023-10-18\\nA report published Tues...   \n4  Published: 2022-03-04\\nMeanwhile, a new law th...   \n\n                  published  \\\n0 2022-12-16 15:39:00+00:00   \n1 2023-10-25 20:12:41+00:00   \n2 2023-10-02 11:54:30+00:00   \n3 2023-10-18 19:49:14+00:00   \n4 2022-03-04 18:46:53+00:00   \n\n                                            question  \\\n0  How are French, German, and Polish crops expec...   \n1           What caused the surge in Endeavor stock?   \n2  What specific climate criticisms and accusatio...   \n3  Which specific projects or companies will rece...   \n4  What were the reasons cited by Russia for bloc...   \n\n                                             summary  \\\n0  French crops predicted to withstand wintry wea...   \n1  Silver Lake's interest in taking Endeavor priv...   \n2        Impossible to answer with given information   \n3        Impossible to answer with given information   \n4  Russia blocks Meta-owned Facebook amid invasio...   \n\n                                           predicted  \n0  Wintry weather poses minimal risk to French, G...  \n1  Endeavor stock surges as major shareholder Sil...  \n2        Impossible to answer with given information  \n3        Impossible to answer with given information  \n4  Russia blocks Meta-owned Facebook in the count...  ",
      "text/html": "<div>\n<style scoped>\n    .dataframe tbody tr th:only-of-type {\n        vertical-align: middle;\n    }\n\n    .dataframe tbody tr th {\n        vertical-align: top;\n    }\n\n    .dataframe thead th {\n        text-align: right;\n    }\n</style>\n<table border=\"1\" class=\"dataframe\">\n  <thead>\n    <tr style=\"text-align: right;\">\n      <th></th>\n      <th>body</th>\n      <th>published</th>\n      <th>question</th>\n      <th>summary</th>\n      <th>predicted</th>\n    </tr>\n  </thead>\n  <tbody>\n    <tr>\n      <th>0</th>\n      <td>Published: 2022-12-16\\nPARIS, Dec 16 (Reuters)...</td>\n      <td>2022-12-16 15:39:00+00:00</td>\n      <td>How are French, German, and Polish crops expec...</td>\n      <td>French crops predicted to withstand wintry wea...</td>\n      <td>Wintry weather poses minimal risk to French, G...</td>\n    </tr>\n    <tr>\n      <th>1</th>\n      <td>Published: 2023-10-25\\n## In this article\\nFol...</td>\n      <td>2023-10-25 20:12:41+00:00</td>\n      <td>What caused the surge in Endeavor stock?</td>\n      <td>Silver Lake's interest in taking Endeavor priv...</td>\n      <td>Endeavor stock surges as major shareholder Sil...</td>\n    </tr>\n    <tr>\n      <th>2</th>\n      <td>Published: 2023-10-02\\n\"In mitigating climate ...</td>\n      <td>2023-10-02 11:54:30+00:00</td>\n      <td>What specific climate criticisms and accusatio...</td>\n      <td>Impossible to answer with given information</td>\n      <td>Impossible to answer with given information</td>\n    </tr>\n    <tr>\n      <th>3</th>\n      <td>Published: 2023-10-18\\nA report published Tues...</td>\n      <td>2023-10-18 19:49:14+00:00</td>\n      <td>Which specific projects or companies will rece...</td>\n      <td>Impossible to answer with given information</td>\n      <td>Impossible to answer with given information</td>\n    </tr>\n    <tr>\n      <th>4</th>\n      <td>Published: 2022-03-04\\nMeanwhile, a new law th...</td>\n      <td>2022-03-04 18:46:53+00:00</td>\n      <td>What were the reasons cited by Russia for bloc...</td>\n      <td>Russia blocks Meta-owned Facebook amid invasio...</td>\n      <td>Russia blocks Meta-owned Facebook in the count...</td>\n    </tr>\n  </tbody>\n</table>\n</div>"
     },
     "execution_count": 2,
     "metadata": {},
     "output_type": "execute_result"
    }
   ],
   "source": [
    "df = pd.read_parquet('gs://scraped-news-article-data-null/mistral-sum-test-predicted.parquet')\n",
    "df[\"predicted\"] = df.predicted.str.strip()\n",
    "df.head()"
   ]
  },
  {
   "cell_type": "code",
   "execution_count": 3,
   "id": "6a144be4-dc28-4cda-8004-36429d0bfc1e",
   "metadata": {},
   "outputs": [
    {
     "name": "stdout",
     "output_type": "stream",
     "text": [
      "              precision    recall  f1-score   support\n",
      "\n",
      "       False       0.95      0.94      0.94       985\n",
      "        True       0.94      0.95      0.95      1093\n",
      "\n",
      "    accuracy                           0.94      2078\n",
      "   macro avg       0.94      0.94      0.94      2078\n",
      "weighted avg       0.94      0.94      0.94      2078\n",
      "\n"
     ]
    }
   ],
   "source": [
    "from sklearn.metrics import classification_report\n",
    "\n",
    "df[\"y\"] = False\n",
    "df[\"y_hat\"] = False\n",
    "df.loc[df.summary.str.contains(\"Impossible\", case=False), \"y\"] = True\n",
    "df[\"y\"] = df.y.fillna(False)\n",
    "df.loc[df.predicted.str.contains(\"Impossible\", case=False), \"y_hat\"] = True\n",
    "df[\"y_hat\"] = df.y_hat.fillna(False)\n",
    "print(classification_report(df.y, df.y_hat))"
   ]
  },
  {
   "cell_type": "code",
   "execution_count": 4,
   "id": "24c7a3d4-9cd8-492c-af1e-a5ce95b7ded2",
   "metadata": {},
   "outputs": [
    {
     "data": {
      "text/plain": "                                                   body  \\\n0     Published: 2022-12-16\\nPARIS, Dec 16 (Reuters)...   \n1     Published: 2023-10-25\\n## In this article\\nFol...   \n2     Published: 2023-10-02\\n\"In mitigating climate ...   \n3     Published: 2023-10-18\\nA report published Tues...   \n4     Published: 2022-03-04\\nMeanwhile, a new law th...   \n...                                                 ...   \n2073  Published: 2022-07-03\\nALMATY, July 3 (Reuters...   \n2074  Published: 2022-11-21\\nNEW YORK, Nov 21 (Reute...   \n2075  Published: 2022-03-08\\n## In this article\\nFol...   \n2076  Published: 2023-10-18\\nAnalyst Jos Versteeg of...   \n2077  Published: 2022-12-28\\nTravelers from China wi...   \n\n                     published  \\\n0    2022-12-16 15:39:00+00:00   \n1    2023-10-25 20:12:41+00:00   \n2    2023-10-02 11:54:30+00:00   \n3    2023-10-18 19:49:14+00:00   \n4    2022-03-04 18:46:53+00:00   \n...                        ...   \n2073 2017-09-01 12:35:39+00:00   \n2074 2023-04-19 19:37:40+00:00   \n2075 2020-04-07 20:14:20+00:00   \n2076 2022-07-13 23:57:39+00:00   \n2077 2023-01-23 05:03:00+00:00   \n\n                                               question  \\\n0     How are French, German, and Polish crops expec...   \n1              What caused the surge in Endeavor stock?   \n2     What specific climate criticisms and accusatio...   \n3     Which specific projects or companies will rece...   \n4     What were the reasons cited by Russia for bloc...   \n...                                                 ...   \n2073  What types of products are recommended to shop...   \n2074  How will the defamation lawsuits filed against...   \n2075  How many paying customers does Google's G Suit...   \n2076  How are the wildfires in Portugal and Spain af...   \n2077  What are some potential implications of the Eu...   \n\n                                                summary  \\\n0     French crops predicted to withstand wintry wea...   \n1     Silver Lake's interest in taking Endeavor priv...   \n2           Impossible to answer with given information   \n3           Impossible to answer with given information   \n4     Russia blocks Meta-owned Facebook amid invasio...   \n...                                                 ...   \n2073        Impossible to answer with given information   \n2074        Impossible to answer with given information   \n2075        Impossible to answer with given information   \n2076        Impossible to answer with given information   \n2077        Impossible to answer with given information   \n\n                                              predicted      y  y_hat  \n0     Wintry weather poses minimal risk to French, G...  False  False  \n1     Endeavor stock surges as major shareholder Sil...  False  False  \n2           Impossible to answer with given information   True   True  \n3           Impossible to answer with given information   True   True  \n4     Russia blocks Meta-owned Facebook in the count...  False  False  \n...                                                 ...    ...    ...  \n2073        Impossible to answer with given information   True   True  \n2074        Impossible to answer with given information   True   True  \n2075        Impossible to answer with given information   True   True  \n2076        Impossible to answer with given information   True   True  \n2077        Impossible to answer with given information   True   True  \n\n[2078 rows x 7 columns]",
      "text/html": "<div>\n<style scoped>\n    .dataframe tbody tr th:only-of-type {\n        vertical-align: middle;\n    }\n\n    .dataframe tbody tr th {\n        vertical-align: top;\n    }\n\n    .dataframe thead th {\n        text-align: right;\n    }\n</style>\n<table border=\"1\" class=\"dataframe\">\n  <thead>\n    <tr style=\"text-align: right;\">\n      <th></th>\n      <th>body</th>\n      <th>published</th>\n      <th>question</th>\n      <th>summary</th>\n      <th>predicted</th>\n      <th>y</th>\n      <th>y_hat</th>\n    </tr>\n  </thead>\n  <tbody>\n    <tr>\n      <th>0</th>\n      <td>Published: 2022-12-16\\nPARIS, Dec 16 (Reuters)...</td>\n      <td>2022-12-16 15:39:00+00:00</td>\n      <td>How are French, German, and Polish crops expec...</td>\n      <td>French crops predicted to withstand wintry wea...</td>\n      <td>Wintry weather poses minimal risk to French, G...</td>\n      <td>False</td>\n      <td>False</td>\n    </tr>\n    <tr>\n      <th>1</th>\n      <td>Published: 2023-10-25\\n## In this article\\nFol...</td>\n      <td>2023-10-25 20:12:41+00:00</td>\n      <td>What caused the surge in Endeavor stock?</td>\n      <td>Silver Lake's interest in taking Endeavor priv...</td>\n      <td>Endeavor stock surges as major shareholder Sil...</td>\n      <td>False</td>\n      <td>False</td>\n    </tr>\n    <tr>\n      <th>2</th>\n      <td>Published: 2023-10-02\\n\"In mitigating climate ...</td>\n      <td>2023-10-02 11:54:30+00:00</td>\n      <td>What specific climate criticisms and accusatio...</td>\n      <td>Impossible to answer with given information</td>\n      <td>Impossible to answer with given information</td>\n      <td>True</td>\n      <td>True</td>\n    </tr>\n    <tr>\n      <th>3</th>\n      <td>Published: 2023-10-18\\nA report published Tues...</td>\n      <td>2023-10-18 19:49:14+00:00</td>\n      <td>Which specific projects or companies will rece...</td>\n      <td>Impossible to answer with given information</td>\n      <td>Impossible to answer with given information</td>\n      <td>True</td>\n      <td>True</td>\n    </tr>\n    <tr>\n      <th>4</th>\n      <td>Published: 2022-03-04\\nMeanwhile, a new law th...</td>\n      <td>2022-03-04 18:46:53+00:00</td>\n      <td>What were the reasons cited by Russia for bloc...</td>\n      <td>Russia blocks Meta-owned Facebook amid invasio...</td>\n      <td>Russia blocks Meta-owned Facebook in the count...</td>\n      <td>False</td>\n      <td>False</td>\n    </tr>\n    <tr>\n      <th>...</th>\n      <td>...</td>\n      <td>...</td>\n      <td>...</td>\n      <td>...</td>\n      <td>...</td>\n      <td>...</td>\n      <td>...</td>\n    </tr>\n    <tr>\n      <th>2073</th>\n      <td>Published: 2022-07-03\\nALMATY, July 3 (Reuters...</td>\n      <td>2017-09-01 12:35:39+00:00</td>\n      <td>What types of products are recommended to shop...</td>\n      <td>Impossible to answer with given information</td>\n      <td>Impossible to answer with given information</td>\n      <td>True</td>\n      <td>True</td>\n    </tr>\n    <tr>\n      <th>2074</th>\n      <td>Published: 2022-11-21\\nNEW YORK, Nov 21 (Reute...</td>\n      <td>2023-04-19 19:37:40+00:00</td>\n      <td>How will the defamation lawsuits filed against...</td>\n      <td>Impossible to answer with given information</td>\n      <td>Impossible to answer with given information</td>\n      <td>True</td>\n      <td>True</td>\n    </tr>\n    <tr>\n      <th>2075</th>\n      <td>Published: 2022-03-08\\n## In this article\\nFol...</td>\n      <td>2020-04-07 20:14:20+00:00</td>\n      <td>How many paying customers does Google's G Suit...</td>\n      <td>Impossible to answer with given information</td>\n      <td>Impossible to answer with given information</td>\n      <td>True</td>\n      <td>True</td>\n    </tr>\n    <tr>\n      <th>2076</th>\n      <td>Published: 2023-10-18\\nAnalyst Jos Versteeg of...</td>\n      <td>2022-07-13 23:57:39+00:00</td>\n      <td>How are the wildfires in Portugal and Spain af...</td>\n      <td>Impossible to answer with given information</td>\n      <td>Impossible to answer with given information</td>\n      <td>True</td>\n      <td>True</td>\n    </tr>\n    <tr>\n      <th>2077</th>\n      <td>Published: 2022-12-28\\nTravelers from China wi...</td>\n      <td>2023-01-23 05:03:00+00:00</td>\n      <td>What are some potential implications of the Eu...</td>\n      <td>Impossible to answer with given information</td>\n      <td>Impossible to answer with given information</td>\n      <td>True</td>\n      <td>True</td>\n    </tr>\n  </tbody>\n</table>\n<p>2078 rows × 7 columns</p>\n</div>"
     },
     "execution_count": 4,
     "metadata": {},
     "output_type": "execute_result"
    }
   ],
   "source": [
    "df"
   ]
  },
  {
   "cell_type": "code",
   "execution_count": 5,
   "id": "4ae1cc55-11df-457f-8bbc-d0e0d3b30d71",
   "metadata": {},
   "outputs": [
    {
     "name": "stderr",
     "output_type": "stream",
     "text": [
      "[nltk_data] Downloading package punkt to /home/sdai/nltk_data...\n",
      "[nltk_data]   Package punkt is already up-to-date!\n",
      "[nltk_data] Downloading package wordnet to /home/sdai/nltk_data...\n",
      "[nltk_data]   Package wordnet is already up-to-date!\n",
      "[nltk_data] Downloading package stopwords to /home/sdai/nltk_data...\n",
      "[nltk_data]   Package stopwords is already up-to-date!\n"
     ]
    },
    {
     "data": {
      "text/plain": "VBox(children=(HBox(children=(IntProgress(value=0, description='0.00%', max=154), Label(value='0 / 154'))), HB…",
      "application/vnd.jupyter.widget-view+json": {
       "version_major": 2,
       "version_minor": 0,
       "model_id": "4b3c87b7e7714df08e88f2727417446b"
      }
     },
     "metadata": {},
     "output_type": "display_data"
    },
    {
     "data": {
      "text/plain": "    rouge1   rouge2   rougeL  rougeLsum\n0  46.3415  12.5000  26.8293    26.8293\n1  59.3407  31.4607  50.5495    50.5495\n2  44.6809  19.5652  31.9149    38.2979\n3  45.0000  25.6410  32.5000    35.0000\n4  50.4673  26.6667  41.1215    41.1215",
      "text/html": "<div>\n<style scoped>\n    .dataframe tbody tr th:only-of-type {\n        vertical-align: middle;\n    }\n\n    .dataframe tbody tr th {\n        vertical-align: top;\n    }\n\n    .dataframe thead th {\n        text-align: right;\n    }\n</style>\n<table border=\"1\" class=\"dataframe\">\n  <thead>\n    <tr style=\"text-align: right;\">\n      <th></th>\n      <th>rouge1</th>\n      <th>rouge2</th>\n      <th>rougeL</th>\n      <th>rougeLsum</th>\n    </tr>\n  </thead>\n  <tbody>\n    <tr>\n      <th>0</th>\n      <td>46.3415</td>\n      <td>12.5000</td>\n      <td>26.8293</td>\n      <td>26.8293</td>\n    </tr>\n    <tr>\n      <th>1</th>\n      <td>59.3407</td>\n      <td>31.4607</td>\n      <td>50.5495</td>\n      <td>50.5495</td>\n    </tr>\n    <tr>\n      <th>2</th>\n      <td>44.6809</td>\n      <td>19.5652</td>\n      <td>31.9149</td>\n      <td>38.2979</td>\n    </tr>\n    <tr>\n      <th>3</th>\n      <td>45.0000</td>\n      <td>25.6410</td>\n      <td>32.5000</td>\n      <td>35.0000</td>\n    </tr>\n    <tr>\n      <th>4</th>\n      <td>50.4673</td>\n      <td>26.6667</td>\n      <td>41.1215</td>\n      <td>41.1215</td>\n    </tr>\n  </tbody>\n</table>\n</div>"
     },
     "execution_count": 5,
     "metadata": {},
     "output_type": "execute_result"
    }
   ],
   "source": [
    "import finetune.config as config\n",
    "from finetune.common import create_summarization_metrics\n",
    "\n",
    "_, rouge_metric, _ = create_summarization_metrics(None, None)\n",
    "pure_df = df.loc[(~df.summary.str.contains(\"Impossible\", case=False)) &\n",
    "                 (~df.predicted.str.contains(\"Impossible\", case=False))]\n",
    "rouge_results = pure_df.parallel_apply(lambda row: rouge_metric([row[\"summary\"]], [row[\"predicted\"]]), axis=1)\n",
    "rouge_results = pd.DataFrame(rouge_results.tolist())\n",
    "rouge_results.head()"
   ]
  },
  {
   "cell_type": "code",
   "execution_count": 6,
   "id": "5e5c9cd9-9c5c-4d82-a6df-fcd998fcf8b3",
   "metadata": {},
   "outputs": [],
   "source": [
    "rouge_results.to_excel('gs://scraped-news-article-data-null/mistral-sum-rouge.xlsx')"
   ]
  },
  {
   "cell_type": "code",
   "execution_count": 7,
   "outputs": [
    {
     "data": {
      "text/plain": "                                                body  \\\n0  Published: 2022-12-16\\nPARIS, Dec 16 (Reuters)...   \n1  Published: 2023-10-25\\n## In this article\\nFol...   \n2  Published: 2023-10-02\\n\"In mitigating climate ...   \n3  Published: 2023-10-18\\nA report published Tues...   \n4  Published: 2022-03-04\\nMeanwhile, a new law th...   \n\n                  published  \\\n0 2022-12-16 15:39:00+00:00   \n1 2023-10-25 20:12:41+00:00   \n2 2023-10-02 11:54:30+00:00   \n3 2023-10-18 19:49:14+00:00   \n4 2022-03-04 18:46:53+00:00   \n\n                                            question  \\\n0  How are French, German, and Polish crops expec...   \n1           What caused the surge in Endeavor stock?   \n2  What specific climate criticisms and accusatio...   \n3  Which specific projects or companies will rece...   \n4  What were the reasons cited by Russia for bloc...   \n\n                                             summary  \\\n0  French crops predicted to withstand wintry wea...   \n1  Silver Lake's interest in taking Endeavor priv...   \n2        Impossible to answer with given information   \n3        Impossible to answer with given information   \n4  Russia blocks Meta-owned Facebook amid invasio...   \n\n                                           predicted  \n0  Wintry weather in France, Germany, and Poland ...  \n1  Endeavor stock surges after Silver Lake expres...  \n2        Impossible to answer with given information  \n3        Impossible to answer with given information  \n4  Russia blocks Meta-owned Facebook in the count...  ",
      "text/html": "<div>\n<style scoped>\n    .dataframe tbody tr th:only-of-type {\n        vertical-align: middle;\n    }\n\n    .dataframe tbody tr th {\n        vertical-align: top;\n    }\n\n    .dataframe thead th {\n        text-align: right;\n    }\n</style>\n<table border=\"1\" class=\"dataframe\">\n  <thead>\n    <tr style=\"text-align: right;\">\n      <th></th>\n      <th>body</th>\n      <th>published</th>\n      <th>question</th>\n      <th>summary</th>\n      <th>predicted</th>\n    </tr>\n  </thead>\n  <tbody>\n    <tr>\n      <th>0</th>\n      <td>Published: 2022-12-16\\nPARIS, Dec 16 (Reuters)...</td>\n      <td>2022-12-16 15:39:00+00:00</td>\n      <td>How are French, German, and Polish crops expec...</td>\n      <td>French crops predicted to withstand wintry wea...</td>\n      <td>Wintry weather in France, Germany, and Poland ...</td>\n    </tr>\n    <tr>\n      <th>1</th>\n      <td>Published: 2023-10-25\\n## In this article\\nFol...</td>\n      <td>2023-10-25 20:12:41+00:00</td>\n      <td>What caused the surge in Endeavor stock?</td>\n      <td>Silver Lake's interest in taking Endeavor priv...</td>\n      <td>Endeavor stock surges after Silver Lake expres...</td>\n    </tr>\n    <tr>\n      <th>2</th>\n      <td>Published: 2023-10-02\\n\"In mitigating climate ...</td>\n      <td>2023-10-02 11:54:30+00:00</td>\n      <td>What specific climate criticisms and accusatio...</td>\n      <td>Impossible to answer with given information</td>\n      <td>Impossible to answer with given information</td>\n    </tr>\n    <tr>\n      <th>3</th>\n      <td>Published: 2023-10-18\\nA report published Tues...</td>\n      <td>2023-10-18 19:49:14+00:00</td>\n      <td>Which specific projects or companies will rece...</td>\n      <td>Impossible to answer with given information</td>\n      <td>Impossible to answer with given information</td>\n    </tr>\n    <tr>\n      <th>4</th>\n      <td>Published: 2022-03-04\\nMeanwhile, a new law th...</td>\n      <td>2022-03-04 18:46:53+00:00</td>\n      <td>What were the reasons cited by Russia for bloc...</td>\n      <td>Russia blocks Meta-owned Facebook amid invasio...</td>\n      <td>Russia blocks Meta-owned Facebook in the count...</td>\n    </tr>\n  </tbody>\n</table>\n</div>"
     },
     "execution_count": 7,
     "metadata": {},
     "output_type": "execute_result"
    }
   ],
   "source": [
    "df = pd.read_parquet('gs://scraped-news-article-data-null/mistral-sum-3-test-predicted.parquet')\n",
    "df[\"predicted\"] = df.predicted.str.strip()\n",
    "df.head()"
   ],
   "metadata": {
    "collapsed": false
   }
  },
  {
   "cell_type": "code",
   "execution_count": 8,
   "outputs": [
    {
     "name": "stdout",
     "output_type": "stream",
     "text": [
      "              precision    recall  f1-score   support\n",
      "\n",
      "       False       0.94      0.94      0.94       985\n",
      "        True       0.94      0.95      0.95      1093\n",
      "\n",
      "    accuracy                           0.94      2078\n",
      "   macro avg       0.94      0.94      0.94      2078\n",
      "weighted avg       0.94      0.94      0.94      2078\n",
      "\n"
     ]
    }
   ],
   "source": [
    "df[\"y\"] = False\n",
    "df[\"y_hat\"] = False\n",
    "df.loc[df.summary.str.contains(\"Impossible\", case=False), \"y\"] = True\n",
    "df[\"y\"] = df.y.fillna(False)\n",
    "df.loc[df.predicted.str.contains(\"Impossible\", case=False), \"y_hat\"] = True\n",
    "df[\"y_hat\"] = df.y_hat.fillna(False)\n",
    "print(classification_report(df.y, df.y_hat))"
   ],
   "metadata": {
    "collapsed": false
   }
  },
  {
   "cell_type": "code",
   "execution_count": 9,
   "outputs": [
    {
     "data": {
      "text/plain": "VBox(children=(HBox(children=(IntProgress(value=0, description='0.00%', max=154), Label(value='0 / 154'))), HB…",
      "application/vnd.jupyter.widget-view+json": {
       "version_major": 2,
       "version_minor": 0,
       "model_id": "c076532b8cd14ef39550ee098fb81491"
      }
     },
     "metadata": {},
     "output_type": "display_data"
    },
    {
     "data": {
      "text/plain": "    rouge1   rouge2   rougeL  rougeLsum\n0  28.9474   5.4054  18.4211    18.4211\n1  49.5050  24.2424  27.7228    27.7228\n2  57.7778  25.0000  35.5556    46.6667\n3  43.8356  25.3521  27.3973    35.6164\n4  39.5604  24.7191  32.9670    32.9670",
      "text/html": "<div>\n<style scoped>\n    .dataframe tbody tr th:only-of-type {\n        vertical-align: middle;\n    }\n\n    .dataframe tbody tr th {\n        vertical-align: top;\n    }\n\n    .dataframe thead th {\n        text-align: right;\n    }\n</style>\n<table border=\"1\" class=\"dataframe\">\n  <thead>\n    <tr style=\"text-align: right;\">\n      <th></th>\n      <th>rouge1</th>\n      <th>rouge2</th>\n      <th>rougeL</th>\n      <th>rougeLsum</th>\n    </tr>\n  </thead>\n  <tbody>\n    <tr>\n      <th>0</th>\n      <td>28.9474</td>\n      <td>5.4054</td>\n      <td>18.4211</td>\n      <td>18.4211</td>\n    </tr>\n    <tr>\n      <th>1</th>\n      <td>49.5050</td>\n      <td>24.2424</td>\n      <td>27.7228</td>\n      <td>27.7228</td>\n    </tr>\n    <tr>\n      <th>2</th>\n      <td>57.7778</td>\n      <td>25.0000</td>\n      <td>35.5556</td>\n      <td>46.6667</td>\n    </tr>\n    <tr>\n      <th>3</th>\n      <td>43.8356</td>\n      <td>25.3521</td>\n      <td>27.3973</td>\n      <td>35.6164</td>\n    </tr>\n    <tr>\n      <th>4</th>\n      <td>39.5604</td>\n      <td>24.7191</td>\n      <td>32.9670</td>\n      <td>32.9670</td>\n    </tr>\n  </tbody>\n</table>\n</div>"
     },
     "execution_count": 9,
     "metadata": {},
     "output_type": "execute_result"
    }
   ],
   "source": [
    "pure_df = df.loc[(~df.summary.str.contains(\"Impossible\", case=False)) &\n",
    "                 (~df.predicted.str.contains(\"Impossible\", case=False))]\n",
    "rouge_results = pure_df.parallel_apply(lambda row: rouge_metric([row[\"summary\"]], [row[\"predicted\"]]), axis=1)\n",
    "rouge_results = pd.DataFrame(rouge_results.tolist())\n",
    "rouge_results.head()"
   ],
   "metadata": {
    "collapsed": false
   }
  },
  {
   "cell_type": "code",
   "execution_count": 10,
   "outputs": [],
   "source": [
    "rouge_results.to_excel('gs://scraped-news-article-data-null/mistral-sum-3-rouge.xlsx')"
   ],
   "metadata": {
    "collapsed": false
   }
  },
  {
   "cell_type": "code",
   "execution_count": 7,
   "id": "9110cf99-7653-4dc7-9c4f-7ee7afd29f60",
   "metadata": {},
   "outputs": [
    {
     "data": {
      "text/plain": "                                                body  \\\n0  Published: 2022-12-16\\nPARIS, Dec 16 (Reuters)...   \n1  Published: 2023-10-25\\n## In this article\\nFol...   \n2  Published: 2023-10-02\\n\"In mitigating climate ...   \n3  Published: 2023-10-18\\nA report published Tues...   \n4  Published: 2022-03-04\\nMeanwhile, a new law th...   \n\n                  published  \\\n0 2022-12-16 15:39:00+00:00   \n1 2023-10-25 20:12:41+00:00   \n2 2023-10-02 11:54:30+00:00   \n3 2023-10-18 19:49:14+00:00   \n4 2022-03-04 18:46:53+00:00   \n\n                                            question  \\\n0  How are French, German, and Polish crops expec...   \n1           What caused the surge in Endeavor stock?   \n2  What specific climate criticisms and accusatio...   \n3  Which specific projects or companies will rece...   \n4  What were the reasons cited by Russia for bloc...   \n\n                                             summary  \\\n0  French crops predicted to withstand wintry wea...   \n1  Silver Lake's interest in taking Endeavor priv...   \n2        Impossible to answer with given information   \n3        Impossible to answer with given information   \n4  Russia blocks Meta-owned Facebook amid invasio...   \n\n                                           predicted  \n0    Based on the provided context, it is possibl...  \n1                                         IMPOSSIBLE  \n2    Based on the given context, the specific cli...  \n3                                         IMPOSSIBLE  \n4                                         IMPOSSIBLE  ",
      "text/html": "<div>\n<style scoped>\n    .dataframe tbody tr th:only-of-type {\n        vertical-align: middle;\n    }\n\n    .dataframe tbody tr th {\n        vertical-align: top;\n    }\n\n    .dataframe thead th {\n        text-align: right;\n    }\n</style>\n<table border=\"1\" class=\"dataframe\">\n  <thead>\n    <tr style=\"text-align: right;\">\n      <th></th>\n      <th>body</th>\n      <th>published</th>\n      <th>question</th>\n      <th>summary</th>\n      <th>predicted</th>\n    </tr>\n  </thead>\n  <tbody>\n    <tr>\n      <th>0</th>\n      <td>Published: 2022-12-16\\nPARIS, Dec 16 (Reuters)...</td>\n      <td>2022-12-16 15:39:00+00:00</td>\n      <td>How are French, German, and Polish crops expec...</td>\n      <td>French crops predicted to withstand wintry wea...</td>\n      <td>Based on the provided context, it is possibl...</td>\n    </tr>\n    <tr>\n      <th>1</th>\n      <td>Published: 2023-10-25\\n## In this article\\nFol...</td>\n      <td>2023-10-25 20:12:41+00:00</td>\n      <td>What caused the surge in Endeavor stock?</td>\n      <td>Silver Lake's interest in taking Endeavor priv...</td>\n      <td>IMPOSSIBLE</td>\n    </tr>\n    <tr>\n      <th>2</th>\n      <td>Published: 2023-10-02\\n\"In mitigating climate ...</td>\n      <td>2023-10-02 11:54:30+00:00</td>\n      <td>What specific climate criticisms and accusatio...</td>\n      <td>Impossible to answer with given information</td>\n      <td>Based on the given context, the specific cli...</td>\n    </tr>\n    <tr>\n      <th>3</th>\n      <td>Published: 2023-10-18\\nA report published Tues...</td>\n      <td>2023-10-18 19:49:14+00:00</td>\n      <td>Which specific projects or companies will rece...</td>\n      <td>Impossible to answer with given information</td>\n      <td>IMPOSSIBLE</td>\n    </tr>\n    <tr>\n      <th>4</th>\n      <td>Published: 2022-03-04\\nMeanwhile, a new law th...</td>\n      <td>2022-03-04 18:46:53+00:00</td>\n      <td>What were the reasons cited by Russia for bloc...</td>\n      <td>Russia blocks Meta-owned Facebook amid invasio...</td>\n      <td>IMPOSSIBLE</td>\n    </tr>\n  </tbody>\n</table>\n</div>"
     },
     "execution_count": 7,
     "metadata": {},
     "output_type": "execute_result"
    }
   ],
   "source": [
    "df = pd.read_parquet('gs://scraped-news-article-data-null/llama-chat-test-predicted.parquet')\n",
    "df.loc[df.predicted.str.contains(\"IMPOSSIBLE\", case=False), \"predicted\"] = \"IMPOSSIBLE\"\n",
    "df.loc[df.predicted.str.contains(\"The context does not provide\", case=False), \"predicted\"] = \"IMPOSSIBLE\"\n",
    "df.head()"
   ]
  },
  {
   "cell_type": "code",
   "execution_count": 8,
   "id": "f8df3708-a3df-44ca-9b2f-a695ac23e2a4",
   "metadata": {},
   "outputs": [
    {
     "name": "stdout",
     "output_type": "stream",
     "text": [
      "              precision    recall  f1-score   support\n",
      "\n",
      "       False       0.63      0.48      0.55       985\n",
      "        True       0.62      0.75      0.68      1093\n",
      "\n",
      "    accuracy                           0.62      2078\n",
      "   macro avg       0.62      0.61      0.61      2078\n",
      "weighted avg       0.62      0.62      0.61      2078\n",
      "\n"
     ]
    }
   ],
   "source": [
    "df[\"y\"] = False\n",
    "df[\"y_hat\"] = False\n",
    "df.loc[df.summary.str.contains(\"IMPOSSIBLE\", case=False), \"y\"] = True\n",
    "df[\"y\"] = df.y.fillna(False)\n",
    "df.loc[df.predicted == \"IMPOSSIBLE\", \"y_hat\"] = True\n",
    "df[\"y_hat\"] = df.y_hat.fillna(False)\n",
    "print(classification_report(df.y, df.y_hat))"
   ]
  },
  {
   "cell_type": "code",
   "execution_count": 9,
   "id": "e3c7ef03-6474-459f-83c0-ff0054d8cc1b",
   "metadata": {},
   "outputs": [
    {
     "data": {
      "text/plain": "VBox(children=(HBox(children=(IntProgress(value=0, description='0.00%', max=216), Label(value='0 / 216'))), HB…",
      "application/vnd.jupyter.widget-view+json": {
       "version_major": 2,
       "version_minor": 0,
       "model_id": "b9d24f30d8724c4096c8b133d9e2b36f"
      }
     },
     "metadata": {},
     "output_type": "display_data"
    },
    {
     "data": {
      "text/plain": "    rouge1   rouge2   rougeL  rougeLsum\n0  21.2766   2.8777  12.7660    18.4397\n1  40.0000   0.0000  40.0000    40.0000\n2  40.0000   0.0000  40.0000    40.0000\n3  25.4237  10.3448  15.2542    20.3390\n4  40.0000   0.0000  40.0000    40.0000",
      "text/html": "<div>\n<style scoped>\n    .dataframe tbody tr th:only-of-type {\n        vertical-align: middle;\n    }\n\n    .dataframe tbody tr th {\n        vertical-align: top;\n    }\n\n    .dataframe thead th {\n        text-align: right;\n    }\n</style>\n<table border=\"1\" class=\"dataframe\">\n  <thead>\n    <tr style=\"text-align: right;\">\n      <th></th>\n      <th>rouge1</th>\n      <th>rouge2</th>\n      <th>rougeL</th>\n      <th>rougeLsum</th>\n    </tr>\n  </thead>\n  <tbody>\n    <tr>\n      <th>0</th>\n      <td>21.2766</td>\n      <td>2.8777</td>\n      <td>12.7660</td>\n      <td>18.4397</td>\n    </tr>\n    <tr>\n      <th>1</th>\n      <td>40.0000</td>\n      <td>0.0000</td>\n      <td>40.0000</td>\n      <td>40.0000</td>\n    </tr>\n    <tr>\n      <th>2</th>\n      <td>40.0000</td>\n      <td>0.0000</td>\n      <td>40.0000</td>\n      <td>40.0000</td>\n    </tr>\n    <tr>\n      <th>3</th>\n      <td>25.4237</td>\n      <td>10.3448</td>\n      <td>15.2542</td>\n      <td>20.3390</td>\n    </tr>\n    <tr>\n      <th>4</th>\n      <td>40.0000</td>\n      <td>0.0000</td>\n      <td>40.0000</td>\n      <td>40.0000</td>\n    </tr>\n  </tbody>\n</table>\n</div>"
     },
     "execution_count": 9,
     "metadata": {},
     "output_type": "execute_result"
    }
   ],
   "source": [
    "pure_df = df.loc[df.y == df.y_hat]\n",
    "rouge_results = pure_df.parallel_apply(lambda row: rouge_metric([row[\"predicted\"]], [row[\"summary\"]]), axis=1)\n",
    "rouge_results = pd.DataFrame(rouge_results.tolist())\n",
    "rouge_results.head()"
   ]
  },
  {
   "cell_type": "code",
   "execution_count": 10,
   "id": "0c07eeb6-a92f-44ee-b434-ad407792d96b",
   "metadata": {},
   "outputs": [],
   "source": [
    "rouge_results.to_excel('gs://scraped-news-article-data-null/llama-chat-rouge.xlsx')"
   ]
  },
  {
   "cell_type": "code",
   "execution_count": 11,
   "id": "cf77af6a-1778-4ed5-a64d-a64b6998115c",
   "metadata": {},
   "outputs": [
    {
     "data": {
      "text/plain": "                                                body  \\\n0  Published: 2022-12-16\\nPARIS, Dec 16 (Reuters)...   \n1  Published: 2023-10-25\\n## In this article\\nFol...   \n2  Published: 2023-10-02\\n\"In mitigating climate ...   \n3  Published: 2023-10-18\\nA report published Tues...   \n4  Published: 2022-03-04\\nMeanwhile, a new law th...   \n\n                  published  \\\n0 2022-12-16 15:39:00+00:00   \n1 2023-10-25 20:12:41+00:00   \n2 2023-10-02 11:54:30+00:00   \n3 2023-10-18 19:49:14+00:00   \n4 2022-03-04 18:46:53+00:00   \n\n                                            question  \\\n0  How are French, German, and Polish crops expec...   \n1           What caused the surge in Endeavor stock?   \n2  What specific climate criticisms and accusatio...   \n3  Which specific projects or companies will rece...   \n4  What were the reasons cited by Russia for bloc...   \n\n                                             summary  \\\n0  French crops predicted to withstand wintry wea...   \n1  Silver Lake's interest in taking Endeavor priv...   \n2        Impossible to answer with given information   \n3        Impossible to answer with given information   \n4  Russia blocks Meta-owned Facebook amid invasio...   \n\n                                           predicted  \n0   French crops are expected to be unaffected by...  \n1   The surge in Endeavor stock was caused by the...  \n2                                         IMPOSSIBLE  \n3   The Biden Administration is investing $3.46 b...  \n4   Russia's media regulator blocked Meta-owned F...  ",
      "text/html": "<div>\n<style scoped>\n    .dataframe tbody tr th:only-of-type {\n        vertical-align: middle;\n    }\n\n    .dataframe tbody tr th {\n        vertical-align: top;\n    }\n\n    .dataframe thead th {\n        text-align: right;\n    }\n</style>\n<table border=\"1\" class=\"dataframe\">\n  <thead>\n    <tr style=\"text-align: right;\">\n      <th></th>\n      <th>body</th>\n      <th>published</th>\n      <th>question</th>\n      <th>summary</th>\n      <th>predicted</th>\n    </tr>\n  </thead>\n  <tbody>\n    <tr>\n      <th>0</th>\n      <td>Published: 2022-12-16\\nPARIS, Dec 16 (Reuters)...</td>\n      <td>2022-12-16 15:39:00+00:00</td>\n      <td>How are French, German, and Polish crops expec...</td>\n      <td>French crops predicted to withstand wintry wea...</td>\n      <td>French crops are expected to be unaffected by...</td>\n    </tr>\n    <tr>\n      <th>1</th>\n      <td>Published: 2023-10-25\\n## In this article\\nFol...</td>\n      <td>2023-10-25 20:12:41+00:00</td>\n      <td>What caused the surge in Endeavor stock?</td>\n      <td>Silver Lake's interest in taking Endeavor priv...</td>\n      <td>The surge in Endeavor stock was caused by the...</td>\n    </tr>\n    <tr>\n      <th>2</th>\n      <td>Published: 2023-10-02\\n\"In mitigating climate ...</td>\n      <td>2023-10-02 11:54:30+00:00</td>\n      <td>What specific climate criticisms and accusatio...</td>\n      <td>Impossible to answer with given information</td>\n      <td>IMPOSSIBLE</td>\n    </tr>\n    <tr>\n      <th>3</th>\n      <td>Published: 2023-10-18\\nA report published Tues...</td>\n      <td>2023-10-18 19:49:14+00:00</td>\n      <td>Which specific projects or companies will rece...</td>\n      <td>Impossible to answer with given information</td>\n      <td>The Biden Administration is investing $3.46 b...</td>\n    </tr>\n    <tr>\n      <th>4</th>\n      <td>Published: 2022-03-04\\nMeanwhile, a new law th...</td>\n      <td>2022-03-04 18:46:53+00:00</td>\n      <td>What were the reasons cited by Russia for bloc...</td>\n      <td>Russia blocks Meta-owned Facebook amid invasio...</td>\n      <td>Russia's media regulator blocked Meta-owned F...</td>\n    </tr>\n  </tbody>\n</table>\n</div>"
     },
     "execution_count": 11,
     "metadata": {},
     "output_type": "execute_result"
    }
   ],
   "source": [
    "df = pd.read_parquet('gs://scraped-news-article-data-null/orca-mistral-test-predicted.parquet')\n",
    "df.loc[df.predicted.str.contains(\"IMPOSSIBLE\", case=False), \"predicted\"] = \"IMPOSSIBLE\"\n",
    "df.loc[df.predicted.str.contains(\"does not provide\", case=False), \"predicted\"] = \"IMPOSSIBLE\"\n",
    "df.head()"
   ]
  },
  {
   "cell_type": "code",
   "execution_count": 12,
   "id": "9e617717-849f-417e-8253-52cb7dfced11",
   "metadata": {},
   "outputs": [
    {
     "name": "stdout",
     "output_type": "stream",
     "text": [
      "              precision    recall  f1-score   support\n",
      "\n",
      "       False       0.58      0.95      0.72       985\n",
      "        True       0.90      0.39      0.55      1093\n",
      "\n",
      "    accuracy                           0.66      2078\n",
      "   macro avg       0.74      0.67      0.63      2078\n",
      "weighted avg       0.75      0.66      0.63      2078\n",
      "\n"
     ]
    }
   ],
   "source": [
    "df[\"y\"] = False\n",
    "df[\"y_hat\"] = False\n",
    "df.loc[df.summary.str.contains(\"IMPOSSIBLE\", case=False), \"y\"] = True\n",
    "df[\"y\"] = df.y.fillna(False)\n",
    "df.loc[df.predicted == \"IMPOSSIBLE\", \"y_hat\"] = True\n",
    "df[\"y_hat\"] = df.y_hat.fillna(False)\n",
    "print(classification_report(df.y, df.y_hat))"
   ]
  },
  {
   "cell_type": "code",
   "execution_count": 13,
   "outputs": [
    {
     "data": {
      "text/plain": "VBox(children=(HBox(children=(IntProgress(value=0, description='0.00%', max=228), Label(value='0 / 228'))), HB…",
      "application/vnd.jupyter.widget-view+json": {
       "version_major": 2,
       "version_minor": 0,
       "model_id": "521eb228108f425b885b4b6661aa7233"
      }
     },
     "metadata": {},
     "output_type": "display_data"
    },
    {
     "data": {
      "text/plain": "    rouge1   rouge2   rougeL  rougeLsum\n0  28.5714  12.5000  20.4082    28.5714\n1  34.2105  16.2162  23.6842    28.9474\n2  40.0000   0.0000  40.0000    40.0000\n3  37.6471  21.6867  28.2353    35.2941\n4  43.1373  28.5714  35.2941    43.1373",
      "text/html": "<div>\n<style scoped>\n    .dataframe tbody tr th:only-of-type {\n        vertical-align: middle;\n    }\n\n    .dataframe tbody tr th {\n        vertical-align: top;\n    }\n\n    .dataframe thead th {\n        text-align: right;\n    }\n</style>\n<table border=\"1\" class=\"dataframe\">\n  <thead>\n    <tr style=\"text-align: right;\">\n      <th></th>\n      <th>rouge1</th>\n      <th>rouge2</th>\n      <th>rougeL</th>\n      <th>rougeLsum</th>\n    </tr>\n  </thead>\n  <tbody>\n    <tr>\n      <th>0</th>\n      <td>28.5714</td>\n      <td>12.5000</td>\n      <td>20.4082</td>\n      <td>28.5714</td>\n    </tr>\n    <tr>\n      <th>1</th>\n      <td>34.2105</td>\n      <td>16.2162</td>\n      <td>23.6842</td>\n      <td>28.9474</td>\n    </tr>\n    <tr>\n      <th>2</th>\n      <td>40.0000</td>\n      <td>0.0000</td>\n      <td>40.0000</td>\n      <td>40.0000</td>\n    </tr>\n    <tr>\n      <th>3</th>\n      <td>37.6471</td>\n      <td>21.6867</td>\n      <td>28.2353</td>\n      <td>35.2941</td>\n    </tr>\n    <tr>\n      <th>4</th>\n      <td>43.1373</td>\n      <td>28.5714</td>\n      <td>35.2941</td>\n      <td>43.1373</td>\n    </tr>\n  </tbody>\n</table>\n</div>"
     },
     "execution_count": 13,
     "metadata": {},
     "output_type": "execute_result"
    }
   ],
   "source": [
    "pure_df = df.loc[df.y == df.y_hat]\n",
    "rouge_results = pure_df.parallel_apply(lambda row: rouge_metric([row[\"predicted\"]], [row[\"summary\"]]), axis=1)\n",
    "rouge_results = pd.DataFrame(rouge_results.tolist())\n",
    "rouge_results.head()"
   ],
   "metadata": {
    "collapsed": false
   }
  },
  {
   "cell_type": "code",
   "execution_count": 14,
   "outputs": [],
   "source": [
    "rouge_results.to_excel('gs://scraped-news-article-data-null/orca-mistral-rouge.xlsx')"
   ],
   "metadata": {
    "collapsed": false
   }
  },
  {
   "cell_type": "code",
   "execution_count": 14,
   "outputs": [],
   "source": [],
   "metadata": {
    "collapsed": false
   }
  }
 ],
 "metadata": {
  "environment": {
   "kernel": "python3",
   "name": "tf2-gpu.2-11.m111",
   "type": "gcloud",
   "uri": "gcr.io/deeplearning-platform-release/tf2-gpu.2-11:m111"
  },
  "kernelspec": {
   "display_name": "Python 3",
   "language": "python",
   "name": "python3"
  },
  "language_info": {
   "codemirror_mode": {
    "name": "ipython",
    "version": 3
   },
   "file_extension": ".py",
   "mimetype": "text/x-python",
   "name": "python",
   "nbconvert_exporter": "python",
   "pygments_lexer": "ipython3",
   "version": "3.10.12"
  }
 },
 "nbformat": 4,
 "nbformat_minor": 5
}
