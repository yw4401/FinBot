{
 "cells": [
  {
   "cell_type": "code",
   "execution_count": 1,
   "metadata": {
    "collapsed": true
   },
   "outputs": [],
   "source": [
    "import sys\n",
    "sys.path.append('..')\n",
    "import random\n",
    "\n",
    "from tqdm import tqdm\n",
    "import numpy as np\n",
    "import pandas as pd\n",
    "from finetune.auto_label import *\n",
    "\n",
    "SEED = 93\n",
    "np.random.seed(SEED)\n",
    "random.seed(SEED)\n",
    "tqdm.pandas()"
   ]
  },
  {
   "cell_type": "code",
   "execution_count": 9,
   "outputs": [],
   "source": [
    "API_KEY_PATH = \"../key\"\n",
    "FINETUNED_PATH = \"gs://scraped-news-article-data-null/summary_eval_shilong.xlsx\"\n",
    "OG_PATH = \"gs://scraped-news-article-data-null/summary_eval_og_shilong.xlsx\"\n",
    "TEST_SET_PATH = \"gs://scraped-news-article-data-null/test_predicted.parquet\"\n",
    "TEST_SET_RATED_PATH = \"gs://scraped-news-article-data-null/test_predicted_rated.parquet\"\n",
    "TEMPERATURE = 0\n",
    "MODEL_NAME = \"gpt-3.5-turbo-16k\""
   ],
   "metadata": {
    "collapsed": false
   }
  },
  {
   "cell_type": "code",
   "execution_count": 3,
   "outputs": [
    {
     "data": {
      "text/plain": "    source     id                                           category  \\\n0  reuters  22071  Software company morphs into personal injury firm   \n1     cnbc   8940                                   Personal Finance   \n2  reuters  50327              LNGFuel OilGasHydrogenRenewable Fuels   \n3  reuters  22786                                       U.S. Markets   \n4     cnbc   1864                                             Sports   \n\n                                               title  \\\n0  Plaintiffs' BarLegal InnovationLegal IndustryL...   \n1  College hopefuls have a new ultimate dream sch...   \n2  Spain's Cepsa to invest 3 bln euros in green h...   \n3  Wall St falls after recent strong gains, Alpha...   \n4  Canadian billionaire Steve Apostolopoulos says...   \n\n                   published  \\\n0        2022-06-27T22:46:00   \n1  2023-03-15T13:11:19+00:00   \n2        2022-12-01T15:03:00   \n3        2023-02-09T00:30:00   \n4  2023-04-24T17:42:10+00:00   \n\n                                                body  \\\n0  summarize in bullet points: (Reuters) - A soft...   \n1  summarize in bullet points: ## Massachusetts I...   \n2  summarize in bullet points: CADIZ, Spain, Dec ...   \n3  summarize in bullet points: NEW YORK, Feb 8 (R...   \n4  summarize in bullet points: Canadian billionai...   \n\n                                             summary summary_type  \\\n0  * Mighty Law says it will undercut personal in...      BULLETS   \n1  * This year, the school named by the highest n...      BULLETS   \n2  * To produce 300,000 tons of green hydrogen pe...      BULLETS   \n3  * Alphabet shares dive after Google AI chatbot...      BULLETS   \n4  * Canadian businessman Steve Apostolopoulos sa...      BULLETS   \n\n                                           predicted  rating  \\\n0  \\n* A software company is opening its own law ...       4   \n1  \\n* A new survey of college-bound students and...       3   \n2  \\n* Cepsa to invest 3 bln euros in renewable e...       3   \n3  \\n* S&P 500 futures down 1.2%, yuan up 0.2%, w...       2   \n4  \\n* The saga over Washington's embattled footb...       4   \n\n                                             thought  \n0  The summary accurately captures the main point...  \n1  The summary accurately captures the main point...  \n2  Thought process for the rating:\\n- The summary...  \n3  Thought process for the rating:\\n- The summary...  \n4  The summary reflects the content of the text w...  ",
      "text/html": "<div>\n<style scoped>\n    .dataframe tbody tr th:only-of-type {\n        vertical-align: middle;\n    }\n\n    .dataframe tbody tr th {\n        vertical-align: top;\n    }\n\n    .dataframe thead th {\n        text-align: right;\n    }\n</style>\n<table border=\"1\" class=\"dataframe\">\n  <thead>\n    <tr style=\"text-align: right;\">\n      <th></th>\n      <th>source</th>\n      <th>id</th>\n      <th>category</th>\n      <th>title</th>\n      <th>published</th>\n      <th>body</th>\n      <th>summary</th>\n      <th>summary_type</th>\n      <th>predicted</th>\n      <th>rating</th>\n      <th>thought</th>\n    </tr>\n  </thead>\n  <tbody>\n    <tr>\n      <th>0</th>\n      <td>reuters</td>\n      <td>22071</td>\n      <td>Software company morphs into personal injury firm</td>\n      <td>Plaintiffs' BarLegal InnovationLegal IndustryL...</td>\n      <td>2022-06-27T22:46:00</td>\n      <td>summarize in bullet points: (Reuters) - A soft...</td>\n      <td>* Mighty Law says it will undercut personal in...</td>\n      <td>BULLETS</td>\n      <td>\\n* A software company is opening its own law ...</td>\n      <td>4</td>\n      <td>The summary accurately captures the main point...</td>\n    </tr>\n    <tr>\n      <th>1</th>\n      <td>cnbc</td>\n      <td>8940</td>\n      <td>Personal Finance</td>\n      <td>College hopefuls have a new ultimate dream sch...</td>\n      <td>2023-03-15T13:11:19+00:00</td>\n      <td>summarize in bullet points: ## Massachusetts I...</td>\n      <td>* This year, the school named by the highest n...</td>\n      <td>BULLETS</td>\n      <td>\\n* A new survey of college-bound students and...</td>\n      <td>3</td>\n      <td>The summary accurately captures the main point...</td>\n    </tr>\n    <tr>\n      <th>2</th>\n      <td>reuters</td>\n      <td>50327</td>\n      <td>LNGFuel OilGasHydrogenRenewable Fuels</td>\n      <td>Spain's Cepsa to invest 3 bln euros in green h...</td>\n      <td>2022-12-01T15:03:00</td>\n      <td>summarize in bullet points: CADIZ, Spain, Dec ...</td>\n      <td>* To produce 300,000 tons of green hydrogen pe...</td>\n      <td>BULLETS</td>\n      <td>\\n* Cepsa to invest 3 bln euros in renewable e...</td>\n      <td>3</td>\n      <td>Thought process for the rating:\\n- The summary...</td>\n    </tr>\n    <tr>\n      <th>3</th>\n      <td>reuters</td>\n      <td>22786</td>\n      <td>U.S. Markets</td>\n      <td>Wall St falls after recent strong gains, Alpha...</td>\n      <td>2023-02-09T00:30:00</td>\n      <td>summarize in bullet points: NEW YORK, Feb 8 (R...</td>\n      <td>* Alphabet shares dive after Google AI chatbot...</td>\n      <td>BULLETS</td>\n      <td>\\n* S&amp;P 500 futures down 1.2%, yuan up 0.2%, w...</td>\n      <td>2</td>\n      <td>Thought process for the rating:\\n- The summary...</td>\n    </tr>\n    <tr>\n      <th>4</th>\n      <td>cnbc</td>\n      <td>1864</td>\n      <td>Sports</td>\n      <td>Canadian billionaire Steve Apostolopoulos says...</td>\n      <td>2023-04-24T17:42:10+00:00</td>\n      <td>summarize in bullet points: Canadian billionai...</td>\n      <td>* Canadian businessman Steve Apostolopoulos sa...</td>\n      <td>BULLETS</td>\n      <td>\\n* The saga over Washington's embattled footb...</td>\n      <td>4</td>\n      <td>The summary reflects the content of the text w...</td>\n    </tr>\n  </tbody>\n</table>\n</div>"
     },
     "execution_count": 3,
     "metadata": {},
     "output_type": "execute_result"
    }
   ],
   "source": [
    "with open(API_KEY_PATH, \"r\") as fp:\n",
    "    API_KEY = fp.read().strip()\n",
    "\n",
    "finetuned_sample = pd.read_excel(FINETUNED_PATH)\n",
    "og_sample = pd.read_excel(OG_PATH)\n",
    "combined_sample = pd.concat([finetuned_sample, og_sample]).reset_index(drop=True)\n",
    "combined_sample.head()"
   ],
   "metadata": {
    "collapsed": false
   }
  },
  {
   "cell_type": "code",
   "execution_count": 4,
   "outputs": [],
   "source": [
    "from langchain.chat_models import ChatOpenAI\n",
    "import chromadb\n",
    "\n",
    "chroma = chromadb.EphemeralClient()\n",
    "plan_llm = ChatOpenAI(openai_api_key=API_KEY, temperature=0,\n",
    "                          model_name=MODEL_NAME)\n",
    "\n",
    "\n",
    "def rate_summary(row, selector):\n",
    "    text = RatableText(context_text=row[\"body\"], output=row[\"predicted\"])\n",
    "    try:\n",
    "        result = evaluate_text(plan_llm, text, config.LABEL_SUMMARY_SYSTEM, config.LABEL_SUMMARY_USER, meal_selector=selector)\n",
    "    except ValueError as e:\n",
    "        result = RatingOutput(rating=np.nan, thought=str(e)).model_dump()\n",
    "    return result"
   ],
   "metadata": {
    "collapsed": false
   }
  },
  {
   "cell_type": "code",
   "execution_count": 5,
   "outputs": [
    {
     "name": "stderr",
     "output_type": "stream",
     "text": [
      "100%|██████████| 20/20 [01:24<00:00,  4.22s/it]\n"
     ]
    },
    {
     "data": {
      "text/plain": "   rating  predicted_rating\n0       4               3.0\n1       3               3.0\n2       3               3.0\n3       2               1.0\n4       4               2.0",
      "text/html": "<div>\n<style scoped>\n    .dataframe tbody tr th:only-of-type {\n        vertical-align: middle;\n    }\n\n    .dataframe tbody tr th {\n        vertical-align: top;\n    }\n\n    .dataframe thead th {\n        text-align: right;\n    }\n</style>\n<table border=\"1\" class=\"dataframe\">\n  <thead>\n    <tr style=\"text-align: right;\">\n      <th></th>\n      <th>rating</th>\n      <th>predicted_rating</th>\n    </tr>\n  </thead>\n  <tbody>\n    <tr>\n      <th>0</th>\n      <td>4</td>\n      <td>3.0</td>\n    </tr>\n    <tr>\n      <th>1</th>\n      <td>3</td>\n      <td>3.0</td>\n    </tr>\n    <tr>\n      <th>2</th>\n      <td>3</td>\n      <td>3.0</td>\n    </tr>\n    <tr>\n      <th>3</th>\n      <td>2</td>\n      <td>1.0</td>\n    </tr>\n    <tr>\n      <th>4</th>\n      <td>4</td>\n      <td>2.0</td>\n    </tr>\n  </tbody>\n</table>\n</div>"
     },
     "execution_count": 5,
     "metadata": {},
     "output_type": "execute_result"
    }
   ],
   "source": [
    "sample_ratings = []\n",
    "for idx, row in tqdm(combined_sample.iterrows(), total=len(combined_sample.index)):\n",
    "    subsample = combined_sample.drop(idx)\n",
    "    collection = chroma.get_or_create_collection(\"temp-examples\")\n",
    "    collection.query(query_texts=[\"warm-up\"], n_results=1)\n",
    "    records = create_db_entries(subsample, collection)\n",
    "    collection.add(**records)\n",
    "    assert len(records[\"ids\"]) == collection.count()\n",
    "    meal_selector = ChromaRatingExampleSelector(collection)\n",
    "    sample_ratings.append(\n",
    "        rate_summary(row, meal_selector)[\"rating\"]\n",
    "    )\n",
    "    chroma.delete_collection(\"temp-examples\")\n",
    "combined_sample[\"predicted_rating\"] = sample_ratings\n",
    "combined_sample[[\"rating\", \"predicted_rating\"]].head()"
   ],
   "metadata": {
    "collapsed": false
   }
  },
  {
   "cell_type": "code",
   "execution_count": 6,
   "outputs": [
    {
     "name": "stdout",
     "output_type": "stream",
     "text": [
      "0.85\n",
      "count    20.000000\n",
      "mean      0.350000\n",
      "std       1.225819\n",
      "min      -2.000000\n",
      "25%       0.000000\n",
      "50%       0.000000\n",
      "75%       1.000000\n",
      "max       3.000000\n",
      "Name: rating_diff, dtype: float64\n"
     ]
    }
   ],
   "source": [
    "combined_sample[\"rating_diff\"] = combined_sample.rating - combined_sample.predicted_rating\n",
    "print(np.mean(combined_sample.rating_diff.abs()))\n",
    "print(combined_sample.rating_diff.describe())"
   ],
   "metadata": {
    "collapsed": false
   }
  },
  {
   "cell_type": "code",
   "execution_count": 7,
   "outputs": [
    {
     "data": {
      "text/plain": "    source      id                                        category  \\\n0  reuters  112266                                           China   \n1  reuters   66543                                        Business   \n2     cnbc    7668                              Sustainable Future   \n3  reuters   87382                                     Middle East   \n4  reuters   15571  DiversityCorporate CounselCorporate Governance   \n\n                                               title  \\\n0  Millions tested in Shanghai as China grapples ...   \n1  Ecigarettes and heated tobacco light up Imperi...   \n2  Private jet flights in Europe soar to record l...   \n3  Israel's Netanyahu returns with hard-right cab...   \n4  Activist behind Harvard race case takes aim at...   \n\n                   published  \\\n0        2022-07-07T21:01:00   \n1        2022-05-17T08:37:00   \n2  2023-03-30T05:24:48+00:00   \n3        2022-12-29T19:28:00   \n4        2021-07-13T21:56:00   \n\n                                                body  \\\n0  summarize in bullet points: SHANGHAI/BEIJING, ...   \n1  summarize in bullet points: LONDON, May 17 (Re...   \n2  summarize in bullet points: A private jet is l...   \n3  summarize in bullet points: JERUSALEM, Dec 29 ...   \n4  summarize in bullet points: (Reuters) - Edward...   \n\n                                             summary summary_type  \\\n0  * Third day of mass testing in many Shanghai d...      BULLETS   \n1  * H1 adjusted net revenue up 0.3% at constant ...      BULLETS   \n2  * Analysis published Thursday by environmental...      BULLETS   \n3  * New government has nationalist, religious pa...      BULLETS   \n4  * Lawsuit claims statutes discriminate against...      BULLETS   \n\n                                           predicted  \n0  \\n* China reported 338 new COVID cases for Wed...  \n1  \\n* Shares up more than 7% in morning trade, b...  \n2  \\n* The number of private jet flights in Europ...  \n3  \\n* Netanyahu's hard-right cabinet includes re...  \n4  \\n* The lawsuit seeks to invalidate laws requi...  ",
      "text/html": "<div>\n<style scoped>\n    .dataframe tbody tr th:only-of-type {\n        vertical-align: middle;\n    }\n\n    .dataframe tbody tr th {\n        vertical-align: top;\n    }\n\n    .dataframe thead th {\n        text-align: right;\n    }\n</style>\n<table border=\"1\" class=\"dataframe\">\n  <thead>\n    <tr style=\"text-align: right;\">\n      <th></th>\n      <th>source</th>\n      <th>id</th>\n      <th>category</th>\n      <th>title</th>\n      <th>published</th>\n      <th>body</th>\n      <th>summary</th>\n      <th>summary_type</th>\n      <th>predicted</th>\n    </tr>\n  </thead>\n  <tbody>\n    <tr>\n      <th>0</th>\n      <td>reuters</td>\n      <td>112266</td>\n      <td>China</td>\n      <td>Millions tested in Shanghai as China grapples ...</td>\n      <td>2022-07-07T21:01:00</td>\n      <td>summarize in bullet points: SHANGHAI/BEIJING, ...</td>\n      <td>* Third day of mass testing in many Shanghai d...</td>\n      <td>BULLETS</td>\n      <td>\\n* China reported 338 new COVID cases for Wed...</td>\n    </tr>\n    <tr>\n      <th>1</th>\n      <td>reuters</td>\n      <td>66543</td>\n      <td>Business</td>\n      <td>Ecigarettes and heated tobacco light up Imperi...</td>\n      <td>2022-05-17T08:37:00</td>\n      <td>summarize in bullet points: LONDON, May 17 (Re...</td>\n      <td>* H1 adjusted net revenue up 0.3% at constant ...</td>\n      <td>BULLETS</td>\n      <td>\\n* Shares up more than 7% in morning trade, b...</td>\n    </tr>\n    <tr>\n      <th>2</th>\n      <td>cnbc</td>\n      <td>7668</td>\n      <td>Sustainable Future</td>\n      <td>Private jet flights in Europe soar to record l...</td>\n      <td>2023-03-30T05:24:48+00:00</td>\n      <td>summarize in bullet points: A private jet is l...</td>\n      <td>* Analysis published Thursday by environmental...</td>\n      <td>BULLETS</td>\n      <td>\\n* The number of private jet flights in Europ...</td>\n    </tr>\n    <tr>\n      <th>3</th>\n      <td>reuters</td>\n      <td>87382</td>\n      <td>Middle East</td>\n      <td>Israel's Netanyahu returns with hard-right cab...</td>\n      <td>2022-12-29T19:28:00</td>\n      <td>summarize in bullet points: JERUSALEM, Dec 29 ...</td>\n      <td>* New government has nationalist, religious pa...</td>\n      <td>BULLETS</td>\n      <td>\\n* Netanyahu's hard-right cabinet includes re...</td>\n    </tr>\n    <tr>\n      <th>4</th>\n      <td>reuters</td>\n      <td>15571</td>\n      <td>DiversityCorporate CounselCorporate Governance</td>\n      <td>Activist behind Harvard race case takes aim at...</td>\n      <td>2021-07-13T21:56:00</td>\n      <td>summarize in bullet points: (Reuters) - Edward...</td>\n      <td>* Lawsuit claims statutes discriminate against...</td>\n      <td>BULLETS</td>\n      <td>\\n* The lawsuit seeks to invalidate laws requi...</td>\n    </tr>\n  </tbody>\n</table>\n</div>"
     },
     "execution_count": 7,
     "metadata": {},
     "output_type": "execute_result"
    }
   ],
   "source": [
    "test_set = pd.read_parquet(TEST_SET_PATH)\n",
    "test_set.head()"
   ],
   "metadata": {
    "collapsed": false
   }
  },
  {
   "cell_type": "code",
   "execution_count": 8,
   "outputs": [
    {
     "name": "stderr",
     "output_type": "stream",
     "text": [
      "100%|██████████| 4527/4527 [4:43:33<00:00,  3.76s/it]  \n"
     ]
    },
    {
     "data": {
      "text/plain": "{'rating': 5.0,\n 'thought': 'The summary accurately captures the main points of the text. It mentions that China reported 338 new COVID cases, with Shanghai reporting 54 new cases. It also highlights the concerns about the impact of the outbreaks on the Chinese economy and the potential for restrictions that could disrupt global supply chains and trade. These are the key details that would be relevant to a retail investor.',\n 'raw': 'Thought process:\\nThe summary accurately captures the main points of the text. It mentions that China reported 338 new COVID cases, with Shanghai reporting 54 new cases. It also highlights the concerns about the impact of the outbreaks on the Chinese economy and the potential for restrictions that could disrupt global supply chains and trade. These are the key details that would be relevant to a retail investor.\\n\\nFinal Rating:\\n5'}"
     },
     "execution_count": 8,
     "metadata": {},
     "output_type": "execute_result"
    }
   ],
   "source": [
    "collection = chroma.get_or_create_collection(\"temp-examples\")\n",
    "collection.query(query_texts=[\"warm-up\"], n_results=1)\n",
    "records = create_db_entries(combined_sample, collection)\n",
    "collection.add(**records)\n",
    "assert len(records[\"ids\"]) == collection.count()\n",
    "meal_selector = ChromaRatingExampleSelector(collection)\n",
    "\n",
    "ratings = test_set.progress_apply(lambda row: rate_summary(row, meal_selector), axis=1).tolist()\n",
    "ratings[0]"
   ],
   "metadata": {
    "collapsed": false
   }
  },
  {
   "cell_type": "code",
   "execution_count": 10,
   "outputs": [
    {
     "name": "stdout",
     "output_type": "stream",
     "text": [
      "count    4526.000000\n",
      "mean        3.500000\n",
      "std         1.494705\n",
      "min         1.000000\n",
      "25%         2.000000\n",
      "50%         4.000000\n",
      "75%         5.000000\n",
      "max         5.000000\n",
      "Name: rating, dtype: float64\n"
     ]
    }
   ],
   "source": [
    "test_set[\"rating\"] = [r[\"rating\"] for r in ratings]\n",
    "print(test_set.rating.describe())"
   ],
   "metadata": {
    "collapsed": false
   }
  },
  {
   "cell_type": "code",
   "execution_count": 11,
   "outputs": [],
   "source": [
    "test_set.to_parquet(TEST_SET_RATED_PATH, index=False)"
   ],
   "metadata": {
    "collapsed": false
   }
  },
  {
   "cell_type": "code",
   "execution_count": null,
   "outputs": [],
   "source": [],
   "metadata": {
    "collapsed": false
   }
  }
 ],
 "metadata": {
  "kernelspec": {
   "display_name": "Python 3",
   "language": "python",
   "name": "python3"
  },
  "language_info": {
   "codemirror_mode": {
    "name": "ipython",
    "version": 2
   },
   "file_extension": ".py",
   "mimetype": "text/x-python",
   "name": "python",
   "nbconvert_exporter": "python",
   "pygments_lexer": "ipython2",
   "version": "2.7.6"
  }
 },
 "nbformat": 4,
 "nbformat_minor": 0
}
