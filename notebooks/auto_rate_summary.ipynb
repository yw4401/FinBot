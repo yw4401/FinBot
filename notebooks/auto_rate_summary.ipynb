{
 "cells": [
  {
   "cell_type": "code",
   "execution_count": 1,
   "metadata": {
    "collapsed": true
   },
   "outputs": [],
   "source": [
    "import sys\n",
    "sys.path.append('..')\n",
    "import random\n",
    "\n",
    "from tqdm import tqdm\n",
    "import numpy as np\n",
    "import pandas as pd\n",
    "from finetune.auto_label import *\n",
    "\n",
    "SEED = 93\n",
    "np.random.seed(SEED)\n",
    "random.seed(SEED)\n",
    "tqdm.pandas()"
   ]
  },
  {
   "cell_type": "code",
   "execution_count": 2,
   "outputs": [],
   "source": [
    "API_KEY_PATH = \"../key\"\n",
    "FINETUNED_PATH = \"gs://scraped-news-article-data-null/summary_human_eval.xlsx\"\n",
    "OG_PATH = \"gs://scraped-news-article-data-null/summary_human_eval_og.xlsx\"\n",
    "TEMPERATURE = 0\n",
    "MODEL_NAME = \"gpt-3.5-turbo\""
   ],
   "metadata": {
    "collapsed": false
   }
  },
  {
   "cell_type": "code",
   "execution_count": 3,
   "outputs": [
    {
     "data": {
      "text/plain": "       source     id                                           category  \\\n2402  reuters  22071  Software company morphs into personal injury firm   \n1910     cnbc   8940                                   Personal Finance   \n960   reuters  50327              LNGFuel OilGasHydrogenRenewable Fuels   \n2348  reuters  22786                                       U.S. Markets   \n4087     cnbc   1864                                             Sports   \n\n                                                  title  \\\n2402  Plaintiffs' BarLegal InnovationLegal IndustryL...   \n1910  College hopefuls have a new ultimate dream sch...   \n960   Spain's Cepsa to invest 3 bln euros in green h...   \n2348  Wall St falls after recent strong gains, Alpha...   \n4087  Canadian billionaire Steve Apostolopoulos says...   \n\n                      published  \\\n2402        2022-06-27T22:46:00   \n1910  2023-03-15T13:11:19+00:00   \n960         2022-12-01T15:03:00   \n2348        2023-02-09T00:30:00   \n4087  2023-04-24T17:42:10+00:00   \n\n                                                   body  \\\n2402  summarize in bullet points: (Reuters) - A soft...   \n1910  summarize in bullet points: ## Massachusetts I...   \n960   summarize in bullet points: CADIZ, Spain, Dec ...   \n2348  summarize in bullet points: NEW YORK, Feb 8 (R...   \n4087  summarize in bullet points: Canadian billionai...   \n\n                                                summary summary_type  \\\n2402  * Mighty Law says it will undercut personal in...      BULLETS   \n1910  * This year, the school named by the highest n...      BULLETS   \n960   * To produce 300,000 tons of green hydrogen pe...      BULLETS   \n2348  * Alphabet shares dive after Google AI chatbot...      BULLETS   \n4087  * Canadian businessman Steve Apostolopoulos sa...      BULLETS   \n\n                                              predicted  \n2402  \\n* A software company is opening its own law ...  \n1910  \\n* A new survey of college-bound students and...  \n960   \\n* Cepsa to invest 3 bln euros in renewable e...  \n2348  \\n* S&P 500 futures down 1.2%, yuan up 0.2%, w...  \n4087  \\n* The saga over Washington's embattled footb...  ",
      "text/html": "<div>\n<style scoped>\n    .dataframe tbody tr th:only-of-type {\n        vertical-align: middle;\n    }\n\n    .dataframe tbody tr th {\n        vertical-align: top;\n    }\n\n    .dataframe thead th {\n        text-align: right;\n    }\n</style>\n<table border=\"1\" class=\"dataframe\">\n  <thead>\n    <tr style=\"text-align: right;\">\n      <th></th>\n      <th>source</th>\n      <th>id</th>\n      <th>category</th>\n      <th>title</th>\n      <th>published</th>\n      <th>body</th>\n      <th>summary</th>\n      <th>summary_type</th>\n      <th>predicted</th>\n    </tr>\n  </thead>\n  <tbody>\n    <tr>\n      <th>2402</th>\n      <td>reuters</td>\n      <td>22071</td>\n      <td>Software company morphs into personal injury firm</td>\n      <td>Plaintiffs' BarLegal InnovationLegal IndustryL...</td>\n      <td>2022-06-27T22:46:00</td>\n      <td>summarize in bullet points: (Reuters) - A soft...</td>\n      <td>* Mighty Law says it will undercut personal in...</td>\n      <td>BULLETS</td>\n      <td>\\n* A software company is opening its own law ...</td>\n    </tr>\n    <tr>\n      <th>1910</th>\n      <td>cnbc</td>\n      <td>8940</td>\n      <td>Personal Finance</td>\n      <td>College hopefuls have a new ultimate dream sch...</td>\n      <td>2023-03-15T13:11:19+00:00</td>\n      <td>summarize in bullet points: ## Massachusetts I...</td>\n      <td>* This year, the school named by the highest n...</td>\n      <td>BULLETS</td>\n      <td>\\n* A new survey of college-bound students and...</td>\n    </tr>\n    <tr>\n      <th>960</th>\n      <td>reuters</td>\n      <td>50327</td>\n      <td>LNGFuel OilGasHydrogenRenewable Fuels</td>\n      <td>Spain's Cepsa to invest 3 bln euros in green h...</td>\n      <td>2022-12-01T15:03:00</td>\n      <td>summarize in bullet points: CADIZ, Spain, Dec ...</td>\n      <td>* To produce 300,000 tons of green hydrogen pe...</td>\n      <td>BULLETS</td>\n      <td>\\n* Cepsa to invest 3 bln euros in renewable e...</td>\n    </tr>\n    <tr>\n      <th>2348</th>\n      <td>reuters</td>\n      <td>22786</td>\n      <td>U.S. Markets</td>\n      <td>Wall St falls after recent strong gains, Alpha...</td>\n      <td>2023-02-09T00:30:00</td>\n      <td>summarize in bullet points: NEW YORK, Feb 8 (R...</td>\n      <td>* Alphabet shares dive after Google AI chatbot...</td>\n      <td>BULLETS</td>\n      <td>\\n* S&amp;P 500 futures down 1.2%, yuan up 0.2%, w...</td>\n    </tr>\n    <tr>\n      <th>4087</th>\n      <td>cnbc</td>\n      <td>1864</td>\n      <td>Sports</td>\n      <td>Canadian billionaire Steve Apostolopoulos says...</td>\n      <td>2023-04-24T17:42:10+00:00</td>\n      <td>summarize in bullet points: Canadian billionai...</td>\n      <td>* Canadian businessman Steve Apostolopoulos sa...</td>\n      <td>BULLETS</td>\n      <td>\\n* The saga over Washington's embattled footb...</td>\n    </tr>\n  </tbody>\n</table>\n</div>"
     },
     "execution_count": 3,
     "metadata": {},
     "output_type": "execute_result"
    }
   ],
   "source": [
    "with open(API_KEY_PATH, \"r\") as fp:\n",
    "    API_KEY = fp.read().strip()\n",
    "\n",
    "finetuned_sample = pd.read_excel(FINETUNED_PATH, index_col=0)\n",
    "og_sample = pd.read_excel(OG_PATH, index_col=0)\n",
    "try:\n",
    "    finetuned_sample = finetuned_sample.drop([\"thought\", \"rating\"], axis=1)\n",
    "except KeyError:\n",
    "    pass\n",
    "try:\n",
    "    og_sample = og_sample.drop([\"thought\", \"rating\"], axis=1)\n",
    "except KeyError:\n",
    "    pass\n",
    "finetuned_sample.head()"
   ],
   "metadata": {
    "collapsed": false
   }
  },
  {
   "cell_type": "code",
   "execution_count": 4,
   "outputs": [],
   "source": [
    "from langchain.chat_models import ChatOpenAI\n",
    "import chromadb\n",
    "\n",
    "chroma = chromadb.EphemeralClient()\n",
    "collection = chroma.get_or_create_collection(\"temp-examples\")\n",
    "collection.query(query_texts=[\"warm-up\"], n_results=1)\n",
    "meal_selector = ChromaRatingExampleSelector(collection)\n",
    "plan_llm = ChatOpenAI(openai_api_key=API_KEY, temperature=0,\n",
    "                          model_name=MODEL_NAME)"
   ],
   "metadata": {
    "collapsed": false
   }
  },
  {
   "cell_type": "code",
   "execution_count": 5,
   "outputs": [
    {
     "name": "stderr",
     "output_type": "stream",
     "text": [
      "100%|██████████| 10/10 [01:16<00:00,  7.66s/it]\n"
     ]
    }
   ],
   "source": [
    "def rate_summary(row):\n",
    "    text = RatableText(context_text=row[\"body\"], output=row[\"predicted\"])\n",
    "    return evaluate_text(plan_llm, text, config.LABEL_SUMMARY_SYSTEM, config.LABEL_SUMMARY_USER)\n",
    "\n",
    "ratings = finetuned_sample.progress_apply(rate_summary, axis=1).tolist()"
   ],
   "metadata": {
    "collapsed": false
   }
  },
  {
   "cell_type": "code",
   "execution_count": 6,
   "outputs": [
    {
     "data": {
      "text/plain": "    source     id                                           category  \\\n0  reuters  22071  Software company morphs into personal injury firm   \n1     cnbc   8940                                   Personal Finance   \n2  reuters  50327              LNGFuel OilGasHydrogenRenewable Fuels   \n3  reuters  22786                                       U.S. Markets   \n4     cnbc   1864                                             Sports   \n\n                                               title  \\\n0  Plaintiffs' BarLegal InnovationLegal IndustryL...   \n1  College hopefuls have a new ultimate dream sch...   \n2  Spain's Cepsa to invest 3 bln euros in green h...   \n3  Wall St falls after recent strong gains, Alpha...   \n4  Canadian billionaire Steve Apostolopoulos says...   \n\n                   published  \\\n0        2022-06-27T22:46:00   \n1  2023-03-15T13:11:19+00:00   \n2        2022-12-01T15:03:00   \n3        2023-02-09T00:30:00   \n4  2023-04-24T17:42:10+00:00   \n\n                                                body  \\\n0  summarize in bullet points: (Reuters) - A soft...   \n1  summarize in bullet points: ## Massachusetts I...   \n2  summarize in bullet points: CADIZ, Spain, Dec ...   \n3  summarize in bullet points: NEW YORK, Feb 8 (R...   \n4  summarize in bullet points: Canadian billionai...   \n\n                                             summary summary_type  \\\n0  * Mighty Law says it will undercut personal in...      BULLETS   \n1  * This year, the school named by the highest n...      BULLETS   \n2  * To produce 300,000 tons of green hydrogen pe...      BULLETS   \n3  * Alphabet shares dive after Google AI chatbot...      BULLETS   \n4  * Canadian businessman Steve Apostolopoulos sa...      BULLETS   \n\n                                           predicted  rating  \\\n0  \\n* A software company is opening its own law ...     4.0   \n1  \\n* A new survey of college-bound students and...     4.0   \n2  \\n* Cepsa to invest 3 bln euros in renewable e...     3.0   \n3  \\n* S&P 500 futures down 1.2%, yuan up 0.2%, w...     3.5   \n4  \\n* The saga over Washington's embattled footb...     4.0   \n\n                                             thought  \n0  The summary accurately captures the main point...  \n1  The summary accurately captures the main point...  \n2  Thought process for the rating:\\n- The summary...  \n3  Thought process for the rating:\\n- The summary...  \n4  The summary reflects the content of the text w...  ",
      "text/html": "<div>\n<style scoped>\n    .dataframe tbody tr th:only-of-type {\n        vertical-align: middle;\n    }\n\n    .dataframe tbody tr th {\n        vertical-align: top;\n    }\n\n    .dataframe thead th {\n        text-align: right;\n    }\n</style>\n<table border=\"1\" class=\"dataframe\">\n  <thead>\n    <tr style=\"text-align: right;\">\n      <th></th>\n      <th>source</th>\n      <th>id</th>\n      <th>category</th>\n      <th>title</th>\n      <th>published</th>\n      <th>body</th>\n      <th>summary</th>\n      <th>summary_type</th>\n      <th>predicted</th>\n      <th>rating</th>\n      <th>thought</th>\n    </tr>\n  </thead>\n  <tbody>\n    <tr>\n      <th>0</th>\n      <td>reuters</td>\n      <td>22071</td>\n      <td>Software company morphs into personal injury firm</td>\n      <td>Plaintiffs' BarLegal InnovationLegal IndustryL...</td>\n      <td>2022-06-27T22:46:00</td>\n      <td>summarize in bullet points: (Reuters) - A soft...</td>\n      <td>* Mighty Law says it will undercut personal in...</td>\n      <td>BULLETS</td>\n      <td>\\n* A software company is opening its own law ...</td>\n      <td>4.0</td>\n      <td>The summary accurately captures the main point...</td>\n    </tr>\n    <tr>\n      <th>1</th>\n      <td>cnbc</td>\n      <td>8940</td>\n      <td>Personal Finance</td>\n      <td>College hopefuls have a new ultimate dream sch...</td>\n      <td>2023-03-15T13:11:19+00:00</td>\n      <td>summarize in bullet points: ## Massachusetts I...</td>\n      <td>* This year, the school named by the highest n...</td>\n      <td>BULLETS</td>\n      <td>\\n* A new survey of college-bound students and...</td>\n      <td>4.0</td>\n      <td>The summary accurately captures the main point...</td>\n    </tr>\n    <tr>\n      <th>2</th>\n      <td>reuters</td>\n      <td>50327</td>\n      <td>LNGFuel OilGasHydrogenRenewable Fuels</td>\n      <td>Spain's Cepsa to invest 3 bln euros in green h...</td>\n      <td>2022-12-01T15:03:00</td>\n      <td>summarize in bullet points: CADIZ, Spain, Dec ...</td>\n      <td>* To produce 300,000 tons of green hydrogen pe...</td>\n      <td>BULLETS</td>\n      <td>\\n* Cepsa to invest 3 bln euros in renewable e...</td>\n      <td>3.0</td>\n      <td>Thought process for the rating:\\n- The summary...</td>\n    </tr>\n    <tr>\n      <th>3</th>\n      <td>reuters</td>\n      <td>22786</td>\n      <td>U.S. Markets</td>\n      <td>Wall St falls after recent strong gains, Alpha...</td>\n      <td>2023-02-09T00:30:00</td>\n      <td>summarize in bullet points: NEW YORK, Feb 8 (R...</td>\n      <td>* Alphabet shares dive after Google AI chatbot...</td>\n      <td>BULLETS</td>\n      <td>\\n* S&amp;P 500 futures down 1.2%, yuan up 0.2%, w...</td>\n      <td>3.5</td>\n      <td>Thought process for the rating:\\n- The summary...</td>\n    </tr>\n    <tr>\n      <th>4</th>\n      <td>cnbc</td>\n      <td>1864</td>\n      <td>Sports</td>\n      <td>Canadian billionaire Steve Apostolopoulos says...</td>\n      <td>2023-04-24T17:42:10+00:00</td>\n      <td>summarize in bullet points: Canadian billionai...</td>\n      <td>* Canadian businessman Steve Apostolopoulos sa...</td>\n      <td>BULLETS</td>\n      <td>\\n* The saga over Washington's embattled footb...</td>\n      <td>4.0</td>\n      <td>The summary reflects the content of the text w...</td>\n    </tr>\n  </tbody>\n</table>\n</div>"
     },
     "execution_count": 6,
     "metadata": {},
     "output_type": "execute_result"
    }
   ],
   "source": [
    "rated_finetuned = pd.concat([finetuned_sample.reset_index(drop=True), pd.DataFrame(ratings).drop(\"raw\", axis=1)], axis=1)\n",
    "rated_finetuned.head()"
   ],
   "metadata": {
    "collapsed": false
   }
  },
  {
   "cell_type": "code",
   "execution_count": 7,
   "outputs": [],
   "source": [
    "rated_finetuned.to_excel(FINETUNED_PATH, index=False)"
   ],
   "metadata": {
    "collapsed": false
   }
  },
  {
   "cell_type": "code",
   "execution_count": 8,
   "outputs": [
    {
     "name": "stderr",
     "output_type": "stream",
     "text": [
      "100%|██████████| 10/10 [01:31<00:00,  9.18s/it]\n"
     ]
    },
    {
     "data": {
      "text/plain": "    source     id                                           category  \\\n0  reuters  22071  Software company morphs into personal injury firm   \n1     cnbc   8940                                   Personal Finance   \n2  reuters  50327              LNGFuel OilGasHydrogenRenewable Fuels   \n3  reuters  22786                                       U.S. Markets   \n4     cnbc   1864                                             Sports   \n\n                                               title  \\\n0  Plaintiffs' BarLegal InnovationLegal IndustryL...   \n1  College hopefuls have a new ultimate dream sch...   \n2  Spain's Cepsa to invest 3 bln euros in green h...   \n3  Wall St falls after recent strong gains, Alpha...   \n4  Canadian billionaire Steve Apostolopoulos says...   \n\n                   published  \\\n0        2022-06-27T22:46:00   \n1  2023-03-15T13:11:19+00:00   \n2        2022-12-01T15:03:00   \n3        2023-02-09T00:30:00   \n4  2023-04-24T17:42:10+00:00   \n\n                                                body  \\\n0  summarize in bullet points: (Reuters) - A soft...   \n1  summarize in bullet points: ## Massachusetts I...   \n2  summarize in bullet points: CADIZ, Spain, Dec ...   \n3  summarize in bullet points: NEW YORK, Feb 8 (R...   \n4  summarize in bullet points: Canadian billionai...   \n\n                                             summary summary_type  \\\n0  * Mighty Law says it will undercut personal in...      BULLETS   \n1  * This year, the school named by the highest n...      BULLETS   \n2  * To produce 300,000 tons of green hydrogen pe...      BULLETS   \n3  * Alphabet shares dive after Google AI chatbot...      BULLETS   \n4  * Canadian businessman Steve Apostolopoulos sa...      BULLETS   \n\n                                           predicted  rating  \\\n0  The company, called Mighty Group Inc., is laun...     5.0   \n1  A new survey of college-bound students and the...     5.0   \n2  The project will produce 300,000 tons of hydro...     2.0   \n3  U.S. stocks ended lower on Wednesday, weighed ...     1.0   \n4  The saga over Washington's embattled football ...     5.0   \n\n                                             thought  \n0  The summary accurately captures the main point...  \n1  The summary accurately captures the main point...  \n2  The summary accurately mentions that the proje...  \n3  The summary does not accurately reflect the co...  \n4  Thought process for the rating:\\n- The summary...  ",
      "text/html": "<div>\n<style scoped>\n    .dataframe tbody tr th:only-of-type {\n        vertical-align: middle;\n    }\n\n    .dataframe tbody tr th {\n        vertical-align: top;\n    }\n\n    .dataframe thead th {\n        text-align: right;\n    }\n</style>\n<table border=\"1\" class=\"dataframe\">\n  <thead>\n    <tr style=\"text-align: right;\">\n      <th></th>\n      <th>source</th>\n      <th>id</th>\n      <th>category</th>\n      <th>title</th>\n      <th>published</th>\n      <th>body</th>\n      <th>summary</th>\n      <th>summary_type</th>\n      <th>predicted</th>\n      <th>rating</th>\n      <th>thought</th>\n    </tr>\n  </thead>\n  <tbody>\n    <tr>\n      <th>0</th>\n      <td>reuters</td>\n      <td>22071</td>\n      <td>Software company morphs into personal injury firm</td>\n      <td>Plaintiffs' BarLegal InnovationLegal IndustryL...</td>\n      <td>2022-06-27T22:46:00</td>\n      <td>summarize in bullet points: (Reuters) - A soft...</td>\n      <td>* Mighty Law says it will undercut personal in...</td>\n      <td>BULLETS</td>\n      <td>The company, called Mighty Group Inc., is laun...</td>\n      <td>5.0</td>\n      <td>The summary accurately captures the main point...</td>\n    </tr>\n    <tr>\n      <th>1</th>\n      <td>cnbc</td>\n      <td>8940</td>\n      <td>Personal Finance</td>\n      <td>College hopefuls have a new ultimate dream sch...</td>\n      <td>2023-03-15T13:11:19+00:00</td>\n      <td>summarize in bullet points: ## Massachusetts I...</td>\n      <td>* This year, the school named by the highest n...</td>\n      <td>BULLETS</td>\n      <td>A new survey of college-bound students and the...</td>\n      <td>5.0</td>\n      <td>The summary accurately captures the main point...</td>\n    </tr>\n    <tr>\n      <th>2</th>\n      <td>reuters</td>\n      <td>50327</td>\n      <td>LNGFuel OilGasHydrogenRenewable Fuels</td>\n      <td>Spain's Cepsa to invest 3 bln euros in green h...</td>\n      <td>2022-12-01T15:03:00</td>\n      <td>summarize in bullet points: CADIZ, Spain, Dec ...</td>\n      <td>* To produce 300,000 tons of green hydrogen pe...</td>\n      <td>BULLETS</td>\n      <td>The project will produce 300,000 tons of hydro...</td>\n      <td>2.0</td>\n      <td>The summary accurately mentions that the proje...</td>\n    </tr>\n    <tr>\n      <th>3</th>\n      <td>reuters</td>\n      <td>22786</td>\n      <td>U.S. Markets</td>\n      <td>Wall St falls after recent strong gains, Alpha...</td>\n      <td>2023-02-09T00:30:00</td>\n      <td>summarize in bullet points: NEW YORK, Feb 8 (R...</td>\n      <td>* Alphabet shares dive after Google AI chatbot...</td>\n      <td>BULLETS</td>\n      <td>U.S. stocks ended lower on Wednesday, weighed ...</td>\n      <td>1.0</td>\n      <td>The summary does not accurately reflect the co...</td>\n    </tr>\n    <tr>\n      <th>4</th>\n      <td>cnbc</td>\n      <td>1864</td>\n      <td>Sports</td>\n      <td>Canadian billionaire Steve Apostolopoulos says...</td>\n      <td>2023-04-24T17:42:10+00:00</td>\n      <td>summarize in bullet points: Canadian billionai...</td>\n      <td>* Canadian businessman Steve Apostolopoulos sa...</td>\n      <td>BULLETS</td>\n      <td>The saga over Washington's embattled football ...</td>\n      <td>5.0</td>\n      <td>Thought process for the rating:\\n- The summary...</td>\n    </tr>\n  </tbody>\n</table>\n</div>"
     },
     "execution_count": 8,
     "metadata": {},
     "output_type": "execute_result"
    }
   ],
   "source": [
    "ratings = og_sample.progress_apply(rate_summary, axis=1).tolist()\n",
    "rated_og = pd.concat([og_sample.reset_index(drop=True), pd.DataFrame(ratings).drop(\"raw\", axis=1)], axis=1)\n",
    "rated_og.head()"
   ],
   "metadata": {
    "collapsed": false
   }
  },
  {
   "cell_type": "code",
   "execution_count": 9,
   "outputs": [],
   "source": [
    "rated_og.to_excel(OG_PATH, index=False)"
   ],
   "metadata": {
    "collapsed": false
   }
  },
  {
   "cell_type": "code",
   "execution_count": 10,
   "outputs": [
    {
     "data": {
      "text/plain": "count    10.000000\nmean      4.100000\nstd       0.614636\nmin       3.000000\n25%       4.000000\n50%       4.000000\n75%       4.375000\nmax       5.000000\nName: rating, dtype: float64"
     },
     "execution_count": 10,
     "metadata": {},
     "output_type": "execute_result"
    }
   ],
   "source": [
    "rated_finetuned.rating.describe()"
   ],
   "metadata": {
    "collapsed": false
   }
  },
  {
   "cell_type": "code",
   "execution_count": 11,
   "outputs": [
    {
     "data": {
      "text/plain": "count    10.000000\nmean      3.600000\nstd       1.429841\nmin       1.000000\n25%       2.500000\n50%       4.000000\n75%       4.750000\nmax       5.000000\nName: rating, dtype: float64"
     },
     "execution_count": 11,
     "metadata": {},
     "output_type": "execute_result"
    }
   ],
   "source": [
    "rated_og.rating.describe()"
   ],
   "metadata": {
    "collapsed": false
   }
  },
  {
   "cell_type": "code",
   "execution_count": null,
   "outputs": [],
   "source": [],
   "metadata": {
    "collapsed": false
   }
  }
 ],
 "metadata": {
  "kernelspec": {
   "display_name": "Python 3",
   "language": "python",
   "name": "python3"
  },
  "language_info": {
   "codemirror_mode": {
    "name": "ipython",
    "version": 2
   },
   "file_extension": ".py",
   "mimetype": "text/x-python",
   "name": "python",
   "nbconvert_exporter": "python",
   "pygments_lexer": "ipython2",
   "version": "2.7.6"
  }
 },
 "nbformat": 4,
 "nbformat_minor": 0
}
