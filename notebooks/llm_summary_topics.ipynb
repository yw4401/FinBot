{
 "cells": [
  {
   "cell_type": "code",
   "execution_count": 1,
   "id": "61ebef23-a1e5-4a2d-a949-83c3b83850df",
   "metadata": {},
   "outputs": [],
   "source": [
    "import sys\n",
    " \n",
    "sys.path.insert(0, '..')"
   ]
  },
  {
   "cell_type": "code",
   "execution_count": 2,
   "id": "faec1d62-b686-420d-b3f9-fbb5b990368e",
   "metadata": {},
   "outputs": [],
   "source": [
    "from summarizer.topic_sum import create_topic_summarizer"
   ]
  },
  {
   "cell_type": "code",
   "execution_count": 3,
   "id": "2ecd7673-6a89-4a60-9bb9-fc4217efae8e",
   "metadata": {},
   "outputs": [
    {
     "data": {
      "text/html": [
       "<div>\n",
       "<style scoped>\n",
       "    .dataframe tbody tr th:only-of-type {\n",
       "        vertical-align: middle;\n",
       "    }\n",
       "\n",
       "    .dataframe tbody tr th {\n",
       "        vertical-align: top;\n",
       "    }\n",
       "\n",
       "    .dataframe thead th {\n",
       "        text-align: right;\n",
       "    }\n",
       "</style>\n",
       "<table border=\"1\" class=\"dataframe\">\n",
       "  <thead>\n",
       "    <tr style=\"text-align: right;\">\n",
       "      <th></th>\n",
       "      <th>source</th>\n",
       "      <th>id</th>\n",
       "      <th>category</th>\n",
       "      <th>title</th>\n",
       "      <th>published</th>\n",
       "      <th>body</th>\n",
       "      <th>summary</th>\n",
       "      <th>summary_type</th>\n",
       "      <th>topic</th>\n",
       "      <th>probability</th>\n",
       "    </tr>\n",
       "  </thead>\n",
       "  <tbody>\n",
       "    <tr>\n",
       "      <th>0</th>\n",
       "      <td>reuters</td>\n",
       "      <td>29667</td>\n",
       "      <td>Europe</td>\n",
       "      <td>European shares rise on upbeat cues from Powel...</td>\n",
       "      <td>2023-02-08T17:11:00</td>\n",
       "      <td>Feb 8 (Reuters) - European shares rose on Wedn...</td>\n",
       "      <td>* \\n* STOXX 600 pulls back from 9-mth high to ...</td>\n",
       "      <td>BULLETS</td>\n",
       "      <td>-1</td>\n",
       "      <td>0.000000</td>\n",
       "    </tr>\n",
       "    <tr>\n",
       "      <th>1</th>\n",
       "      <td>reuters</td>\n",
       "      <td>79619</td>\n",
       "      <td>China</td>\n",
       "      <td>China Evergrande debt restructuring incentive ...</td>\n",
       "      <td>2023-04-27T06:05:00</td>\n",
       "      <td>HONG KONG, April 27 (Reuters) - Embattled prop...</td>\n",
       "      <td></td>\n",
       "      <td>NULL</td>\n",
       "      <td>310</td>\n",
       "      <td>0.281727</td>\n",
       "    </tr>\n",
       "    <tr>\n",
       "      <th>2</th>\n",
       "      <td>reuters</td>\n",
       "      <td>48010</td>\n",
       "      <td>European Markets</td>\n",
       "      <td>European stocks rally as banking worries fade</td>\n",
       "      <td>2023-03-30T16:27:00</td>\n",
       "      <td>March 30 (Reuters) - European stocks rose to n...</td>\n",
       "      <td>* \\n* H&amp;M posts surprise profit in Dec-Feb\\n* ...</td>\n",
       "      <td>BULLETS</td>\n",
       "      <td>77</td>\n",
       "      <td>1.000000</td>\n",
       "    </tr>\n",
       "    <tr>\n",
       "      <th>3</th>\n",
       "      <td>reuters</td>\n",
       "      <td>67859</td>\n",
       "      <td>Aerospace &amp; Defense</td>\n",
       "      <td>China gears up to compete with SpaceX's Starli...</td>\n",
       "      <td>2023-03-02T10:29:00</td>\n",
       "      <td>BEIJING, March 2 (Reuters) - China's military-...</td>\n",
       "      <td></td>\n",
       "      <td>NULL</td>\n",
       "      <td>-1</td>\n",
       "      <td>0.000000</td>\n",
       "    </tr>\n",
       "    <tr>\n",
       "      <th>4</th>\n",
       "      <td>reuters</td>\n",
       "      <td>109054</td>\n",
       "      <td>World</td>\n",
       "      <td>Russia's war on Ukraine latest: Moscow denies ...</td>\n",
       "      <td>2023-05-12T05:13:00</td>\n",
       "      <td>May 11 (Reuters) - Russia's defence ministry o...</td>\n",
       "      <td></td>\n",
       "      <td>NULL</td>\n",
       "      <td>719</td>\n",
       "      <td>1.000000</td>\n",
       "    </tr>\n",
       "  </tbody>\n",
       "</table>\n",
       "</div>"
      ],
      "text/plain": [
       "    source      id             category   \n",
       "0  reuters   29667               Europe  \\\n",
       "1  reuters   79619                China   \n",
       "2  reuters   48010     European Markets   \n",
       "3  reuters   67859  Aerospace & Defense   \n",
       "4  reuters  109054                World   \n",
       "\n",
       "                                               title            published   \n",
       "0  European shares rise on upbeat cues from Powel...  2023-02-08T17:11:00  \\\n",
       "1  China Evergrande debt restructuring incentive ...  2023-04-27T06:05:00   \n",
       "2      European stocks rally as banking worries fade  2023-03-30T16:27:00   \n",
       "3  China gears up to compete with SpaceX's Starli...  2023-03-02T10:29:00   \n",
       "4  Russia's war on Ukraine latest: Moscow denies ...  2023-05-12T05:13:00   \n",
       "\n",
       "                                                body   \n",
       "0  Feb 8 (Reuters) - European shares rose on Wedn...  \\\n",
       "1  HONG KONG, April 27 (Reuters) - Embattled prop...   \n",
       "2  March 30 (Reuters) - European stocks rose to n...   \n",
       "3  BEIJING, March 2 (Reuters) - China's military-...   \n",
       "4  May 11 (Reuters) - Russia's defence ministry o...   \n",
       "\n",
       "                                             summary summary_type  topic   \n",
       "0  * \\n* STOXX 600 pulls back from 9-mth high to ...      BULLETS     -1  \\\n",
       "1                                                            NULL    310   \n",
       "2  * \\n* H&M posts surprise profit in Dec-Feb\\n* ...      BULLETS     77   \n",
       "3                                                            NULL     -1   \n",
       "4                                                            NULL    719   \n",
       "\n",
       "   probability  \n",
       "0     0.000000  \n",
       "1     0.281727  \n",
       "2     1.000000  \n",
       "3     0.000000  \n",
       "4     1.000000  "
      ]
     },
     "execution_count": 3,
     "metadata": {},
     "output_type": "execute_result"
    }
   ],
   "source": [
    "import pandas as pd\n",
    "import numpy as np\n",
    "import random\n",
    "import logging\n",
    "\n",
    "\n",
    "random.seed(93)\n",
    "np.random.seed(93)\n",
    "\n",
    "# The code expects a dataframe with title, published, topic, and probability columns\n",
    "\n",
    "topic_df = pd.read_parquet(\"gs://scraped-news-article-data-null/2023-topics.parquet\")\n",
    "topic_df.head()"
   ]
  },
  {
   "cell_type": "code",
   "execution_count": 4,
   "id": "7c94fc2c-4e41-4465-898c-ba633a141ed3",
   "metadata": {},
   "outputs": [],
   "source": [
    "api_summarizer = create_topic_summarizer(temperature=0)\n",
    "#test = api_summarizer(topic_df, 0)\n",
    "#print(test)"
   ]
  },
  {
   "cell_type": "code",
   "execution_count": 5,
   "id": "27d9dc7b-bed7-4d5c-9a22-fb2679368e50",
   "metadata": {},
   "outputs": [
    {
     "name": "stdout",
     "output_type": "stream",
     "text": [
      "The articles discuss various developments and applications of artificial intelligence (AI) technology, particularly in the form of generative language models like ChatGPT and Bard. Companies like Google, Microsoft, and OpenAI are investing heavily in AI and developing new products and features that incorporate the technology. AI is being used in a variety of industries, including finance, real estate, and healthcare, and is seen as a potential tool for improving productivity and employee engagement. However, there are also concerns about the risks and ethical implications of AI, and regulators are beginning to investigate the technology.\n"
     ]
    }
   ],
   "source": [
    "with open(\"/home/jupyter/apikey\", \"r\") as api_fp:\n",
    "    api_key = api_fp.read().strip()\n",
    "\n",
    "openai_summarizer = create_topic_summarizer(kind=\"openai\", api_key=api_key, temperature=0)\n",
    "test = openai_summarizer(topic_df, 0)\n",
    "print(test)"
   ]
  },
  {
   "cell_type": "code",
   "execution_count": 6,
   "id": "b00309f1-8bf4-4ff3-8b8c-a8fbee030370",
   "metadata": {},
   "outputs": [
    {
     "name": "stdout",
     "output_type": "stream",
     "text": [
      "1564\n"
     ]
    }
   ],
   "source": [
    "topics = list(set(topic_df.topic.unique()) - {-1})\n",
    "print(len(topics))"
   ]
  },
  {
   "cell_type": "code",
   "execution_count": 7,
   "id": "01560cb4-6420-46a5-b6ac-4d89668ec6e8",
   "metadata": {},
   "outputs": [],
   "source": [
    "from tqdm import tqdm\n",
    "\n",
    "\n",
    "tqdm.pandas()"
   ]
  },
  {
   "cell_type": "code",
   "execution_count": 8,
   "id": "0308818a-aac4-44a2-91be-e988ddb517ba",
   "metadata": {},
   "outputs": [
    {
     "data": {
      "text/html": [
       "<div>\n",
       "<style scoped>\n",
       "    .dataframe tbody tr th:only-of-type {\n",
       "        vertical-align: middle;\n",
       "    }\n",
       "\n",
       "    .dataframe tbody tr th {\n",
       "        vertical-align: top;\n",
       "    }\n",
       "\n",
       "    .dataframe thead th {\n",
       "        text-align: right;\n",
       "    }\n",
       "</style>\n",
       "<table border=\"1\" class=\"dataframe\">\n",
       "  <thead>\n",
       "    <tr style=\"text-align: right;\">\n",
       "      <th></th>\n",
       "      <th>topics</th>\n",
       "      <th>summary</th>\n",
       "    </tr>\n",
       "  </thead>\n",
       "  <tbody>\n",
       "    <tr>\n",
       "      <th>0</th>\n",
       "      <td>0</td>\n",
       "      <td>The news articles revolve around the advanceme...</td>\n",
       "    </tr>\n",
       "    <tr>\n",
       "      <th>1</th>\n",
       "      <td>1</td>\n",
       "      <td>The news articles cover the fluctuations in oi...</td>\n",
       "    </tr>\n",
       "    <tr>\n",
       "      <th>2</th>\n",
       "      <td>2</td>\n",
       "      <td>The news articles revolve around the security ...</td>\n",
       "    </tr>\n",
       "    <tr>\n",
       "      <th>3</th>\n",
       "      <td>3</td>\n",
       "      <td>The Federal Reserve's interest rate decisions ...</td>\n",
       "    </tr>\n",
       "    <tr>\n",
       "      <th>4</th>\n",
       "      <td>4</td>\n",
       "      <td>The news articles cover various aspects of the...</td>\n",
       "    </tr>\n",
       "  </tbody>\n",
       "</table>\n",
       "</div>"
      ],
      "text/plain": [
       "   topics                                            summary\n",
       "0       0  The news articles revolve around the advanceme...\n",
       "1       1  The news articles cover the fluctuations in oi...\n",
       "2       2  The news articles revolve around the security ...\n",
       "3       3  The Federal Reserve's interest rate decisions ...\n",
       "4       4  The news articles cover various aspects of the..."
      ]
     },
     "execution_count": 8,
     "metadata": {},
     "output_type": "execute_result"
    }
   ],
   "source": [
    "summarizer_type = \"openai\"\n",
    "\n",
    "\n",
    "try:\n",
    "    topic_sum = pd.read_parquet(\"gs://scraped-news-article-data-null/2023-topics-%s.parquet\" % summarizer_type)\n",
    "except:\n",
    "    topic_sum = pd.DataFrame({\n",
    "        \"topics\": topics,\n",
    "        \"summary\": [\"\" for _ in topics]\n",
    "    })\n",
    "\n",
    "topic_sum.head()"
   ]
  },
  {
   "cell_type": "code",
   "execution_count": null,
   "id": "d809d2c9-2e1f-42c0-8e8f-1d2061cd9143",
   "metadata": {},
   "outputs": [
    {
     "name": "stderr",
     "output_type": "stream",
     "text": [
      "  5%|▍         | 57/1247 [16:41<6:15:13, 18.92s/it]"
     ]
    }
   ],
   "source": [
    "works = set(topic_sum.loc[topic_sum.summary.str.len() == 0][\"topics\"].to_list())\n",
    "summarizer = create_topic_summarizer(summarizer_type, api_key=api_key)\n",
    "with tqdm(total = len(works)) as progress:\n",
    "    for i, w in enumerate(works):\n",
    "        topic = topic_sum.loc[topic_sum.topics == w].iloc[0][\"topics\"]\n",
    "        summary = summarizer(topic_df, topic)\n",
    "        topic_sum.loc[topic_sum.topics == w, \"summary\"] = summary\n",
    "        progress.update(1)\n",
    "        if i % 10 == 0:\n",
    "            topic_sum.to_parquet(\"gs://scraped-news-article-data-null/2023-topics-%s.parquet\" % summarizer_type, index=False)\n",
    "topic_sum.to_parquet(\"gs://scraped-news-article-data-null/2023-topics-%s.parquet\" % summarizer_type, index=False)"
   ]
  },
  {
   "cell_type": "code",
   "execution_count": null,
   "id": "5b314d3f-2068-474a-bb33-d5944777cf6f",
   "metadata": {},
   "outputs": [],
   "source": []
  }
 ],
 "metadata": {
  "environment": {
   "kernel": "llamaidx",
   "name": "common-cu110.m108",
   "type": "gcloud",
   "uri": "gcr.io/deeplearning-platform-release/base-cu110:m108"
  },
  "kernelspec": {
   "display_name": "llamaidx",
   "language": "python",
   "name": "llamaidx"
  },
  "language_info": {
   "codemirror_mode": {
    "name": "ipython",
    "version": 3
   },
   "file_extension": ".py",
   "mimetype": "text/x-python",
   "name": "python",
   "nbconvert_exporter": "python",
   "pygments_lexer": "ipython3",
   "version": "3.10.11"
  }
 },
 "nbformat": 4,
 "nbformat_minor": 5
}
