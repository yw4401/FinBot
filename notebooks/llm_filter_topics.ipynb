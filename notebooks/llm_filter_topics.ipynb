{
 "cells": [
  {
   "cell_type": "code",
   "execution_count": 1,
   "id": "660fc4b7-3437-4a56-af99-7c7547b5cff2",
   "metadata": {},
   "outputs": [
    {
     "data": {
      "text/html": [
       "<div>\n",
       "<style scoped>\n",
       "    .dataframe tbody tr th:only-of-type {\n",
       "        vertical-align: middle;\n",
       "    }\n",
       "\n",
       "    .dataframe tbody tr th {\n",
       "        vertical-align: top;\n",
       "    }\n",
       "\n",
       "    .dataframe thead th {\n",
       "        text-align: right;\n",
       "    }\n",
       "</style>\n",
       "<table border=\"1\" class=\"dataframe\">\n",
       "  <thead>\n",
       "    <tr style=\"text-align: right;\">\n",
       "      <th></th>\n",
       "      <th>topics</th>\n",
       "      <th>summary</th>\n",
       "    </tr>\n",
       "  </thead>\n",
       "  <tbody>\n",
       "    <tr>\n",
       "      <th>0</th>\n",
       "      <td>0</td>\n",
       "      <td>The news articles revolve around the advanceme...</td>\n",
       "    </tr>\n",
       "    <tr>\n",
       "      <th>1</th>\n",
       "      <td>1</td>\n",
       "      <td>The news articles cover the fluctuations in oi...</td>\n",
       "    </tr>\n",
       "    <tr>\n",
       "      <th>2</th>\n",
       "      <td>2</td>\n",
       "      <td>The news articles revolve around the security ...</td>\n",
       "    </tr>\n",
       "    <tr>\n",
       "      <th>3</th>\n",
       "      <td>3</td>\n",
       "      <td>The Federal Reserve's interest rate decisions ...</td>\n",
       "    </tr>\n",
       "    <tr>\n",
       "      <th>4</th>\n",
       "      <td>4</td>\n",
       "      <td>The news articles cover various aspects of the...</td>\n",
       "    </tr>\n",
       "  </tbody>\n",
       "</table>\n",
       "</div>"
      ],
      "text/plain": [
       "   topics                                            summary\n",
       "0       0  The news articles revolve around the advanceme...\n",
       "1       1  The news articles cover the fluctuations in oi...\n",
       "2       2  The news articles revolve around the security ...\n",
       "3       3  The Federal Reserve's interest rate decisions ...\n",
       "4       4  The news articles cover various aspects of the..."
      ]
     },
     "execution_count": 1,
     "metadata": {},
     "output_type": "execute_result"
    }
   ],
   "source": [
    "import sys\n",
    "import pandas as pd\n",
    "\n",
    "\n",
    "sys.path.insert(0, '..')\n",
    "summarizer_type = \"openai\"\n",
    "\n",
    "\n",
    "topic_df = pd.read_parquet(\"gs://scraped-news-article-data-null/2023-topics-%s.parquet\" % summarizer_type)\n",
    "topic_df.head()"
   ]
  },
  {
   "cell_type": "code",
   "execution_count": 2,
   "id": "ba70ab30-a81f-4f71-b2b7-c613345e6b9d",
   "metadata": {},
   "outputs": [
    {
     "data": {
      "text/plain": [
       "0    The news articles revolve around the advanceme...\n",
       "1    The news articles cover the fluctuations in oi...\n",
       "2    The news articles revolve around the security ...\n",
       "3    The Federal Reserve's interest rate decisions ...\n",
       "4    The news articles cover various aspects of the...\n",
       "Name: summary, dtype: object"
      ]
     },
     "execution_count": 2,
     "metadata": {},
     "output_type": "execute_result"
    }
   ],
   "source": [
    "topic_existing_sum = topic_df.loc[(topic_df.summary.str.len() > 0) & (topic_df.summary.str.lower().str.strip() != \"no theme\")]\n",
    "topic_existing_sum.summary.head()"
   ]
  },
  {
   "cell_type": "code",
   "execution_count": 3,
   "id": "88da202c-74bf-4b79-bb0b-74e88e4e45f4",
   "metadata": {},
   "outputs": [
    {
     "data": {
      "text/plain": [
       "['The news articles revolve around the advancements and competition in the field of Artificial Intelligence (AI) and its integration into various industries. Companies like Google, Microsoft, OpenAI, and others are developing and launching AI-powered products like chatbots, virtual assistants, and generative AI. The articles also discuss the potential risks and concerns associated with AI.',\n",
       " \"The news articles cover the fluctuations in oil prices and their causes, including OPEC+ output cuts, Fed rate hikes, US inflation data, and demand concerns. There are also mentions of China's economic growth, US oil activity, and the possibility of a rebound in oil prices.\",\n",
       " 'The news articles revolve around the security concerns and potential bans on TikTok, a Chinese-owned social media app, in various countries including the US, UK, Canada, Australia, New Zealand, Japan, and Austria. The articles also cover the efforts made by TikTok to address these concerns, including new data security regimes and hiring moderators to monitor offensive content. The CEO of TikTok has been grilled by lawmakers from both parties on whether the app can protect American privacy.',\n",
       " \"The Federal Reserve's interest rate decisions and statements are the main theme of these news articles, with a focus on inflation, bank issues, and the possibility of a pause in rate hikes.\",\n",
       " \"The news articles cover various aspects of the US job market, including job growth, wage inflation, unemployment rates, and the Federal Reserve's interest rate decisions. The articles also discuss the impact of factors such as weather, labor shortages, and the COVID-19 pandemic on the job market.\",\n",
       " 'A massive earthquake hit Turkey and Syria, killing thousands of people and leaving many homeless. The death toll rises as rescue efforts continue, and survivors struggle to find shelter and basic necessities. The earthquake also causes mental health issues among survivors, and aid from various countries is sent to help.',\n",
       " 'The FTSE 100 index in the UK experiences fluctuations due to various factors such as weak sales, earnings drag, global risk-off mood, and rate hike worries. However, it also records gains and best winning streaks due to positive economic data, healthcare and mining boosts, and positive earnings reports from companies like Entain and Beazley.',\n",
       " \"The Indian rupee's performance against the US dollar is the main theme of these news articles. The articles cover various factors affecting the rupee's value, including interest rate gaps, US yields, oil prices, Fed policy, and dollar inflows/outflows. The rupee's performance is described as rangebound, stronger, weaker, poised to open higher, likely to hold firm, headed higher, and likely to strengthen. The articles also mention the central bank's intervention and the opinions of analysts and traders.\",\n",
       " 'California has been hit by multiple storms causing flooding, mudslides, and power outages. The storms have also caused damage to infrastructure and agriculture. Other regions, such as the Mississippi River and Brazil, have also experienced flooding. Climate change and its effects on extreme weather events are also discussed.',\n",
       " 'The news articles discuss the ongoing debt ceiling negotiations between President Biden and congressional leaders, as well as the potential consequences of a default. There are also articles about the Republican debt-limit plan, spending cuts, and the impact on various industries.']"
      ]
     },
     "execution_count": 3,
     "metadata": {},
     "output_type": "execute_result"
    }
   ],
   "source": [
    "topic_existing_sum.summary.iloc[:10].to_list()"
   ]
  },
  {
   "cell_type": "code",
   "execution_count": 4,
   "id": "9e48ecd1-b398-49c8-a128-788b7346f054",
   "metadata": {},
   "outputs": [],
   "source": [
    "from summarizer.topic_sum import create_topic_filter"
   ]
  },
  {
   "cell_type": "code",
   "execution_count": 5,
   "id": "2f4b4e8d-0c98-4815-af33-c11be696656f",
   "metadata": {},
   "outputs": [
    {
     "data": {
      "text/plain": [
       "[RelevantTopic(topic_number='0', rating=1.0),\n",
       " RelevantTopic(topic_number='50', rating=0.4),\n",
       " RelevantTopic(topic_number='59', rating=1.0),\n",
       " RelevantTopic(topic_number='98', rating=0.6),\n",
       " RelevantTopic(topic_number='114', rating=0.6),\n",
       " RelevantTopic(topic_number='115', rating=0.4),\n",
       " RelevantTopic(topic_number='143', rating=0.4),\n",
       " RelevantTopic(topic_number='169', rating=0.8),\n",
       " RelevantTopic(topic_number='193', rating=0.8),\n",
       " RelevantTopic(topic_number='212', rating=0.7),\n",
       " RelevantTopic(topic_number='236', rating=0.7),\n",
       " RelevantTopic(topic_number='272', rating=0.2),\n",
       " RelevantTopic(topic_number='291', rating=0.6),\n",
       " RelevantTopic(topic_number='326', rating=0.4),\n",
       " RelevantTopic(topic_number='343', rating=0.6)]"
      ]
     },
     "execution_count": 5,
     "metadata": {},
     "output_type": "execute_result"
    }
   ],
   "source": [
    "with open(\"/home/jupyter/apikey\", \"r\") as api_fp:\n",
    "    api_key = api_fp.read().strip()\n",
    "\n",
    "\n",
    "filter_llm = create_topic_filter(api_key=api_key, temperature=0)\n",
    "list(filter_llm(topic_existing_sum, \"Which companies are making progress on artifical intelligence?\"))"
   ]
  }
 ],
 "metadata": {
  "environment": {
   "kernel": "llamaidx",
   "name": "common-cu110.m108",
   "type": "gcloud",
   "uri": "gcr.io/deeplearning-platform-release/base-cu110:m108"
  },
  "kernelspec": {
   "display_name": "llamaidx",
   "language": "python",
   "name": "llamaidx"
  },
  "language_info": {
   "codemirror_mode": {
    "name": "ipython",
    "version": 3
   },
   "file_extension": ".py",
   "mimetype": "text/x-python",
   "name": "python",
   "nbconvert_exporter": "python",
   "pygments_lexer": "ipython3",
   "version": "3.10.11"
  }
 },
 "nbformat": 4,
 "nbformat_minor": 5
}
