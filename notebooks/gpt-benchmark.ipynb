{
 "cells": [
  {
   "cell_type": "code",
   "execution_count": 1,
   "metadata": {
    "collapsed": true
   },
   "outputs": [],
   "source": [
    "import matplotlib.pyplot as plt\n",
    "import pandas as pd\n",
    "import time\n",
    "from langchain.callbacks import get_openai_callback\n",
    "import datetime\n",
    "from tqdm import tqdm\n",
    "import itertools\n",
    "import joblib\n",
    "from langchain.prompts import SystemMessagePromptTemplate, HumanMessagePromptTemplate, ChatPromptTemplate, MessagesPlaceholder, PromptTemplate\n",
    "from langchain.memory import ConversationBufferMemory\n",
    "from langchain.chat_models import ChatOpenAI\n",
    "import random\n",
    "import seaborn as sns"
   ]
  },
  {
   "cell_type": "code",
   "execution_count": 2,
   "outputs": [],
   "source": [
    "API_KEY_PATH = \"../key\"\n",
    "\n",
    "with open(API_KEY_PATH, \"r\") as fp:\n",
    "    API_KEY = fp.read().strip()"
   ],
   "metadata": {
    "collapsed": false
   }
  },
  {
   "cell_type": "code",
   "execution_count": 3,
   "outputs": [],
   "source": [
    "from operator import itemgetter\n",
    "from langchain.schema.runnable import RunnablePassthrough, RunnableLambda\n",
    "\n",
    "plan_llm = ChatOpenAI(openai_api_key=API_KEY, temperature=0.7,\n",
    "                      model_name=\"gpt-4-1106-preview\")\n",
    "memory = ConversationBufferMemory(return_messages=True)\n",
    "system_prompt = SystemMessagePromptTemplate.from_template(\"You are an AI assistant that will come up with test prompts that can be used to generate long response for \"\n",
    "                                                          \"benchmarking the token generation rate of large language models.\")\n",
    "user_prompt = HumanMessagePromptTemplate.from_template(\"Give me a new prompt.\")\n",
    "chat_prompt = ChatPromptTemplate.from_messages([system_prompt, MessagesPlaceholder(variable_name=\"history\"), user_prompt])\n",
    "augment_chain = RunnablePassthrough.assign(\n",
    "        history=RunnableLambda(memory.load_memory_variables) | itemgetter(\"history\")\n",
    "    ) | chat_prompt | plan_llm"
   ],
   "metadata": {
    "collapsed": false
   }
  },
  {
   "cell_type": "code",
   "execution_count": 4,
   "outputs": [
    {
     "name": "stderr",
     "output_type": "stream",
     "text": [
      "100%|██████████| 60/60 [00:22<00:00,  2.67it/s]"
     ]
    },
    {
     "name": "stdout",
     "output_type": "stream",
     "text": [
      "Prompt: \"Write a comprehensive guide explaining the steps involved in planning and executing an international scientific expedition to study the effects of climate change on remote Arctic ecosystems. Include details on obtaining funding, necessary equipment, team composition, logistics, data collection methods, and strategies for overcoming potential challenges.\"\n"
     ]
    },
    {
     "name": "stderr",
     "output_type": "stream",
     "text": [
      "\n"
     ]
    }
   ],
   "source": [
    "test_prompts = []\n",
    "parallel = joblib.Parallel(n_jobs=8, return_as=\"generator\")\n",
    "with tqdm(total=60) as progress:\n",
    "    for i in parallel(joblib.delayed(augment_chain.invoke)({}) for _ in range(60)):\n",
    "        test_prompts.append(i.content)\n",
    "        progress.update(1)\n",
    "print(test_prompts[0])"
   ],
   "metadata": {
    "collapsed": false
   }
  },
  {
   "cell_type": "code",
   "execution_count": 5,
   "outputs": [
    {
     "name": "stderr",
     "output_type": "stream",
     "text": [
      " 17%|█▋        | 60/360 [01:43<06:42,  1.34s/it] "
     ]
    },
    {
     "name": "stdout",
     "output_type": "stream",
     "text": [
      "Request timed out: HTTPSConnectionPool(host='api.openai.com', port=443): Read timed out. (read timeout=40.0)\n",
      "Request timed out: HTTPSConnectionPool(host='api.openai.com', port=443): Read timed out. (read timeout=40.0)\n",
      "Request timed out: HTTPSConnectionPool(host='api.openai.com', port=443): Read timed out. (read timeout=40.0)\n",
      "Request timed out: HTTPSConnectionPool(host='api.openai.com', port=443): Read timed out. (read timeout=40.0)\n",
      "Request timed out: HTTPSConnectionPool(host='api.openai.com', port=443): Read timed out. (read timeout=40.0)\n",
      "Request timed out: HTTPSConnectionPool(host='api.openai.com', port=443): Read timed out. (read timeout=40.0)\n",
      "Request timed out: HTTPSConnectionPool(host='api.openai.com', port=443): Read timed out. (read timeout=40.0)\n",
      "Request timed out: HTTPSConnectionPool(host='api.openai.com', port=443): Read timed out. (read timeout=40.0)\n",
      "Rate limit reached for gpt-4-vision-preview in organization org-muiqeEVHBsuYbgt2p54Es1zo on requests per day (RPD): Limit 100, Used 100, Requested 1. Please try again in 14m24s. Visit https://platform.openai.com/account/rate-limits to learn more.\n",
      "Rate limit reached for gpt-4-vision-preview in organization org-muiqeEVHBsuYbgt2p54Es1zo on requests per day (RPD): Limit 100, Used 100, Requested 1. Please try again in 14m24s. Visit https://platform.openai.com/account/rate-limits to learn more.\n",
      "Rate limit reached for gpt-4-vision-preview in organization org-muiqeEVHBsuYbgt2p54Es1zo on requests per day (RPD): Limit 100, Used 100, Requested 1. Please try again in 14m24s. Visit https://platform.openai.com/account/rate-limits to learn more.\n",
      "Rate limit reached for gpt-4-vision-preview in organization org-muiqeEVHBsuYbgt2p54Es1zo on requests per day (RPD): Limit 100, Used 100, Requested 1. Please try again in 14m24s. Visit https://platform.openai.com/account/rate-limits to learn more.\n",
      "Rate limit reached for gpt-4-vision-preview in organization org-muiqeEVHBsuYbgt2p54Es1zo on requests per day (RPD): Limit 100, Used 100, Requested 1. Please try again in 14m24s. Visit https://platform.openai.com/account/rate-limits to learn more.\n",
      "Request timed out: HTTPSConnectionPool(host='api.openai.com', port=443): Read timed out. (read timeout=40.0)\n",
      "Request timed out: HTTPSConnectionPool(host='api.openai.com', port=443): Read timed out. (read timeout=40.0)\n",
      "Rate limit reached for gpt-4-vision-preview in organization org-muiqeEVHBsuYbgt2p54Es1zo on requests per day (RPD): Limit 100, Used 100, Requested 1. Please try again in 14m24s. Visit https://platform.openai.com/account/rate-limits to learn more.\n",
      "Rate limit reached for gpt-4-vision-preview in organization org-muiqeEVHBsuYbgt2p54Es1zo on requests per day (RPD): Limit 100, Used 100, Requested 1. Please try again in 14m24s. Visit https://platform.openai.com/account/rate-limits to learn more.\n",
      "Rate limit reached for gpt-4-vision-preview in organization org-muiqeEVHBsuYbgt2p54Es1zo on requests per day (RPD): Limit 100, Used 100, Requested 1. Please try again in 14m24s. Visit https://platform.openai.com/account/rate-limits to learn more.\n",
      "Request timed out: HTTPSConnectionPool(host='api.openai.com', port=443): Read timed out. (read timeout=40.0)\n",
      "Rate limit reached for gpt-4-vision-preview in organization org-muiqeEVHBsuYbgt2p54Es1zo on requests per day (RPD): Limit 100, Used 100, Requested 1. Please try again in 14m24s. Visit https://platform.openai.com/account/rate-limits to learn more.\n"
     ]
    },
    {
     "name": "stderr",
     "output_type": "stream",
     "text": [
      " 17%|█▋        | 60/360 [03:34<17:52,  3.58s/it]\n"
     ]
    },
    {
     "ename": "KeyboardInterrupt",
     "evalue": "",
     "output_type": "error",
     "traceback": [
      "\u001B[0;31m---------------------------------------------------------------------------\u001B[0m",
      "\u001B[0;31mKeyboardInterrupt\u001B[0m                         Traceback (most recent call last)",
      "File \u001B[0;32m<timed exec>:25\u001B[0m\n",
      "File \u001B[0;32m~/PycharmProjects/FinBot/build_idx/lib/python3.10/site-packages/joblib/parallel.py:1595\u001B[0m, in \u001B[0;36mParallel._get_outputs\u001B[0;34m(self, iterator, pre_dispatch)\u001B[0m\n\u001B[1;32m   1592\u001B[0m     \u001B[38;5;28;01myield\u001B[39;00m\n\u001B[1;32m   1594\u001B[0m     \u001B[38;5;28;01mwith\u001B[39;00m \u001B[38;5;28mself\u001B[39m\u001B[38;5;241m.\u001B[39m_backend\u001B[38;5;241m.\u001B[39mretrieval_context():\n\u001B[0;32m-> 1595\u001B[0m         \u001B[38;5;28;01myield from\u001B[39;00m \u001B[38;5;28mself\u001B[39m\u001B[38;5;241m.\u001B[39m_retrieve()\n\u001B[1;32m   1597\u001B[0m \u001B[38;5;28;01mexcept\u001B[39;00m \u001B[38;5;167;01mGeneratorExit\u001B[39;00m:\n\u001B[1;32m   1598\u001B[0m     \u001B[38;5;66;03m# The generator has been garbage collected before being fully\u001B[39;00m\n\u001B[1;32m   1599\u001B[0m     \u001B[38;5;66;03m# consumed. This aborts the remaining tasks if possible and warn\u001B[39;00m\n\u001B[1;32m   1600\u001B[0m     \u001B[38;5;66;03m# the user if necessary.\u001B[39;00m\n\u001B[1;32m   1601\u001B[0m     \u001B[38;5;28mself\u001B[39m\u001B[38;5;241m.\u001B[39m_exception \u001B[38;5;241m=\u001B[39m \u001B[38;5;28;01mTrue\u001B[39;00m\n",
      "File \u001B[0;32m~/PycharmProjects/FinBot/build_idx/lib/python3.10/site-packages/joblib/parallel.py:1707\u001B[0m, in \u001B[0;36mParallel._retrieve\u001B[0;34m(self)\u001B[0m\n\u001B[1;32m   1702\u001B[0m \u001B[38;5;66;03m# If the next job is not ready for retrieval yet, we just wait for\u001B[39;00m\n\u001B[1;32m   1703\u001B[0m \u001B[38;5;66;03m# async callbacks to progress.\u001B[39;00m\n\u001B[1;32m   1704\u001B[0m \u001B[38;5;28;01mif\u001B[39;00m ((\u001B[38;5;28mlen\u001B[39m(\u001B[38;5;28mself\u001B[39m\u001B[38;5;241m.\u001B[39m_jobs) \u001B[38;5;241m==\u001B[39m \u001B[38;5;241m0\u001B[39m) \u001B[38;5;129;01mor\u001B[39;00m\n\u001B[1;32m   1705\u001B[0m     (\u001B[38;5;28mself\u001B[39m\u001B[38;5;241m.\u001B[39m_jobs[\u001B[38;5;241m0\u001B[39m]\u001B[38;5;241m.\u001B[39mget_status(\n\u001B[1;32m   1706\u001B[0m         timeout\u001B[38;5;241m=\u001B[39m\u001B[38;5;28mself\u001B[39m\u001B[38;5;241m.\u001B[39mtimeout) \u001B[38;5;241m==\u001B[39m TASK_PENDING)):\n\u001B[0;32m-> 1707\u001B[0m     \u001B[43mtime\u001B[49m\u001B[38;5;241;43m.\u001B[39;49m\u001B[43msleep\u001B[49m\u001B[43m(\u001B[49m\u001B[38;5;241;43m0.01\u001B[39;49m\u001B[43m)\u001B[49m\n\u001B[1;32m   1708\u001B[0m     \u001B[38;5;28;01mcontinue\u001B[39;00m\n\u001B[1;32m   1710\u001B[0m \u001B[38;5;66;03m# We need to be careful: the job list can be filling up as\u001B[39;00m\n\u001B[1;32m   1711\u001B[0m \u001B[38;5;66;03m# we empty it and Python list are not thread-safe by\u001B[39;00m\n\u001B[1;32m   1712\u001B[0m \u001B[38;5;66;03m# default hence the use of the lock\u001B[39;00m\n",
      "\u001B[0;31mKeyboardInterrupt\u001B[0m: "
     ]
    }
   ],
   "source": [
    "%%time\n",
    "def benchmark_model(model, prompt):\n",
    "    llm = ChatOpenAI(openai_api_key=API_KEY, temperature=0.7,\n",
    "                      model_name=model, max_tokens=512, max_retries=0, request_timeout=40)\n",
    "    bench_prompt = PromptTemplate.from_template(prompt)\n",
    "    chain = bench_prompt | llm\n",
    "    while True:\n",
    "        try:\n",
    "            with get_openai_callback() as cb:\n",
    "                time_start = datetime.datetime.now()\n",
    "                _ = chain.invoke({})\n",
    "                time_end = datetime.datetime.now()\n",
    "                return (time_end - time_start) / cb.completion_tokens\n",
    "        except Exception as e:\n",
    "            print(e, flush=True)\n",
    "            time.sleep(20 + random.randint(1, 20))\n",
    "            pass\n",
    "\n",
    "\n",
    "test_models = [\"gpt-4-1106-preview\", \"gpt-4-vision-preview\", \"gpt-4-0613\", \"gpt-3.5-turbo-1106\", \"gpt-3.5-turbo-0613\", \"gpt-3.5-turbo-16k-0613\"]\n",
    "models = []\n",
    "deltas = []\n",
    "\n",
    "with tqdm(total=len(test_models) * len(test_prompts)) as progress:\n",
    "    jobs = [(m, p) for m, p in itertools.product(test_models, test_prompts)]\n",
    "    for i, result in enumerate(parallel(joblib.delayed(benchmark_model)(*args) for args in jobs)):\n",
    "        deltas.append(result)\n",
    "        models.append(jobs[i][0])\n",
    "        progress.update(1)\n"
   ],
   "metadata": {
    "collapsed": false
   }
  },
  {
   "cell_type": "code",
   "execution_count": 6,
   "outputs": [
    {
     "data": {
      "text/plain": "<Figure size 640x480 with 1 Axes>",
      "image/png": "[encoded data removed]"
     },
     "metadata": {},
     "output_type": "display_data"
    }
   ],
   "source": [
    "bench_df = pd.DataFrame({\n",
    "    \"Model\": models,\n",
    "    \"Milliseconds_per_token\": deltas\n",
    "})\n",
    "bench_df[\"Milliseconds_per_token\"] = bench_df[\"Milliseconds_per_token\"].apply(lambda t: t.total_seconds() * 1000)\n",
    "sns.barplot(data=bench_df, x=\"Model\", y=\"Milliseconds_per_token\", hue=\"Model\")\n",
    "plt.title(\"GPT Benchmark\")\n",
    "plt.xticks(rotation=-45)\n",
    "plt.show()"
   ],
   "metadata": {
    "collapsed": false
   }
  },
  {
   "cell_type": "code",
   "execution_count": 6,
   "outputs": [],
   "source": [],
   "metadata": {
    "collapsed": false
   }
  }
 ],
 "metadata": {
  "kernelspec": {
   "display_name": "Python 3",
   "language": "python",
   "name": "python3"
  },
  "language_info": {
   "codemirror_mode": {
    "name": "ipython",
    "version": 2
   },
   "file_extension": ".py",
   "mimetype": "text/x-python",
   "name": "python",
   "nbconvert_exporter": "python",
   "pygments_lexer": "ipython2",
   "version": "2.7.6"
  }
 },
 "nbformat": 4,
 "nbformat_minor": 0
}
