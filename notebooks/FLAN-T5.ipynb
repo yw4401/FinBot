{
 "cells": [
  {
   "cell_type": "code",
   "execution_count": 1,
   "id": "e9a3f4db-0b18-4c1f-8e91-403279848bd4",
   "metadata": {},
   "outputs": [],
   "source": [
    "#%pip install -U torch==1.12.1+cu113 torchvision==0.13.1+cu113 torchaudio==0.12.1 --extra-index-url https://download.pytorch.org/whl/cu113"
   ]
  },
  {
   "cell_type": "code",
   "execution_count": 2,
   "id": "655eaede-794e-4e7e-ba8e-69eb896022df",
   "metadata": {},
   "outputs": [],
   "source": [
    "#%pip install -U transformers"
   ]
  },
  {
   "cell_type": "code",
   "execution_count": 3,
   "id": "483a8c15-87a1-441a-8036-ee34cf6e93e1",
   "metadata": {},
   "outputs": [],
   "source": [
    "#%pip install -U datasets"
   ]
  },
  {
   "cell_type": "code",
   "execution_count": 4,
   "id": "d5b381b9-0ec8-4e3a-b9a6-bc2b3a905287",
   "metadata": {},
   "outputs": [],
   "source": [
    "#%pip install -U accelerate"
   ]
  },
  {
   "cell_type": "code",
   "execution_count": 5,
   "id": "ffc90c01-dec7-4925-ae93-8941468334a0",
   "metadata": {},
   "outputs": [],
   "source": [
    "#%pip install -U sentencepiece"
   ]
  },
  {
   "cell_type": "code",
   "execution_count": 6,
   "id": "4cfc4a12-bf96-48cb-90d1-2ec5ba60f376",
   "metadata": {},
   "outputs": [
    {
     "data": {
      "text/plain": [
       "True"
      ]
     },
     "execution_count": 6,
     "metadata": {},
     "output_type": "execute_result"
    }
   ],
   "source": [
    "import torch\n",
    "torch.cuda.is_available()"
   ]
  },
  {
   "cell_type": "code",
   "execution_count": 7,
   "id": "6de9eaa4-a994-4142-8be4-6ac981da5136",
   "metadata": {},
   "outputs": [
    {
     "name": "stderr",
     "output_type": "stream",
     "text": [
      "2023-04-29 06:48:23.032157: I tensorflow/core/platform/cpu_feature_guard.cc:193] This TensorFlow binary is optimized with oneAPI Deep Neural Network Library (oneDNN) to use the following CPU instructions in performance-critical operations:  AVX2 FMA\n",
      "To enable them in other operations, rebuild TensorFlow with the appropriate compiler flags.\n",
      "2023-04-29 06:48:25.274565: W tensorflow/compiler/xla/stream_executor/platform/default/dso_loader.cc:64] Could not load dynamic library 'libnvinfer.so.7'; dlerror: libnvinfer.so.7: cannot open shared object file: No such file or directory\n",
      "2023-04-29 06:48:25.274718: W tensorflow/compiler/xla/stream_executor/platform/default/dso_loader.cc:64] Could not load dynamic library 'libnvinfer_plugin.so.7'; dlerror: libnvinfer_plugin.so.7: cannot open shared object file: No such file or directory\n",
      "2023-04-29 06:48:25.274731: W tensorflow/compiler/tf2tensorrt/utils/py_utils.cc:38] TF-TRT Warning: Cannot dlopen some TensorRT libraries. If you would like to use Nvidia GPU with TensorRT, please make sure the missing libraries mentioned above are installed properly.\n"
     ]
    },
    {
     "name": "stdout",
     "output_type": "stream",
     "text": [
      "Num GPUs Available:  1\n"
     ]
    },
    {
     "name": "stderr",
     "output_type": "stream",
     "text": [
      "2023-04-29 06:48:26.928758: I tensorflow/compiler/xla/stream_executor/cuda/cuda_gpu_executor.cc:981] successful NUMA node read from SysFS had negative value (-1), but there must be at least one NUMA node, so returning NUMA node zero\n",
      "2023-04-29 06:48:26.941435: I tensorflow/compiler/xla/stream_executor/cuda/cuda_gpu_executor.cc:981] successful NUMA node read from SysFS had negative value (-1), but there must be at least one NUMA node, so returning NUMA node zero\n",
      "2023-04-29 06:48:26.944066: I tensorflow/compiler/xla/stream_executor/cuda/cuda_gpu_executor.cc:981] successful NUMA node read from SysFS had negative value (-1), but there must be at least one NUMA node, so returning NUMA node zero\n"
     ]
    }
   ],
   "source": [
    "import tensorflow as tf\n",
    "print(\"Num GPUs Available: \", len(tf.config.list_physical_devices('GPU')))"
   ]
  },
  {
   "cell_type": "code",
   "execution_count": 8,
   "id": "a23a3518-643b-4e96-99d1-3406ecefb733",
   "metadata": {},
   "outputs": [],
   "source": [
    "#%pip install bitsandbytes-cuda113\n",
    "#%pip install bitsandbytes"
   ]
  },
  {
   "cell_type": "code",
   "execution_count": 9,
   "id": "ae4701a4-c5e3-470a-a6b3-6d5240148d28",
   "metadata": {},
   "outputs": [],
   "source": [
    "from transformers import AutoModelForSeq2SeqLM, AutoTokenizer\n",
    "from datasets import load_dataset"
   ]
  },
  {
   "cell_type": "code",
   "execution_count": 10,
   "id": "c7b9e013-286b-40f0-8cde-4d69894c9991",
   "metadata": {},
   "outputs": [],
   "source": [
    "# directory where to cache models\n",
    "cache_dir = '/home/jupyter/data/transformers'"
   ]
  },
  {
   "cell_type": "markdown",
   "id": "967b6f92-a3cd-4f28-88af-ec455de44bb6",
   "metadata": {},
   "source": [
    "## Pre-Trained Model Examples"
   ]
  },
  {
   "cell_type": "code",
   "execution_count": 11,
   "id": "c534c504-6591-4dea-937f-bca02fd28343",
   "metadata": {},
   "outputs": [],
   "source": [
    "def generate(prompt, max_new_tokens=100):\n",
    "    \n",
    "    inputs = tokenizer(prompt, return_tensors=\"pt\").to(\"cuda\")\n",
    "    outputs = model.generate(**inputs, max_new_tokens=max_new_tokens)\n",
    "    \n",
    "    result = tokenizer.batch_decode(outputs, skip_special_tokens=True)\n",
    "    \n",
    "    return \"\\n\".join(result)"
   ]
  },
  {
   "cell_type": "code",
   "execution_count": 12,
   "id": "65807ec1-395f-42b4-b26c-d29a3bf46849",
   "metadata": {},
   "outputs": [],
   "source": [
    "# one of the available flan-t5 models\n",
    "checkpoint = \"google/flan-t5-xl\""
   ]
  },
  {
   "cell_type": "code",
   "execution_count": 13,
   "id": "37c4b46a-563f-4784-96e7-242be8088aa4",
   "metadata": {},
   "outputs": [
    {
     "data": {
      "application/vnd.jupyter.widget-view+json": {
       "model_id": "e86fb2557507463cb34bc25d1c8d0dd1",
       "version_major": 2,
       "version_minor": 0
      },
      "text/plain": [
       "Loading checkpoint shards:   0%|          | 0/2 [00:00<?, ?it/s]"
      ]
     },
     "metadata": {},
     "output_type": "display_data"
    }
   ],
   "source": [
    "# loading model and tokenizer based on particular model checkpoint\n",
    "# tokenizer is used to preprocess text input in a way that the model can understand\n",
    "tokenizer = AutoTokenizer.from_pretrained(checkpoint, device_map=\"auto\")\n",
    "model = AutoModelForSeq2SeqLM.from_pretrained(checkpoint, device_map=\"auto\", cache_dir=cache_dir)"
   ]
  },
  {
   "cell_type": "code",
   "execution_count": 14,
   "id": "e6da7257-4305-444f-b008-23d8bf469d58",
   "metadata": {},
   "outputs": [
    {
     "data": {
      "text/plain": [
       "'Quanto etiam?'"
      ]
     },
     "execution_count": 14,
     "metadata": {},
     "output_type": "execute_result"
    }
   ],
   "source": [
    "prompt = \"translate English to Latin: How old are you?\"\n",
    "\n",
    "response = generate(prompt)\n",
    "response"
   ]
  },
  {
   "cell_type": "code",
   "execution_count": 31,
   "id": "87cbc9df-05d5-43fc-a101-1fd3541c9e9e",
   "metadata": {},
   "outputs": [
    {
     "data": {
      "text/plain": [
       "'Pizza Hut, Pizza Hut, Pizza Hut, Pizza Hut, Pizza Hut, Pizza Hut, Pizza Hut, Pizza Hut, Pizza Hut, Pizza Hut, Pizza Hut, Pizza Hut, Pizza Hut, Pizza Hut, Pizza Hut, Pizza Hut, Pizza Hut, Pizza Hut, Pizza Hut, Pizza Hut, Pizza Hut, Pizza Hut, Pizza Hut, Pizza Hut, Pizza Hut, Pizza Hut, Pizza Hut, Pizza Hut, Pizza Hut, Pizza Hut, Pizza Hut, Pizza Hut, Pizza Hut, Pizza Hut, Pizza Hut, Pizza Hut, Pizza Hut, Pizza Hut, Pizza Hut, Pizza Hut, Pizza Hut, Pizza Hut, Pizza Hut, Pizza Hut, Pizza Hut, Pizza Hut, Pizza Hut, Pizza Hut, Pizza Hut, Pizza Hut, Pizza Hut, Pizza Hut, Pizza Hut, Pizza Hut, Pizza Hut, Pizza Hut, Pizza Hut, Pizza Hut, Pizza Hut, Pizza Hut, Pizza Hut, Pizza Hut, Pizza Hut, Pizza Hut, Pizza Hut, Pizza Hut, Pizza Hut, Pizza Hut, Pizza Hut, Pizza Hut, Pizza Hut, Pizza Hut, Pizza Hut, Pizza Hut, Pizza Hut,'"
      ]
     },
     "execution_count": 31,
     "metadata": {},
     "output_type": "execute_result"
    }
   ],
   "source": [
    "prompt = \"create a list of unique pizza restaurants for Hyde Park, Chicago: \"\n",
    "\n",
    "response = generate(prompt, max_new_tokens=300)\n",
    "response"
   ]
  },
  {
   "cell_type": "code",
   "execution_count": 16,
   "id": "66611346-80f0-408e-b035-a090eda97255",
   "metadata": {},
   "outputs": [
    {
     "data": {
      "text/plain": [
       "'eigenvalues are the values of a variable that are unique to that variable.'"
      ]
     },
     "execution_count": 16,
     "metadata": {},
     "output_type": "execute_result"
    }
   ],
   "source": [
    "prompt = \"Explain the following concept: Eigenvalues\"\n",
    "\n",
    "response = generate(prompt, max_new_tokens=300)\n",
    "response"
   ]
  },
  {
   "cell_type": "code",
   "execution_count": 17,
   "id": "1e17908b-26c5-4050-823e-4459d2f97879",
   "metadata": {},
   "outputs": [
    {
     "data": {
      "text/plain": [
       "'Tofu can be substituted for the tofu. Tofu can be fried in oil, steamed, or boiled.'"
      ]
     },
     "execution_count": 17,
     "metadata": {},
     "output_type": "execute_result"
    }
   ],
   "source": [
    "prompt = \"A step by step recipe to make mapo tofu without repeating steps:\"\n",
    "\n",
    "response = generate(prompt, max_new_tokens=300)\n",
    "response"
   ]
  },
  {
   "cell_type": "code",
   "execution_count": 18,
   "id": "441a443d-5118-415e-864f-187dd164311b",
   "metadata": {},
   "outputs": [
    {
     "name": "stderr",
     "output_type": "stream",
     "text": [
      "Token indices sequence length is longer than the specified maximum sequence length for this model (1053 > 512). Running this sequence through the model will result in indexing errors\n"
     ]
    },
    {
     "data": {
      "text/plain": [
       "'Alzheimer’s disease is a degenerative brain disorder that results in declining memory and thinking skills. There is no cure for Alzheimer’s disease, and death is often the result for patients as the ailment devastates the brain. Investing News Network takes a look at a few of the biggest Alzheimer’s disease treatment stocks on the NASDAQ.'"
      ]
     },
     "execution_count": 18,
     "metadata": {},
     "output_type": "execute_result"
    }
   ],
   "source": [
    "prompt = \"extract the key points from the following article for an investor while covering all entities: \"\n",
    "article = \"\"\"Alzheimer’s disease treatment stocks are focused on Alzheimer’s disease, a degenerative brain disorder that results in declining memory and thinking skills and typically affects people in their mid-60s.According to the Alzheimer’s Association, neurons in other areas of the brain also begin to deteriorate as Alzheimer’s disease gets worse, resulting in the loss of basic human functions and overall cognitive impairment.This condition affects more than 6.7 million people in the US alone; it’s also the most common form of dementia and is the sixth leading cause of death in America. Treatments are available to alleviate Alzheimer’s disease symptoms, but because they do not affect the underlying causes of this neurodegenerative disease, they’re only a bandaid solution.Therapies approved by the US Food and Drug Administration (FDA) include: rivastigmine by Novartis (NYSE:NVS); galantamine, developed by Janssen, a division of Johnson & Johnson (NYSE:JNJ); donepezil by Pfizer (NYSE:PFE); and AbbVie's (NYSE:ABBV) memantine.Since there is no cure for Alzheimer’s disease, death is often the result for patients as the ailment devastates the brain. And unfortunately, Alzheimer’s disease is rising in prevalence — a report from Research and Markets suggests that the global Alzheimer’s disease treatment market will be worth a significant US$9.64 billion by 2028 as more patients need treatment, and as more investments are made in biomarkers for diagnosis and drug development.Here the Investing News Network takes a look at a few of the biggest Alzheimer’s disease treatment stocks on the NASDAQ. Companies are listed in order of market cap from largest to smallest, and all data was current as of April 19, 2023.. Biogen (NASDAQ:BIIB) Company Profile.Market cap: US$42.27 billion; current share price: US$292.80.Massachusetts-based Biogen, a pioneer in the field of neuroscience, is developing, manufacturing and marketing therapies aimed at treating serious neurological, neurodegenerative, autoimmune and rare diseases.The global biotechnology firm’s research areas include Alzheimer's disease and dementia. However, Biogen’s launch of its FDA-approved Alzheimer’s disease drug Aduhelm faced a lot of pushback in 2022, both from the market and from Congress, over what was viewed as a hasty fast-track approval process and exorbitant costs to patients.In early 2023, Biogen is looking to give it another go, this time with LEQEMBI (lecanemab-irmb) for the treatment of Alzheimer's disease, which the FDA has approved under its accelerated approval pathway. The drug was jointly developed by Biogen and Tokyo-based pharmaceutical company Eisai (OTC Pink:ESALF,TSE:4523). Intra-Cellular Therapies (NASDAQ:ITCI).Company Profile.Market cap: US$5.96 billion; current share price: US$62.59.As its name suggests, biopharma company Intra-Cellular Therapies is taking an intracellular approach to developing therapies for patients with complex psychiatric and neurologic diseases, including Parkinson’s disease and Alzheimer’s disease.Intra-Cellular Therapies is currently evaluating ITI-1284-ODT-SL, a deuterated form of lumateperone that comes in an oral disintegrating tablet; ITI-1284-ODT-SL is in Phase 1 studies, including drug-drug interaction studies. The company expects to commence Phase 2 clinical trials in agitation in patients with probable Alzheimer’s disease in 2023. 3. Axsome Therapeutics (NASDAQ:AXSM).Company Profile.Market cap: US$3.16 billion; current share price: US$72.64.New York-based Axsome Therapeutics is developing and commercializing a portfolio of novel therapies for disorders of the central nervous system with limited treatment options. Products currently on the market from the biopharmaceutical company include Auvelity, a rapid-acting oral antidepressant for the treatment of major depressive disorder; and Sunosi, a once-daily prescription medicine to treat excessive daytime sleepiness due to obstructive sleep apnea or narcolepsy.Axsome’s product pipeline includes AXS-05, a NMDA receptor antagonist with multimodal activity. It has breakthrough therapy designation from the FDA and is currently in Phase 3 clinical studies for the treatment of Alzheimer’s disease agitation. \n",
    "\"\"\"\n",
    "\n",
    "response = generate(prompt + article, max_new_tokens=300)\n",
    "response"
   ]
  },
  {
   "cell_type": "code",
   "execution_count": 19,
   "id": "d140e44a-b72c-4fc8-952d-54bc9cdfc5a5",
   "metadata": {},
   "outputs": [
    {
     "data": {
      "text/plain": [
       "\"Seres Therapeutics' pill for treating bacterial infection approved. Seres' drug will compete with Ferring Pharmaceuticals' fecal transplant-based therapy. Seres' drug could be priced close to $20,000 per course.\""
      ]
     },
     "execution_count": 19,
     "metadata": {},
     "output_type": "execute_result"
    }
   ],
   "source": [
    "article = \"\"\"\n",
    "April 26 (Reuters) - The U.S. health regulator on Wednesday approved Seres Therapeutics Inc's (MCRB.O) pill for treating a type of bacterial infection, giving an easier and standardized option to patients who often have to rely on individual donors for fecal transplants.\n",
    "\n",
    "The drug, branded as Vowst, was approved for treating 18 years and older for recurrent Clostridioides difficile (C. diff) infections (CDI), generally caused by prolonged use of antibiotics, which wipe out friendly colon bacteria and can cause potentially fatal diarrhea and inflammation of the colon.\n",
    "\n",
    "Vowst consists of a certain kind of bacteria made by purifying fecal matter derived from healthy people, while fecal transplants are donated by healthy volunteers and are not purified.\n",
    "\n",
    "The approval for the drug was based on its late-stage trials, in which treatment with the drug helped patients get rid of recurrent CDI.\n",
    "\n",
    "\"The efficacy is so good, I don't know that there's much room for others to compete with this drug,\" Oppenheimer analyst Mark Breidenbach said before the approval.\n",
    "\n",
    "Seres' drug will compete with Switzerland-based Ferring Pharmaceuticals' fecal transplant-based therapy, which is delivered through an enema.\n",
    "\n",
    "Physicians think Seres' pill could replace fecal microbiota transplants in patients, TD Cowen analyst Joseph Thome said ahead of the decision. He said the drug could be priced close to $20,000 per course, expecting peak sales of $750 million in the U.S. in 2033.\n",
    "\n",
    "Government data estimates that C. diff causes nearly half a million infections in the United States annually.\n",
    "\n",
    "Seres entered into a deal with Nestle's health science unit in 2021 to jointly commercialize the drug in the United States.\n",
    "\"\"\"\n",
    "\n",
    "response = generate(prompt + article, max_new_tokens=300)\n",
    "response"
   ]
  },
  {
   "cell_type": "code",
   "execution_count": 20,
   "id": "99ee7966-d6dc-46d9-8c61-b0ef6a1cc869",
   "metadata": {},
   "outputs": [
    {
     "data": {
      "text/plain": [
       "\"Pfizer's RSV vaccine will need a different delivery system to be used in developing countries. Pfizer received a $28 million grant from the Bill and Melinda Gates Foundation in September. Pfizer's RSV vaccine is expected to be approved for use in pregnant women in August in the US.\""
      ]
     },
     "execution_count": 20,
     "metadata": {},
     "output_type": "execute_result"
    }
   ],
   "source": [
    "article = \"\"\"\n",
    "LONDON, April 28 (Reuters) - Pfizer Inc (PFE.N) has pledged to deliver critical new medicines more quickly in low-income nations, but its first such vaccine effort faces hurdles likely to delay distribution in poorer countries by several years, global health officials told Reuters.\n",
    "\n",
    "Pfizer made a commitment on more equitable access last year, following criticism that it prioritized wealthy nations for doses of its COVID-19 shot early in the pandemic. The company says it wants to shorten a timeline in which poorer countries often get vaccines many years after they are available elsewhere.\n",
    "\n",
    "The drugmaker received a $28 million grant from the Bill and Melinda Gates Foundation in September to support the launch of the respiratory syncytial virus vaccine in poorer countries, where RSV - a common cold-like virus - is much more likely to be lethal for very young children.\n",
    "\n",
    "Pfizer's maternal RSV vaccine is expected to be approved for use in pregnant women in August in the United States and several months later in Europe, and the company plans to launch the product in both markets in the fall. Its peak sales forecast is of more than $2 billion annually together from the maternal vaccine and an RSV shot for older adults.\n",
    "\n",
    "But the vaccine will need a different delivery system to be used in developing countries in Africa and Asia, including alternative packaging and syringes. Preparations for those modifications are just beginning, according to the World Health Organization and the company - which is likely to push back delivery by several years.\n",
    "\n",
    "The case highlights how equitable global access will require better advance planning by drugmakers, governments and health organizations, health officials say.\n",
    "\n",
    "\"They could have tried sooner,\" said Erin Sparrow, WHO's technical officer for the RSV vaccine, referring to Pfizer. \"It's a little bit disappointing, but they are doing the right thing now.\"\n",
    "\n",
    "Pfizer says it is committed to a faster timeline for rolling out medicines to poor nations but acknowledges that there are challenges in meeting such goals.\n",
    "\n",
    "\"We are committed to working with the appropriate organizations, including regulatory authorities and other global health partners, to help ensure the vaccine candidate, once approved, is available in lower- and middle-income countries as quickly as possible,\" a Pfizer spokesperson said when asked about the timeline for the RSV shot.\n",
    "\n",
    "In an interview last month, Pfizer's head of vaccines research and development Annaliesa Anderson said the company still aimed to make its vaccine – the first of its kind – available for pregnant women in low-income countries more or less in the \"same time frame\" as in wealthy countries.\n",
    "\n",
    "It had pledged last May to offer its existing portfolio, as well as newly developed drugs and vaccines, at a not-for-profit basis to 45 lower-income countries on a faster timeline than in the past.\n",
    "\n",
    "The company had learned during the COVID-19 pandemic that \"parallel development\" to meet the needs of different regions was possible, Anderson said.\n",
    "\n",
    "Rates of RSV have surged since the pandemic. Inoculating pregnant women against RSV can protect babies from the virus that kills nearly 100,000 children worldwide each year.\n",
    "\n",
    "Most of those children are under five years old, with 98% living in low and middle-income countries that have fewer healthcare resources to treat the infection.\n",
    "\n",
    "Pfizer has yet to take a number of steps needed to make the vaccine available in developing countries, according to global health officials and the company.\n",
    "\n",
    "They include seeking approval for the shot from the WHO, whose authorization is used by governments that don't have a strong domestic drugs regulator, and by nonprofits - such as the global vaccine alliance Gavi - that fund purchases in low-income countries.\n",
    "\n",
    "Early discussions with the WHO are underway, but the process will be complicated because Pfizer's RSV vaccine is not designed for syringes that automatically disable after one injection, which are preferred by the health agency for safety reasons to prevent reuse.\n",
    "\n",
    "In addition, the RSV shot is currently only available in a single-dose vial. In lower-resource settings, multi-dose vials are often used because they are cheaper and simpler to distribute.\n",
    "\n",
    "Multi-dose vials require the addition of a preservative, which means the manufacturer needs to run new trials to ensure there is no impact on the vaccine’s safety or efficacy.\n",
    "\n",
    "The Gates grant will be used to fund trials of a multi-dose vial, which are likely to begin next year and may take another year to complete, a source with knowledge of the plans said.\n",
    "\n",
    "A Gates Foundation official said that the investment in the RSV program represented a learning process for the organization and the company on the steps needed for more equitable access.\n",
    "\n",
    "They have already reached a partnership for a maternal vaccine in earlier stages of development against Group B Streptococcus, which kills around 90,000 babies a year and causes 46,000 stillbirths, over half of them in sub-Saharan Africa.\n",
    "\n",
    "\"We very much want to see that time gap [between high and low-income countries] reduced, such that there's no space between the two,\" said Padmini Srikantiah, lead on the RSV vaccine launch at Gates.\n",
    "\n",
    "She still expects it to be several years before the RSV vaccine is launched in lower-income countries.\n",
    "\n",
    "\"I think we're doing better than in years before,\" she said. \"It's a process.\"\n",
    "\n",
    "(This story has been corrected to change the approval date in the US to August, not May, in paragraph 4)\n",
    "\"\"\"\n",
    "\n",
    "response = generate(prompt + article, max_new_tokens=300)\n",
    "response"
   ]
  },
  {
   "cell_type": "code",
   "execution_count": 21,
   "id": "c2d69e6c-cc6b-463a-bd9d-70af61e9a627",
   "metadata": {},
   "outputs": [
    {
     "data": {
      "text/plain": [
       "\"U.S. health regulator approves Seres Therapeutics' pill for treating a type of bacterial infection. The drug, branded as Vowst, was approved for treating 18 years and older for recurrent Clostridioides difficile (C. diff) infections.\""
      ]
     },
     "execution_count": 21,
     "metadata": {},
     "output_type": "execute_result"
    }
   ],
   "source": [
    "article = \"\"\"\n",
    "LONDON, April 28 (Reuters) - Pfizer Inc (PFE.N) has pledged to deliver critical new medicines more quickly in low-income nations, but its first such vaccine effort faces hurdles likely to delay distribution in poorer countries by several years, global health officials told Reuters.\n",
    "\n",
    "Pfizer made a commitment on more equitable access last year, following criticism that it prioritized wealthy nations for doses of its COVID-19 shot early in the pandemic. The company says it wants to shorten a timeline in which poorer countries often get vaccines many years after they are available elsewhere.\n",
    "\n",
    "The drugmaker received a $28 million grant from the Bill and Melinda Gates Foundation in September to support the launch of the respiratory syncytial virus vaccine in poorer countries, where RSV - a common cold-like virus - is much more likely to be lethal for very young children.\n",
    "\n",
    "Pfizer's maternal RSV vaccine is expected to be approved for use in pregnant women in August in the United States and several months later in Europe, and the company plans to launch the product in both markets in the fall. Its peak sales forecast is of more than $2 billion annually together from the maternal vaccine and an RSV shot for older adults.\n",
    "\n",
    "But the vaccine will need a different delivery system to be used in developing countries in Africa and Asia, including alternative packaging and syringes. Preparations for those modifications are just beginning, according to the World Health Organization and the company - which is likely to push back delivery by several years.\n",
    "\n",
    "The case highlights how equitable global access will require better advance planning by drugmakers, governments and health organizations, health officials say.\n",
    "\n",
    "\"They could have tried sooner,\" said Erin Sparrow, WHO's technical officer for the RSV vaccine, referring to Pfizer. \"It's a little bit disappointing, but they are doing the right thing now.\"\n",
    "\n",
    "Pfizer says it is committed to a faster timeline for rolling out medicines to poor nations but acknowledges that there are challenges in meeting such goals.\n",
    "\n",
    "\"We are committed to working with the appropriate organizations, including regulatory authorities and other global health partners, to help ensure the vaccine candidate, once approved, is available in lower- and middle-income countries as quickly as possible,\" a Pfizer spokesperson said when asked about the timeline for the RSV shot.\n",
    "\n",
    "In an interview last month, Pfizer's head of vaccines research and development Annaliesa Anderson said the company still aimed to make its vaccine – the first of its kind – available for pregnant women in low-income countries more or less in the \"same time frame\" as in wealthy countries.\n",
    "\n",
    "It had pledged last May to offer its existing portfolio, as well as newly developed drugs and vaccines, at a not-for-profit basis to 45 lower-income countries on a faster timeline than in the past.\n",
    "\n",
    "The company had learned during the COVID-19 pandemic that \"parallel development\" to meet the needs of different regions was possible, Anderson said.\n",
    "\n",
    "Rates of RSV have surged since the pandemic. Inoculating pregnant women against RSV can protect babies from the virus that kills nearly 100,000 children worldwide each year.\n",
    "\n",
    "Most of those children are under five years old, with 98% living in low and middle-income countries that have fewer healthcare resources to treat the infection.\n",
    "\n",
    "Pfizer has yet to take a number of steps needed to make the vaccine available in developing countries, according to global health officials and the company.\n",
    "\n",
    "They include seeking approval for the shot from the WHO, whose authorization is used by governments that don't have a strong domestic drugs regulator, and by nonprofits - such as the global vaccine alliance Gavi - that fund purchases in low-income countries.\n",
    "\n",
    "Early discussions with the WHO are underway, but the process will be complicated because Pfizer's RSV vaccine is not designed for syringes that automatically disable after one injection, which are preferred by the health agency for safety reasons to prevent reuse.\n",
    "\n",
    "In addition, the RSV shot is currently only available in a single-dose vial. In lower-resource settings, multi-dose vials are often used because they are cheaper and simpler to distribute.\n",
    "\n",
    "Multi-dose vials require the addition of a preservative, which means the manufacturer needs to run new trials to ensure there is no impact on the vaccine’s safety or efficacy.\n",
    "\n",
    "The Gates grant will be used to fund trials of a multi-dose vial, which are likely to begin next year and may take another year to complete, a source with knowledge of the plans said.\n",
    "\n",
    "A Gates Foundation official said that the investment in the RSV program represented a learning process for the organization and the company on the steps needed for more equitable access.\n",
    "\n",
    "They have already reached a partnership for a maternal vaccine in earlier stages of development against Group B Streptococcus, which kills around 90,000 babies a year and causes 46,000 stillbirths, over half of them in sub-Saharan Africa.\n",
    "\n",
    "\"We very much want to see that time gap [between high and low-income countries] reduced, such that there's no space between the two,\" said Padmini Srikantiah, lead on the RSV vaccine launch at Gates.\n",
    "\n",
    "She still expects it to be several years before the RSV vaccine is launched in lower-income countries.\n",
    "\n",
    "\"I think we're doing better than in years before,\" she said. \"It's a process.\"\n",
    "\n",
    "(This story has been corrected to change the approval date in the US to August, not May, in paragraph 4)\n",
    "\n",
    "\n",
    "April 26 (Reuters) - The U.S. health regulator on Wednesday approved Seres Therapeutics Inc's (MCRB.O) pill for treating a type of bacterial infection, giving an easier and standardized option to patients who often have to rely on individual donors for fecal transplants.\n",
    "\n",
    "The drug, branded as Vowst, was approved for treating 18 years and older for recurrent Clostridioides difficile (C. diff) infections (CDI), generally caused by prolonged use of antibiotics, which wipe out friendly colon bacteria and can cause potentially fatal diarrhea and inflammation of the colon.\n",
    "\n",
    "Vowst consists of a certain kind of bacteria made by purifying fecal matter derived from healthy people, while fecal transplants are donated by healthy volunteers and are not purified.\n",
    "\n",
    "The approval for the drug was based on its late-stage trials, in which treatment with the drug helped patients get rid of recurrent CDI.\n",
    "\n",
    "\"The efficacy is so good, I don't know that there's much room for others to compete with this drug,\" Oppenheimer analyst Mark Breidenbach said before the approval.\n",
    "\n",
    "\"\"\"\n",
    "\n",
    "response = generate(prompt + article, max_new_tokens=300)\n",
    "response"
   ]
  },
  {
   "cell_type": "code",
   "execution_count": 22,
   "id": "5043bb83-78e4-4009-8956-614a8d8db4cb",
   "metadata": {},
   "outputs": [
    {
     "data": {
      "text/plain": [
       "'Alzheimer’s disease is a degenerative brain disorder that results in declining memory and thinking skills. There is no cure for Alzheimer’s disease, and death is often the result for patients as the ailment devastates the brain. Investing News Network takes a look at a few of the biggest Alzheimer’s disease treatment stocks on the NASDAQ.'"
      ]
     },
     "execution_count": 22,
     "metadata": {},
     "output_type": "execute_result"
    }
   ],
   "source": [
    "article = \"\"\"\n",
    "Alzheimer’s disease treatment stocks are focused on Alzheimer’s disease, a degenerative brain disorder that results in declining memory and thinking skills and typically affects people in their mid-60s.According to the Alzheimer’s Association, neurons in other areas of the brain also begin to deteriorate as Alzheimer’s disease gets worse, resulting in the loss of basic human functions and overall cognitive impairment.This condition affects more than 6.7 million people in the US alone; it’s also the most common form of dementia and is the sixth leading cause of death in America. Treatments are available to alleviate Alzheimer’s disease symptoms, but because they do not affect the underlying causes of this neurodegenerative disease, they’re only a bandaid solution.Therapies approved by the US Food and Drug Administration (FDA) include: rivastigmine by Novartis (NYSE:NVS); galantamine, developed by Janssen, a division of Johnson & Johnson (NYSE:JNJ); donepezil by Pfizer (NYSE:PFE); and AbbVie's (NYSE:ABBV) memantine.Since there is no cure for Alzheimer’s disease, death is often the result for patients as the ailment devastates the brain. And unfortunately, Alzheimer’s disease is rising in prevalence — a report from Research and Markets suggests that the global Alzheimer’s disease treatment market will be worth a significant US$9.64 billion by 2028 as more patients need treatment, and as more investments are made in biomarkers for diagnosis and drug development.Here the Investing News Network takes a look at a few of the biggest Alzheimer’s disease treatment stocks on the NASDAQ. Companies are listed in order of market cap from largest to smallest, and all data was current as of April 19, 2023.. Biogen (NASDAQ:BIIB) Company Profile.Market cap: US$42.27 billion; current share price: US$292.80.Massachusetts-based Biogen, a pioneer in the field of neuroscience, is developing, manufacturing and marketing therapies aimed at treating serious neurological, neurodegenerative, autoimmune and rare diseases.The global biotechnology firm’s research areas include Alzheimer's disease and dementia. However, Biogen’s launch of its FDA-approved Alzheimer’s disease drug Aduhelm faced a lot of pushback in 2022, both from the market and from Congress, over what was viewed as a hasty fast-track approval process and exorbitant costs to patients.In early 2023, Biogen is looking to give it another go, this time with LEQEMBI (lecanemab-irmb) for the treatment of Alzheimer's disease, which the FDA has approved under its accelerated approval pathway. The drug was jointly developed by Biogen and Tokyo-based pharmaceutical company Eisai (OTC Pink:ESALF,TSE:4523). Intra-Cellular Therapies (NASDAQ:ITCI).Company Profile.Market cap: US$5.96 billion; current share price: US$62.59.As its name suggests, biopharma company Intra-Cellular Therapies is taking an intracellular approach to developing therapies for patients with complex psychiatric and neurologic diseases, including Parkinson’s disease and Alzheimer’s disease.Intra-Cellular Therapies is currently evaluating ITI-1284-ODT-SL, a deuterated form of lumateperone that comes in an oral disintegrating tablet; ITI-1284-ODT-SL is in Phase 1 studies, including drug-drug interaction studies. The company expects to commence Phase 2 clinical trials in agitation in patients with probable Alzheimer’s disease in 2023. 3. Axsome Therapeutics (NASDAQ:AXSM).Company Profile.Market cap: US$3.16 billion; current share price: US$72.64.New York-based Axsome Therapeutics is developing and commercializing a portfolio of novel therapies for disorders of the central nervous system with limited treatment options. Products currently on the market from the biopharmaceutical company include Auvelity, a rapid-acting oral antidepressant for the treatment of major depressive disorder; and Sunosi, a once-daily prescription medicine to treat excessive daytime sleepiness due to obstructive sleep apnea or narcolepsy.Axsome’s product pipeline includes AXS-05, a NMDA receptor antagonist with multimodal activity. It has breakthrough therapy designation from the FDA and is currently in Phase 3 clinical studies for the treatment of Alzheimer’s disease agitation. \n",
    "\"\"\"\n",
    "\n",
    "response = generate(prompt + article, max_new_tokens=300)\n",
    "response"
   ]
  },
  {
   "cell_type": "code",
   "execution_count": 23,
   "id": "da78b91d-89d6-4e7c-9bc8-24557d9f42ed",
   "metadata": {},
   "outputs": [
    {
     "data": {
      "text/plain": [
       "'A Mubadala Investment Co.-backed healthcare company said it agreed to acquire kidney-care provider Diaverum. The abortion pill mifepristone is either banned or restricted to varying degrees in 27 states despite a Supreme Court decision that — for now — maintains Food and Drug Administration regulations allowing easy access to the medication. Kaiser Permanente, a large California-based health care group with 39 hospitals and 24,000 doctors, said on Wednesday that it expected to acquire Geisinger Health, a smaller East Coast group, in an effort to develop a new company that would operate nonprofit community health systems.'"
      ]
     },
     "execution_count": 23,
     "metadata": {},
     "output_type": "execute_result"
    }
   ],
   "source": [
    "article = \"\"\"\n",
    "A Mubadala Investment Co.-backed healthcare company said it agreed to acquire kidney-care provider Diaverum, extending the Abu Dhabi sovereign-wealth fund’s bet on healthcare.\n",
    "Diaverum’s operations include 40 dialysis facilities in Saudi Arabia where Diaverum operates under a five-year contract with the Saudi Ministry of Health, according to the company’s website.\n",
    "The abortion pill mifepristone is either banned or restricted to varying degrees in 27 states despite a Supreme Court decision that — for now — maintains Food and Drug Administration regulations allowing easy access to the medication.\n",
    "The Supreme Court, acting on an emergency basis, last week blocked lower federal court orders that had imposed severe restrictions on mifepristone even in some states where abortion remains legal.\n",
    "Patients previously were required by the FDA to obtain mifepristone in person from a health-care provider or take the medication under their supervision.\n",
    "While the Supreme Court’s decision at least temporarily maintains access to mifepristone in states that support broad access to abortion, it will have less or no impact in conservative states that banned the procedure since last summer, when the high court overturned the half-century-old federal constitutional right to abortion.\n",
    "Kaiser Permanente, a large California-based health care group with 39 hospitals and 24,000 doctors, said on Wednesday that it expected to acquire Geisinger Health, a smaller East Coast group, in an effort to develop a new company that would operate nonprofit community health systems.\n",
    "While Mr. Adams did not say what other health systems he might be talking to regarding acquisitions, Kaiser said it hoped to invest $5 billion in Risant over the next five years, in addition to its spending on Kaiser’s core operations.\n",
    "The creation of Risant Health represents an opportunity for Kaiser, which had $95 billion in revenue last year, to become an even bigger and more influential organization by working with other hospital groups and health plans.\n",
    "In keeping with Kaiser’s model, the community health systems under Risant would invest in technology and preventive care to keep patients healthy, so they would need less expensive specialty and hospital care, Mr. Adams said.\n",
    "“Covid has really shown not having integrated, value-based relationships puts our health systems and our communities at risk,” Mr. Adams said.\n",
    "While Geisinger has long focused on improving care, Dr. Ryu said the health system would benefit from Kaiser’s ability to invest in the kind of technology and preventive care necessary to keep people healthier.\n",
    "And unfortunately, Alzheimer’s disease is rising in prevalence — a report from Research and Markets suggests that the global Alzheimer’s disease treatment market will be worth a significant US$9.64 billion by 2028 as more patients need treatment, and as more investments are made in biomarkers for diagnosis and drug development.Here the Investing News Network takes a look at a few of the biggest Alzheimer’s disease treatment stocks on the NASDAQ.\n",
    "Biogen (NASDAQ:BIIB) Company Profile.Market cap: US$42.27 billion; current share price: US$292.80.Massachusetts-based Biogen, a pioneer in the field of neuroscience, is developing, manufacturing and marketing therapies aimed at treating serious neurological, neurodegenerative, autoimmune and rare diseases.The global biotechnology firm’s research areas include Alzheimer's disease and dementia.\n",
    "Intra-Cellular Therapies (NASDAQ:ITCI).Company Profile.Market cap: US$5.96 billion; current share price: US$62.59.As its name suggests, biopharma company Intra-Cellular Therapies is taking an intracellular approach to developing therapies for patients with complex psychiatric and neurologic diseases, including Parkinson’s disease and Alzheimer’s disease.Intra-Cellular Therapies is currently evaluating ITI-1284-ODT-SL, a deuterated form of lumateperone that comes in an oral disintegrating tablet; ITI-1284-ODT-SL is in Phase 1 studies, including drug-drug interaction studies.\n",
    "3. Axsome Therapeutics (NASDAQ:AXSM).Company Profile.Market cap: US$3.16 billion; current share price: US$72.64.New York-based Axsome Therapeutics is developing and commercializing a portfolio of novel therapies for disorders of the central nervous system with limited treatment options.\n",
    "\"\"\"\n",
    "\n",
    "prompt = \"Extract the key points from the following sentences for an investor without losing relevant information: \\n\"\n",
    "\n",
    "response = generate(prompt + article, max_new_tokens=400)\n",
    "response\n"
   ]
  },
  {
   "cell_type": "code",
   "execution_count": 32,
   "id": "2b070724-774c-4c08-8387-e5b871de5538",
   "metadata": {},
   "outputs": [
    {
     "data": {
      "text/plain": [
       "'A Mubadala Investment Co.-backed healthcare company said it agreed to acquire kidney-care provider Diaverum. The abortion pill mifepristone is either banned or restricted to varying degrees in 27 states despite a Supreme Court decision that — for now — maintains Food and Drug Administration regulations allowing easy access to the medication. Kaiser Permanente, a large California-based health care group with 39 hospitals and 24,000 doctors, said on Wednesday that it expected to acquire Geisinger Health, a smaller East Coast group, in an effort to develop a new company that would operate nonprofit community health systems.'"
      ]
     },
     "execution_count": 32,
     "metadata": {},
     "output_type": "execute_result"
    }
   ],
   "source": [
    "article = \"\"\"\n",
    "A Mubadala Investment Co.-backed healthcare company said it agreed to acquire kidney-care provider Diaverum, extending the Abu Dhabi sovereign-wealth fund’s bet on healthcare.\n",
    "Diaverum’s operations include 40 dialysis facilities in Saudi Arabia where Diaverum operates under a five-year contract with the Saudi Ministry of Health, according to the company’s website.\n",
    "The abortion pill mifepristone is either banned or restricted to varying degrees in 27 states despite a Supreme Court decision that — for now — maintains Food and Drug Administration regulations allowing easy access to the medication.\n",
    "The Supreme Court, acting on an emergency basis, last week blocked lower federal court orders that had imposed severe restrictions on mifepristone even in some states where abortion remains legal.\n",
    "Patients previously were required by the FDA to obtain mifepristone in person from a health-care provider or take the medication under their supervision.\n",
    "While the Supreme Court’s decision at least temporarily maintains access to mifepristone in states that support broad access to abortion, it will have less or no impact in conservative states that banned the procedure since last summer, when the high court overturned the half-century-old federal constitutional right to abortion.\n",
    "Kaiser Permanente, a large California-based health care group with 39 hospitals and 24,000 doctors, said on Wednesday that it expected to acquire Geisinger Health, a smaller East Coast group, in an effort to develop a new company that would operate nonprofit community health systems.\n",
    "While Mr. Adams did not say what other health systems he might be talking to regarding acquisitions, Kaiser said it hoped to invest $5 billion in Risant over the next five years, in addition to its spending on Kaiser’s core operations.\n",
    "The creation of Risant Health represents an opportunity for Kaiser, which had $95 billion in revenue last year, to become an even bigger and more influential organization by working with other hospital groups and health plans.\n",
    "In keeping with Kaiser’s model, the community health systems under Risant would invest in technology and preventive care to keep patients healthy, so they would need less expensive specialty and hospital care, Mr. Adams said.\n",
    "“Covid has really shown not having integrated, value-based relationships puts our health systems and our communities at risk,” Mr. Adams said.\n",
    "While Geisinger has long focused on improving care, Dr. Ryu said the health system would benefit from Kaiser’s ability to invest in the kind of technology and preventive care necessary to keep people healthier.\n",
    "And unfortunately, Alzheimer’s disease is rising in prevalence — a report from Research and Markets suggests that the global Alzheimer’s disease treatment market will be worth a significant US$9.64 billion by 2028 as more patients need treatment, and as more investments are made in biomarkers for diagnosis and drug development.Here the Investing News Network takes a look at a few of the biggest Alzheimer’s disease treatment stocks on the NASDAQ.\n",
    "Biogen (NASDAQ:BIIB) Company Profile.Market cap: US$42.27 billion; current share price: US$292.80.Massachusetts-based Biogen, a pioneer in the field of neuroscience, is developing, manufacturing and marketing therapies aimed at treating serious neurological, neurodegenerative, autoimmune and rare diseases.The global biotechnology firm’s research areas include Alzheimer's disease and dementia.\n",
    "Intra-Cellular Therapies (NASDAQ:ITCI).Company Profile.Market cap: US$5.96 billion; current share price: US$62.59.As its name suggests, biopharma company Intra-Cellular Therapies is taking an intracellular approach to developing therapies for patients with complex psychiatric and neurologic diseases, including Parkinson’s disease and Alzheimer’s disease.Intra-Cellular Therapies is currently evaluating ITI-1284-ODT-SL, a deuterated form of lumateperone that comes in an oral disintegrating tablet; ITI-1284-ODT-SL is in Phase 1 studies, including drug-drug interaction studies.\n",
    "3. Axsome Therapeutics (NASDAQ:AXSM).Company Profile.Market cap: US$3.16 billion; current share price: US$72.64.New York-based Axsome Therapeutics is developing and commercializing a portfolio of novel therapies for disorders of the central nervous system with limited treatment options.\n",
    "\"\"\"\n",
    "\n",
    "prompt = \"Context: %s\\nQuestion: What are the key points from the given sentences from the perspective of an investor?\"\n",
    "\n",
    "response = generate(prompt % article, max_new_tokens=400)\n",
    "response"
   ]
  },
  {
   "cell_type": "code",
   "execution_count": 24,
   "id": "195b5262-bd67-47a8-a2e3-2d1f6129eb6b",
   "metadata": {},
   "outputs": [
    {
     "data": {
      "text/plain": [
       "'A Mubadala Investment Co.-backed healthcare company said it agreed to acquire kidney-care provider Diaverum, extending the Abu Dhabi sovereign-wealth fund’s bet on healthcare. Diaverum’s operations include 40 dialysis facilities in Saudi Arabia where Diaverum operates under a five-year contract with the Saudi Ministry of Health, according to the company’s website.'"
      ]
     },
     "execution_count": 24,
     "metadata": {},
     "output_type": "execute_result"
    }
   ],
   "source": [
    "article = \"\"\"\n",
    "A Mubadala Investment Co.-backed healthcare company said it agreed to acquire kidney-care provider Diaverum, extending the Abu Dhabi sovereign-wealth fund’s bet on healthcare.\n",
    "Diaverum’s operations include 40 dialysis facilities in Saudi Arabia where Diaverum operates under a five-year contract with the Saudi Ministry of Health, according to the company’s website.\n",
    "The abortion pill mifepristone is either banned or restricted to varying degrees in 27 states despite a Supreme Court decision that — for now — maintains Food and Drug Administration regulations allowing easy access to the medication.\n",
    "The Supreme Court, acting on an emergency basis, last week blocked lower federal court orders that had imposed severe restrictions on mifepristone even in some states where abortion remains legal.\n",
    "Patients previously were required by the FDA to obtain mifepristone in person from a health-care provider or take the medication under their supervision.\n",
    "While the Supreme Court’s decision at least temporarily maintains access to mifepristone in states that support broad access to abortion, it will have less or no impact in conservative states that banned the procedure since last summer, when the high court overturned the half-century-old federal constitutional right to abortion.\n",
    "Kaiser Permanente, a large California-based health care group with 39 hospitals and 24,000 doctors, said on Wednesday that it expected to acquire Geisinger Health, a smaller East Coast group, in an effort to develop a new company that would operate nonprofit community health systems.\n",
    "While Mr. Adams did not say what other health systems he might be talking to regarding acquisitions, Kaiser said it hoped to invest $5 billion in Risant over the next five years, in addition to its spending on Kaiser’s core operations.\n",
    "The creation of Risant Health represents an opportunity for Kaiser, which had $95 billion in revenue last year, to become an even bigger and more influential organization by working with other hospital groups and health plans.\n",
    "In keeping with Kaiser’s model, the community health systems under Risant would invest in technology and preventive care to keep patients healthy, so they would need less expensive specialty and hospital care, Mr. Adams said.\n",
    "“Covid has really shown not having integrated, value-based relationships puts our health systems and our communities at risk,” Mr. Adams said.\n",
    "While Geisinger has long focused on improving care, Dr. Ryu said the health system would benefit from Kaiser’s ability to invest in the kind of technology and preventive care necessary to keep people healthier.\n",
    "And unfortunately, Alzheimer’s disease is rising in prevalence — a report from Research and Markets suggests that the global Alzheimer’s disease treatment market will be worth a significant US$9.64 billion by 2028 as more patients need treatment, and as more investments are made in biomarkers for diagnosis and drug development.Here the Investing News Network takes a look at a few of the biggest Alzheimer’s disease treatment stocks on the NASDAQ.\n",
    "Biogen (NASDAQ:BIIB) Company Profile.Market cap: US$42.27 billion; current share price: US$292.80.Massachusetts-based Biogen, a pioneer in the field of neuroscience, is developing, manufacturing and marketing therapies aimed at treating serious neurological, neurodegenerative, autoimmune and rare diseases.The global biotechnology firm’s research areas include Alzheimer's disease and dementia.\n",
    "Intra-Cellular Therapies (NASDAQ:ITCI).Company Profile.Market cap: US$5.96 billion; current share price: US$62.59.As its name suggests, biopharma company Intra-Cellular Therapies is taking an intracellular approach to developing therapies for patients with complex psychiatric and neurologic diseases, including Parkinson’s disease and Alzheimer’s disease.Intra-Cellular Therapies is currently evaluating ITI-1284-ODT-SL, a deuterated form of lumateperone that comes in an oral disintegrating tablet; ITI-1284-ODT-SL is in Phase 1 studies, including drug-drug interaction studies.\n",
    "3. Axsome Therapeutics (NASDAQ:AXSM).Company Profile.Market cap: US$3.16 billion; current share price: US$72.64.New York-based Axsome Therapeutics is developing and commercializing a portfolio of novel therapies for disorders of the central nervous system with limited treatment options.\n",
    "\"\"\"\n",
    "\n",
    "prompt = \"Rewrite the following sentences so that they become coherent: \\n\"\n",
    "\n",
    "response = generate(prompt + article, max_new_tokens=400)\n",
    "response"
   ]
  },
  {
   "cell_type": "code",
   "execution_count": 25,
   "id": "5e4a08ec-57e0-47c5-946d-295361e047ea",
   "metadata": {},
   "outputs": [
    {
     "data": {
      "text/plain": [
       "'A Mubadala Investment Co.-backed healthcare company said it agreed to acquire kidney-care provider Diaverum, extending the Abu Dhabi sovereign-wealth fund’s bet on healthcare. Diaverum’s operations include 40 dialysis facilities in Saudi Arabia where Diaverum operates under a five-year contract with the Saudi Ministry of Health, according to the company’s website.'"
      ]
     },
     "execution_count": 25,
     "metadata": {},
     "output_type": "execute_result"
    }
   ],
   "source": [
    "article = \"\"\"\n",
    "A Mubadala Investment Co.-backed healthcare company said it agreed to acquire kidney-care provider Diaverum, extending the Abu Dhabi sovereign-wealth fund’s bet on healthcare.\n",
    "Diaverum’s operations include 40 dialysis facilities in Saudi Arabia where Diaverum operates under a five-year contract with the Saudi Ministry of Health, according to the company’s website.\n",
    "The abortion pill mifepristone is either banned or restricted to varying degrees in 27 states despite a Supreme Court decision that — for now — maintains Food and Drug Administration regulations allowing easy access to the medication.\n",
    "The Supreme Court, acting on an emergency basis, last week blocked lower federal court orders that had imposed severe restrictions on mifepristone even in some states where abortion remains legal.\n",
    "Patients previously were required by the FDA to obtain mifepristone in person from a health-care provider or take the medication under their supervision.\n",
    "While the Supreme Court’s decision at least temporarily maintains access to mifepristone in states that support broad access to abortion, it will have less or no impact in conservative states that banned the procedure since last summer, when the high court overturned the half-century-old federal constitutional right to abortion.\n",
    "Kaiser Permanente, a large California-based health care group with 39 hospitals and 24,000 doctors, said on Wednesday that it expected to acquire Geisinger Health, a smaller East Coast group, in an effort to develop a new company that would operate nonprofit community health systems.\n",
    "While Mr. Adams did not say what other health systems he might be talking to regarding acquisitions, Kaiser said it hoped to invest $5 billion in Risant over the next five years, in addition to its spending on Kaiser’s core operations.\n",
    "The creation of Risant Health represents an opportunity for Kaiser, which had $95 billion in revenue last year, to become an even bigger and more influential organization by working with other hospital groups and health plans.\n",
    "In keeping with Kaiser’s model, the community health systems under Risant would invest in technology and preventive care to keep patients healthy, so they would need less expensive specialty and hospital care, Mr. Adams said.\n",
    "“Covid has really shown not having integrated, value-based relationships puts our health systems and our communities at risk,” Mr. Adams said.\n",
    "While Geisinger has long focused on improving care, Dr. Ryu said the health system would benefit from Kaiser’s ability to invest in the kind of technology and preventive care necessary to keep people healthier.\n",
    "And unfortunately, Alzheimer’s disease is rising in prevalence — a report from Research and Markets suggests that the global Alzheimer’s disease treatment market will be worth a significant US$9.64 billion by 2028 as more patients need treatment, and as more investments are made in biomarkers for diagnosis and drug development.Here the Investing News Network takes a look at a few of the biggest Alzheimer’s disease treatment stocks on the NASDAQ.\n",
    "Biogen (NASDAQ:BIIB) Company Profile.Market cap: US$42.27 billion; current share price: US$292.80.Massachusetts-based Biogen, a pioneer in the field of neuroscience, is developing, manufacturing and marketing therapies aimed at treating serious neurological, neurodegenerative, autoimmune and rare diseases.The global biotechnology firm’s research areas include Alzheimer's disease and dementia.\n",
    "Intra-Cellular Therapies (NASDAQ:ITCI).Company Profile.Market cap: US$5.96 billion; current share price: US$62.59.As its name suggests, biopharma company Intra-Cellular Therapies is taking an intracellular approach to developing therapies for patients with complex psychiatric and neurologic diseases, including Parkinson’s disease and Alzheimer’s disease.Intra-Cellular Therapies is currently evaluating ITI-1284-ODT-SL, a deuterated form of lumateperone that comes in an oral disintegrating tablet; ITI-1284-ODT-SL is in Phase 1 studies, including drug-drug interaction studies.\n",
    "3. Axsome Therapeutics (NASDAQ:AXSM).Company Profile.Market cap: US$3.16 billion; current share price: US$72.64.New York-based Axsome Therapeutics is developing and commercializing a portfolio of novel therapies for disorders of the central nervous system with limited treatment options.\n",
    "\"\"\"\n",
    "\n",
    "prompt = \"The following sentences are taken from news articles. Paraphrase the sentences for an investor without losing relevant information or key entities: \\n\"\n",
    "\n",
    "response = generate(prompt + article, max_new_tokens=400)\n",
    "response"
   ]
  },
  {
   "cell_type": "code",
   "execution_count": 26,
   "id": "f1ceec5b-3aa9-4832-bf07-647e315894a7",
   "metadata": {},
   "outputs": [
    {
     "data": {
      "text/plain": [
       "\"M42, a newly launched healthcare operator owned by Mubadala, is acquiring Diaverum. The deal value wasn't disclosed. The Wall Street Journal earlier reported the transaction values the business at more than $2 billion. Diaverum, based in Sweden, oversees a global network of 440 dialysis clinics.\""
      ]
     },
     "execution_count": 26,
     "metadata": {},
     "output_type": "execute_result"
    }
   ],
   "source": [
    "article = \"\"\"\n",
    "A Mubadala Investment Co.-backed healthcare company said it agreed to acquire kidney-care provider Diaverum, extending the Abu Dhabi sovereign-wealth fund’s bet on healthcare. M42, a newly launched healthcare operator owned by Mubadala and a partner company, G42, is acquiring Diaverum from U.K.-based buyout firm Bridgepoint Group PLC. BPT 0.17%increase; green up pointing triangle The deal value wasn’t disclosed. The Wall Street Journal earlier reported the transaction values the business at more than $2 billion including debt, according to people familiar with the matter. M42 said it expects to close the deal later this year. A pre-markets primer packed with news, trends and ideas. Plus, up-to-the-minute market data. Diaverum, based in Sweden, oversees a global network of 440 dialysis clinics, almost triple the 155 facilities Bridgepoint inherited when it bought the business in 2007 for an undisclosed amount. Diaverum has also expanded geographically over that period, operating in 23 countries, up from 15.  Dialysis is a procedure to remove waste products and excess fluid from the blood when the kidneys stop working properly. It often involves diverting blood to a machine to be cleaned. The size of the dialysis market globally is expected to grow in coming years because of aging populations and the increased incidence of kidney disease related to diabetes and other conditions. Diaverum’s operations include 40 dialysis facilities in Saudi Arabia where Diaverum operates under a five-year contract with the Saudi Ministry of Health, according to the company’s website. Confidence in winning renewal of the license in 2024 was key to the deal, which gave M42 an advantage over other bidders because of its existing base in the region and Mubadala’s backing, said some bankers following the sale process.  Mubadala is the investment arm for the Abu Dhabi government. It oversees $284 billion in assets and invests across a range of industries including business services, energy, financials, healthcare and industrials. Bridgepoint manages more than €37 billion, equivalent to about $40.6 billion of assets, focusing its investments in industrials, business and financial services, consumer and healthcare, according to the firm’s website. Bridgepoint attempted to list Diaverum in an initial public offering in 2020. It withdrew the IPO after not achieving a high-enough valuation.\n",
    "\"\"\"\n",
    "\n",
    "prompt = \"extract the key points from the following article for an investor while covering all entities: \"\n",
    "response = generate(prompt + article, max_new_tokens=300)\n",
    "response"
   ]
  },
  {
   "cell_type": "code",
   "execution_count": 29,
   "id": "49ab4243-a36b-4d9c-b9f7-3e1c383be8d2",
   "metadata": {},
   "outputs": [
    {
     "data": {
      "text/plain": [
       "\"Seres Therapeutics' pill for treating bacterial infection approved. Seres Therapeutics' drug will compete with Ferring Pharmaceuticals' fecal transplant-based therapy. Seres entered into a deal with Nestle's health science unit in 2021 to jointly commercialize the drug in the U.S.\""
      ]
     },
     "execution_count": 29,
     "metadata": {},
     "output_type": "execute_result"
    }
   ],
   "source": [
    "article = \"\"\"\n",
    "April 26 (Reuters) - The U.S. health regulator on Wednesday approved Seres Therapeutics Inc's (MCRB.O) pill for treating a type of bacterial infection, giving an easier and standardized option to patients who often have to rely on individual donors for fecal transplants.\n",
    "\n",
    "The drug, branded as Vowst, was approved for treating 18 years and older for recurrent Clostridioides difficile (C. diff) infections (CDI), generally caused by prolonged use of antibiotics, which wipe out friendly colon bacteria and can cause potentially fatal diarrhea and inflammation of the colon.\n",
    "\n",
    "Vowst consists of a certain kind of bacteria made by purifying fecal matter derived from healthy people, while fecal transplants are donated by healthy volunteers and are not purified.\n",
    "\n",
    "The approval for the drug was based on its late-stage trials, in which treatment with the drug helped patients get rid of recurrent CDI.\n",
    "\n",
    "\"The efficacy is so good, I don't know that there's much room for others to compete with this drug,\" Oppenheimer analyst Mark Breidenbach said before the approval.\n",
    "\n",
    "Seres' drug will compete with Switzerland-based Ferring Pharmaceuticals' fecal transplant-based therapy, which is delivered through an enema.\n",
    "\n",
    "Physicians think Seres' pill could replace fecal microbiota transplants in patients, TD Cowen analyst Joseph Thome said ahead of the decision. He said the drug could be priced close to $20,000 per course, expecting peak sales of $750 million in the U.S. in 2033.\n",
    "\n",
    "Government data estimates that C. diff causes nearly half a million infections in the United States annually.\n",
    "\n",
    "Seres entered into a deal with Nestle's health science unit in 2021 to jointly commercialize the drug in the United States.\n",
    "\"\"\"\n",
    "\n",
    "prompt = \"extract the key points from the following article for an investor interested in Seres Therapeutics or Nestle: \"\n",
    "\n",
    "response = generate(prompt + article, max_new_tokens=300)\n",
    "response"
   ]
  },
  {
   "cell_type": "code",
   "execution_count": null,
   "id": "db9a2fc7-eee2-4631-a518-9efd0f0367df",
   "metadata": {},
   "outputs": [],
   "source": []
  }
 ],
 "metadata": {
  "environment": {
   "kernel": "python3",
   "name": "tf2-cpu.2-11.m106",
   "type": "gcloud",
   "uri": "gcr.io/deeplearning-platform-release/tf2-cpu.2-11:m106"
  },
  "kernelspec": {
   "display_name": "Python 3",
   "language": "python",
   "name": "python3"
  },
  "language_info": {
   "codemirror_mode": {
    "name": "ipython",
    "version": 3
   },
   "file_extension": ".py",
   "mimetype": "text/x-python",
   "name": "python",
   "nbconvert_exporter": "python",
   "pygments_lexer": "ipython3",
   "version": "3.7.12"
  }
 },
 "nbformat": 4,
 "nbformat_minor": 5
}
