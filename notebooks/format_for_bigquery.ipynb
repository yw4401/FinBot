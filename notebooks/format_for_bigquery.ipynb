{
 "cells": [
  {
   "cell_type": "code",
   "execution_count": 1,
   "metadata": {
    "collapsed": true
   },
   "outputs": [],
   "source": [
    "import sys\n",
    "\n",
    "sys.path.append('..')\n",
    "import pandas as pd\n",
    "import re\n",
    "\n",
    "import pipeline.config as config"
   ]
  },
  {
   "cell_type": "code",
   "execution_count": 2,
   "outputs": [],
   "source": [
    "import json\n",
    "from google.cloud import storage\n",
    "from contextlib import closing\n",
    "\n",
    "\n",
    "def load_subsample_index(client, bucket=config.ARTICLE_CONVERT_META_BUCKET,\n",
    "                         conversion_index=config.ARTICLE_CONVERT_SUBSAMPLE_IDX):\n",
    "    files = set([f.name for f in client.list_blobs(bucket_or_name=bucket)])\n",
    "    if conversion_index not in files:\n",
    "        return {\n",
    "            \"subsampled\": 0,\n",
    "            \"files\": []\n",
    "        }\n",
    "    bucket = client.bucket(bucket)\n",
    "    with bucket.blob(conversion_index).open(\"r\") as fp:\n",
    "        index = json.load(fp)\n",
    "    return index\n",
    "\n",
    "with closing(storage.Client(project=config.GCP_PROJECT)) as client:\n",
    "    idx = load_subsample_index(client=client)"
   ],
   "metadata": {
    "collapsed": false
   }
  },
  {
   "cell_type": "code",
   "execution_count": 3,
   "outputs": [
    {
     "data": {
      "text/plain": "    source     id                                                url  \\\n0  reuters  41678  https://www.reuters.com/world/asia-pacific/un-...   \n1  reuters  41679  https://www.reuters.com/world/europe/lavrov-un...   \n2  reuters  41682  https://www.reuters.com/world/middle-east/tali...   \n3  reuters  41683  https://www.reuters.com/world/asia-pacific/un-...   \n4  reuters  41684  https://www.reuters.com/markets/commodities/ru...   \n\n       category                                              title  \\\n0  Asia Pacific  Security Council condemns Taliban ban on Afgha...   \n1        Europe  In letter to Putin, UN chief proposes way forw...   \n2   Middle East  Taliban not invited to UN Doha meeting on Afgh...   \n3  Asia Pacific  UN chief to convene meeting to work on way for...   \n4   Commodities  Russia's Lavrov to talk Ukraine grain deal wit...   \n\n             published                                               body  \\\n0  2023-04-27T22:17:00  UNITED NATIONS, April 27 (Reuters) - The U.N. ...   \n1  2023-04-24T20:55:00  UNITED NATIONS, April 24 (Reuters) - U.N. Secr...   \n2  2023-04-28T18:07:00  UNITED NATIONS, April 28 (Reuters) - U.N. Secr...   \n3  2023-04-20T00:18:00  April 19 (Reuters) - U.N. Secretary-General An...   \n4  2023-04-18T19:30:00  UNITED NATIONS, April 18 (Reuters) - Russian F...   \n\n  summary summary_type  \n0                 NULL  \n1                 NULL  \n2                 NULL  \n3                 NULL  \n4                 NULL  ",
      "text/html": "<div>\n<style scoped>\n    .dataframe tbody tr th:only-of-type {\n        vertical-align: middle;\n    }\n\n    .dataframe tbody tr th {\n        vertical-align: top;\n    }\n\n    .dataframe thead th {\n        text-align: right;\n    }\n</style>\n<table border=\"1\" class=\"dataframe\">\n  <thead>\n    <tr style=\"text-align: right;\">\n      <th></th>\n      <th>source</th>\n      <th>id</th>\n      <th>url</th>\n      <th>category</th>\n      <th>title</th>\n      <th>published</th>\n      <th>body</th>\n      <th>summary</th>\n      <th>summary_type</th>\n    </tr>\n  </thead>\n  <tbody>\n    <tr>\n      <th>0</th>\n      <td>reuters</td>\n      <td>41678</td>\n      <td>https://www.reuters.com/world/asia-pacific/un-...</td>\n      <td>Asia Pacific</td>\n      <td>Security Council condemns Taliban ban on Afgha...</td>\n      <td>2023-04-27T22:17:00</td>\n      <td>UNITED NATIONS, April 27 (Reuters) - The U.N. ...</td>\n      <td></td>\n      <td>NULL</td>\n    </tr>\n    <tr>\n      <th>1</th>\n      <td>reuters</td>\n      <td>41679</td>\n      <td>https://www.reuters.com/world/europe/lavrov-un...</td>\n      <td>Europe</td>\n      <td>In letter to Putin, UN chief proposes way forw...</td>\n      <td>2023-04-24T20:55:00</td>\n      <td>UNITED NATIONS, April 24 (Reuters) - U.N. Secr...</td>\n      <td></td>\n      <td>NULL</td>\n    </tr>\n    <tr>\n      <th>2</th>\n      <td>reuters</td>\n      <td>41682</td>\n      <td>https://www.reuters.com/world/middle-east/tali...</td>\n      <td>Middle East</td>\n      <td>Taliban not invited to UN Doha meeting on Afgh...</td>\n      <td>2023-04-28T18:07:00</td>\n      <td>UNITED NATIONS, April 28 (Reuters) - U.N. Secr...</td>\n      <td></td>\n      <td>NULL</td>\n    </tr>\n    <tr>\n      <th>3</th>\n      <td>reuters</td>\n      <td>41683</td>\n      <td>https://www.reuters.com/world/asia-pacific/un-...</td>\n      <td>Asia Pacific</td>\n      <td>UN chief to convene meeting to work on way for...</td>\n      <td>2023-04-20T00:18:00</td>\n      <td>April 19 (Reuters) - U.N. Secretary-General An...</td>\n      <td></td>\n      <td>NULL</td>\n    </tr>\n    <tr>\n      <th>4</th>\n      <td>reuters</td>\n      <td>41684</td>\n      <td>https://www.reuters.com/markets/commodities/ru...</td>\n      <td>Commodities</td>\n      <td>Russia's Lavrov to talk Ukraine grain deal wit...</td>\n      <td>2023-04-18T19:30:00</td>\n      <td>UNITED NATIONS, April 18 (Reuters) - Russian F...</td>\n      <td></td>\n      <td>NULL</td>\n    </tr>\n  </tbody>\n</table>\n</div>"
     },
     "execution_count": 3,
     "metadata": {},
     "output_type": "execute_result"
    }
   ],
   "source": [
    "dataframes = []\n",
    "for fname in idx[\"files\"]:\n",
    "    dataframes.append(pd.read_parquet(fname))\n",
    "\n",
    "total_df = pd.concat(dataframes, ignore_index=True)\n",
    "total_df.head()"
   ],
   "metadata": {
    "collapsed": false
   }
  },
  {
   "cell_type": "code",
   "execution_count": 6,
   "outputs": [],
   "source": [
    "from datetime import datetime\n",
    "\n",
    "total_df[\"published\"] = total_df['published'].apply(lambda t: datetime.fromisoformat(t))\n",
    "total_df.to_parquet(\"gs://scraped-news-article-data-null/all-data.parquet\", index=False)"
   ],
   "metadata": {
    "collapsed": false
   }
  },
  {
   "cell_type": "code",
   "execution_count": null,
   "outputs": [],
   "source": [],
   "metadata": {
    "collapsed": false
   }
  }
 ],
 "metadata": {
  "kernelspec": {
   "display_name": "Python 3",
   "language": "python",
   "name": "python3"
  },
  "language_info": {
   "codemirror_mode": {
    "name": "ipython",
    "version": 2
   },
   "file_extension": ".py",
   "mimetype": "text/x-python",
   "name": "python",
   "nbconvert_exporter": "python",
   "pygments_lexer": "ipython2",
   "version": "2.7.6"
  }
 },
 "nbformat": 4,
 "nbformat_minor": 0
}
