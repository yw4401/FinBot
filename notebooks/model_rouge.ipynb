{
 "cells": [
  {
   "cell_type": "code",
   "execution_count": 1,
   "id": "d2e586a2-aa5e-4b00-baae-95a85c53ea50",
   "metadata": {},
   "outputs": [
    {
     "name": "stdout",
     "output_type": "stream",
     "text": [
      "INFO: Pandarallel will run on 6 workers.\n",
      "INFO: Pandarallel will use Memory file system to transfer data between the main process and workers.\n"
     ]
    }
   ],
   "source": [
    "import pandas as pd\n",
    "from pandarallel import pandarallel\n",
    "from sklearn.metrics import classification_report\n",
    "from finetune.common import create_summarization_metrics\n",
    "\n",
    "\n",
    "pandarallel.initialize(progress_bar=True)"
   ]
  },
  {
   "cell_type": "code",
   "execution_count": 2,
   "outputs": [
    {
     "data": {
      "text/plain": "                                             context  \\\n0  Published: 2022-12-16\\nPARIS, Dec 16 (Reuters)...   \n1  Published: 2023-10-25\\n## In this article\\nFol...   \n2  Published: 2023-10-02\\n\"In mitigating climate ...   \n3  Published: 2023-10-18\\nA report published Tues...   \n4  Published: 2022-03-04\\nMeanwhile, a new law th...   \n\n                  published  \\\n0 2022-12-16 15:39:00+00:00   \n1 2023-10-25 20:12:41+00:00   \n2 2023-10-02 11:54:30+00:00   \n3 2023-10-18 19:49:14+00:00   \n4 2022-03-04 18:46:53+00:00   \n\n                                            question  \\\n0  How are French, German, and Polish crops expec...   \n1           What caused the surge in Endeavor stock?   \n2  What specific climate criticisms and accusatio...   \n3  Which specific projects or companies will rece...   \n4  What were the reasons cited by Russia for bloc...   \n\n                                             summary  \\\n0  French crops predicted to withstand wintry wea...   \n1  Silver Lake's interest in taking Endeavor priv...   \n2        Impossible to answer with given information   \n3        Impossible to answer with given information   \n4  Russia blocks Meta-owned Facebook amid invasio...   \n\n                                           predicted  \n0  * In France, the cold weather is not expected ...  \n1  Endeavor stock surged after the company announ...  \n2  The fossil fuel industry has been accused of i...  \n3  Specific projects that will receive funding in...  \n4  - Russia's media regulator said it was blockin...  ",
      "text/html": "<div>\n<style scoped>\n    .dataframe tbody tr th:only-of-type {\n        vertical-align: middle;\n    }\n\n    .dataframe tbody tr th {\n        vertical-align: top;\n    }\n\n    .dataframe thead th {\n        text-align: right;\n    }\n</style>\n<table border=\"1\" class=\"dataframe\">\n  <thead>\n    <tr style=\"text-align: right;\">\n      <th></th>\n      <th>context</th>\n      <th>published</th>\n      <th>question</th>\n      <th>summary</th>\n      <th>predicted</th>\n    </tr>\n  </thead>\n  <tbody>\n    <tr>\n      <th>0</th>\n      <td>Published: 2022-12-16\\nPARIS, Dec 16 (Reuters)...</td>\n      <td>2022-12-16 15:39:00+00:00</td>\n      <td>How are French, German, and Polish crops expec...</td>\n      <td>French crops predicted to withstand wintry wea...</td>\n      <td>* In France, the cold weather is not expected ...</td>\n    </tr>\n    <tr>\n      <th>1</th>\n      <td>Published: 2023-10-25\\n## In this article\\nFol...</td>\n      <td>2023-10-25 20:12:41+00:00</td>\n      <td>What caused the surge in Endeavor stock?</td>\n      <td>Silver Lake's interest in taking Endeavor priv...</td>\n      <td>Endeavor stock surged after the company announ...</td>\n    </tr>\n    <tr>\n      <th>2</th>\n      <td>Published: 2023-10-02\\n\"In mitigating climate ...</td>\n      <td>2023-10-02 11:54:30+00:00</td>\n      <td>What specific climate criticisms and accusatio...</td>\n      <td>Impossible to answer with given information</td>\n      <td>The fossil fuel industry has been accused of i...</td>\n    </tr>\n    <tr>\n      <th>3</th>\n      <td>Published: 2023-10-18\\nA report published Tues...</td>\n      <td>2023-10-18 19:49:14+00:00</td>\n      <td>Which specific projects or companies will rece...</td>\n      <td>Impossible to answer with given information</td>\n      <td>Specific projects that will receive funding in...</td>\n    </tr>\n    <tr>\n      <th>4</th>\n      <td>Published: 2022-03-04\\nMeanwhile, a new law th...</td>\n      <td>2022-03-04 18:46:53+00:00</td>\n      <td>What were the reasons cited by Russia for bloc...</td>\n      <td>Russia blocks Meta-owned Facebook amid invasio...</td>\n      <td>- Russia's media regulator said it was blockin...</td>\n    </tr>\n  </tbody>\n</table>\n</div>"
     },
     "execution_count": 2,
     "metadata": {},
     "output_type": "execute_result"
    }
   ],
   "source": [
    "df = pd.read_parquet('gs://scraped-news-article-data-null/text-bison-test-predicted.parquet')\n",
    "df[\"predicted\"] = df.predicted.str.strip()\n",
    "df.head()"
   ],
   "metadata": {
    "collapsed": false
   }
  },
  {
   "cell_type": "code",
   "execution_count": 3,
   "outputs": [
    {
     "name": "stdout",
     "output_type": "stream",
     "text": [
      "              precision    recall  f1-score   support\n",
      "\n",
      "       False       0.53      0.99      0.69       985\n",
      "        True       0.96      0.19      0.32      1093\n",
      "\n",
      "    accuracy                           0.57      2078\n",
      "   macro avg       0.74      0.59      0.51      2078\n",
      "weighted avg       0.76      0.57      0.50      2078\n",
      "\n"
     ]
    }
   ],
   "source": [
    "df[\"y\"] = False\n",
    "df[\"y_hat\"] = False\n",
    "df.loc[df.summary.str.contains(\"Impossible\", case=False), \"y\"] = True\n",
    "df[\"y\"] = df.y.fillna(False)\n",
    "df.loc[df.predicted.str.contains(\"Impossible\", case=False), \"y_hat\"] = True\n",
    "df[\"y_hat\"] = df.y_hat.fillna(False)\n",
    "print(classification_report(df.y, df.y_hat))"
   ],
   "metadata": {
    "collapsed": false
   }
  },
  {
   "cell_type": "code",
   "execution_count": 4,
   "outputs": [
    {
     "name": "stderr",
     "output_type": "stream",
     "text": [
      "[nltk_data] Downloading package punkt to /home/sdai/nltk_data...\n",
      "[nltk_data]   Package punkt is already up-to-date!\n",
      "[nltk_data] Downloading package wordnet to /home/sdai/nltk_data...\n",
      "[nltk_data]   Package wordnet is already up-to-date!\n",
      "[nltk_data] Downloading package stopwords to /home/sdai/nltk_data...\n",
      "[nltk_data]   Package stopwords is already up-to-date!\n"
     ]
    },
    {
     "data": {
      "text/plain": "VBox(children=(HBox(children=(IntProgress(value=0, description='0.00%', max=163), Label(value='0 / 163'))), HB…",
      "application/vnd.jupyter.widget-view+json": {
       "version_major": 2,
       "version_minor": 0,
       "model_id": "a38a8c2243d9421c9d12ccdd18749b47"
      }
     },
     "metadata": {},
     "output_type": "display_data"
    },
    {
     "data": {
      "text/plain": "    rouge1   rouge2   rougeL  rougeLsum\n0  23.6842   2.7027  15.7895    21.0526\n1  33.3333  15.7895  20.5128    23.0769\n2  42.4242  10.3093  22.2222    36.3636\n3  31.8182  23.8095  31.8182    31.8182\n4  33.3333  17.0732  26.1905    26.1905",
      "text/html": "<div>\n<style scoped>\n    .dataframe tbody tr th:only-of-type {\n        vertical-align: middle;\n    }\n\n    .dataframe tbody tr th {\n        vertical-align: top;\n    }\n\n    .dataframe thead th {\n        text-align: right;\n    }\n</style>\n<table border=\"1\" class=\"dataframe\">\n  <thead>\n    <tr style=\"text-align: right;\">\n      <th></th>\n      <th>rouge1</th>\n      <th>rouge2</th>\n      <th>rougeL</th>\n      <th>rougeLsum</th>\n    </tr>\n  </thead>\n  <tbody>\n    <tr>\n      <th>0</th>\n      <td>23.6842</td>\n      <td>2.7027</td>\n      <td>15.7895</td>\n      <td>21.0526</td>\n    </tr>\n    <tr>\n      <th>1</th>\n      <td>33.3333</td>\n      <td>15.7895</td>\n      <td>20.5128</td>\n      <td>23.0769</td>\n    </tr>\n    <tr>\n      <th>2</th>\n      <td>42.4242</td>\n      <td>10.3093</td>\n      <td>22.2222</td>\n      <td>36.3636</td>\n    </tr>\n    <tr>\n      <th>3</th>\n      <td>31.8182</td>\n      <td>23.8095</td>\n      <td>31.8182</td>\n      <td>31.8182</td>\n    </tr>\n    <tr>\n      <th>4</th>\n      <td>33.3333</td>\n      <td>17.0732</td>\n      <td>26.1905</td>\n      <td>26.1905</td>\n    </tr>\n  </tbody>\n</table>\n</div>"
     },
     "execution_count": 4,
     "metadata": {},
     "output_type": "execute_result"
    }
   ],
   "source": [
    "_, rouge_metric, _ = create_summarization_metrics(None, None)\n",
    "pure_df = df.loc[(~df.summary.str.contains(\"Impossible\", case=False)) &\n",
    "                 (~df.predicted.str.contains(\"Impossible\", case=False))]\n",
    "rouge_results = pure_df.parallel_apply(lambda row: rouge_metric([row[\"summary\"]], [row[\"predicted\"]]), axis=1)\n",
    "rouge_results = pd.DataFrame(rouge_results.tolist())\n",
    "rouge_results.head()"
   ],
   "metadata": {
    "collapsed": false
   }
  },
  {
   "cell_type": "code",
   "execution_count": 5,
   "outputs": [],
   "source": [
    "rouge_results.to_excel('gs://scraped-news-article-data-null/text-bison-rouge.xlsx')"
   ],
   "metadata": {
    "collapsed": false
   }
  },
  {
   "cell_type": "code",
   "execution_count": 2,
   "id": "c25b329b-796e-44c3-9e89-950ab1e091af",
   "metadata": {},
   "outputs": [
    {
     "data": {
      "text/plain": "                                                body  \\\n0  Published: 2022-12-16\\nPARIS, Dec 16 (Reuters)...   \n1  Published: 2023-10-25\\n## In this article\\nFol...   \n2  Published: 2023-10-02\\n\"In mitigating climate ...   \n3  Published: 2023-10-18\\nA report published Tues...   \n4  Published: 2022-03-04\\nMeanwhile, a new law th...   \n\n                  published  \\\n0 2022-12-16 15:39:00+00:00   \n1 2023-10-25 20:12:41+00:00   \n2 2023-10-02 11:54:30+00:00   \n3 2023-10-18 19:49:14+00:00   \n4 2022-03-04 18:46:53+00:00   \n\n                                            question  \\\n0  How are French, German, and Polish crops expec...   \n1           What caused the surge in Endeavor stock?   \n2  What specific climate criticisms and accusatio...   \n3  Which specific projects or companies will rece...   \n4  What were the reasons cited by Russia for bloc...   \n\n                                             summary  \\\n0  French crops predicted to withstand wintry wea...   \n1  Silver Lake's interest in taking Endeavor priv...   \n2        Impossible to answer with given information   \n3        Impossible to answer with given information   \n4  Russia blocks Meta-owned Facebook amid invasio...   \n\n                                           predicted  \n0  Wintry weather poses minimal risk to French, G...  \n1  Endeavor stock surges as major shareholder Sil...  \n2        Impossible to answer with given information  \n3        Impossible to answer with given information  \n4  Russia blocks Meta-owned Facebook in the count...  ",
      "text/html": "<div>\n<style scoped>\n    .dataframe tbody tr th:only-of-type {\n        vertical-align: middle;\n    }\n\n    .dataframe tbody tr th {\n        vertical-align: top;\n    }\n\n    .dataframe thead th {\n        text-align: right;\n    }\n</style>\n<table border=\"1\" class=\"dataframe\">\n  <thead>\n    <tr style=\"text-align: right;\">\n      <th></th>\n      <th>body</th>\n      <th>published</th>\n      <th>question</th>\n      <th>summary</th>\n      <th>predicted</th>\n    </tr>\n  </thead>\n  <tbody>\n    <tr>\n      <th>0</th>\n      <td>Published: 2022-12-16\\nPARIS, Dec 16 (Reuters)...</td>\n      <td>2022-12-16 15:39:00+00:00</td>\n      <td>How are French, German, and Polish crops expec...</td>\n      <td>French crops predicted to withstand wintry wea...</td>\n      <td>Wintry weather poses minimal risk to French, G...</td>\n    </tr>\n    <tr>\n      <th>1</th>\n      <td>Published: 2023-10-25\\n## In this article\\nFol...</td>\n      <td>2023-10-25 20:12:41+00:00</td>\n      <td>What caused the surge in Endeavor stock?</td>\n      <td>Silver Lake's interest in taking Endeavor priv...</td>\n      <td>Endeavor stock surges as major shareholder Sil...</td>\n    </tr>\n    <tr>\n      <th>2</th>\n      <td>Published: 2023-10-02\\n\"In mitigating climate ...</td>\n      <td>2023-10-02 11:54:30+00:00</td>\n      <td>What specific climate criticisms and accusatio...</td>\n      <td>Impossible to answer with given information</td>\n      <td>Impossible to answer with given information</td>\n    </tr>\n    <tr>\n      <th>3</th>\n      <td>Published: 2023-10-18\\nA report published Tues...</td>\n      <td>2023-10-18 19:49:14+00:00</td>\n      <td>Which specific projects or companies will rece...</td>\n      <td>Impossible to answer with given information</td>\n      <td>Impossible to answer with given information</td>\n    </tr>\n    <tr>\n      <th>4</th>\n      <td>Published: 2022-03-04\\nMeanwhile, a new law th...</td>\n      <td>2022-03-04 18:46:53+00:00</td>\n      <td>What were the reasons cited by Russia for bloc...</td>\n      <td>Russia blocks Meta-owned Facebook amid invasio...</td>\n      <td>Russia blocks Meta-owned Facebook in the count...</td>\n    </tr>\n  </tbody>\n</table>\n</div>"
     },
     "execution_count": 2,
     "metadata": {},
     "output_type": "execute_result"
    }
   ],
   "source": [
    "df = pd.read_parquet('gs://scraped-news-article-data-null/mistral-sum-test-predicted.parquet')\n",
    "df[\"predicted\"] = df.predicted.str.strip()\n",
    "df.head()"
   ]
  },
  {
   "cell_type": "code",
   "execution_count": 3,
   "id": "6a144be4-dc28-4cda-8004-36429d0bfc1e",
   "metadata": {},
   "outputs": [
    {
     "name": "stdout",
     "output_type": "stream",
     "text": [
      "              precision    recall  f1-score   support\n",
      "\n",
      "       False       0.95      0.94      0.94       985\n",
      "        True       0.94      0.95      0.95      1093\n",
      "\n",
      "    accuracy                           0.94      2078\n",
      "   macro avg       0.94      0.94      0.94      2078\n",
      "weighted avg       0.94      0.94      0.94      2078\n",
      "\n"
     ]
    }
   ],
   "source": [
    "from sklearn.metrics import classification_report\n",
    "\n",
    "df[\"y\"] = False\n",
    "df[\"y_hat\"] = False\n",
    "df.loc[df.summary.str.contains(\"Impossible\", case=False), \"y\"] = True\n",
    "df[\"y\"] = df.y.fillna(False)\n",
    "df.loc[df.predicted.str.contains(\"Impossible\", case=False), \"y_hat\"] = True\n",
    "df[\"y_hat\"] = df.y_hat.fillna(False)\n",
    "print(classification_report(df.y, df.y_hat))"
   ]
  },
  {
   "cell_type": "code",
   "execution_count": 4,
   "id": "24c7a3d4-9cd8-492c-af1e-a5ce95b7ded2",
   "metadata": {},
   "outputs": [
    {
     "data": {
      "text/plain": "                                                   body  \\\n0     Published: 2022-12-16\\nPARIS, Dec 16 (Reuters)...   \n1     Published: 2023-10-25\\n## In this article\\nFol...   \n2     Published: 2023-10-02\\n\"In mitigating climate ...   \n3     Published: 2023-10-18\\nA report published Tues...   \n4     Published: 2022-03-04\\nMeanwhile, a new law th...   \n...                                                 ...   \n2073  Published: 2022-07-03\\nALMATY, July 3 (Reuters...   \n2074  Published: 2022-11-21\\nNEW YORK, Nov 21 (Reute...   \n2075  Published: 2022-03-08\\n## In this article\\nFol...   \n2076  Published: 2023-10-18\\nAnalyst Jos Versteeg of...   \n2077  Published: 2022-12-28\\nTravelers from China wi...   \n\n                     published  \\\n0    2022-12-16 15:39:00+00:00   \n1    2023-10-25 20:12:41+00:00   \n2    2023-10-02 11:54:30+00:00   \n3    2023-10-18 19:49:14+00:00   \n4    2022-03-04 18:46:53+00:00   \n...                        ...   \n2073 2017-09-01 12:35:39+00:00   \n2074 2023-04-19 19:37:40+00:00   \n2075 2020-04-07 20:14:20+00:00   \n2076 2022-07-13 23:57:39+00:00   \n2077 2023-01-23 05:03:00+00:00   \n\n                                               question  \\\n0     How are French, German, and Polish crops expec...   \n1              What caused the surge in Endeavor stock?   \n2     What specific climate criticisms and accusatio...   \n3     Which specific projects or companies will rece...   \n4     What were the reasons cited by Russia for bloc...   \n...                                                 ...   \n2073  What types of products are recommended to shop...   \n2074  How will the defamation lawsuits filed against...   \n2075  How many paying customers does Google's G Suit...   \n2076  How are the wildfires in Portugal and Spain af...   \n2077  What are some potential implications of the Eu...   \n\n                                                summary  \\\n0     French crops predicted to withstand wintry wea...   \n1     Silver Lake's interest in taking Endeavor priv...   \n2           Impossible to answer with given information   \n3           Impossible to answer with given information   \n4     Russia blocks Meta-owned Facebook amid invasio...   \n...                                                 ...   \n2073        Impossible to answer with given information   \n2074        Impossible to answer with given information   \n2075        Impossible to answer with given information   \n2076        Impossible to answer with given information   \n2077        Impossible to answer with given information   \n\n                                              predicted      y  y_hat  \n0     Wintry weather poses minimal risk to French, G...  False  False  \n1     Endeavor stock surges as major shareholder Sil...  False  False  \n2           Impossible to answer with given information   True   True  \n3           Impossible to answer with given information   True   True  \n4     Russia blocks Meta-owned Facebook in the count...  False  False  \n...                                                 ...    ...    ...  \n2073        Impossible to answer with given information   True   True  \n2074        Impossible to answer with given information   True   True  \n2075        Impossible to answer with given information   True   True  \n2076        Impossible to answer with given information   True   True  \n2077        Impossible to answer with given information   True   True  \n\n[2078 rows x 7 columns]",
      "text/html": "<div>\n<style scoped>\n    .dataframe tbody tr th:only-of-type {\n        vertical-align: middle;\n    }\n\n    .dataframe tbody tr th {\n        vertical-align: top;\n    }\n\n    .dataframe thead th {\n        text-align: right;\n    }\n</style>\n<table border=\"1\" class=\"dataframe\">\n  <thead>\n    <tr style=\"text-align: right;\">\n      <th></th>\n      <th>body</th>\n      <th>published</th>\n      <th>question</th>\n      <th>summary</th>\n      <th>predicted</th>\n      <th>y</th>\n      <th>y_hat</th>\n    </tr>\n  </thead>\n  <tbody>\n    <tr>\n      <th>0</th>\n      <td>Published: 2022-12-16\\nPARIS, Dec 16 (Reuters)...</td>\n      <td>2022-12-16 15:39:00+00:00</td>\n      <td>How are French, German, and Polish crops expec...</td>\n      <td>French crops predicted to withstand wintry wea...</td>\n      <td>Wintry weather poses minimal risk to French, G...</td>\n      <td>False</td>\n      <td>False</td>\n    </tr>\n    <tr>\n      <th>1</th>\n      <td>Published: 2023-10-25\\n## In this article\\nFol...</td>\n      <td>2023-10-25 20:12:41+00:00</td>\n      <td>What caused the surge in Endeavor stock?</td>\n      <td>Silver Lake's interest in taking Endeavor priv...</td>\n      <td>Endeavor stock surges as major shareholder Sil...</td>\n      <td>False</td>\n      <td>False</td>\n    </tr>\n    <tr>\n      <th>2</th>\n      <td>Published: 2023-10-02\\n\"In mitigating climate ...</td>\n      <td>2023-10-02 11:54:30+00:00</td>\n      <td>What specific climate criticisms and accusatio...</td>\n      <td>Impossible to answer with given information</td>\n      <td>Impossible to answer with given information</td>\n      <td>True</td>\n      <td>True</td>\n    </tr>\n    <tr>\n      <th>3</th>\n      <td>Published: 2023-10-18\\nA report published Tues...</td>\n      <td>2023-10-18 19:49:14+00:00</td>\n      <td>Which specific projects or companies will rece...</td>\n      <td>Impossible to answer with given information</td>\n      <td>Impossible to answer with given information</td>\n      <td>True</td>\n      <td>True</td>\n    </tr>\n    <tr>\n      <th>4</th>\n      <td>Published: 2022-03-04\\nMeanwhile, a new law th...</td>\n      <td>2022-03-04 18:46:53+00:00</td>\n      <td>What were the reasons cited by Russia for bloc...</td>\n      <td>Russia blocks Meta-owned Facebook amid invasio...</td>\n      <td>Russia blocks Meta-owned Facebook in the count...</td>\n      <td>False</td>\n      <td>False</td>\n    </tr>\n    <tr>\n      <th>...</th>\n      <td>...</td>\n      <td>...</td>\n      <td>...</td>\n      <td>...</td>\n      <td>...</td>\n      <td>...</td>\n      <td>...</td>\n    </tr>\n    <tr>\n      <th>2073</th>\n      <td>Published: 2022-07-03\\nALMATY, July 3 (Reuters...</td>\n      <td>2017-09-01 12:35:39+00:00</td>\n      <td>What types of products are recommended to shop...</td>\n      <td>Impossible to answer with given information</td>\n      <td>Impossible to answer with given information</td>\n      <td>True</td>\n      <td>True</td>\n    </tr>\n    <tr>\n      <th>2074</th>\n      <td>Published: 2022-11-21\\nNEW YORK, Nov 21 (Reute...</td>\n      <td>2023-04-19 19:37:40+00:00</td>\n      <td>How will the defamation lawsuits filed against...</td>\n      <td>Impossible to answer with given information</td>\n      <td>Impossible to answer with given information</td>\n      <td>True</td>\n      <td>True</td>\n    </tr>\n    <tr>\n      <th>2075</th>\n      <td>Published: 2022-03-08\\n## In this article\\nFol...</td>\n      <td>2020-04-07 20:14:20+00:00</td>\n      <td>How many paying customers does Google's G Suit...</td>\n      <td>Impossible to answer with given information</td>\n      <td>Impossible to answer with given information</td>\n      <td>True</td>\n      <td>True</td>\n    </tr>\n    <tr>\n      <th>2076</th>\n      <td>Published: 2023-10-18\\nAnalyst Jos Versteeg of...</td>\n      <td>2022-07-13 23:57:39+00:00</td>\n      <td>How are the wildfires in Portugal and Spain af...</td>\n      <td>Impossible to answer with given information</td>\n      <td>Impossible to answer with given information</td>\n      <td>True</td>\n      <td>True</td>\n    </tr>\n    <tr>\n      <th>2077</th>\n      <td>Published: 2022-12-28\\nTravelers from China wi...</td>\n      <td>2023-01-23 05:03:00+00:00</td>\n      <td>What are some potential implications of the Eu...</td>\n      <td>Impossible to answer with given information</td>\n      <td>Impossible to answer with given information</td>\n      <td>True</td>\n      <td>True</td>\n    </tr>\n  </tbody>\n</table>\n<p>2078 rows × 7 columns</p>\n</div>"
     },
     "execution_count": 4,
     "metadata": {},
     "output_type": "execute_result"
    }
   ],
   "source": [
    "df"
   ]
  },
  {
   "cell_type": "code",
   "execution_count": 5,
   "id": "4ae1cc55-11df-457f-8bbc-d0e0d3b30d71",
   "metadata": {},
   "outputs": [
    {
     "name": "stderr",
     "output_type": "stream",
     "text": [
      "[nltk_data] Downloading package punkt to /home/sdai/nltk_data...\n",
      "[nltk_data]   Package punkt is already up-to-date!\n",
      "[nltk_data] Downloading package wordnet to /home/sdai/nltk_data...\n",
      "[nltk_data]   Package wordnet is already up-to-date!\n",
      "[nltk_data] Downloading package stopwords to /home/sdai/nltk_data...\n",
      "[nltk_data]   Package stopwords is already up-to-date!\n"
     ]
    },
    {
     "data": {
      "text/plain": "VBox(children=(HBox(children=(IntProgress(value=0, description='0.00%', max=154), Label(value='0 / 154'))), HB…",
      "application/vnd.jupyter.widget-view+json": {
       "version_major": 2,
       "version_minor": 0,
       "model_id": "4b3c87b7e7714df08e88f2727417446b"
      }
     },
     "metadata": {},
     "output_type": "display_data"
    },
    {
     "data": {
      "text/plain": "    rouge1   rouge2   rougeL  rougeLsum\n0  46.3415  12.5000  26.8293    26.8293\n1  59.3407  31.4607  50.5495    50.5495\n2  44.6809  19.5652  31.9149    38.2979\n3  45.0000  25.6410  32.5000    35.0000\n4  50.4673  26.6667  41.1215    41.1215",
      "text/html": "<div>\n<style scoped>\n    .dataframe tbody tr th:only-of-type {\n        vertical-align: middle;\n    }\n\n    .dataframe tbody tr th {\n        vertical-align: top;\n    }\n\n    .dataframe thead th {\n        text-align: right;\n    }\n</style>\n<table border=\"1\" class=\"dataframe\">\n  <thead>\n    <tr style=\"text-align: right;\">\n      <th></th>\n      <th>rouge1</th>\n      <th>rouge2</th>\n      <th>rougeL</th>\n      <th>rougeLsum</th>\n    </tr>\n  </thead>\n  <tbody>\n    <tr>\n      <th>0</th>\n      <td>46.3415</td>\n      <td>12.5000</td>\n      <td>26.8293</td>\n      <td>26.8293</td>\n    </tr>\n    <tr>\n      <th>1</th>\n      <td>59.3407</td>\n      <td>31.4607</td>\n      <td>50.5495</td>\n      <td>50.5495</td>\n    </tr>\n    <tr>\n      <th>2</th>\n      <td>44.6809</td>\n      <td>19.5652</td>\n      <td>31.9149</td>\n      <td>38.2979</td>\n    </tr>\n    <tr>\n      <th>3</th>\n      <td>45.0000</td>\n      <td>25.6410</td>\n      <td>32.5000</td>\n      <td>35.0000</td>\n    </tr>\n    <tr>\n      <th>4</th>\n      <td>50.4673</td>\n      <td>26.6667</td>\n      <td>41.1215</td>\n      <td>41.1215</td>\n    </tr>\n  </tbody>\n</table>\n</div>"
     },
     "execution_count": 5,
     "metadata": {},
     "output_type": "execute_result"
    }
   ],
   "source": [
    "import finetune.config as config\n",
    "from finetune.common import create_summarization_metrics\n",
    "\n",
    "_, rouge_metric, _ = create_summarization_metrics(None, None)\n",
    "pure_df = df.loc[(~df.summary.str.contains(\"Impossible\", case=False)) &\n",
    "                 (~df.predicted.str.contains(\"Impossible\", case=False))]\n",
    "rouge_results = pure_df.parallel_apply(lambda row: rouge_metric([row[\"summary\"]], [row[\"predicted\"]]), axis=1)\n",
    "rouge_results = pd.DataFrame(rouge_results.tolist())\n",
    "rouge_results.head()"
   ]
  },
  {
   "cell_type": "code",
   "execution_count": 6,
   "id": "5e5c9cd9-9c5c-4d82-a6df-fcd998fcf8b3",
   "metadata": {},
   "outputs": [],
   "source": [
    "rouge_results.to_excel('gs://scraped-news-article-data-null/mistral-sum-rouge.xlsx')"
   ]
  },
  {
   "cell_type": "code",
   "execution_count": 7,
   "id": "9110cf99-7653-4dc7-9c4f-7ee7afd29f60",
   "metadata": {},
   "outputs": [
    {
     "data": {
      "text/plain": "                                                body  \\\n0  Published: 2022-12-16\\nPARIS, Dec 16 (Reuters)...   \n1  Published: 2023-10-25\\n## In this article\\nFol...   \n2  Published: 2023-10-02\\n\"In mitigating climate ...   \n3  Published: 2023-10-18\\nA report published Tues...   \n4  Published: 2022-03-04\\nMeanwhile, a new law th...   \n\n                  published  \\\n0 2022-12-16 15:39:00+00:00   \n1 2023-10-25 20:12:41+00:00   \n2 2023-10-02 11:54:30+00:00   \n3 2023-10-18 19:49:14+00:00   \n4 2022-03-04 18:46:53+00:00   \n\n                                            question  \\\n0  How are French, German, and Polish crops expec...   \n1           What caused the surge in Endeavor stock?   \n2  What specific climate criticisms and accusatio...   \n3  Which specific projects or companies will rece...   \n4  What were the reasons cited by Russia for bloc...   \n\n                                             summary  \\\n0  French crops predicted to withstand wintry wea...   \n1  Silver Lake's interest in taking Endeavor priv...   \n2        Impossible to answer with given information   \n3        Impossible to answer with given information   \n4  Russia blocks Meta-owned Facebook amid invasio...   \n\n                                           predicted  \n0    Based on the provided context, it is possibl...  \n1                                         IMPOSSIBLE  \n2    Based on the given context, the specific cli...  \n3                                         IMPOSSIBLE  \n4                                         IMPOSSIBLE  ",
      "text/html": "<div>\n<style scoped>\n    .dataframe tbody tr th:only-of-type {\n        vertical-align: middle;\n    }\n\n    .dataframe tbody tr th {\n        vertical-align: top;\n    }\n\n    .dataframe thead th {\n        text-align: right;\n    }\n</style>\n<table border=\"1\" class=\"dataframe\">\n  <thead>\n    <tr style=\"text-align: right;\">\n      <th></th>\n      <th>body</th>\n      <th>published</th>\n      <th>question</th>\n      <th>summary</th>\n      <th>predicted</th>\n    </tr>\n  </thead>\n  <tbody>\n    <tr>\n      <th>0</th>\n      <td>Published: 2022-12-16\\nPARIS, Dec 16 (Reuters)...</td>\n      <td>2022-12-16 15:39:00+00:00</td>\n      <td>How are French, German, and Polish crops expec...</td>\n      <td>French crops predicted to withstand wintry wea...</td>\n      <td>Based on the provided context, it is possibl...</td>\n    </tr>\n    <tr>\n      <th>1</th>\n      <td>Published: 2023-10-25\\n## In this article\\nFol...</td>\n      <td>2023-10-25 20:12:41+00:00</td>\n      <td>What caused the surge in Endeavor stock?</td>\n      <td>Silver Lake's interest in taking Endeavor priv...</td>\n      <td>IMPOSSIBLE</td>\n    </tr>\n    <tr>\n      <th>2</th>\n      <td>Published: 2023-10-02\\n\"In mitigating climate ...</td>\n      <td>2023-10-02 11:54:30+00:00</td>\n      <td>What specific climate criticisms and accusatio...</td>\n      <td>Impossible to answer with given information</td>\n      <td>Based on the given context, the specific cli...</td>\n    </tr>\n    <tr>\n      <th>3</th>\n      <td>Published: 2023-10-18\\nA report published Tues...</td>\n      <td>2023-10-18 19:49:14+00:00</td>\n      <td>Which specific projects or companies will rece...</td>\n      <td>Impossible to answer with given information</td>\n      <td>IMPOSSIBLE</td>\n    </tr>\n    <tr>\n      <th>4</th>\n      <td>Published: 2022-03-04\\nMeanwhile, a new law th...</td>\n      <td>2022-03-04 18:46:53+00:00</td>\n      <td>What were the reasons cited by Russia for bloc...</td>\n      <td>Russia blocks Meta-owned Facebook amid invasio...</td>\n      <td>IMPOSSIBLE</td>\n    </tr>\n  </tbody>\n</table>\n</div>"
     },
     "execution_count": 7,
     "metadata": {},
     "output_type": "execute_result"
    }
   ],
   "source": [
    "df = pd.read_parquet('gs://scraped-news-article-data-null/llama-chat-test-predicted.parquet')\n",
    "df.loc[df.predicted.str.contains(\"IMPOSSIBLE\", case=False), \"predicted\"] = \"IMPOSSIBLE\"\n",
    "df.loc[df.predicted.str.contains(\"The context does not provide\", case=False), \"predicted\"] = \"IMPOSSIBLE\"\n",
    "df.head()"
   ]
  },
  {
   "cell_type": "code",
   "execution_count": 8,
   "id": "f8df3708-a3df-44ca-9b2f-a695ac23e2a4",
   "metadata": {},
   "outputs": [
    {
     "name": "stdout",
     "output_type": "stream",
     "text": [
      "              precision    recall  f1-score   support\n",
      "\n",
      "       False       0.63      0.48      0.55       985\n",
      "        True       0.62      0.75      0.68      1093\n",
      "\n",
      "    accuracy                           0.62      2078\n",
      "   macro avg       0.62      0.61      0.61      2078\n",
      "weighted avg       0.62      0.62      0.61      2078\n",
      "\n"
     ]
    }
   ],
   "source": [
    "df[\"y\"] = False\n",
    "df[\"y_hat\"] = False\n",
    "df.loc[df.summary.str.contains(\"IMPOSSIBLE\", case=False), \"y\"] = True\n",
    "df[\"y\"] = df.y.fillna(False)\n",
    "df.loc[df.predicted == \"IMPOSSIBLE\", \"y_hat\"] = True\n",
    "df[\"y_hat\"] = df.y_hat.fillna(False)\n",
    "print(classification_report(df.y, df.y_hat))"
   ]
  },
  {
   "cell_type": "code",
   "execution_count": 9,
   "id": "e3c7ef03-6474-459f-83c0-ff0054d8cc1b",
   "metadata": {},
   "outputs": [
    {
     "data": {
      "text/plain": "VBox(children=(HBox(children=(IntProgress(value=0, description='0.00%', max=216), Label(value='0 / 216'))), HB…",
      "application/vnd.jupyter.widget-view+json": {
       "version_major": 2,
       "version_minor": 0,
       "model_id": "b9d24f30d8724c4096c8b133d9e2b36f"
      }
     },
     "metadata": {},
     "output_type": "display_data"
    },
    {
     "data": {
      "text/plain": "    rouge1   rouge2   rougeL  rougeLsum\n0  21.2766   2.8777  12.7660    18.4397\n1  40.0000   0.0000  40.0000    40.0000\n2  40.0000   0.0000  40.0000    40.0000\n3  25.4237  10.3448  15.2542    20.3390\n4  40.0000   0.0000  40.0000    40.0000",
      "text/html": "<div>\n<style scoped>\n    .dataframe tbody tr th:only-of-type {\n        vertical-align: middle;\n    }\n\n    .dataframe tbody tr th {\n        vertical-align: top;\n    }\n\n    .dataframe thead th {\n        text-align: right;\n    }\n</style>\n<table border=\"1\" class=\"dataframe\">\n  <thead>\n    <tr style=\"text-align: right;\">\n      <th></th>\n      <th>rouge1</th>\n      <th>rouge2</th>\n      <th>rougeL</th>\n      <th>rougeLsum</th>\n    </tr>\n  </thead>\n  <tbody>\n    <tr>\n      <th>0</th>\n      <td>21.2766</td>\n      <td>2.8777</td>\n      <td>12.7660</td>\n      <td>18.4397</td>\n    </tr>\n    <tr>\n      <th>1</th>\n      <td>40.0000</td>\n      <td>0.0000</td>\n      <td>40.0000</td>\n      <td>40.0000</td>\n    </tr>\n    <tr>\n      <th>2</th>\n      <td>40.0000</td>\n      <td>0.0000</td>\n      <td>40.0000</td>\n      <td>40.0000</td>\n    </tr>\n    <tr>\n      <th>3</th>\n      <td>25.4237</td>\n      <td>10.3448</td>\n      <td>15.2542</td>\n      <td>20.3390</td>\n    </tr>\n    <tr>\n      <th>4</th>\n      <td>40.0000</td>\n      <td>0.0000</td>\n      <td>40.0000</td>\n      <td>40.0000</td>\n    </tr>\n  </tbody>\n</table>\n</div>"
     },
     "execution_count": 9,
     "metadata": {},
     "output_type": "execute_result"
    }
   ],
   "source": [
    "pure_df = df.loc[df.y == df.y_hat]\n",
    "rouge_results = pure_df.parallel_apply(lambda row: rouge_metric([row[\"predicted\"]], [row[\"summary\"]]), axis=1)\n",
    "rouge_results = pd.DataFrame(rouge_results.tolist())\n",
    "rouge_results.head()"
   ]
  },
  {
   "cell_type": "code",
   "execution_count": 10,
   "id": "0c07eeb6-a92f-44ee-b434-ad407792d96b",
   "metadata": {},
   "outputs": [],
   "source": [
    "rouge_results.to_excel('gs://scraped-news-article-data-null/llama-chat-rouge.xlsx')"
   ]
  },
  {
   "cell_type": "code",
   "execution_count": 11,
   "id": "cf77af6a-1778-4ed5-a64d-a64b6998115c",
   "metadata": {},
   "outputs": [
    {
     "data": {
      "text/plain": "                                                body  \\\n0  Published: 2022-12-16\\nPARIS, Dec 16 (Reuters)...   \n1  Published: 2023-10-25\\n## In this article\\nFol...   \n2  Published: 2023-10-02\\n\"In mitigating climate ...   \n3  Published: 2023-10-18\\nA report published Tues...   \n4  Published: 2022-03-04\\nMeanwhile, a new law th...   \n\n                  published  \\\n0 2022-12-16 15:39:00+00:00   \n1 2023-10-25 20:12:41+00:00   \n2 2023-10-02 11:54:30+00:00   \n3 2023-10-18 19:49:14+00:00   \n4 2022-03-04 18:46:53+00:00   \n\n                                            question  \\\n0  How are French, German, and Polish crops expec...   \n1           What caused the surge in Endeavor stock?   \n2  What specific climate criticisms and accusatio...   \n3  Which specific projects or companies will rece...   \n4  What were the reasons cited by Russia for bloc...   \n\n                                             summary  \\\n0  French crops predicted to withstand wintry wea...   \n1  Silver Lake's interest in taking Endeavor priv...   \n2        Impossible to answer with given information   \n3        Impossible to answer with given information   \n4  Russia blocks Meta-owned Facebook amid invasio...   \n\n                                           predicted  \n0   French crops are expected to be unaffected by...  \n1   The surge in Endeavor stock was caused by the...  \n2                                         IMPOSSIBLE  \n3   The Biden Administration is investing $3.46 b...  \n4   Russia's media regulator blocked Meta-owned F...  ",
      "text/html": "<div>\n<style scoped>\n    .dataframe tbody tr th:only-of-type {\n        vertical-align: middle;\n    }\n\n    .dataframe tbody tr th {\n        vertical-align: top;\n    }\n\n    .dataframe thead th {\n        text-align: right;\n    }\n</style>\n<table border=\"1\" class=\"dataframe\">\n  <thead>\n    <tr style=\"text-align: right;\">\n      <th></th>\n      <th>body</th>\n      <th>published</th>\n      <th>question</th>\n      <th>summary</th>\n      <th>predicted</th>\n    </tr>\n  </thead>\n  <tbody>\n    <tr>\n      <th>0</th>\n      <td>Published: 2022-12-16\\nPARIS, Dec 16 (Reuters)...</td>\n      <td>2022-12-16 15:39:00+00:00</td>\n      <td>How are French, German, and Polish crops expec...</td>\n      <td>French crops predicted to withstand wintry wea...</td>\n      <td>French crops are expected to be unaffected by...</td>\n    </tr>\n    <tr>\n      <th>1</th>\n      <td>Published: 2023-10-25\\n## In this article\\nFol...</td>\n      <td>2023-10-25 20:12:41+00:00</td>\n      <td>What caused the surge in Endeavor stock?</td>\n      <td>Silver Lake's interest in taking Endeavor priv...</td>\n      <td>The surge in Endeavor stock was caused by the...</td>\n    </tr>\n    <tr>\n      <th>2</th>\n      <td>Published: 2023-10-02\\n\"In mitigating climate ...</td>\n      <td>2023-10-02 11:54:30+00:00</td>\n      <td>What specific climate criticisms and accusatio...</td>\n      <td>Impossible to answer with given information</td>\n      <td>IMPOSSIBLE</td>\n    </tr>\n    <tr>\n      <th>3</th>\n      <td>Published: 2023-10-18\\nA report published Tues...</td>\n      <td>2023-10-18 19:49:14+00:00</td>\n      <td>Which specific projects or companies will rece...</td>\n      <td>Impossible to answer with given information</td>\n      <td>The Biden Administration is investing $3.46 b...</td>\n    </tr>\n    <tr>\n      <th>4</th>\n      <td>Published: 2022-03-04\\nMeanwhile, a new law th...</td>\n      <td>2022-03-04 18:46:53+00:00</td>\n      <td>What were the reasons cited by Russia for bloc...</td>\n      <td>Russia blocks Meta-owned Facebook amid invasio...</td>\n      <td>Russia's media regulator blocked Meta-owned F...</td>\n    </tr>\n  </tbody>\n</table>\n</div>"
     },
     "execution_count": 11,
     "metadata": {},
     "output_type": "execute_result"
    }
   ],
   "source": [
    "df = pd.read_parquet('gs://scraped-news-article-data-null/orca-mistral-test-predicted.parquet')\n",
    "df.loc[df.predicted.str.contains(\"IMPOSSIBLE\", case=False), \"predicted\"] = \"IMPOSSIBLE\"\n",
    "df.loc[df.predicted.str.contains(\"does not provide\", case=False), \"predicted\"] = \"IMPOSSIBLE\"\n",
    "df.head()"
   ]
  },
  {
   "cell_type": "code",
   "execution_count": 12,
   "id": "9e617717-849f-417e-8253-52cb7dfced11",
   "metadata": {},
   "outputs": [
    {
     "name": "stdout",
     "output_type": "stream",
     "text": [
      "              precision    recall  f1-score   support\n",
      "\n",
      "       False       0.58      0.95      0.72       985\n",
      "        True       0.90      0.39      0.55      1093\n",
      "\n",
      "    accuracy                           0.66      2078\n",
      "   macro avg       0.74      0.67      0.63      2078\n",
      "weighted avg       0.75      0.66      0.63      2078\n",
      "\n"
     ]
    }
   ],
   "source": [
    "df[\"y\"] = False\n",
    "df[\"y_hat\"] = False\n",
    "df.loc[df.summary.str.contains(\"IMPOSSIBLE\", case=False), \"y\"] = True\n",
    "df[\"y\"] = df.y.fillna(False)\n",
    "df.loc[df.predicted == \"IMPOSSIBLE\", \"y_hat\"] = True\n",
    "df[\"y_hat\"] = df.y_hat.fillna(False)\n",
    "print(classification_report(df.y, df.y_hat))"
   ]
  },
  {
   "cell_type": "code",
   "execution_count": 13,
   "outputs": [
    {
     "data": {
      "text/plain": "VBox(children=(HBox(children=(IntProgress(value=0, description='0.00%', max=228), Label(value='0 / 228'))), HB…",
      "application/vnd.jupyter.widget-view+json": {
       "version_major": 2,
       "version_minor": 0,
       "model_id": "521eb228108f425b885b4b6661aa7233"
      }
     },
     "metadata": {},
     "output_type": "display_data"
    },
    {
     "data": {
      "text/plain": "    rouge1   rouge2   rougeL  rougeLsum\n0  28.5714  12.5000  20.4082    28.5714\n1  34.2105  16.2162  23.6842    28.9474\n2  40.0000   0.0000  40.0000    40.0000\n3  37.6471  21.6867  28.2353    35.2941\n4  43.1373  28.5714  35.2941    43.1373",
      "text/html": "<div>\n<style scoped>\n    .dataframe tbody tr th:only-of-type {\n        vertical-align: middle;\n    }\n\n    .dataframe tbody tr th {\n        vertical-align: top;\n    }\n\n    .dataframe thead th {\n        text-align: right;\n    }\n</style>\n<table border=\"1\" class=\"dataframe\">\n  <thead>\n    <tr style=\"text-align: right;\">\n      <th></th>\n      <th>rouge1</th>\n      <th>rouge2</th>\n      <th>rougeL</th>\n      <th>rougeLsum</th>\n    </tr>\n  </thead>\n  <tbody>\n    <tr>\n      <th>0</th>\n      <td>28.5714</td>\n      <td>12.5000</td>\n      <td>20.4082</td>\n      <td>28.5714</td>\n    </tr>\n    <tr>\n      <th>1</th>\n      <td>34.2105</td>\n      <td>16.2162</td>\n      <td>23.6842</td>\n      <td>28.9474</td>\n    </tr>\n    <tr>\n      <th>2</th>\n      <td>40.0000</td>\n      <td>0.0000</td>\n      <td>40.0000</td>\n      <td>40.0000</td>\n    </tr>\n    <tr>\n      <th>3</th>\n      <td>37.6471</td>\n      <td>21.6867</td>\n      <td>28.2353</td>\n      <td>35.2941</td>\n    </tr>\n    <tr>\n      <th>4</th>\n      <td>43.1373</td>\n      <td>28.5714</td>\n      <td>35.2941</td>\n      <td>43.1373</td>\n    </tr>\n  </tbody>\n</table>\n</div>"
     },
     "execution_count": 13,
     "metadata": {},
     "output_type": "execute_result"
    }
   ],
   "source": [
    "pure_df = df.loc[df.y == df.y_hat]\n",
    "rouge_results = pure_df.parallel_apply(lambda row: rouge_metric([row[\"predicted\"]], [row[\"summary\"]]), axis=1)\n",
    "rouge_results = pd.DataFrame(rouge_results.tolist())\n",
    "rouge_results.head()"
   ],
   "metadata": {
    "collapsed": false
   }
  },
  {
   "cell_type": "code",
   "execution_count": 14,
   "outputs": [],
   "source": [
    "rouge_results.to_excel('gs://scraped-news-article-data-null/orca-mistral-rouge.xlsx')"
   ],
   "metadata": {
    "collapsed": false
   }
  },
  {
   "cell_type": "code",
   "execution_count": 2,
   "outputs": [
    {
     "data": {
      "text/plain": "                                            question  \\\n0                  How are dilutive RSUs calculated?   \n1                          What does the table show?   \n2          What is a debutante and what does she do?   \n3  What are \"chemtrails\" and why are some people ...   \n4  As of December 2019, which is the best perform...   \n\n                                             context  \\\n0  In periods with a net income from continuing o...   \n1                The income tax expense consists of:   \n2  A debutante, also spelled débutante, (/ˈdɛbjʊt...   \n3  Reading the chemtrail conspiracy really remind...   \n4  The following graph compares the cumulative to...   \n\n                                              answer  \\\n0  The calculation of dilutive RSUs is based on t...   \n1      The table illustrates the income tax expense.   \n2  A debutante is a young woman of aristocratic o...   \n3  Chemtrails refers to the theory that governmen...   \n4  Answer: As of December 2019, the best performi...   \n\n                                           predicted  \n0    According to the given context, dilutive RSU...  \n1    The table shows the income tax expense for t...  \n2    A debutante is a young woman of aristocratic...  \n3    Based on the given context, \"chemtrails\" ref...  \n4    Based on the information provided in the con...  ",
      "text/html": "<div>\n<style scoped>\n    .dataframe tbody tr th:only-of-type {\n        vertical-align: middle;\n    }\n\n    .dataframe tbody tr th {\n        vertical-align: top;\n    }\n\n    .dataframe thead th {\n        text-align: right;\n    }\n</style>\n<table border=\"1\" class=\"dataframe\">\n  <thead>\n    <tr style=\"text-align: right;\">\n      <th></th>\n      <th>question</th>\n      <th>context</th>\n      <th>answer</th>\n      <th>predicted</th>\n    </tr>\n  </thead>\n  <tbody>\n    <tr>\n      <th>0</th>\n      <td>How are dilutive RSUs calculated?</td>\n      <td>In periods with a net income from continuing o...</td>\n      <td>The calculation of dilutive RSUs is based on t...</td>\n      <td>According to the given context, dilutive RSU...</td>\n    </tr>\n    <tr>\n      <th>1</th>\n      <td>What does the table show?</td>\n      <td>The income tax expense consists of:</td>\n      <td>The table illustrates the income tax expense.</td>\n      <td>The table shows the income tax expense for t...</td>\n    </tr>\n    <tr>\n      <th>2</th>\n      <td>What is a debutante and what does she do?</td>\n      <td>A debutante, also spelled débutante, (/ˈdɛbjʊt...</td>\n      <td>A debutante is a young woman of aristocratic o...</td>\n      <td>A debutante is a young woman of aristocratic...</td>\n    </tr>\n    <tr>\n      <th>3</th>\n      <td>What are \"chemtrails\" and why are some people ...</td>\n      <td>Reading the chemtrail conspiracy really remind...</td>\n      <td>Chemtrails refers to the theory that governmen...</td>\n      <td>Based on the given context, \"chemtrails\" ref...</td>\n    </tr>\n    <tr>\n      <th>4</th>\n      <td>As of December 2019, which is the best perform...</td>\n      <td>The following graph compares the cumulative to...</td>\n      <td>Answer: As of December 2019, the best performi...</td>\n      <td>Based on the information provided in the con...</td>\n    </tr>\n  </tbody>\n</table>\n</div>"
     },
     "execution_count": 2,
     "metadata": {},
     "output_type": "execute_result"
    }
   ],
   "source": [
    "df = pd.read_parquet('gs://scraped-news-article-data-null/llama-chat-qa-test-predicted.parquet')\n",
    "df.loc[df.predicted.str.contains(\"IMPOSSIBLE\", case=False), \"predicted\"] = \"IMPOSSIBLE\"\n",
    "df.loc[df.predicted.str.contains(\"The context does not provide\", case=False), \"predicted\"] = \"IMPOSSIBLE\"\n",
    "df.head()"
   ],
   "metadata": {
    "collapsed": false
   }
  },
  {
   "cell_type": "code",
   "execution_count": 4,
   "outputs": [
    {
     "name": "stdout",
     "output_type": "stream",
     "text": [
      "              precision    recall  f1-score   support\n",
      "\n",
      "       False       0.95      0.99      0.97      1986\n",
      "        True       0.27      0.08      0.12       114\n",
      "\n",
      "    accuracy                           0.94      2100\n",
      "   macro avg       0.61      0.53      0.55      2100\n",
      "weighted avg       0.91      0.94      0.92      2100\n",
      "\n"
     ]
    }
   ],
   "source": [
    "df[\"y\"] = False\n",
    "df[\"y_hat\"] = False\n",
    "df.loc[df.answer.str.contains(\"IMPOSSIBLE\", case=False), \"y\"] = True\n",
    "df[\"y\"] = df.y.fillna(False)\n",
    "df.loc[df.predicted == \"IMPOSSIBLE\", \"y_hat\"] = True\n",
    "df[\"y_hat\"] = df.y_hat.fillna(False)\n",
    "print(classification_report(df.y, df.y_hat))"
   ],
   "metadata": {
    "collapsed": false
   }
  },
  {
   "cell_type": "code",
   "execution_count": 6,
   "outputs": [
    {
     "name": "stderr",
     "output_type": "stream",
     "text": [
      "[nltk_data] Downloading package punkt to /home/sdai/nltk_data...\n",
      "[nltk_data]   Package punkt is already up-to-date!\n",
      "[nltk_data] Downloading package wordnet to /home/sdai/nltk_data...\n",
      "[nltk_data]   Package wordnet is already up-to-date!\n",
      "[nltk_data] Downloading package stopwords to /home/sdai/nltk_data...\n",
      "[nltk_data]   Package stopwords is already up-to-date!\n"
     ]
    },
    {
     "data": {
      "text/plain": "VBox(children=(HBox(children=(IntProgress(value=0, description='0.00%', max=329), Label(value='0 / 329'))), HB…",
      "application/vnd.jupyter.widget-view+json": {
       "version_major": 2,
       "version_minor": 0,
       "model_id": "3d63048ca8d0456599e0d4860bfbebb1"
      }
     },
     "metadata": {},
     "output_type": "display_data"
    },
    {
     "data": {
      "text/plain": "    rouge1   rouge2   rougeL  rougeLsum\n0  52.1739  38.0952  52.1739    52.1739\n1  40.0000  22.2222  40.0000    40.0000\n2  72.1649  52.6316  70.1031    70.1031\n3  30.6748  12.4224  20.8589    28.2209\n4  40.0000  22.2222  30.0000    30.0000",
      "text/html": "<div>\n<style scoped>\n    .dataframe tbody tr th:only-of-type {\n        vertical-align: middle;\n    }\n\n    .dataframe tbody tr th {\n        vertical-align: top;\n    }\n\n    .dataframe thead th {\n        text-align: right;\n    }\n</style>\n<table border=\"1\" class=\"dataframe\">\n  <thead>\n    <tr style=\"text-align: right;\">\n      <th></th>\n      <th>rouge1</th>\n      <th>rouge2</th>\n      <th>rougeL</th>\n      <th>rougeLsum</th>\n    </tr>\n  </thead>\n  <tbody>\n    <tr>\n      <th>0</th>\n      <td>52.1739</td>\n      <td>38.0952</td>\n      <td>52.1739</td>\n      <td>52.1739</td>\n    </tr>\n    <tr>\n      <th>1</th>\n      <td>40.0000</td>\n      <td>22.2222</td>\n      <td>40.0000</td>\n      <td>40.0000</td>\n    </tr>\n    <tr>\n      <th>2</th>\n      <td>72.1649</td>\n      <td>52.6316</td>\n      <td>70.1031</td>\n      <td>70.1031</td>\n    </tr>\n    <tr>\n      <th>3</th>\n      <td>30.6748</td>\n      <td>12.4224</td>\n      <td>20.8589</td>\n      <td>28.2209</td>\n    </tr>\n    <tr>\n      <th>4</th>\n      <td>40.0000</td>\n      <td>22.2222</td>\n      <td>30.0000</td>\n      <td>30.0000</td>\n    </tr>\n  </tbody>\n</table>\n</div>"
     },
     "execution_count": 6,
     "metadata": {},
     "output_type": "execute_result"
    }
   ],
   "source": [
    "_, rouge_metric, _ = create_summarization_metrics(None, None)\n",
    "pure_df = df.loc[df.y == df.y_hat]\n",
    "rouge_results = pure_df.parallel_apply(lambda row: rouge_metric([row[\"predicted\"]], [row[\"answer\"]]), axis=1)\n",
    "rouge_results = pd.DataFrame(rouge_results.tolist())\n",
    "rouge_results.head()"
   ],
   "metadata": {
    "collapsed": false
   }
  },
  {
   "cell_type": "code",
   "execution_count": 7,
   "outputs": [],
   "source": [
    "rouge_results.to_excel('gs://scraped-news-article-data-null/llama-chat-qa-rouge.xlsx')"
   ],
   "metadata": {
    "collapsed": false
   }
  },
  {
   "cell_type": "code",
   "execution_count": 8,
   "outputs": [
    {
     "data": {
      "text/plain": "                                            question  \\\n0                  How are dilutive RSUs calculated?   \n1                          What does the table show?   \n2          What is a debutante and what does she do?   \n3  What are \"chemtrails\" and why are some people ...   \n4  As of December 2019, which is the best perform...   \n\n                                             context  \\\n0  In periods with a net income from continuing o...   \n1                The income tax expense consists of:   \n2  A debutante, also spelled débutante, (/ˈdɛbjʊt...   \n3  Reading the chemtrail conspiracy really remind...   \n4  The following graph compares the cumulative to...   \n\n                                              answer  \\\n0  The calculation of dilutive RSUs is based on t...   \n1      The table illustrates the income tax expense.   \n2  A debutante is a young woman of aristocratic o...   \n3  Chemtrails refers to the theory that governmen...   \n4  Answer: As of December 2019, the best performi...   \n\n                                           predicted  \n0   Dilutive RSUs are calculated based on the ave...  \n1   The table shows the components of income tax ...  \n2   A debutante is a young woman of aristocratic ...  \n3   Chemtrails refer to the theory that governmen...  \n4   As of December 2019, the best performing stoc...  ",
      "text/html": "<div>\n<style scoped>\n    .dataframe tbody tr th:only-of-type {\n        vertical-align: middle;\n    }\n\n    .dataframe tbody tr th {\n        vertical-align: top;\n    }\n\n    .dataframe thead th {\n        text-align: right;\n    }\n</style>\n<table border=\"1\" class=\"dataframe\">\n  <thead>\n    <tr style=\"text-align: right;\">\n      <th></th>\n      <th>question</th>\n      <th>context</th>\n      <th>answer</th>\n      <th>predicted</th>\n    </tr>\n  </thead>\n  <tbody>\n    <tr>\n      <th>0</th>\n      <td>How are dilutive RSUs calculated?</td>\n      <td>In periods with a net income from continuing o...</td>\n      <td>The calculation of dilutive RSUs is based on t...</td>\n      <td>Dilutive RSUs are calculated based on the ave...</td>\n    </tr>\n    <tr>\n      <th>1</th>\n      <td>What does the table show?</td>\n      <td>The income tax expense consists of:</td>\n      <td>The table illustrates the income tax expense.</td>\n      <td>The table shows the components of income tax ...</td>\n    </tr>\n    <tr>\n      <th>2</th>\n      <td>What is a debutante and what does she do?</td>\n      <td>A debutante, also spelled débutante, (/ˈdɛbjʊt...</td>\n      <td>A debutante is a young woman of aristocratic o...</td>\n      <td>A debutante is a young woman of aristocratic ...</td>\n    </tr>\n    <tr>\n      <th>3</th>\n      <td>What are \"chemtrails\" and why are some people ...</td>\n      <td>Reading the chemtrail conspiracy really remind...</td>\n      <td>Chemtrails refers to the theory that governmen...</td>\n      <td>Chemtrails refer to the theory that governmen...</td>\n    </tr>\n    <tr>\n      <th>4</th>\n      <td>As of December 2019, which is the best perform...</td>\n      <td>The following graph compares the cumulative to...</td>\n      <td>Answer: As of December 2019, the best performi...</td>\n      <td>As of December 2019, the best performing stoc...</td>\n    </tr>\n  </tbody>\n</table>\n</div>"
     },
     "execution_count": 8,
     "metadata": {},
     "output_type": "execute_result"
    }
   ],
   "source": [
    "df = pd.read_parquet('gs://scraped-news-article-data-null/orca-mistral-qa-test-predicted.parquet')\n",
    "df.loc[df.predicted.str.contains(\"IMPOSSIBLE\", case=False), \"predicted\"] = \"IMPOSSIBLE\"\n",
    "df.loc[df.predicted.str.contains(\"The context does not provide\", case=False), \"predicted\"] = \"IMPOSSIBLE\"\n",
    "df.head()"
   ],
   "metadata": {
    "collapsed": false
   }
  },
  {
   "cell_type": "code",
   "execution_count": 9,
   "outputs": [
    {
     "name": "stdout",
     "output_type": "stream",
     "text": [
      "              precision    recall  f1-score   support\n",
      "\n",
      "       False       0.95      0.99      0.97      1986\n",
      "        True       0.04      0.01      0.01       114\n",
      "\n",
      "    accuracy                           0.93      2100\n",
      "   macro avg       0.49      0.50      0.49      2100\n",
      "weighted avg       0.90      0.93      0.91      2100\n",
      "\n"
     ]
    }
   ],
   "source": [
    "df[\"y\"] = False\n",
    "df[\"y_hat\"] = False\n",
    "df.loc[df.answer.str.contains(\"IMPOSSIBLE\", case=False), \"y\"] = True\n",
    "df[\"y\"] = df.y.fillna(False)\n",
    "df.loc[df.predicted == \"IMPOSSIBLE\", \"y_hat\"] = True\n",
    "df[\"y_hat\"] = df.y_hat.fillna(False)\n",
    "print(classification_report(df.y, df.y_hat))"
   ],
   "metadata": {
    "collapsed": false
   }
  },
  {
   "cell_type": "code",
   "execution_count": 10,
   "outputs": [
    {
     "data": {
      "text/plain": "VBox(children=(HBox(children=(IntProgress(value=0, description='0.00%', max=328), Label(value='0 / 328'))), HB…",
      "application/vnd.jupyter.widget-view+json": {
       "version_major": 2,
       "version_minor": 0,
       "model_id": "b23cf8bf19ca41a48132e0d85bf6d37e"
      }
     },
     "metadata": {},
     "output_type": "display_data"
    },
    {
     "data": {
      "text/plain": "    rouge1   rouge2   rougeL  rougeLsum\n0  92.3077  83.3333  92.3077    92.3077\n1  72.7273  44.4444  72.7273    72.7273\n2  46.7290  30.4762  41.1215    46.7290\n3  60.9524  48.0769  56.1905    60.9524\n4  47.0588  40.0000  47.0588    47.0588",
      "text/html": "<div>\n<style scoped>\n    .dataframe tbody tr th:only-of-type {\n        vertical-align: middle;\n    }\n\n    .dataframe tbody tr th {\n        vertical-align: top;\n    }\n\n    .dataframe thead th {\n        text-align: right;\n    }\n</style>\n<table border=\"1\" class=\"dataframe\">\n  <thead>\n    <tr style=\"text-align: right;\">\n      <th></th>\n      <th>rouge1</th>\n      <th>rouge2</th>\n      <th>rougeL</th>\n      <th>rougeLsum</th>\n    </tr>\n  </thead>\n  <tbody>\n    <tr>\n      <th>0</th>\n      <td>92.3077</td>\n      <td>83.3333</td>\n      <td>92.3077</td>\n      <td>92.3077</td>\n    </tr>\n    <tr>\n      <th>1</th>\n      <td>72.7273</td>\n      <td>44.4444</td>\n      <td>72.7273</td>\n      <td>72.7273</td>\n    </tr>\n    <tr>\n      <th>2</th>\n      <td>46.7290</td>\n      <td>30.4762</td>\n      <td>41.1215</td>\n      <td>46.7290</td>\n    </tr>\n    <tr>\n      <th>3</th>\n      <td>60.9524</td>\n      <td>48.0769</td>\n      <td>56.1905</td>\n      <td>60.9524</td>\n    </tr>\n    <tr>\n      <th>4</th>\n      <td>47.0588</td>\n      <td>40.0000</td>\n      <td>47.0588</td>\n      <td>47.0588</td>\n    </tr>\n  </tbody>\n</table>\n</div>"
     },
     "execution_count": 10,
     "metadata": {},
     "output_type": "execute_result"
    }
   ],
   "source": [
    "pure_df = df.loc[df.y == df.y_hat]\n",
    "rouge_results = pure_df.parallel_apply(lambda row: rouge_metric([row[\"predicted\"]], [row[\"answer\"]]), axis=1)\n",
    "rouge_results = pd.DataFrame(rouge_results.tolist())\n",
    "rouge_results.head()"
   ],
   "metadata": {
    "collapsed": false
   }
  },
  {
   "cell_type": "code",
   "execution_count": 11,
   "outputs": [],
   "source": [
    "rouge_results.to_excel('gs://scraped-news-article-data-null/orca-mistral-qa-rouge.xlsx')"
   ],
   "metadata": {
    "collapsed": false
   }
  },
  {
   "cell_type": "code",
   "execution_count": null,
   "outputs": [],
   "source": [],
   "metadata": {
    "collapsed": false
   }
  }
 ],
 "metadata": {
  "environment": {
   "kernel": "python3",
   "name": "tf2-gpu.2-11.m111",
   "type": "gcloud",
   "uri": "gcr.io/deeplearning-platform-release/tf2-gpu.2-11:m111"
  },
  "kernelspec": {
   "display_name": "Python 3",
   "language": "python",
   "name": "python3"
  },
  "language_info": {
   "codemirror_mode": {
    "name": "ipython",
    "version": 3
   },
   "file_extension": ".py",
   "mimetype": "text/x-python",
   "name": "python",
   "nbconvert_exporter": "python",
   "pygments_lexer": "ipython3",
   "version": "3.10.12"
  }
 },
 "nbformat": 4,
 "nbformat_minor": 5
}
