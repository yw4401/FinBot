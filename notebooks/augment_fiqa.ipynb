{
 "cells": [
  {
   "cell_type": "code",
   "execution_count": 1,
   "metadata": {
    "collapsed": true
   },
   "outputs": [],
   "source": [
    "import sys\n",
    "sys.path.append('..')\n",
    "import ir_datasets as ir\n",
    "import pandas as pd\n",
    "import numpy as np\n",
    "import random\n",
    "from tqdm import tqdm\n",
    "from finetune.auto_label import augment_docs\n",
    "from finetune import config\n",
    "\n",
    "random.seed(93)\n",
    "np.random.seed(93)\n",
    "tqdm.pandas()"
   ]
  },
  {
   "cell_type": "code",
   "execution_count": 2,
   "outputs": [
    {
     "name": "stdout",
     "output_type": "stream",
     "text": [
      "GenericQuery(query_id='0', text='What is considered a business expense on a business trip?')\n"
     ]
    }
   ],
   "source": [
    "train_corpus = ir.load(\"beir/fiqa/train\")\n",
    "for query in train_corpus.queries_iter():\n",
    "    print(query)\n",
    "    break"
   ],
   "metadata": {
    "collapsed": false
   }
  },
  {
   "cell_type": "code",
   "execution_count": 3,
   "outputs": [
    {
     "name": "stdout",
     "output_type": "stream",
     "text": [
      "GenericDoc(doc_id='3', text=\"I'm not saying I don't like the idea of on-the-job training too, but you can't expect the company to do that. Training workers is not their job - they're building software. Perhaps educational systems in the U.S. (or their students) should worry a little about getting marketable skills in exchange for their massive investment in education, rather than getting out with thousands in student debt and then complaining that they aren't qualified to do anything.\")\n"
     ]
    }
   ],
   "source": [
    "for query in train_corpus.docs_iter():\n",
    "    print(query)\n",
    "    break"
   ],
   "metadata": {
    "collapsed": false
   }
  },
  {
   "cell_type": "code",
   "execution_count": 4,
   "outputs": [
    {
     "name": "stdout",
     "output_type": "stream",
     "text": [
      "TrecQrel(query_id='0', doc_id='18850', relevance=1, iteration='0')\n"
     ]
    }
   ],
   "source": [
    "for query in train_corpus.qrels_iter():\n",
    "    print(query)\n",
    "    break"
   ],
   "metadata": {
    "collapsed": false
   }
  },
  {
   "cell_type": "code",
   "execution_count": 5,
   "outputs": [
    {
     "data": {
      "text/plain": "      query_id                                         query_text\n4553      8363                                     Dividend Yield\n1622      3173  How can I find a checking account that allows ...\n4922      9445  When is the best time to put a large amount of...",
      "text/html": "<div>\n<style scoped>\n    .dataframe tbody tr th:only-of-type {\n        vertical-align: middle;\n    }\n\n    .dataframe tbody tr th {\n        vertical-align: top;\n    }\n\n    .dataframe thead th {\n        text-align: right;\n    }\n</style>\n<table border=\"1\" class=\"dataframe\">\n  <thead>\n    <tr style=\"text-align: right;\">\n      <th></th>\n      <th>query_id</th>\n      <th>query_text</th>\n    </tr>\n  </thead>\n  <tbody>\n    <tr>\n      <th>4553</th>\n      <td>8363</td>\n      <td>Dividend Yield</td>\n    </tr>\n    <tr>\n      <th>1622</th>\n      <td>3173</td>\n      <td>How can I find a checking account that allows ...</td>\n    </tr>\n    <tr>\n      <th>4922</th>\n      <td>9445</td>\n      <td>When is the best time to put a large amount of...</td>\n    </tr>\n  </tbody>\n</table>\n</div>"
     },
     "execution_count": 5,
     "metadata": {},
     "output_type": "execute_result"
    }
   ],
   "source": [
    "def convert_queries(corpus):\n",
    "    q_id = []\n",
    "    q_text = []\n",
    "    for query in corpus.queries_iter():\n",
    "        if len(query.text.strip()) < 5:\n",
    "            continue\n",
    "        q_id.append(int(query.query_id))\n",
    "        q_text.append(query.text.strip())\n",
    "    return pd.DataFrame({\"query_id\": q_id, \"query_text\": q_text})\n",
    "\n",
    "\n",
    "def convert_docs(corpus):\n",
    "    d_id = []\n",
    "    d_text = []\n",
    "    for doc in corpus.docs_iter():\n",
    "        if len(doc.text.strip()) < 10:\n",
    "            continue\n",
    "        d_id.append(int(doc.doc_id))\n",
    "        d_text.append(doc.text.strip())\n",
    "\n",
    "    return pd.DataFrame({\"doc_id\": d_id, \"doc_text\": d_text})\n",
    "\n",
    "\n",
    "def convert_relations(corpus):\n",
    "    q_id = []\n",
    "    d_id = []\n",
    "    relevance = []\n",
    "    for rel in corpus.qrels_iter():\n",
    "        q_id.append(int(rel.query_id))\n",
    "        d_id.append(int(rel.doc_id))\n",
    "        relevance.append(float(rel.relevance))\n",
    "    return pd.DataFrame({\n",
    "        \"query_id\": q_id,\n",
    "        \"doc_id\": d_id,\n",
    "        \"relevance\": relevance\n",
    "    })\n",
    "\n",
    "\n",
    "def convert_to_tables(corpus):\n",
    "    queries, docs, rels = convert_queries(corpus), convert_docs(corpus), convert_relations(corpus)\n",
    "    docs_with_queries = pd.merge(left=docs, right=rels, on=\"doc_id\")\n",
    "    filtered_docs = docs_with_queries[[\"doc_id\", \"doc_text\"]]\n",
    "    return queries, filtered_docs, rels\n",
    "\n",
    "\n",
    "train_query, train_doc, train_rel = convert_to_tables(train_corpus)\n",
    "train_query.sample(3, random_state=93)"
   ],
   "metadata": {
    "collapsed": false
   }
  },
  {
   "cell_type": "code",
   "execution_count": 6,
   "outputs": [],
   "source": [
    "API_KEY_PATH = \"../key\"\n",
    "\n",
    "with open(API_KEY_PATH, \"r\") as fp:\n",
    "    API_KEY = fp.read().strip()"
   ],
   "metadata": {
    "collapsed": false
   }
  },
  {
   "cell_type": "code",
   "execution_count": 21,
   "outputs": [],
   "source": [
    "FIQA_TRAIN_DOC_PATH = \"../data/fiqa-augmented-traindoc.parquet\"\n",
    "FIQA_TRAIN_Q_PATH = \"../data/fiqa-augmented-trainq.parquet\"\n",
    "FIQA_TRAIN_REL_PATH = \"../data/fiqa-augmented-trainrel.parquet\"\n",
    "\n",
    "FIQA_DEV_DOC_PATH = \"../data/fiqa-augmented-devdoc.parquet\"\n",
    "FIQA_DEV_Q_PATH = \"../data/fiqa-augmented-devq.parquet\"\n",
    "FIQA_DEV_REL_PATH = \"../data/fiqa-augmented-devrel.parquet\"\n",
    "\n",
    "FIQA_TEST_DOC_PATH = \"../data/fiqa-augmented-testdoc.parquet\"\n",
    "FIQA_TEST_Q_PATH = \"../data/fiqa-augmented-testq.parquet\"\n",
    "FIQA_TEST_REL_PATH = \"../data/fiqa-augmented-testrel.parquet\""
   ],
   "metadata": {
    "collapsed": false
   }
  },
  {
   "cell_type": "code",
   "execution_count": 7,
   "outputs": [
    {
     "data": {
      "text/plain": "{'input_text': 'Here are the SEC requirements: The federal securities laws define the term accredited investor in   Rule 501 of Regulation D as: a bank, insurance company, registered investment company, business development company, or small business investment company; an employee benefit plan, within the meaning of the Employee Retirement Income Security Act, if a bank, insurance company, or   registered investment adviser makes the investment decisions, or if   the plan has total assets in excess of $5 million; a charitable organization, corporation, or partnership with assets exceeding $5 million; a director, executive officer, or general partner of the company selling the securities; a business in which all the equity owners are accredited investors; a natural person who has individual net worth, or joint net worth with the person’s spouse, that exceeds $1 million at the time of the   purchase, excluding the value of the primary residence of such person; a natural person with income exceeding $200,000 in each of the two most recent years or joint income with a spouse exceeding $300,000 for   those years and a reasonable expectation of the same income level in   the current year; or a trust with assets in excess of $5 million, not formed to acquire the securities offered, whose purchases a sophisticated person makes. No citizenship/residency requirements.',\n 'text': 'The requirements set by the Securities and Exchange Commission (SEC) for accredited investors are outlined in Rule 501 of Regulation D. According to these federal securities laws, an accredited investor can be defined as follows:\\n\\n1. Financial Institutions: This includes banks, insurance companies, registered investment companies, business development companies, and small business investment companies.\\n\\n2. Employee Benefit Plans: If a bank, insurance company, or registered investment adviser makes the investment decisions, or if the plan has total assets exceeding $5 million, it qualifies as an accredited investor. This refers to employee benefit plans as defined by the Employee Retirement Income Security Act.\\n\\n3. Charitable Organizations, Corporations, or Partnerships: Entities falling under this category must have assets exceeding $5 million.\\n\\n4. Company Insiders: Directors, executive officers, or general partners of the company selling the securities are considered accredited investors.\\n\\n5. Equity Owners: A business in which all the equity owners are accredited investors is also eligible.\\n\\n6. High Net Worth Individuals: Natural persons who have an individual net worth, or joint net worth with their spouse, exceeding $1 million at the time of purchase, excluding the value of their primary residence, are accredited investors.\\n\\n7. High Income Individuals: Natural persons with income exceeding $200,000 in each of the two most recent years, or joint income with a spouse exceeding $300,000 for those years, and a reasonable expectation of the same income level in the current year, qualify as accredited investors.\\n\\n8. Trusts: Trusts with assets exceeding $5 million, not formed to acquire the securities offered, and whose purchases are made by a sophisticated person, are considered accredited investors.\\n\\nIt is important to note that there are no specific citizenship or residency requirements for accredited investors.'}"
     },
     "execution_count": 7,
     "metadata": {},
     "output_type": "execute_result"
    }
   ],
   "source": [
    "from langchain.prompts import SystemMessagePromptTemplate, HumanMessagePromptTemplate, ChatPromptTemplate\n",
    "from langchain.chains import LLMChain\n",
    "from langchain.chat_models import ChatOpenAI\n",
    "\n",
    "plan_llm = ChatOpenAI(openai_api_key=API_KEY, temperature=config.FIQA_TEMPERATURE,\n",
    "                      model_name=config.FIQA_MODEL)\n",
    "system_prompt = SystemMessagePromptTemplate.from_template(config.FIQA_SYSTEM)\n",
    "user_prompt = HumanMessagePromptTemplate.from_template(config.FIQA_USER)\n",
    "chat_prompt = ChatPromptTemplate.from_messages([system_prompt, user_prompt])\n",
    "augment_chain = LLMChain(llm=plan_llm, prompt=chat_prompt)\n",
    "augment_chain(train_doc.iloc[0][\"doc_text\"])"
   ],
   "metadata": {
    "collapsed": false
   }
  },
  {
   "cell_type": "code",
   "execution_count": 8,
   "outputs": [
    {
     "name": "stderr",
     "output_type": "stream",
     "text": [
      "  0%|          | 10/14128 [00:49<15:04:22,  3.84s/it]Retrying langchain.chat_models.openai.ChatOpenAI.completion_with_retry.<locals>._completion_with_retry in 4.0 seconds as it raised Timeout: Request timed out: HTTPSConnectionPool(host='api.openai.com', port=443): Read timed out. (read timeout=600).\n",
      " 41%|████      | 5771/14128 [7:38:56<10:44:48,  4.63s/it]Retrying langchain.chat_models.openai.ChatOpenAI.completion_with_retry.<locals>._completion_with_retry in 4.0 seconds as it raised Timeout: Request timed out: HTTPSConnectionPool(host='api.openai.com', port=443): Read timed out. (read timeout=600).\n",
      " 41%|████      | 5811/14128 [7:53:08<18:40:37,  8.08s/it]  Retrying langchain.chat_models.openai.ChatOpenAI.completion_with_retry.<locals>._completion_with_retry in 4.0 seconds as it raised Timeout: Request timed out: HTTPSConnectionPool(host='api.openai.com', port=443): Read timed out. (read timeout=600).\n",
      " 69%|██████▉   | 9764/14128 [16:43:07<8:16:20,  6.82s/it]  Retrying langchain.chat_models.openai.ChatOpenAI.completion_with_retry.<locals>._completion_with_retry in 4.0 seconds as it raised Timeout: Request timed out: HTTPSConnectionPool(host='api.openai.com', port=443): Read timed out. (read timeout=600).\n",
      " 74%|███████▍  | 10503/14128 [18:25:34<6:25:12,  6.38s/it]  Retrying langchain.chat_models.openai.ChatOpenAI.completion_with_retry.<locals>._completion_with_retry in 4.0 seconds as it raised Timeout: Request timed out: HTTPSConnectionPool(host='api.openai.com', port=443): Read timed out. (read timeout=600).\n",
      " 76%|███████▌  | 10690/14128 [19:00:46<7:45:09,  8.12s/it]   Retrying langchain.chat_models.openai.ChatOpenAI.completion_with_retry.<locals>._completion_with_retry in 4.0 seconds as it raised Timeout: Request timed out: HTTPSConnectionPool(host='api.openai.com', port=443): Read timed out. (read timeout=600).\n",
      " 78%|███████▊  | 11080/14128 [20:02:08<8:36:07, 10.16s/it]   Retrying langchain.chat_models.openai.ChatOpenAI.completion_with_retry.<locals>._completion_with_retry in 4.0 seconds as it raised Timeout: Request timed out: HTTPSConnectionPool(host='api.openai.com', port=443): Read timed out. (read timeout=600).\n",
      " 84%|████████▍ | 11844/14128 [21:49:18<4:32:48,  7.17s/it]   Retrying langchain.chat_models.openai.ChatOpenAI.completion_with_retry.<locals>._completion_with_retry in 4.0 seconds as it raised Timeout: Request timed out: HTTPSConnectionPool(host='api.openai.com', port=443): Read timed out. (read timeout=600).\n",
      " 84%|████████▍ | 11867/14128 [22:01:53<3:21:29,  5.35s/it]   Retrying langchain.chat_models.openai.ChatOpenAI.completion_with_retry.<locals>._completion_with_retry in 4.0 seconds as it raised Timeout: Request timed out: HTTPSConnectionPool(host='api.openai.com', port=443): Read timed out. (read timeout=600).\n",
      "100%|██████████| 14128/14128 [26:06:28<00:00,  6.65s/it]     \n"
     ]
    }
   ],
   "source": [
    "train_aug_docs, train_aug_qrel = augment_docs(augment_chain, train_doc, train_rel)"
   ],
   "metadata": {
    "collapsed": false
   }
  },
  {
   "cell_type": "code",
   "execution_count": 14,
   "outputs": [],
   "source": [
    "train_doc_final = pd.concat([train_doc, train_aug_docs], ignore_index=True).reset_index(drop=True)\n",
    "train_query_final = train_query\n",
    "train_rel_final = pd.concat([train_rel, train_aug_qrel], ignore_index=True).reset_index(drop=True)\n",
    "train_doc_final.to_parquet(FIQA_TRAIN_DOC_PATH, index=False)\n",
    "train_query_final.to_parquet(FIQA_TRAIN_Q_PATH, index=False)\n",
    "train_rel_final.to_parquet(FIQA_TRAIN_REL_PATH, index=False)"
   ],
   "metadata": {
    "collapsed": false
   }
  },
  {
   "cell_type": "code",
   "execution_count": 17,
   "outputs": [
    {
     "name": "stderr",
     "output_type": "stream",
     "text": [
      "[INFO] [starting] opening zip file\n",
      "[INFO] [finished] opening zip file [1ms]\n"
     ]
    },
    {
     "data": {
      "text/plain": "     query_id                                         query_text\n390      1325  How far do I go with a mortgage approval proce...\n66       5381                  Question about large capital gain\n65       8215  Where to invest, that compounds interest more ...",
      "text/html": "<div>\n<style scoped>\n    .dataframe tbody tr th:only-of-type {\n        vertical-align: middle;\n    }\n\n    .dataframe tbody tr th {\n        vertical-align: top;\n    }\n\n    .dataframe thead th {\n        text-align: right;\n    }\n</style>\n<table border=\"1\" class=\"dataframe\">\n  <thead>\n    <tr style=\"text-align: right;\">\n      <th></th>\n      <th>query_id</th>\n      <th>query_text</th>\n    </tr>\n  </thead>\n  <tbody>\n    <tr>\n      <th>390</th>\n      <td>1325</td>\n      <td>How far do I go with a mortgage approval proce...</td>\n    </tr>\n    <tr>\n      <th>66</th>\n      <td>5381</td>\n      <td>Question about large capital gain</td>\n    </tr>\n    <tr>\n      <th>65</th>\n      <td>8215</td>\n      <td>Where to invest, that compounds interest more ...</td>\n    </tr>\n  </tbody>\n</table>\n</div>"
     },
     "execution_count": 17,
     "metadata": {},
     "output_type": "execute_result"
    }
   ],
   "source": [
    "dev_corpus = ir.load(\"beir/fiqa/dev\")\n",
    "dev_query, dev_doc, dev_rel = convert_to_tables(dev_corpus)\n",
    "dev_query.sample(3, random_state=93)"
   ],
   "metadata": {
    "collapsed": false
   }
  },
  {
   "cell_type": "code",
   "execution_count": 18,
   "outputs": [
    {
     "name": "stderr",
     "output_type": "stream",
     "text": [
      "100%|██████████| 1236/1236 [2:05:04<00:00,  6.07s/it] \n"
     ]
    }
   ],
   "source": [
    "dev_aug_docs, dev_aug_qrel = augment_docs(augment_chain, dev_doc, dev_rel)"
   ],
   "metadata": {
    "collapsed": false
   }
  },
  {
   "cell_type": "code",
   "execution_count": 19,
   "outputs": [
    {
     "name": "stderr",
     "output_type": "stream",
     "text": [
      "[INFO] [starting] opening zip file\n",
      "[INFO] [finished] opening zip file [0ms]\n"
     ]
    },
    {
     "data": {
      "text/plain": "     query_id                                         query_text\n67       8539  Can the risk of investing in an asset be diffe...\n82       1198  What are the consequences of IRS “reclassifica...\n377      2513  How does revenue shared with someone else go i...",
      "text/html": "<div>\n<style scoped>\n    .dataframe tbody tr th:only-of-type {\n        vertical-align: middle;\n    }\n\n    .dataframe tbody tr th {\n        vertical-align: top;\n    }\n\n    .dataframe thead th {\n        text-align: right;\n    }\n</style>\n<table border=\"1\" class=\"dataframe\">\n  <thead>\n    <tr style=\"text-align: right;\">\n      <th></th>\n      <th>query_id</th>\n      <th>query_text</th>\n    </tr>\n  </thead>\n  <tbody>\n    <tr>\n      <th>67</th>\n      <td>8539</td>\n      <td>Can the risk of investing in an asset be diffe...</td>\n    </tr>\n    <tr>\n      <th>82</th>\n      <td>1198</td>\n      <td>What are the consequences of IRS “reclassifica...</td>\n    </tr>\n    <tr>\n      <th>377</th>\n      <td>2513</td>\n      <td>How does revenue shared with someone else go i...</td>\n    </tr>\n  </tbody>\n</table>\n</div>"
     },
     "execution_count": 19,
     "metadata": {},
     "output_type": "execute_result"
    }
   ],
   "source": [
    "test_corpus = ir.load(\"beir/fiqa/test\")\n",
    "test_query, test_doc, test_rel = convert_to_tables(test_corpus)\n",
    "test_query.sample(3, random_state=93)"
   ],
   "metadata": {
    "collapsed": false
   }
  },
  {
   "cell_type": "code",
   "execution_count": 20,
   "outputs": [
    {
     "name": "stderr",
     "output_type": "stream",
     "text": [
      " 68%|██████▊   | 1164/1705 [2:04:54<51:07,  5.67s/it]  Retrying langchain.chat_models.openai.ChatOpenAI.completion_with_retry.<locals>._completion_with_retry in 4.0 seconds as it raised Timeout: Request timed out: HTTPSConnectionPool(host='api.openai.com', port=443): Read timed out. (read timeout=600).\n",
      "100%|██████████| 1705/1705 [3:23:59<00:00,  7.18s/it]    \n"
     ]
    }
   ],
   "source": [
    "test_aug_docs, test_aug_qrel = augment_docs(augment_chain, test_doc, test_rel)"
   ],
   "metadata": {
    "collapsed": false
   }
  },
  {
   "cell_type": "code",
   "execution_count": 22,
   "outputs": [],
   "source": [
    "dev_doc_final = pd.concat([dev_doc, dev_aug_docs], ignore_index=True).reset_index(drop=True)\n",
    "dev_query_final = dev_query\n",
    "dev_rel_final = pd.concat([dev_rel, dev_aug_qrel], ignore_index=True).reset_index(drop=True)\n",
    "dev_doc_final.to_parquet(FIQA_DEV_DOC_PATH, index=False)\n",
    "dev_query_final.to_parquet(FIQA_DEV_Q_PATH, index=False)\n",
    "dev_rel_final.to_parquet(FIQA_DEV_REL_PATH, index=False)"
   ],
   "metadata": {
    "collapsed": false
   }
  },
  {
   "cell_type": "code",
   "execution_count": 23,
   "outputs": [],
   "source": [
    "test_doc_final = pd.concat([test_doc, test_aug_docs], ignore_index=True).reset_index(drop=True)\n",
    "test_query_final = test_query\n",
    "test_rel_final = pd.concat([test_rel, test_aug_qrel], ignore_index=True).reset_index(drop=True)\n",
    "test_doc_final.to_parquet(FIQA_TEST_DOC_PATH, index=False)\n",
    "test_query_final.to_parquet(FIQA_TEST_Q_PATH, index=False)\n",
    "test_rel_final.to_parquet(FIQA_TEST_REL_PATH, index=False)"
   ],
   "metadata": {
    "collapsed": false
   }
  },
  {
   "cell_type": "code",
   "execution_count": null,
   "outputs": [],
   "source": [],
   "metadata": {
    "collapsed": false
   }
  }
 ],
 "metadata": {
  "kernelspec": {
   "display_name": "Python 3",
   "language": "python",
   "name": "python3"
  },
  "language_info": {
   "codemirror_mode": {
    "name": "ipython",
    "version": 2
   },
   "file_extension": ".py",
   "mimetype": "text/x-python",
   "name": "python",
   "nbconvert_exporter": "python",
   "pygments_lexer": "ipython2",
   "version": "2.7.6"
  }
 },
 "nbformat": 4,
 "nbformat_minor": 0
}
