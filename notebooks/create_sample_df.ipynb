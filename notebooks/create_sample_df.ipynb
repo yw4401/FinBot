{
 "cells": [
  {
   "cell_type": "code",
   "execution_count": 1,
   "id": "1012ae6c-a668-4a4b-a47a-3cfebe145b92",
   "metadata": {},
   "outputs": [
    {
     "name": "stdout",
     "output_type": "stream",
     "text": [
      "INFO: Pandarallel will run on 4 workers.\n",
      "INFO: Pandarallel will use Memory file system to transfer data between the main process and workers.\n"
     ]
    }
   ],
   "source": [
    "import pandas as pd\n",
    "import numpy as np\n",
    "from google.cloud import storage\n",
    "from datetime import datetime\n",
    "from tqdm import tqdm\n",
    "import re\n",
    "from pandarallel import pandarallel\n",
    "from contextlib import closing\n",
    "import json\n",
    "\n",
    "\n",
    "pandarallel.initialize(progress_bar=True)\n",
    "pd.set_option('display.max_rows', 100)\n",
    "pd.set_option('display.max_columns', None)\n",
    "pd.set_option('display.max_colwidth', 500)"
   ]
  },
  {
   "cell_type": "code",
   "execution_count": 2,
   "id": "a24e4665-2b69-4f9e-b1f2-ec20fdf47b70",
   "metadata": {},
   "outputs": [],
   "source": [
    "def get_work(source=\"markdown-corref\", filter_f=lambda article: True):\n",
    "    with closing(storage.Client(project=\"msca310019-capstone-f945\")) as client:\n",
    "        result = []\n",
    "        bucket = client.bucket(source)\n",
    "        tbd = set([f.name for f in client.list_blobs(bucket_or_name=source)])\n",
    "        tbd_df = pd.DataFrame({\n",
    "            \"tbd\": list(tbd)\n",
    "        })\n",
    "    \n",
    "    def filter_article(f_name):\n",
    "        with closing(storage.Client(project=\"msca310019-capstone-f945\")) as client:\n",
    "            bucket = client.bucket(source)\n",
    "            with bucket.blob(f_name).open(\"r\") as fp:\n",
    "                article = json.load(fp)\n",
    "                if filter_f(article):\n",
    "                    return article\n",
    "        return \"\"\n",
    "    \n",
    "    tbd_df[\"result\"] = tbd_df.tbd.parallel_apply(filter_article)\n",
    "    tbd_df_filtered = tbd_df.loc[tbd_df[\"result\"].str.len() > 0]\n",
    "    \n",
    "    return tbd_df_filtered.result.to_list()"
   ]
  },
  {
   "cell_type": "code",
   "execution_count": 3,
   "id": "9ba1c00a-d180-426b-95d0-eda783d441f6",
   "metadata": {},
   "outputs": [],
   "source": [
    "def year_month_filter(article, year=2023, month=4):\n",
    "    timestamp = datetime.fromisoformat(article[\"published\"])\n",
    "    return timestamp.year == year and timestamp.month == month"
   ]
  },
  {
   "cell_type": "code",
   "execution_count": 6,
   "id": "7965b1f7-ca14-4e3a-8387-73951e135565",
   "metadata": {},
   "outputs": [
    {
     "data": {
      "application/vnd.jupyter.widget-view+json": {
       "model_id": "21447841990e4c12ae9b4b17f13f9152",
       "version_major": 2,
       "version_minor": 0
      },
      "text/plain": [
       "VBox(children=(HBox(children=(IntProgress(value=0, description='0.00%', max=4124), Label(value='0 / 4124'))), …"
      ]
     },
     "metadata": {},
     "output_type": "display_data"
    }
   ],
   "source": [
    "sample = get_work(filter_f=year_month_filter)"
   ]
  },
  {
   "cell_type": "code",
   "execution_count": 7,
   "id": "3b4899ac-5dbc-4dc0-bcdc-cbd396d1a58e",
   "metadata": {},
   "outputs": [
    {
     "data": {
      "text/plain": [
       "5526"
      ]
     },
     "execution_count": 7,
     "metadata": {},
     "output_type": "execute_result"
    }
   ],
   "source": [
    "len(sample)"
   ]
  },
  {
   "cell_type": "code",
   "execution_count": 10,
   "id": "ec416e54-4c0b-48c0-a0b1-5e946646c8bd",
   "metadata": {},
   "outputs": [
    {
     "data": {
      "text/html": [
       "<div>\n",
       "<style scoped>\n",
       "    .dataframe tbody tr th:only-of-type {\n",
       "        vertical-align: middle;\n",
       "    }\n",
       "\n",
       "    .dataframe tbody tr th {\n",
       "        vertical-align: top;\n",
       "    }\n",
       "\n",
       "    .dataframe thead th {\n",
       "        text-align: right;\n",
       "    }\n",
       "</style>\n",
       "<table border=\"1\" class=\"dataframe\">\n",
       "  <thead>\n",
       "    <tr style=\"text-align: right;\">\n",
       "      <th></th>\n",
       "      <th>source</th>\n",
       "      <th>id</th>\n",
       "      <th>category</th>\n",
       "      <th>title</th>\n",
       "      <th>published</th>\n",
       "      <th>body</th>\n",
       "      <th>summary</th>\n",
       "      <th>summary_type</th>\n",
       "    </tr>\n",
       "  </thead>\n",
       "  <tbody>\n",
       "    <tr>\n",
       "      <th>0</th>\n",
       "      <td>cnbc</td>\n",
       "      <td>3717</td>\n",
       "      <td>Politics</td>\n",
       "      <td>DeSantis and allies ramp up Disney fight as more Republicans criticize his tactics</td>\n",
       "      <td>2023-04-19T20:00:49+00:00</td>\n",
       "      <td>## In this article\\nFollow your favorite stocksCREATE FREE ACCOUNT\\nFlorida Gov. Ron DeSantis responds to a question during a press conference at the headquarters of the former Reedy Creek Improvement District that a newly appointed board now calls the Central Florida Tourism Oversight District, in Lake Buena Vista, Florida, Monday, April 17, 2023.\\nFlorida Gov. Ron DeSantis and Florida Gov. Ron DeSantis's allies are ramping up Florida Gov. Ron DeSantis and his allies's fight against Walt Di...</td>\n",
       "      <td>* Florida Gov. Ron DeSantis ripped Disney over its recent maneuvers to thwart the governor's efforts to seize some control of the company's Orlando parks and properties.\\n* The DeSantis-picked board overseeing Disney World's special tax district moved to regain authority that they say Disney wrongly took away just before they took charge.\\n* The public feud stems from Disney's vocal opposition to the Florida legislation dubbed \"Don't Say Gay\" by critics.\\n* Former President Donald Trump, now...</td>\n",
       "      <td>BULLETS</td>\n",
       "    </tr>\n",
       "    <tr>\n",
       "      <th>1</th>\n",
       "      <td>reuters</td>\n",
       "      <td>1996</td>\n",
       "      <td>LitigationCorporate StructureLawsuits</td>\n",
       "      <td>J&amp;J talc unit faces skepticism on bankruptcy settlement support</td>\n",
       "      <td>2023-04-11T22:19:00</td>\n",
       "      <td>April 11 (Reuters) - A Johnson &amp; Johnson (JNJ.N) company on Tuesday defended A Johnson &amp; Johnson (JNJ.N) company's second attempt to resolve talc lawsuits in bankruptcy, telling a U.S. judge A Johnson &amp; Johnson (JNJ.N) company can quickly build consensus around A Johnson &amp; Johnson (JNJ.N) company's $8.9 billion settlement offer despite doubts about A Johnson &amp; Johnson (JNJ.N) company's assertion that 60,000 plaintiffs would support the deal.\\nthe deal has divided lawyers representing cancer ...</td>\n",
       "      <td></td>\n",
       "      <td>NULL</td>\n",
       "    </tr>\n",
       "    <tr>\n",
       "      <th>2</th>\n",
       "      <td>reuters</td>\n",
       "      <td>10431</td>\n",
       "      <td>Aerospace &amp; Defense</td>\n",
       "      <td>US GAO denies Lockheed protest of Textron $7 bln Army helicopter deal</td>\n",
       "      <td>2023-04-06T20:41:00</td>\n",
       "      <td>WASHINGTON, April 6 (Reuters) - The U.S. Government Accountability Office on Thursday denied Lockheed Martin Corp's (LMT.N) protest of the Army contract for the Future Long Range-Assault Aircraft worth as much as a $7.1 billion, awarded to Textron Inc's (TXT.N) Bell helicopter unit over Lockheed Martin Corp's's Sikorsky unit.\\nArmy \"reasonably evaluated Sikorsky's proposal as technically unacceptable because Sikorsky failed to provide the level of architectural detail required by the\" reques...</td>\n",
       "      <td></td>\n",
       "      <td>NULL</td>\n",
       "    </tr>\n",
       "    <tr>\n",
       "      <th>3</th>\n",
       "      <td>reuters</td>\n",
       "      <td>14305</td>\n",
       "      <td>United States</td>\n",
       "      <td>'Donald Trump raped me,' writer says at civil trial</td>\n",
       "      <td>2023-04-26T23:22:00</td>\n",
       "      <td>NEW YORK, April 26 (Reuters) - A writer explained in graphic detail on Wednesday how Donald Trump allegedly the alleged rape A writer nearly 30 years ago, at a civil trial to determine whether Donald Trump the alleged rape A writer and then lied about the alleged rape.\\n\"A writer'm here because Donald Trump the alleged rape A writer, and when A writer wrote about the alleged rape, Donald Trump lied and said the alleged rape didn't happen,\" A writer told jurors in federal court in Manhattan. ...</td>\n",
       "      <td></td>\n",
       "      <td>NULL</td>\n",
       "    </tr>\n",
       "    <tr>\n",
       "      <th>4</th>\n",
       "      <td>reuters</td>\n",
       "      <td>10282</td>\n",
       "      <td>Charged</td>\n",
       "      <td>Walmart plans own EV charger network at U.S. stores by 2030</td>\n",
       "      <td>2023-04-06T16:52:00</td>\n",
       "      <td>NEW YORK, April 6 (Reuters) - Walmart Inc (WMT.N) Walmart's plan to have Walmart Inc (WMT.N)'s own network of electric vehicle charging stations by 2030 to tap into the growing adoption of EVs in the United States.\\nelectric vehicle charging stations will be placed at thousands of Walmart Inc (WMT.N) and Sam's Club stores, alongside nearly 1,300 Walmart Inc (WMT.N) already offers as part of a deal with Volkswagen (VOWG_p.DE) unit Electrify America, one of the United States's largest open pub...</td>\n",
       "      <td></td>\n",
       "      <td>NULL</td>\n",
       "    </tr>\n",
       "  </tbody>\n",
       "</table>\n",
       "</div>"
      ],
      "text/plain": [
       "    source     id                               category  \\\n",
       "0     cnbc   3717                               Politics   \n",
       "1  reuters   1996  LitigationCorporate StructureLawsuits   \n",
       "2  reuters  10431                    Aerospace & Defense   \n",
       "3  reuters  14305                          United States   \n",
       "4  reuters  10282                                Charged   \n",
       "\n",
       "                                                                                title  \\\n",
       "0  DeSantis and allies ramp up Disney fight as more Republicans criticize his tactics   \n",
       "1                     J&J talc unit faces skepticism on bankruptcy settlement support   \n",
       "2               US GAO denies Lockheed protest of Textron $7 bln Army helicopter deal   \n",
       "3                                 'Donald Trump raped me,' writer says at civil trial   \n",
       "4                         Walmart plans own EV charger network at U.S. stores by 2030   \n",
       "\n",
       "                   published  \\\n",
       "0  2023-04-19T20:00:49+00:00   \n",
       "1        2023-04-11T22:19:00   \n",
       "2        2023-04-06T20:41:00   \n",
       "3        2023-04-26T23:22:00   \n",
       "4        2023-04-06T16:52:00   \n",
       "\n",
       "                                                                                                                                                                                                                                                                                                                                                                                                                                                                                                                  body  \\\n",
       "0  ## In this article\\nFollow your favorite stocksCREATE FREE ACCOUNT\\nFlorida Gov. Ron DeSantis responds to a question during a press conference at the headquarters of the former Reedy Creek Improvement District that a newly appointed board now calls the Central Florida Tourism Oversight District, in Lake Buena Vista, Florida, Monday, April 17, 2023.\\nFlorida Gov. Ron DeSantis and Florida Gov. Ron DeSantis's allies are ramping up Florida Gov. Ron DeSantis and his allies's fight against Walt Di...   \n",
       "1  April 11 (Reuters) - A Johnson & Johnson (JNJ.N) company on Tuesday defended A Johnson & Johnson (JNJ.N) company's second attempt to resolve talc lawsuits in bankruptcy, telling a U.S. judge A Johnson & Johnson (JNJ.N) company can quickly build consensus around A Johnson & Johnson (JNJ.N) company's $8.9 billion settlement offer despite doubts about A Johnson & Johnson (JNJ.N) company's assertion that 60,000 plaintiffs would support the deal.\\nthe deal has divided lawyers representing cancer ...   \n",
       "2  WASHINGTON, April 6 (Reuters) - The U.S. Government Accountability Office on Thursday denied Lockheed Martin Corp's (LMT.N) protest of the Army contract for the Future Long Range-Assault Aircraft worth as much as a $7.1 billion, awarded to Textron Inc's (TXT.N) Bell helicopter unit over Lockheed Martin Corp's's Sikorsky unit.\\nArmy \"reasonably evaluated Sikorsky's proposal as technically unacceptable because Sikorsky failed to provide the level of architectural detail required by the\" reques...   \n",
       "3  NEW YORK, April 26 (Reuters) - A writer explained in graphic detail on Wednesday how Donald Trump allegedly the alleged rape A writer nearly 30 years ago, at a civil trial to determine whether Donald Trump the alleged rape A writer and then lied about the alleged rape.\\n\"A writer'm here because Donald Trump the alleged rape A writer, and when A writer wrote about the alleged rape, Donald Trump lied and said the alleged rape didn't happen,\" A writer told jurors in federal court in Manhattan. ...   \n",
       "4  NEW YORK, April 6 (Reuters) - Walmart Inc (WMT.N) Walmart's plan to have Walmart Inc (WMT.N)'s own network of electric vehicle charging stations by 2030 to tap into the growing adoption of EVs in the United States.\\nelectric vehicle charging stations will be placed at thousands of Walmart Inc (WMT.N) and Sam's Club stores, alongside nearly 1,300 Walmart Inc (WMT.N) already offers as part of a deal with Volkswagen (VOWG_p.DE) unit Electrify America, one of the United States's largest open pub...   \n",
       "\n",
       "                                                                                                                                                                                                                                                                                                                                                                                                                                                                                                               summary  \\\n",
       "0  * Florida Gov. Ron DeSantis ripped Disney over its recent maneuvers to thwart the governor's efforts to seize some control of the company's Orlando parks and properties.\\n* The DeSantis-picked board overseeing Disney World's special tax district moved to regain authority that they say Disney wrongly took away just before they took charge.\\n* The public feud stems from Disney's vocal opposition to the Florida legislation dubbed \"Don't Say Gay\" by critics.\\n* Former President Donald Trump, now...   \n",
       "1                                                                                                                                                                                                                                                                                                                                                                                                                                                                                                                        \n",
       "2                                                                                                                                                                                                                                                                                                                                                                                                                                                                                                                        \n",
       "3                                                                                                                                                                                                                                                                                                                                                                                                                                                                                                                        \n",
       "4                                                                                                                                                                                                                                                                                                                                                                                                                                                                                                                        \n",
       "\n",
       "  summary_type  \n",
       "0      BULLETS  \n",
       "1         NULL  \n",
       "2         NULL  \n",
       "3         NULL  \n",
       "4         NULL  "
      ]
     },
     "execution_count": 10,
     "metadata": {},
     "output_type": "execute_result"
    }
   ],
   "source": [
    "for s in sample:\n",
    "    if s[\"source\"] == \"reuters\" and len(s[\"title\"]) < len(s[\"category\"]):\n",
    "        real_title = s[\"category\"]\n",
    "        s[\"category\"] = s[\"title\"]\n",
    "        s[\"title\"] = real_title\n",
    "        \n",
    "final_df = pd.DataFrame(sample)\n",
    "final_df.head()"
   ]
  },
  {
   "cell_type": "code",
   "execution_count": 11,
   "id": "33c21c09-0f97-4a22-ba8b-40644d2a8f85",
   "metadata": {},
   "outputs": [],
   "source": [
    "final_df.to_parquet(\"gs://scraped-news-article-data-null/april-2023.parquet\", index=False)"
   ]
  },
  {
   "cell_type": "code",
   "execution_count": null,
   "id": "6f16d690-23d0-42dc-aa99-1c42036c77fa",
   "metadata": {},
   "outputs": [],
   "source": []
  }
 ],
 "metadata": {
  "environment": {
   "kernel": "python3",
   "name": "common-cu110.m108",
   "type": "gcloud",
   "uri": "gcr.io/deeplearning-platform-release/base-cu110:m108"
  },
  "kernelspec": {
   "display_name": "Python 3",
   "language": "python",
   "name": "python3"
  },
  "language_info": {
   "codemirror_mode": {
    "name": "ipython",
    "version": 3
   },
   "file_extension": ".py",
   "mimetype": "text/x-python",
   "name": "python",
   "nbconvert_exporter": "python",
   "pygments_lexer": "ipython3",
   "version": "3.7.12"
  }
 },
 "nbformat": 4,
 "nbformat_minor": 5
}
