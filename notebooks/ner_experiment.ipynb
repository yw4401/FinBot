{
 "cells": [
  {
   "cell_type": "code",
   "execution_count": 1,
   "metadata": {
    "collapsed": true
   },
   "outputs": [],
   "source": [
    "import pandas as pd\n",
    "import numpy as np\n",
    "import random\n",
    "import spacy\n",
    "from tqdm import tqdm\n",
    "\n",
    "random.seed(93)\n",
    "np.random.seed(93)\n",
    "spacy.require_gpu()\n",
    "tqdm.pandas()"
   ]
  },
  {
   "cell_type": "code",
   "execution_count": 2,
   "outputs": [
    {
     "data": {
      "text/plain": "    source     id                                           category  \\\n0  reuters  43869                                      Asian Markets   \n1  reuters  43881                                  Retail & Consumer   \n2  reuters  43904  Mergers & AcquisitionsMergers & AcquisitionsDr...   \n3  reuters  43912         CommentaryBy Rebecca ChristieBreakingviews   \n4  reuters  43916         CommentaryBy Rebecca ChristieBreakingviews   \n\n                                               title            published  \\\n0  Taiwan seen slipping into recession in Q1, Reu...  2023-04-26T04:54:00   \n1  Corona beer maker Constellation sees 2024 prof...  2023-04-06T12:59:00   \n2  BioNTech, DualityBio to develop cancer treatme...  2023-04-03T21:28:00   \n3  New EU debt rules have way to avoid past mistakes  2023-04-04T10:32:00   \n4  Rome foot-dragging can help EU kick bad aid ha...  2023-04-18T09:52:00   \n\n                                                body  \\\n0  TAIPEI, April 26 (Reuters) - Taiwan's export-d...   \n1  April 6 (Reuters) - Constellation Brands Inc (...   \n2  April 3 (Reuters) - Germany's BioNTech (22UAy....   \n3  BRUSSELS, April 4 (Reuters Breakingviews) - Th...   \n4  BRUSSELS, April 18 (Reuters Breakingviews) - I...   \n\n                                             summary summary_type  \n0  * \\n* For poll data click:\\n* Preliminary Q1 G...      BULLETS  \n1                                                            NULL  \n2                                                            NULL  \n3                                                            NULL  \n4                                                            NULL  ",
      "text/html": "<div>\n<style scoped>\n    .dataframe tbody tr th:only-of-type {\n        vertical-align: middle;\n    }\n\n    .dataframe tbody tr th {\n        vertical-align: top;\n    }\n\n    .dataframe thead th {\n        text-align: right;\n    }\n</style>\n<table border=\"1\" class=\"dataframe\">\n  <thead>\n    <tr style=\"text-align: right;\">\n      <th></th>\n      <th>source</th>\n      <th>id</th>\n      <th>category</th>\n      <th>title</th>\n      <th>published</th>\n      <th>body</th>\n      <th>summary</th>\n      <th>summary_type</th>\n    </tr>\n  </thead>\n  <tbody>\n    <tr>\n      <th>0</th>\n      <td>reuters</td>\n      <td>43869</td>\n      <td>Asian Markets</td>\n      <td>Taiwan seen slipping into recession in Q1, Reu...</td>\n      <td>2023-04-26T04:54:00</td>\n      <td>TAIPEI, April 26 (Reuters) - Taiwan's export-d...</td>\n      <td>* \\n* For poll data click:\\n* Preliminary Q1 G...</td>\n      <td>BULLETS</td>\n    </tr>\n    <tr>\n      <th>1</th>\n      <td>reuters</td>\n      <td>43881</td>\n      <td>Retail &amp; Consumer</td>\n      <td>Corona beer maker Constellation sees 2024 prof...</td>\n      <td>2023-04-06T12:59:00</td>\n      <td>April 6 (Reuters) - Constellation Brands Inc (...</td>\n      <td></td>\n      <td>NULL</td>\n    </tr>\n    <tr>\n      <th>2</th>\n      <td>reuters</td>\n      <td>43904</td>\n      <td>Mergers &amp; AcquisitionsMergers &amp; AcquisitionsDr...</td>\n      <td>BioNTech, DualityBio to develop cancer treatme...</td>\n      <td>2023-04-03T21:28:00</td>\n      <td>April 3 (Reuters) - Germany's BioNTech (22UAy....</td>\n      <td></td>\n      <td>NULL</td>\n    </tr>\n    <tr>\n      <th>3</th>\n      <td>reuters</td>\n      <td>43912</td>\n      <td>CommentaryBy Rebecca ChristieBreakingviews</td>\n      <td>New EU debt rules have way to avoid past mistakes</td>\n      <td>2023-04-04T10:32:00</td>\n      <td>BRUSSELS, April 4 (Reuters Breakingviews) - Th...</td>\n      <td></td>\n      <td>NULL</td>\n    </tr>\n    <tr>\n      <th>4</th>\n      <td>reuters</td>\n      <td>43916</td>\n      <td>CommentaryBy Rebecca ChristieBreakingviews</td>\n      <td>Rome foot-dragging can help EU kick bad aid ha...</td>\n      <td>2023-04-18T09:52:00</td>\n      <td>BRUSSELS, April 18 (Reuters Breakingviews) - I...</td>\n      <td></td>\n      <td>NULL</td>\n    </tr>\n  </tbody>\n</table>\n</div>"
     },
     "execution_count": 2,
     "metadata": {},
     "output_type": "execute_result"
    }
   ],
   "source": [
    "coref_data = pd.read_parquet(\"../data/corref-2023-4.parquet\")\n",
    "coref_data.head()"
   ],
   "metadata": {
    "collapsed": false
   }
  },
  {
   "cell_type": "code",
   "execution_count": 3,
   "outputs": [
    {
     "data": {
      "text/plain": "    source     id                                           category  \\\n0  reuters  43869                                      Asian Markets   \n1  reuters  43881                                  Retail & Consumer   \n2  reuters  43904  Mergers & AcquisitionsMergers & AcquisitionsDr...   \n3  reuters  43912         CommentaryBy Rebecca ChristieBreakingviews   \n4  reuters  43916         CommentaryBy Rebecca ChristieBreakingviews   \n\n                                               title            published  \\\n0  Taiwan seen slipping into recession in Q1, Reu...  2023-04-26T04:54:00   \n1  Corona beer maker Constellation sees 2024 prof...  2023-04-06T12:59:00   \n2  BioNTech, DualityBio to develop cancer treatme...  2023-04-03T21:28:00   \n3  New EU debt rules have way to avoid past mistakes  2023-04-04T10:32:00   \n4  Rome foot-dragging can help EU kick bad aid ha...  2023-04-18T09:52:00   \n\n                                                body  \\\n0  TAIPEI, April 26 (Reuters) - Taiwan's export-d...   \n1  April 6 (Reuters) - Constellation Brands Inc (...   \n2  April 3 (Reuters) - Germany's BioNTech (22UAy....   \n3  BRUSSELS, April 4 (Reuters Breakingviews) - Th...   \n4  BRUSSELS, April 18 (Reuters Breakingviews) - I...   \n\n                                             summary summary_type  \n0  * \\n* For poll data click:\\n* Preliminary Q1 G...      BULLETS  \n1                                                            NULL  \n2                                                            NULL  \n3                                                            NULL  \n4                                                            NULL  ",
      "text/html": "<div>\n<style scoped>\n    .dataframe tbody tr th:only-of-type {\n        vertical-align: middle;\n    }\n\n    .dataframe tbody tr th {\n        vertical-align: top;\n    }\n\n    .dataframe thead th {\n        text-align: right;\n    }\n</style>\n<table border=\"1\" class=\"dataframe\">\n  <thead>\n    <tr style=\"text-align: right;\">\n      <th></th>\n      <th>source</th>\n      <th>id</th>\n      <th>category</th>\n      <th>title</th>\n      <th>published</th>\n      <th>body</th>\n      <th>summary</th>\n      <th>summary_type</th>\n    </tr>\n  </thead>\n  <tbody>\n    <tr>\n      <th>0</th>\n      <td>reuters</td>\n      <td>43869</td>\n      <td>Asian Markets</td>\n      <td>Taiwan seen slipping into recession in Q1, Reu...</td>\n      <td>2023-04-26T04:54:00</td>\n      <td>TAIPEI, April 26 (Reuters) - Taiwan's export-d...</td>\n      <td>* \\n* For poll data click:\\n* Preliminary Q1 G...</td>\n      <td>BULLETS</td>\n    </tr>\n    <tr>\n      <th>1</th>\n      <td>reuters</td>\n      <td>43881</td>\n      <td>Retail &amp; Consumer</td>\n      <td>Corona beer maker Constellation sees 2024 prof...</td>\n      <td>2023-04-06T12:59:00</td>\n      <td>April 6 (Reuters) - Constellation Brands Inc (...</td>\n      <td></td>\n      <td>NULL</td>\n    </tr>\n    <tr>\n      <th>2</th>\n      <td>reuters</td>\n      <td>43904</td>\n      <td>Mergers &amp; AcquisitionsMergers &amp; AcquisitionsDr...</td>\n      <td>BioNTech, DualityBio to develop cancer treatme...</td>\n      <td>2023-04-03T21:28:00</td>\n      <td>April 3 (Reuters) - Germany's BioNTech (22UAy....</td>\n      <td></td>\n      <td>NULL</td>\n    </tr>\n    <tr>\n      <th>3</th>\n      <td>reuters</td>\n      <td>43912</td>\n      <td>CommentaryBy Rebecca ChristieBreakingviews</td>\n      <td>New EU debt rules have way to avoid past mistakes</td>\n      <td>2023-04-04T10:32:00</td>\n      <td>BRUSSELS, April 4 (Reuters Breakingviews) - Th...</td>\n      <td></td>\n      <td>NULL</td>\n    </tr>\n    <tr>\n      <th>4</th>\n      <td>reuters</td>\n      <td>43916</td>\n      <td>CommentaryBy Rebecca ChristieBreakingviews</td>\n      <td>Rome foot-dragging can help EU kick bad aid ha...</td>\n      <td>2023-04-18T09:52:00</td>\n      <td>BRUSSELS, April 18 (Reuters Breakingviews) - I...</td>\n      <td></td>\n      <td>NULL</td>\n    </tr>\n  </tbody>\n</table>\n</div>"
     },
     "execution_count": 3,
     "metadata": {},
     "output_type": "execute_result"
    }
   ],
   "source": [
    "coref_data.loc[coref_data.source == \"reuters\"].head()"
   ],
   "metadata": {
    "collapsed": false
   }
  },
  {
   "cell_type": "code",
   "execution_count": 4,
   "outputs": [
    {
     "data": {
      "text/plain": "   source    id category                                              title  \\\n43   cnbc  4419  Economy  Fed Governor Bowman casts doubt on the need fo...   \n44   cnbc  4420  Economy  Layoffs are up nearly fivefold so far this yea...   \n46   cnbc  4421  Economy  Job growth totals 236,000 in March, near expec...   \n47   cnbc  4422  Economy  Key inflation gauge for the Fed rose 0.3% in M...   \n49   cnbc  4423  Economy  Inflation rises just 0.1% in March and 5% from...   \n\n                    published  \\\n43  2023-04-18T17:01:56+00:00   \n44  2023-04-06T12:11:07+00:00   \n46  2023-04-07T12:32:36+00:00   \n47  2023-04-28T12:34:13+00:00   \n49  2023-04-12T12:31:43+00:00   \n\n                                                 body  \\\n43  Federal Reserve Governor Michelle Bowman expre...   \n44  Google headquarters in Mountain View, Californ...   \n46  Job growth totals 236,000 in March, near expec...   \n47  Key inflation gauge for the Fed rose 0.3% in M...   \n49  Inflation rises 0.1% in March, less than expec...   \n\n                                              summary summary_type  \n43  * Federal Reserve Governor Michelle Bowman exp...      BULLETS  \n44  * Planned layoffs totaled 89,703 for the perio...      BULLETS  \n46  * Nonfarm payrolls grew by 236,000 for March, ...      BULLETS  \n47                                                            NULL  \n49  * The consumer price index rose 0.1% in March ...      BULLETS  ",
      "text/html": "<div>\n<style scoped>\n    .dataframe tbody tr th:only-of-type {\n        vertical-align: middle;\n    }\n\n    .dataframe tbody tr th {\n        vertical-align: top;\n    }\n\n    .dataframe thead th {\n        text-align: right;\n    }\n</style>\n<table border=\"1\" class=\"dataframe\">\n  <thead>\n    <tr style=\"text-align: right;\">\n      <th></th>\n      <th>source</th>\n      <th>id</th>\n      <th>category</th>\n      <th>title</th>\n      <th>published</th>\n      <th>body</th>\n      <th>summary</th>\n      <th>summary_type</th>\n    </tr>\n  </thead>\n  <tbody>\n    <tr>\n      <th>43</th>\n      <td>cnbc</td>\n      <td>4419</td>\n      <td>Economy</td>\n      <td>Fed Governor Bowman casts doubt on the need fo...</td>\n      <td>2023-04-18T17:01:56+00:00</td>\n      <td>Federal Reserve Governor Michelle Bowman expre...</td>\n      <td>* Federal Reserve Governor Michelle Bowman exp...</td>\n      <td>BULLETS</td>\n    </tr>\n    <tr>\n      <th>44</th>\n      <td>cnbc</td>\n      <td>4420</td>\n      <td>Economy</td>\n      <td>Layoffs are up nearly fivefold so far this yea...</td>\n      <td>2023-04-06T12:11:07+00:00</td>\n      <td>Google headquarters in Mountain View, Californ...</td>\n      <td>* Planned layoffs totaled 89,703 for the perio...</td>\n      <td>BULLETS</td>\n    </tr>\n    <tr>\n      <th>46</th>\n      <td>cnbc</td>\n      <td>4421</td>\n      <td>Economy</td>\n      <td>Job growth totals 236,000 in March, near expec...</td>\n      <td>2023-04-07T12:32:36+00:00</td>\n      <td>Job growth totals 236,000 in March, near expec...</td>\n      <td>* Nonfarm payrolls grew by 236,000 for March, ...</td>\n      <td>BULLETS</td>\n    </tr>\n    <tr>\n      <th>47</th>\n      <td>cnbc</td>\n      <td>4422</td>\n      <td>Economy</td>\n      <td>Key inflation gauge for the Fed rose 0.3% in M...</td>\n      <td>2023-04-28T12:34:13+00:00</td>\n      <td>Key inflation gauge for the Fed rose 0.3% in M...</td>\n      <td></td>\n      <td>NULL</td>\n    </tr>\n    <tr>\n      <th>49</th>\n      <td>cnbc</td>\n      <td>4423</td>\n      <td>Economy</td>\n      <td>Inflation rises just 0.1% in March and 5% from...</td>\n      <td>2023-04-12T12:31:43+00:00</td>\n      <td>Inflation rises 0.1% in March, less than expec...</td>\n      <td>* The consumer price index rose 0.1% in March ...</td>\n      <td>BULLETS</td>\n    </tr>\n  </tbody>\n</table>\n</div>"
     },
     "execution_count": 4,
     "metadata": {},
     "output_type": "execute_result"
    }
   ],
   "source": [
    "coref_data.loc[coref_data.source == \"cnbc\"].head()"
   ],
   "metadata": {
    "collapsed": false
   }
  },
  {
   "cell_type": "code",
   "execution_count": 5,
   "outputs": [
    {
     "data": {
      "text/plain": "      source      id     category  \\\n13716    nyt  113630         Well   \n13717    nyt  113631   En español   \n13718    nyt  113645  Real Estate   \n13719    nyt  113648  Real Estate   \n13720    nyt  113650  Real Estate   \n\n                                                   title  \\\n13716  Why Oral Hygiene Is Crucial to Your Overall He...   \n13717  ¿Cuánto les importa a los votantes la edad de ...   \n13718  How to Find the Right Broker for Selling Your ...   \n13719  My Landlord Lives Below Me and Hates Noise. Wh...   \n13720  The Ice Cream Truck Across the Street Is Makin...   \n\n                       published  \\\n13716  2023-04-06T10:36:14-04:00   \n13717  2023-04-28T07:30:06-04:00   \n13718  2023-04-08T10:00:05-04:00   \n13719  2023-04-15T05:00:10-04:00   \n13720  2023-04-29T05:00:12-04:00   \n\n                                                    body  \\\n13716  b'The inside of your mouth is the perfect plac...   \n13717  b'Muchos estadounidenses dicen que no quieren ...   \n13718  b'Q: I am planning to sell my condo in Harlem,...   \n13719  b'Q: My roommate and I live on the third floor...   \n13720  b'Q: We live in a co-op building opposite a sm...   \n\n                                                 summary summary_type  \n13716  Gum disease has been associated with a range o...        PLAIN  \n13717  Más allá de una crisis de salud o una equivoca...        PLAIN  \n13718  New York home sellers spend an average of thre...        PLAIN  \n13719  Establishing whether noise is legally excessiv...        PLAIN  \n13720  Truck operators, like all food vendors in the ...        PLAIN  ",
      "text/html": "<div>\n<style scoped>\n    .dataframe tbody tr th:only-of-type {\n        vertical-align: middle;\n    }\n\n    .dataframe tbody tr th {\n        vertical-align: top;\n    }\n\n    .dataframe thead th {\n        text-align: right;\n    }\n</style>\n<table border=\"1\" class=\"dataframe\">\n  <thead>\n    <tr style=\"text-align: right;\">\n      <th></th>\n      <th>source</th>\n      <th>id</th>\n      <th>category</th>\n      <th>title</th>\n      <th>published</th>\n      <th>body</th>\n      <th>summary</th>\n      <th>summary_type</th>\n    </tr>\n  </thead>\n  <tbody>\n    <tr>\n      <th>13716</th>\n      <td>nyt</td>\n      <td>113630</td>\n      <td>Well</td>\n      <td>Why Oral Hygiene Is Crucial to Your Overall He...</td>\n      <td>2023-04-06T10:36:14-04:00</td>\n      <td>b'The inside of your mouth is the perfect plac...</td>\n      <td>Gum disease has been associated with a range o...</td>\n      <td>PLAIN</td>\n    </tr>\n    <tr>\n      <th>13717</th>\n      <td>nyt</td>\n      <td>113631</td>\n      <td>En español</td>\n      <td>¿Cuánto les importa a los votantes la edad de ...</td>\n      <td>2023-04-28T07:30:06-04:00</td>\n      <td>b'Muchos estadounidenses dicen que no quieren ...</td>\n      <td>Más allá de una crisis de salud o una equivoca...</td>\n      <td>PLAIN</td>\n    </tr>\n    <tr>\n      <th>13718</th>\n      <td>nyt</td>\n      <td>113645</td>\n      <td>Real Estate</td>\n      <td>How to Find the Right Broker for Selling Your ...</td>\n      <td>2023-04-08T10:00:05-04:00</td>\n      <td>b'Q: I am planning to sell my condo in Harlem,...</td>\n      <td>New York home sellers spend an average of thre...</td>\n      <td>PLAIN</td>\n    </tr>\n    <tr>\n      <th>13719</th>\n      <td>nyt</td>\n      <td>113648</td>\n      <td>Real Estate</td>\n      <td>My Landlord Lives Below Me and Hates Noise. Wh...</td>\n      <td>2023-04-15T05:00:10-04:00</td>\n      <td>b'Q: My roommate and I live on the third floor...</td>\n      <td>Establishing whether noise is legally excessiv...</td>\n      <td>PLAIN</td>\n    </tr>\n    <tr>\n      <th>13720</th>\n      <td>nyt</td>\n      <td>113650</td>\n      <td>Real Estate</td>\n      <td>The Ice Cream Truck Across the Street Is Makin...</td>\n      <td>2023-04-29T05:00:12-04:00</td>\n      <td>b'Q: We live in a co-op building opposite a sm...</td>\n      <td>Truck operators, like all food vendors in the ...</td>\n      <td>PLAIN</td>\n    </tr>\n  </tbody>\n</table>\n</div>"
     },
     "execution_count": 5,
     "metadata": {},
     "output_type": "execute_result"
    }
   ],
   "source": [
    "coref_data.loc[coref_data.source == \"nyt\"].head()"
   ],
   "metadata": {
    "collapsed": false
   }
  },
  {
   "cell_type": "code",
   "execution_count": 6,
   "outputs": [],
   "source": [
    "sentence_splitter = spacy.load(\"en_core_web_md\", enable=[\"senter\"], config={\"nlp\": {\"disabled\": []}})\n",
    "ner_recog = spacy.load(\"en_core_web_md\", enable=[\"ner\"])\n",
    "\n",
    "\n",
    "def strip_reuter_intro(text):\n",
    "    text_chunks = text.split(\" - \")\n",
    "    return \" - \".join(text_chunks[1:]).strip()\n",
    "\n",
    "\n",
    "def extract_entities(text):\n",
    "    sentences = [s.text for s in sentence_splitter(text).sents]\n",
    "    ner_results = ner_recog.pipe(sentences)\n",
    "    entities = []\n",
    "    for doc in ner_results:\n",
    "        for ent in doc.ents:\n",
    "            entities.append((ent.label_, ent.text))\n",
    "    return entities"
   ],
   "metadata": {
    "collapsed": false
   }
  },
  {
   "cell_type": "code",
   "execution_count": 7,
   "outputs": [
    {
     "name": "stderr",
     "output_type": "stream",
     "text": [
      "100%|██████████| 14646/14646 [02:25<00:00, 100.69it/s]\n"
     ]
    },
    {
     "data": {
      "text/plain": "      id                                           entities\n0  43869  [(GPE, Taiwan), (DATE, the first quarter), (OR...\n1  43881  [(ORG, Constellation Brands Inc), (LOC, STZ.N)...\n2  43904  [(GPE, Germany), (CARDINAL, 22UAy), (ORG, DE),...\n3  43912  [(ORG, The European Union’s), (CARDINAL, two),...\n4  43916  [(GPE, Italy), (GPE, BRUSSELS), (GPE, BRUSSELS...",
      "text/html": "<div>\n<style scoped>\n    .dataframe tbody tr th:only-of-type {\n        vertical-align: middle;\n    }\n\n    .dataframe tbody tr th {\n        vertical-align: top;\n    }\n\n    .dataframe thead th {\n        text-align: right;\n    }\n</style>\n<table border=\"1\" class=\"dataframe\">\n  <thead>\n    <tr style=\"text-align: right;\">\n      <th></th>\n      <th>id</th>\n      <th>entities</th>\n    </tr>\n  </thead>\n  <tbody>\n    <tr>\n      <th>0</th>\n      <td>43869</td>\n      <td>[(GPE, Taiwan), (DATE, the first quarter), (OR...</td>\n    </tr>\n    <tr>\n      <th>1</th>\n      <td>43881</td>\n      <td>[(ORG, Constellation Brands Inc), (LOC, STZ.N)...</td>\n    </tr>\n    <tr>\n      <th>2</th>\n      <td>43904</td>\n      <td>[(GPE, Germany), (CARDINAL, 22UAy), (ORG, DE),...</td>\n    </tr>\n    <tr>\n      <th>3</th>\n      <td>43912</td>\n      <td>[(ORG, The European Union’s), (CARDINAL, two),...</td>\n    </tr>\n    <tr>\n      <th>4</th>\n      <td>43916</td>\n      <td>[(GPE, Italy), (GPE, BRUSSELS), (GPE, BRUSSELS...</td>\n    </tr>\n  </tbody>\n</table>\n</div>"
     },
     "execution_count": 7,
     "metadata": {},
     "output_type": "execute_result"
    }
   ],
   "source": [
    "coref_data[\"body\"] = coref_data.apply(lambda row: strip_reuter_intro(row[\"body\"] if row[\"source\"] == \"reuters\" else row[\"body\"]), axis=1)\n",
    "coref_data[\"entities\"] = coref_data.body.progress_apply(extract_entities)\n",
    "coref_data_ents = coref_data[[\"id\", \"entities\"]]\n",
    "coref_data_ents.head()"
   ],
   "metadata": {
    "collapsed": false
   }
  },
  {
   "cell_type": "code",
   "execution_count": 11,
   "outputs": [
    {
     "data": {
      "text/plain": "  entity_type        entity_name\n0         GPE             Taiwan\n1        DATE  the first quarter\n2         ORG            Reuters\n3        DATE          Wednesday\n4     PERCENT              1.25%",
      "text/html": "<div>\n<style scoped>\n    .dataframe tbody tr th:only-of-type {\n        vertical-align: middle;\n    }\n\n    .dataframe tbody tr th {\n        vertical-align: top;\n    }\n\n    .dataframe thead th {\n        text-align: right;\n    }\n</style>\n<table border=\"1\" class=\"dataframe\">\n  <thead>\n    <tr style=\"text-align: right;\">\n      <th></th>\n      <th>entity_type</th>\n      <th>entity_name</th>\n    </tr>\n  </thead>\n  <tbody>\n    <tr>\n      <th>0</th>\n      <td>GPE</td>\n      <td>Taiwan</td>\n    </tr>\n    <tr>\n      <th>1</th>\n      <td>DATE</td>\n      <td>the first quarter</td>\n    </tr>\n    <tr>\n      <th>2</th>\n      <td>ORG</td>\n      <td>Reuters</td>\n    </tr>\n    <tr>\n      <th>3</th>\n      <td>DATE</td>\n      <td>Wednesday</td>\n    </tr>\n    <tr>\n      <th>4</th>\n      <td>PERCENT</td>\n      <td>1.25%</td>\n    </tr>\n  </tbody>\n</table>\n</div>"
     },
     "execution_count": 11,
     "metadata": {},
     "output_type": "execute_result"
    }
   ],
   "source": [
    "coref_data_exploded = coref_data_ents.explode(\"entities\").reset_index(drop=True)\n",
    "coref_data_exploded[[\"entity_type\", \"entity_name\"]] = pd.DataFrame(coref_data_exploded.entities.tolist())\n",
    "coref_data_exploded = coref_data_exploded[[\"entity_type\", \"entity_name\"]]\n",
    "coref_data_exploded.head()"
   ],
   "metadata": {
    "collapsed": false
   }
  },
  {
   "cell_type": "code",
   "execution_count": 12,
   "outputs": [
    {
     "data": {
      "text/plain": "             entity_name\nentity_type             \nCARDINAL           56641\nDATE              149063\nEVENT               2402\nFAC                 2471\nGPE               181694\nLANGUAGE             274\nLAW                 1694\nLOC                16306\nMONEY              31823\nNORP               67576\nORDINAL            13060\nORG               261495\nPERCENT            31178\nPERSON            139197\nPRODUCT             6249\nQUANTITY            7424\nTIME                4564\nWORK_OF_ART         4247",
      "text/html": "<div>\n<style scoped>\n    .dataframe tbody tr th:only-of-type {\n        vertical-align: middle;\n    }\n\n    .dataframe tbody tr th {\n        vertical-align: top;\n    }\n\n    .dataframe thead th {\n        text-align: right;\n    }\n</style>\n<table border=\"1\" class=\"dataframe\">\n  <thead>\n    <tr style=\"text-align: right;\">\n      <th></th>\n      <th>entity_name</th>\n    </tr>\n    <tr>\n      <th>entity_type</th>\n      <th></th>\n    </tr>\n  </thead>\n  <tbody>\n    <tr>\n      <th>CARDINAL</th>\n      <td>56641</td>\n    </tr>\n    <tr>\n      <th>DATE</th>\n      <td>149063</td>\n    </tr>\n    <tr>\n      <th>EVENT</th>\n      <td>2402</td>\n    </tr>\n    <tr>\n      <th>FAC</th>\n      <td>2471</td>\n    </tr>\n    <tr>\n      <th>GPE</th>\n      <td>181694</td>\n    </tr>\n    <tr>\n      <th>LANGUAGE</th>\n      <td>274</td>\n    </tr>\n    <tr>\n      <th>LAW</th>\n      <td>1694</td>\n    </tr>\n    <tr>\n      <th>LOC</th>\n      <td>16306</td>\n    </tr>\n    <tr>\n      <th>MONEY</th>\n      <td>31823</td>\n    </tr>\n    <tr>\n      <th>NORP</th>\n      <td>67576</td>\n    </tr>\n    <tr>\n      <th>ORDINAL</th>\n      <td>13060</td>\n    </tr>\n    <tr>\n      <th>ORG</th>\n      <td>261495</td>\n    </tr>\n    <tr>\n      <th>PERCENT</th>\n      <td>31178</td>\n    </tr>\n    <tr>\n      <th>PERSON</th>\n      <td>139197</td>\n    </tr>\n    <tr>\n      <th>PRODUCT</th>\n      <td>6249</td>\n    </tr>\n    <tr>\n      <th>QUANTITY</th>\n      <td>7424</td>\n    </tr>\n    <tr>\n      <th>TIME</th>\n      <td>4564</td>\n    </tr>\n    <tr>\n      <th>WORK_OF_ART</th>\n      <td>4247</td>\n    </tr>\n  </tbody>\n</table>\n</div>"
     },
     "execution_count": 12,
     "metadata": {},
     "output_type": "execute_result"
    }
   ],
   "source": [
    "coref_ner_count = coref_data_exploded.groupby(\"entity_type\").count()\n",
    "coref_ner_count"
   ],
   "metadata": {
    "collapsed": false
   }
  },
  {
   "cell_type": "code",
   "execution_count": 25,
   "outputs": [
    {
     "data": {
      "text/plain": "       entity_type                                entity_name\n2              ORG                                    Reuters\n7              ORG                                    Reuters\n18             ORG                                        DBS\n25             ORG                                  Apple Inc\n26             ORG  Taiwan Semiconductor Manufacturing Co Ltd\n...            ...                                        ...\n978877         ORG                                     FOXA.O\n978880         ORG                                   Fox Corp\n978881         ORG                                     FOXA.O\n978883         ORG                      Exclusive -- Fox Corp\n978884         ORG                                     FOXA.O\n\n[261495 rows x 2 columns]",
      "text/html": "<div>\n<style scoped>\n    .dataframe tbody tr th:only-of-type {\n        vertical-align: middle;\n    }\n\n    .dataframe tbody tr th {\n        vertical-align: top;\n    }\n\n    .dataframe thead th {\n        text-align: right;\n    }\n</style>\n<table border=\"1\" class=\"dataframe\">\n  <thead>\n    <tr style=\"text-align: right;\">\n      <th></th>\n      <th>entity_type</th>\n      <th>entity_name</th>\n    </tr>\n  </thead>\n  <tbody>\n    <tr>\n      <th>2</th>\n      <td>ORG</td>\n      <td>Reuters</td>\n    </tr>\n    <tr>\n      <th>7</th>\n      <td>ORG</td>\n      <td>Reuters</td>\n    </tr>\n    <tr>\n      <th>18</th>\n      <td>ORG</td>\n      <td>DBS</td>\n    </tr>\n    <tr>\n      <th>25</th>\n      <td>ORG</td>\n      <td>Apple Inc</td>\n    </tr>\n    <tr>\n      <th>26</th>\n      <td>ORG</td>\n      <td>Taiwan Semiconductor Manufacturing Co Ltd</td>\n    </tr>\n    <tr>\n      <th>...</th>\n      <td>...</td>\n      <td>...</td>\n    </tr>\n    <tr>\n      <th>978877</th>\n      <td>ORG</td>\n      <td>FOXA.O</td>\n    </tr>\n    <tr>\n      <th>978880</th>\n      <td>ORG</td>\n      <td>Fox Corp</td>\n    </tr>\n    <tr>\n      <th>978881</th>\n      <td>ORG</td>\n      <td>FOXA.O</td>\n    </tr>\n    <tr>\n      <th>978883</th>\n      <td>ORG</td>\n      <td>Exclusive -- Fox Corp</td>\n    </tr>\n    <tr>\n      <th>978884</th>\n      <td>ORG</td>\n      <td>FOXA.O</td>\n    </tr>\n  </tbody>\n</table>\n<p>261495 rows × 2 columns</p>\n</div>"
     },
     "execution_count": 25,
     "metadata": {},
     "output_type": "execute_result"
    }
   ],
   "source": [
    "coref_data_exploded.loc[coref_data_exploded.entity_type == \"ORG\"]"
   ],
   "metadata": {
    "collapsed": false
   }
  },
  {
   "cell_type": "code",
   "execution_count": null,
   "outputs": [],
   "source": [],
   "metadata": {
    "collapsed": false
   }
  }
 ],
 "metadata": {
  "kernelspec": {
   "display_name": "Python 3",
   "language": "python",
   "name": "python3"
  },
  "language_info": {
   "codemirror_mode": {
    "name": "ipython",
    "version": 2
   },
   "file_extension": ".py",
   "mimetype": "text/x-python",
   "name": "python",
   "nbconvert_exporter": "python",
   "pygments_lexer": "ipython2",
   "version": "2.7.6"
  }
 },
 "nbformat": 4,
 "nbformat_minor": 0
}
