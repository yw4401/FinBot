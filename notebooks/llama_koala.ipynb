{
 "cells": [
  {
   "cell_type": "code",
   "execution_count": 1,
   "id": "4346817c-f0a7-4bcf-8ae8-f04694dce277",
   "metadata": {},
   "outputs": [],
   "source": [
    "from transformers import LlamaForCausalLM, LlamaTokenizer\n",
    "import torch"
   ]
  },
  {
   "cell_type": "code",
   "execution_count": 2,
   "id": "d02808b0-f749-4246-ae04-44d0d24c554f",
   "metadata": {},
   "outputs": [
    {
     "data": {
      "application/vnd.jupyter.widget-view+json": {
       "model_id": "de3f3d69bdad45c8a776505487887285",
       "version_major": 2,
       "version_minor": 0
      },
      "text/plain": [
       "Loading checkpoint shards:   0%|          | 0/2 [00:00<?, ?it/s]"
      ]
     },
     "metadata": {},
     "output_type": "display_data"
    }
   ],
   "source": [
    "tokenizer = LlamaTokenizer.from_pretrained(\"/home/jupyter/koala_transformer\", device_map=\"auto\", padding_side=\"left\", truncation_side=\"right\", add_bos_token=False)\n",
    "model = LlamaForCausalLM.from_pretrained(\"/home/jupyter/koala_transformer\", torch_dtype=torch.float16, device_map=\"auto\", cache_dir=\"/home/jupyter/data/transformers\")"
   ]
  },
  {
   "cell_type": "code",
   "execution_count": 12,
   "id": "b3f7a6ac-0c37-41b5-9fde-74ea8a86e1a2",
   "metadata": {},
   "outputs": [],
   "source": [
    "def generate(prompt, max_new_tokens=1024):\n",
    "    \n",
    "    template = \"BEGINNING OF CONVERSATION: USER: %s \"\n",
    "    actual_input = template % prompt\n",
    "    \n",
    "    inputs = tokenizer(template % prompt + \"GPT:\", return_tensors=\"pt\").to(\"cuda\")\n",
    "    outputs = model.generate(**inputs, max_new_tokens=max_new_tokens, \n",
    "                             do_sample=True, \n",
    "                             top_p=1.0,\n",
    "                             num_beams=1,\n",
    "                             top_k=50,\n",
    "                             temperature=0.8)\n",
    "    result = tokenizer.batch_decode(outputs, skip_special_tokens=True, spaces_between_special_tokens=False)\n",
    "    \n",
    "    return result[0][len(actual_input):]"
   ]
  },
  {
   "cell_type": "code",
   "execution_count": 13,
   "id": "4b061f7e-2e2f-48eb-99dd-6c7afbd501d4",
   "metadata": {},
   "outputs": [
    {
     "name": "stdout",
     "output_type": "stream",
     "text": [
      "GPT: A BLT (bacon, lettuce, and tomato) sandwich is a classic lunchtime favorite made with bacon, lettuce, and tomato on a slice of bread. Here's how to make it:\n",
      "\n",
      "Ingredients:\n",
      "\n",
      "*   8 strips of bacon\n",
      "*   1/2 head of lettuce\n",
      "*   1 ripe tomato\n",
      "*   Bread\n",
      "*   Mayo\n",
      "*   Mustard\n",
      "*   Salt\n",
      "*   Pepper\n",
      "*   Condiments (optional)\n",
      "*   Vegetables (optional)\n",
      "\n",
      "Instructions:\n",
      "\n",
      "1.   Preheat your oven to 400°F (200°C). Line a baking sheet with parchment paper and arrange the bacon on the sheet. Bake the bacon for 15-20 minutes, turning it over halfway through cooking, until it is cooked to your liking. Remove the bacon from the oven and let it cool.\n",
      "2.   Wash the lettuce, shake it dry, and tear it into bite-sized pieces.\n",
      "3.   Slice the tomato in half and remove the seeds and juice.\n",
      "4.   Spread the mayonnaise on the bread.\n",
      "5.   Lay the lettuce over the bread, leaving a 1-inch border at the top.\n",
      "6.   Add the tomato slices on top of the lettuce.\n",
      "7.   Spread the mayonnaise and mustard on the top of the tomato.\n",
      "8.   Sprinkle salt and pepper on top.\n",
      "9.   Condiment (if desired): Add any condiments you like, such as ketchup, mustard, or other spreads.\n",
      "10.   Serve and enjoy!\n"
     ]
    }
   ],
   "source": [
    "print(generate(\"How to make a BLT?\"))"
   ]
  },
  {
   "cell_type": "code",
   "execution_count": 15,
   "id": "755c8926-dddf-4399-85bb-c65eb72310f1",
   "metadata": {},
   "outputs": [
    {
     "name": "stdout",
     "output_type": "stream",
     "text": [
      "GPT: Shrimp tempura is a simple and delicious Japanese dish that is made with thin pieces of shrimp, battered in a light flour mixture, and deep-fried until crispy and golden. Here is how to make shrimp tempura:\n",
      "\n",
      "Ingredients:\n",
      "\n",
      "*   1 large egg\n",
      "*   1 cup all-purpose flour\n",
      "*   1 cup ice water\n",
      "*   1/4 cup cornstarch\n",
      "*   1/2 cup soda water\n",
      "*   1/4 cup vegetable oil\n",
      "*   1/2 cup panko breadcrumbs\n",
      "*   1/2 cup cornstarch\n",
      "*   1/4 cup sugar\n",
      "*   1/4 cup soy sauce\n",
      "*   1/4 cup rice vinegar\n",
      "*   Salt, to taste\n",
      "*   2 shrimp, peeled and deveined\n",
      "*   1/2 cup vegetable oil, for frying\n",
      "\n",
      "Instructions:\n",
      "\n",
      "1.   In a medium bowl, beat the egg.\n",
      "2.   In a separate bowl, combine the flour, ice water, cornstarch, soda water, oil, panko breadcrumbs, cornstarch, sugar, soy sauce, and rice vinegar.\n",
      "3.   In a deep-fryer or a large pan, heat the oil over medium heat. Add the shrimp and cook for 2-3 minutes, or until the shrimp are lightly browned on the outside. Remove the shrimp from the oil and drain on a plate lined with paper towels.\n",
      "4.   In the same fryer or pan, heat the oil over medium heat. Add the vegetable oil and stir to coat the bottom of the pan. Add the flour mixture and stir to coat the bottom of the pan. Cook for 1-2 minutes, or until the mixture is lightly browned.\n",
      "5.   On a plate, combine the shrimp and the flour mixture.\n",
      "6.   In a small bowl, whisk the egg.\n",
      "7.   In a separate small bowl, combine the cornstarch and the vegetable oil.\n",
      "8.   In a small bowl, combine the soy sauce and the rice vinegar.\n",
      "9.   In a small bowl, combine the sugar and the vegetable oil.\n",
      "10.   Slowly drizzle the egg mixture over the shrimp and flour mixture, mixing to coat evenly.\n",
      "11.   Toss the shrimp and flour mixture in the cornstarch mixture.\n",
      "12.   Toss the shrimp in the soy sauce mixture.\n",
      "13.   Toss the shrimp in the rice vinegar mixture.\n",
      "14.   Serve the shrimp tempura immediately.\n",
      "\n",
      "Note: The exact amounts of the ingredients can be adjusted based on personal preference. The key is to achieve a light, crispy batter on the shrimp, and to use a good balance of flour, rice vinegar, soy sauce, and sugar to achieve that delicate balance.\n"
     ]
    }
   ],
   "source": [
    "print(generate(\"How to make shrimp tempura?\"))"
   ]
  },
  {
   "cell_type": "code",
   "execution_count": 14,
   "id": "1fd205f5-8e6d-4050-9dba-4fc989e1224f",
   "metadata": {},
   "outputs": [
    {
     "name": "stdout",
     "output_type": "stream",
     "text": [
      "GPT: According to the article, biopharmaceutical companies are focused on Alzheimer's disease treatment stocks, which aim to alleviate symptoms and improve the quality of life for patients. There is no cure for Alzheimer's disease, and death is often the result for patients as the ailment devastates the brain. However, drug therapies approved by the US Food and Drug Administration (FDA) can help manage symptoms and improve quality of life.\n",
      "\n",
      "Biogen, Intra-Cellular Therapies, and Axsome Therapeutics are three biopharmaceutical companies that are currently developing and commercializing therapies for Alzheimer's disease. Biogen's drug Aduhelm faced criticism over its fast-track approval process and high cost to patients, while Intra-Cellular Therapies' ITI-1284-ODT-SL is in Phase 1 clinical trials for agitation in patients with probable Alzheimer's disease. Axsome Therapeutics' AXS-05 is in Phase 3 clinical studies for Alzheimer's disease agitation and has breakthrough therapy designation from the FDA.\n"
     ]
    }
   ],
   "source": [
    "article = \"\"\"Alzheimer’s disease treatment stocks are focused on Alzheimer’s disease, a degenerative brain disorder that results in declining memory and thinking skills and typically affects people in their mid-60s.According to the Alzheimer’s Association, neurons in other areas of the brain also begin to deteriorate as Alzheimer’s disease gets worse, resulting in the loss of basic human functions and overall cognitive impairment.This condition affects more than 6.7 million people in the US alone; it’s also the most common form of dementia and is the sixth leading cause of death in America. Treatments are available to alleviate Alzheimer’s disease symptoms, but because they do not affect the underlying causes of this neurodegenerative disease, they’re only a bandaid solution.Therapies approved by the US Food and Drug Administration (FDA) include: rivastigmine by Novartis (NYSE:NVS); galantamine, developed by Janssen, a division of Johnson & Johnson (NYSE:JNJ); donepezil by Pfizer (NYSE:PFE); and AbbVie's (NYSE:ABBV) memantine.Since there is no cure for Alzheimer’s disease, death is often the result for patients as the ailment devastates the brain. And unfortunately, Alzheimer’s disease is rising in prevalence — a report from Research and Markets suggests that the global Alzheimer’s disease treatment market will be worth a significant US$9.64 billion by 2028 as more patients need treatment, and as more investments are made in biomarkers for diagnosis and drug development.Here the Investing News Network takes a look at a few of the biggest Alzheimer’s disease treatment stocks on the NASDAQ. Companies are listed in order of market cap from largest to smallest, and all data was current as of April 19, 2023.. Biogen (NASDAQ:BIIB) Company Profile.Market cap: US$42.27 billion; current share price: US$292.80.Massachusetts-based Biogen, a pioneer in the field of neuroscience, is developing, manufacturing and marketing therapies aimed at treating serious neurological, neurodegenerative, autoimmune and rare diseases.The global biotechnology firm’s research areas include Alzheimer's disease and dementia. However, Biogen’s launch of its FDA-approved Alzheimer’s disease drug Aduhelm faced a lot of pushback in 2022, both from the market and from Congress, over what was viewed as a hasty fast-track approval process and exorbitant costs to patients.In early 2023, Biogen is looking to give it another go, this time with LEQEMBI (lecanemab-irmb) for the treatment of Alzheimer's disease, which the FDA has approved under its accelerated approval pathway. The drug was jointly developed by Biogen and Tokyo-based pharmaceutical company Eisai (OTC Pink:ESALF,TSE:4523). Intra-Cellular Therapies (NASDAQ:ITCI).Company Profile.Market cap: US$5.96 billion; current share price: US$62.59.As its name suggests, biopharma company Intra-Cellular Therapies is taking an intracellular approach to developing therapies for patients with complex psychiatric and neurologic diseases, including Parkinson’s disease and Alzheimer’s disease.Intra-Cellular Therapies is currently evaluating ITI-1284-ODT-SL, a deuterated form of lumateperone that comes in an oral disintegrating tablet; ITI-1284-ODT-SL is in Phase 1 studies, including drug-drug interaction studies. The company expects to commence Phase 2 clinical trials in agitation in patients with probable Alzheimer’s disease in 2023. 3. Axsome Therapeutics (NASDAQ:AXSM).Company Profile.Market cap: US$3.16 billion; current share price: US$72.64.New York-based Axsome Therapeutics is developing and commercializing a portfolio of novel therapies for disorders of the central nervous system with limited treatment options. Products currently on the market from the biopharmaceutical company include Auvelity, a rapid-acting oral antidepressant for the treatment of major depressive disorder; and Sunosi, a once-daily prescription medicine to treat excessive daytime sleepiness due to obstructive sleep apnea or narcolepsy.Axsome’s product pipeline includes AXS-05, a NMDA receptor antagonist with multimodal activity. It has breakthrough therapy designation from the FDA and is currently in Phase 3 clinical studies for the treatment of Alzheimer’s disease agitation. \"\"\"\n",
    "\n",
    "response = generate(\"You are an equity researcher that will advise personal investors on their portfolio. Summarize the following article. Focus on the information that can impact the investment portfolio or the investment decision.\\n\" + article, max_new_tokens=2048)\n",
    "print(response)"
   ]
  },
  {
   "cell_type": "code",
   "execution_count": null,
   "id": "5d685a7e-7614-4383-812c-beecf641a969",
   "metadata": {},
   "outputs": [],
   "source": []
  }
 ],
 "metadata": {
  "environment": {
   "kernel": "python3",
   "name": "common-cu110.m107",
   "type": "gcloud",
   "uri": "gcr.io/deeplearning-platform-release/base-cu110:m107"
  },
  "kernelspec": {
   "display_name": "Python 3",
   "language": "python",
   "name": "python3"
  },
  "language_info": {
   "codemirror_mode": {
    "name": "ipython",
    "version": 3
   },
   "file_extension": ".py",
   "mimetype": "text/x-python",
   "name": "python",
   "nbconvert_exporter": "python",
   "pygments_lexer": "ipython3",
   "version": "3.7.12"
  }
 },
 "nbformat": 4,
 "nbformat_minor": 5
}
