{
 "cells": [
  {
   "cell_type": "code",
   "execution_count": 1,
   "id": "1db892a6-eb95-4866-9fa6-753fc297007c",
   "metadata": {},
   "outputs": [],
   "source": [
    "import faiss\n",
    "import pandas as pd\n",
    "import numpy as np\n",
    "from sentence_transformers import SentenceTransformer"
   ]
  },
  {
   "cell_type": "code",
   "execution_count": 2,
   "id": "e1f4c0d0-ccd6-459a-9688-d33255526071",
   "metadata": {},
   "outputs": [
    {
     "data": {
      "text/html": [
       "<div>\n",
       "<style scoped>\n",
       "    .dataframe tbody tr th:only-of-type {\n",
       "        vertical-align: middle;\n",
       "    }\n",
       "\n",
       "    .dataframe tbody tr th {\n",
       "        vertical-align: top;\n",
       "    }\n",
       "\n",
       "    .dataframe thead th {\n",
       "        text-align: right;\n",
       "    }\n",
       "</style>\n",
       "<table border=\"1\" class=\"dataframe\">\n",
       "  <thead>\n",
       "    <tr style=\"text-align: right;\">\n",
       "      <th></th>\n",
       "      <th>topics</th>\n",
       "      <th>summary</th>\n",
       "    </tr>\n",
       "  </thead>\n",
       "  <tbody>\n",
       "    <tr>\n",
       "      <th>0</th>\n",
       "      <td>0</td>\n",
       "      <td>The news articles revolve around the advanceme...</td>\n",
       "    </tr>\n",
       "    <tr>\n",
       "      <th>1</th>\n",
       "      <td>1</td>\n",
       "      <td>The news articles cover the fluctuations in oi...</td>\n",
       "    </tr>\n",
       "    <tr>\n",
       "      <th>2</th>\n",
       "      <td>2</td>\n",
       "      <td>The news articles revolve around the security ...</td>\n",
       "    </tr>\n",
       "    <tr>\n",
       "      <th>3</th>\n",
       "      <td>3</td>\n",
       "      <td>The Federal Reserve's interest rate decisions ...</td>\n",
       "    </tr>\n",
       "    <tr>\n",
       "      <th>4</th>\n",
       "      <td>4</td>\n",
       "      <td>The news articles cover various aspects of the...</td>\n",
       "    </tr>\n",
       "  </tbody>\n",
       "</table>\n",
       "</div>"
      ],
      "text/plain": [
       "   topics                                            summary\n",
       "0       0  The news articles revolve around the advanceme...\n",
       "1       1  The news articles cover the fluctuations in oi...\n",
       "2       2  The news articles revolve around the security ...\n",
       "3       3  The Federal Reserve's interest rate decisions ...\n",
       "4       4  The news articles cover various aspects of the..."
      ]
     },
     "execution_count": 2,
     "metadata": {},
     "output_type": "execute_result"
    }
   ],
   "source": [
    "summarizer_type = \"openai\"\n",
    "topic_sum_df = pd.read_parquet(\"gs://scraped-news-article-data-null/2023-topics-%s.parquet\" % summarizer_type)\n",
    "topic_sum_df.head()"
   ]
  },
  {
   "cell_type": "code",
   "execution_count": 3,
   "id": "618dcc0d-bacd-422c-af95-e97e883e6e47",
   "metadata": {},
   "outputs": [
    {
     "data": {
      "text/html": [
       "<div>\n",
       "<style scoped>\n",
       "    .dataframe tbody tr th:only-of-type {\n",
       "        vertical-align: middle;\n",
       "    }\n",
       "\n",
       "    .dataframe tbody tr th {\n",
       "        vertical-align: top;\n",
       "    }\n",
       "\n",
       "    .dataframe thead th {\n",
       "        text-align: right;\n",
       "    }\n",
       "</style>\n",
       "<table border=\"1\" class=\"dataframe\">\n",
       "  <thead>\n",
       "    <tr style=\"text-align: right;\">\n",
       "      <th></th>\n",
       "      <th>topics</th>\n",
       "      <th>summary</th>\n",
       "      <th>vector</th>\n",
       "    </tr>\n",
       "  </thead>\n",
       "  <tbody>\n",
       "    <tr>\n",
       "      <th>0</th>\n",
       "      <td>0</td>\n",
       "      <td>The news articles revolve around the advanceme...</td>\n",
       "      <td>[-0.07444057, -0.041888542, 0.019037506, 0.036...</td>\n",
       "    </tr>\n",
       "    <tr>\n",
       "      <th>1</th>\n",
       "      <td>1</td>\n",
       "      <td>The news articles cover the fluctuations in oi...</td>\n",
       "      <td>[-0.02794887, -0.0540836, 0.15111348, 0.131706...</td>\n",
       "    </tr>\n",
       "    <tr>\n",
       "      <th>2</th>\n",
       "      <td>2</td>\n",
       "      <td>The news articles revolve around the security ...</td>\n",
       "      <td>[-0.07545868, 0.07306916, 0.0052351127, -0.062...</td>\n",
       "    </tr>\n",
       "    <tr>\n",
       "      <th>3</th>\n",
       "      <td>3</td>\n",
       "      <td>The Federal Reserve's interest rate decisions ...</td>\n",
       "      <td>[-0.008949646, 0.0005092344, -0.064278044, 0.0...</td>\n",
       "    </tr>\n",
       "    <tr>\n",
       "      <th>4</th>\n",
       "      <td>4</td>\n",
       "      <td>The news articles cover various aspects of the...</td>\n",
       "      <td>[-0.018509006, 0.01599976, 0.02875276, 0.11734...</td>\n",
       "    </tr>\n",
       "  </tbody>\n",
       "</table>\n",
       "</div>"
      ],
      "text/plain": [
       "   topics                                            summary   \n",
       "0       0  The news articles revolve around the advanceme...  \\\n",
       "1       1  The news articles cover the fluctuations in oi...   \n",
       "2       2  The news articles revolve around the security ...   \n",
       "3       3  The Federal Reserve's interest rate decisions ...   \n",
       "4       4  The news articles cover various aspects of the...   \n",
       "\n",
       "                                              vector  \n",
       "0  [-0.07444057, -0.041888542, 0.019037506, 0.036...  \n",
       "1  [-0.02794887, -0.0540836, 0.15111348, 0.131706...  \n",
       "2  [-0.07545868, 0.07306916, 0.0052351127, -0.062...  \n",
       "3  [-0.008949646, 0.0005092344, -0.064278044, 0.0...  \n",
       "4  [-0.018509006, 0.01599976, 0.02875276, 0.11734...  "
      ]
     },
     "execution_count": 3,
     "metadata": {},
     "output_type": "execute_result"
    }
   ],
   "source": [
    "model = SentenceTransformer('all-MiniLM-L6-v2')\n",
    "\n",
    "\n",
    "def embed_summary(summary):\n",
    "    return model.encode(summary)\n",
    "\n",
    "\n",
    "topic_sum_df[\"vector\"] = topic_sum_df[\"summary\"].apply(embed_summary)\n",
    "topic_sum_df.head()"
   ]
  },
  {
   "cell_type": "code",
   "execution_count": 4,
   "id": "0165dbc9-5f15-4674-ad36-d87121363e69",
   "metadata": {},
   "outputs": [
    {
     "data": {
      "text/plain": [
       "(1564, 384)"
      ]
     },
     "execution_count": 4,
     "metadata": {},
     "output_type": "execute_result"
    }
   ],
   "source": [
    "vectors = np.array(topic_sum_df.vector.to_list() )\n",
    "vectors.shape"
   ]
  },
  {
   "cell_type": "code",
   "execution_count": 5,
   "id": "df6ba6e4-1b76-4602-9bfa-59b2d07eef6d",
   "metadata": {},
   "outputs": [],
   "source": [
    "index = faiss.index_factory(len(topic_sum_df[\"vector\"].iloc[0]), \"IDMap,Flat\")\n",
    "index.add_with_ids(vectors, np.array(topic_sum_df.topics.to_list()))"
   ]
  },
  {
   "cell_type": "code",
   "execution_count": 6,
   "id": "eaeb98b3-3927-4022-80b3-aa83b2741d6a",
   "metadata": {},
   "outputs": [],
   "source": [
    "index_file = \"/home/jupyter/faiss_topic.index\"\n",
    "\n",
    "\n",
    "faiss.write_index(index, index_file)"
   ]
  },
  {
   "cell_type": "code",
   "execution_count": 7,
   "id": "28028aef-965f-464a-9702-4931449c1ffd",
   "metadata": {},
   "outputs": [],
   "source": [
    "index = faiss.read_index(index_file)"
   ]
  },
  {
   "cell_type": "code",
   "execution_count": 8,
   "id": "1af1c28e-2a9e-48ba-8196-ec26a3132ce9",
   "metadata": {},
   "outputs": [],
   "source": [
    "query = \"artificial intelligence\"\n",
    "vector_query = np.array(model.encode(query))"
   ]
  },
  {
   "cell_type": "code",
   "execution_count": 9,
   "id": "df5f660e-250e-4edb-a8d5-abebdd77e7b7",
   "metadata": {},
   "outputs": [],
   "source": [
    "D, I = index.search(np.reshape(vector_query, (1, len(vector_query))), k=3)"
   ]
  },
  {
   "cell_type": "code",
   "execution_count": 10,
   "id": "19211551-84c4-4791-883e-e8a51cb74f2c",
   "metadata": {},
   "outputs": [
    {
     "data": {
      "text/plain": [
       "array([  0,  59, 438])"
      ]
     },
     "execution_count": 10,
     "metadata": {},
     "output_type": "execute_result"
    }
   ],
   "source": [
    "I[0]"
   ]
  },
  {
   "cell_type": "code",
   "execution_count": 11,
   "id": "5a2aa4d9-4c9d-46d1-97d7-cffd9ac36da5",
   "metadata": {},
   "outputs": [
    {
     "data": {
      "text/plain": [
       "['The news articles revolve around the advancements and competition in the field of Artificial Intelligence (AI) and its integration into various industries. Companies like Google, Microsoft, OpenAI, and others are developing and launching AI-powered products like chatbots, virtual assistants, and generative AI. The articles also discuss the potential risks and concerns associated with AI.',\n",
       " 'The articles discuss various aspects of the artificial intelligence (AI) industry, including funding for AI startups, the use of AI in investing and aviation, the growth of AI-related jobs, and the potential impact of AI on environmental, social, and governance (ESG) concerns. Some specific companies mentioned include Character.AI, iManage, iLearningEngines, Inflection, and Exotec.',\n",
       " \"The articles discuss various advancements and partnerships in the field of AI, particularly those related to Google and its competitors. Topics include the release of new AI search technology, partnerships with Intel and Boston Consulting Group, the merger of AI-focused groups DeepMind and Google Brain, and collaborations with Oxbotica and Goggo for autonomous delivery. Additionally, there are articles about Amazon's Zoox testing robotaxis and Cruise robotaxis now running all day in San Francisco.\"]"
      ]
     },
     "execution_count": 11,
     "metadata": {},
     "output_type": "execute_result"
    }
   ],
   "source": [
    "topic_sum_df.loc[topic_sum_df.topics.isin(I[0])].summary.to_list()"
   ]
  }
 ],
 "metadata": {
  "environment": {
   "kernel": "llamaidx",
   "name": "common-cu110.m108",
   "type": "gcloud",
   "uri": "gcr.io/deeplearning-platform-release/base-cu110:m108"
  },
  "kernelspec": {
   "display_name": "llamaidx",
   "language": "python",
   "name": "llamaidx"
  },
  "language_info": {
   "codemirror_mode": {
    "name": "ipython",
    "version": 3
   },
   "file_extension": ".py",
   "mimetype": "text/x-python",
   "name": "python",
   "nbconvert_exporter": "python",
   "pygments_lexer": "ipython3",
   "version": "3.10.11"
  }
 },
 "nbformat": 4,
 "nbformat_minor": 5
}
