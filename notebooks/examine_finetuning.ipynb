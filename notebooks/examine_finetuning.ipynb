{
 "cells": [
  {
   "cell_type": "code",
   "execution_count": 1,
   "metadata": {
    "ExecuteTime": {
     "end_time": "2023-10-29T00:33:26.763428Z",
     "start_time": "2023-10-29T00:33:26.761740Z"
    }
   },
   "outputs": [],
   "source": [
    "import pandas as pd\n",
    "import matplotlib.pyplot as plt\n",
    "import seaborn as sns"
   ]
  },
  {
   "cell_type": "markdown",
   "metadata": {
    "collapsed": false,
    "jupyter": {
     "outputs_hidden": false
    }
   },
   "source": [
    "# Results from Embedding Tuning"
   ]
  },
  {
   "cell_type": "code",
   "execution_count": 2,
   "metadata": {
    "collapsed": false,
    "jupyter": {
     "outputs_hidden": false
    }
   },
   "outputs": [],
   "source": [
    "embedding_performance = pd.DataFrame({\n",
    "    \"Metric\": [\"NDCG@3\", \"MRR@3\", \"MAP@3\", \"NDCG@3\", \"MRR@3\", \"MAP@3\"],\n",
    "    \"Performance\": [0.663874, 0.744084, 0.620971, 0.698001, 0.769290, 0.659422],\n",
    "    \"Model\": [\"Base\", \"Base\", \"Base\", \"Tuned\", \"Tuned\", \"Tuned\"]\n",
    "})"
   ]
  },
  {
   "cell_type": "code",
   "execution_count": 10,
   "metadata": {
    "collapsed": false,
    "jupyter": {
     "outputs_hidden": false
    }
   },
   "outputs": [
    {
     "data": {
      "image/png": "[encoded data removed]",
      "text/plain": [
       "<Figure size 800x600 with 1 Axes>"
      ]
     },
     "metadata": {},
     "output_type": "display_data"
    }
   ],
   "source": [
    "plt.figure(figsize=(8,6))\n",
    "ax = sns.barplot(embedding_performance, x=\"Metric\", y=\"Performance\", hue=\"Model\")\n",
    "ax.grid(False)\n",
    "ax.set_xlabel('Metric', fontsize=16)\n",
    "ax.set_ylabel('Performance', fontsize=16)\n",
    "plt.yticks(fontsize=15)\n",
    "plt.xticks(fontsize=15)\n",
    "plt.savefig(fname=\"contrastive_perf.png\", format=\"png\")\n",
    "plt.show()"
   ]
  },
  {
   "cell_type": "code",
   "execution_count": 2,
   "metadata": {
    "ExecuteTime": {
     "end_time": "2023-10-29T00:33:31.299469Z",
     "start_time": "2023-10-29T00:33:27.503032Z"
    },
    "collapsed": false,
    "jupyter": {
     "outputs_hidden": false
    }
   },
   "outputs": [],
   "source": [
    "orca_rouge = pd.read_excel(\"gs://scraped-news-article-data-null/mistral-orca-rouge.xlsx\")\n",
    "llama_chat = pd.read_excel(\"gs://scraped-news-article-data-null/llama-chat-rouge.xlsx\")\n",
    "tuned_rouge = pd.read_excel(\"gs://scraped-news-article-data-null/mistral-final-sum-rouge.xlsx\")"
   ]
  },
  {
   "cell_type": "code",
   "execution_count": 3,
   "metadata": {
    "ExecuteTime": {
     "end_time": "2023-10-29T00:33:31.977263Z",
     "start_time": "2023-10-29T00:33:31.972524Z"
    },
    "collapsed": false,
    "jupyter": {
     "outputs_hidden": false
    }
   },
   "outputs": [
    {
     "data": {
      "text/html": [
       "<div>\n",
       "<style scoped>\n",
       "    .dataframe tbody tr th:only-of-type {\n",
       "        vertical-align: middle;\n",
       "    }\n",
       "\n",
       "    .dataframe tbody tr th {\n",
       "        vertical-align: top;\n",
       "    }\n",
       "\n",
       "    .dataframe thead th {\n",
       "        text-align: right;\n",
       "    }\n",
       "</style>\n",
       "<table border=\"1\" class=\"dataframe\">\n",
       "  <thead>\n",
       "    <tr style=\"text-align: right;\">\n",
       "      <th></th>\n",
       "      <th>rouge2</th>\n",
       "      <th>model</th>\n",
       "    </tr>\n",
       "  </thead>\n",
       "  <tbody>\n",
       "    <tr>\n",
       "      <th>0</th>\n",
       "      <td>33.3333</td>\n",
       "      <td>Mistral-7B-Orca</td>\n",
       "    </tr>\n",
       "    <tr>\n",
       "      <th>1</th>\n",
       "      <td>10.9890</td>\n",
       "      <td>Mistral-7B-Orca</td>\n",
       "    </tr>\n",
       "    <tr>\n",
       "      <th>2</th>\n",
       "      <td>7.8947</td>\n",
       "      <td>Mistral-7B-Orca</td>\n",
       "    </tr>\n",
       "    <tr>\n",
       "      <th>3</th>\n",
       "      <td>0.0000</td>\n",
       "      <td>Mistral-7B-Orca</td>\n",
       "    </tr>\n",
       "    <tr>\n",
       "      <th>4</th>\n",
       "      <td>23.3129</td>\n",
       "      <td>Mistral-7B-Orca</td>\n",
       "    </tr>\n",
       "  </tbody>\n",
       "</table>\n",
       "</div>"
      ],
      "text/plain": [
       "    rouge2            model\n",
       "0  33.3333  Mistral-7B-Orca\n",
       "1  10.9890  Mistral-7B-Orca\n",
       "2   7.8947  Mistral-7B-Orca\n",
       "3   0.0000  Mistral-7B-Orca\n",
       "4  23.3129  Mistral-7B-Orca"
      ]
     },
     "execution_count": 3,
     "metadata": {},
     "output_type": "execute_result"
    }
   ],
   "source": [
    "orca_rouge[\"model\"] = \"Mistral-7B-Orca\"\n",
    "llama_chat[\"model\"] = \"Llama-Chat-7B\"\n",
    "tuned_rouge[\"model\"] = \"Tuned Mistral\"\n",
    "\n",
    "compiled_df = pd.concat([orca_rouge[[\"rouge2\", \"model\"]], \n",
    "                         llama_chat[[\"rouge2\", \"model\"]], \n",
    "                         tuned_rouge[[\"rouge2\", \"model\"]]],\n",
    "                        ignore_index=True)\n",
    "compiled_df.head()"
   ]
  },
  {
   "cell_type": "code",
   "execution_count": null,
   "metadata": {
    "ExecuteTime": {
     "end_time": "2023-10-29T00:33:36.890365Z",
     "start_time": "2023-10-29T00:33:36.733143Z"
    },
    "collapsed": false,
    "jupyter": {
     "outputs_hidden": false
    }
   },
   "outputs": [],
   "source": [
    "plt.figure(figsize=(8,6))\n",
    "ax = sns.barplot(compiled_df, x=\"model\", y=\"rouge2\", errorbar=\"ci\")\n",
    "ax.grid(False)\n",
    "plt.title(\"Rouge-2 Performance Summary\")\n",
    "plt.xlabel(\"Model\")\n",
    "plt.ylabel(\"Rouge-2\")\n",
    "plt.yticks(fontsize=15)\n",
    "plt.xticks(fontsize=15)\n",
    "plt.savefig(fname=\"contrastive_perf.png\", format=\"png\")\n",
    "plt.show()"
   ]
  },
  {
   "cell_type": "code",
   "execution_count": 5,
   "metadata": {
    "ExecuteTime": {
     "end_time": "2023-10-29T00:34:13.874271Z",
     "start_time": "2023-10-29T00:34:13.814217Z"
    },
    "collapsed": false,
    "jupyter": {
     "outputs_hidden": false
    }
   },
   "outputs": [
    {
     "name": "stderr",
     "output_type": "stream",
     "text": [
      "/opt/homebrew/anaconda3/envs/FinBotInference/lib/python3.10/site-packages/seaborn/_oldcore.py:1498: FutureWarning: is_categorical_dtype is deprecated and will be removed in a future version. Use isinstance(dtype, CategoricalDtype) instead\n",
      "  if pd.api.types.is_categorical_dtype(vector):\n",
      "/opt/homebrew/anaconda3/envs/FinBotInference/lib/python3.10/site-packages/seaborn/_oldcore.py:1498: FutureWarning: is_categorical_dtype is deprecated and will be removed in a future version. Use isinstance(dtype, CategoricalDtype) instead\n",
      "  if pd.api.types.is_categorical_dtype(vector):\n",
      "/opt/homebrew/anaconda3/envs/FinBotInference/lib/python3.10/site-packages/seaborn/_oldcore.py:1498: FutureWarning: is_categorical_dtype is deprecated and will be removed in a future version. Use isinstance(dtype, CategoricalDtype) instead\n",
      "  if pd.api.types.is_categorical_dtype(vector):\n"
     ]
    },
    {
     "data": {
      "image/png": "[encoded data removed]",
      "text/plain": [
       "<Figure size 640x480 with 1 Axes>"
      ]
     },
     "metadata": {},
     "output_type": "display_data"
    }
   ],
   "source": [
    "hallucination_df = pd.DataFrame({\"F1\": [0.31, 0.39, 0.75], \"Model\": [\"Orca\", \"Llama-Chat\", \"Tuned Mistral\"]})\n",
    "sns.barplot(hallucination_df, x=\"Model\", y=\"F1\")\n",
    "plt.title(\"Hallucination Evaluation Summary\")\n",
    "plt.show()"
   ]
  },
  {
   "cell_type": "code",
   "execution_count": 5,
   "metadata": {
    "ExecuteTime": {
     "end_time": "2023-10-28T22:02:23.786644Z",
     "start_time": "2023-10-28T22:02:23.774948Z"
    },
    "collapsed": false,
    "jupyter": {
     "outputs_hidden": false
    }
   },
   "outputs": [],
   "source": []
  }
 ],
 "metadata": {
  "kernelspec": {
   "display_name": "Python 3 (ipykernel)",
   "language": "python",
   "name": "python3"
  },
  "language_info": {
   "codemirror_mode": {
    "name": "ipython",
    "version": 3
   },
   "file_extension": ".py",
   "mimetype": "text/x-python",
   "name": "python",
   "nbconvert_exporter": "python",
   "pygments_lexer": "ipython3",
   "version": "3.10.13"
  }
 },
 "nbformat": 4,
 "nbformat_minor": 4
}
