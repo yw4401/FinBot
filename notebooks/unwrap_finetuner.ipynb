{
 "cells": [
  {
   "cell_type": "code",
   "execution_count": 6,
   "metadata": {
    "collapsed": true
   },
   "outputs": [],
   "source": [
    "import pandas as pd\n",
    "import re"
   ]
  },
  {
   "cell_type": "code",
   "execution_count": 7,
   "outputs": [
    {
     "data": {
      "text/plain": "                                                body  \\\n0  context: Sen. Catherine Cortez Masto, D-Nev., ...   \n1  context: Feb 22 (Reuters) - AngloGold Ashanti ...   \n2  context: ## In this article\\n\\nFollow your fav...   \n3  context: GLASGOW, Nov 10 (Reuters) - The Unite...   \n4  context: LONDON, Oct 11 (Reuters) - Britain re...   \n\n                                             summary  \n0                                         IMPOSSIBLE  \n1                                         IMPOSSIBLE  \n2  Check out this $1,000 TV that hides in its own...  \n3  U.S. and China unveil emissions deal in bid to...  \n4                                         IMPOSSIBLE  ",
      "text/html": "<div>\n<style scoped>\n    .dataframe tbody tr th:only-of-type {\n        vertical-align: middle;\n    }\n\n    .dataframe tbody tr th {\n        vertical-align: top;\n    }\n\n    .dataframe thead th {\n        text-align: right;\n    }\n</style>\n<table border=\"1\" class=\"dataframe\">\n  <thead>\n    <tr style=\"text-align: right;\">\n      <th></th>\n      <th>body</th>\n      <th>summary</th>\n    </tr>\n  </thead>\n  <tbody>\n    <tr>\n      <th>0</th>\n      <td>context: Sen. Catherine Cortez Masto, D-Nev., ...</td>\n      <td>IMPOSSIBLE</td>\n    </tr>\n    <tr>\n      <th>1</th>\n      <td>context: Feb 22 (Reuters) - AngloGold Ashanti ...</td>\n      <td>IMPOSSIBLE</td>\n    </tr>\n    <tr>\n      <th>2</th>\n      <td>context: ## In this article\\n\\nFollow your fav...</td>\n      <td>Check out this $1,000 TV that hides in its own...</td>\n    </tr>\n    <tr>\n      <th>3</th>\n      <td>context: GLASGOW, Nov 10 (Reuters) - The Unite...</td>\n      <td>U.S. and China unveil emissions deal in bid to...</td>\n    </tr>\n    <tr>\n      <th>4</th>\n      <td>context: LONDON, Oct 11 (Reuters) - Britain re...</td>\n      <td>IMPOSSIBLE</td>\n    </tr>\n  </tbody>\n</table>\n</div>"
     },
     "execution_count": 7,
     "metadata": {},
     "output_type": "execute_result"
    }
   ],
   "source": [
    "train_data = pd.read_parquet(\"gs://scraped-news-article-data-null/fine-tune-summary-train.parquet\")\n",
    "test_data = pd.read_parquet(\"gs://scraped-news-article-data-null/fine-tune-summary-test.parquet\")\n",
    "train_data.head()"
   ],
   "metadata": {
    "collapsed": false
   }
  },
  {
   "cell_type": "code",
   "execution_count": 8,
   "outputs": [],
   "source": [
    "unwrapped_train = train_data.copy()\n",
    "unwrapped_test = test_data.copy()"
   ],
   "metadata": {
    "collapsed": false
   }
  },
  {
   "cell_type": "code",
   "execution_count": 9,
   "outputs": [
    {
     "data": {
      "text/plain": "                                                    body  \\\n0      Sen. Catherine Cortez Masto, D-Nev., center, h...   \n1      Feb 22 (Reuters) - AngloGold Ashanti (ANGJ.J) ...   \n2      ## In this article\\n\\nFollow your favorite sto...   \n3      GLASGOW, Nov 10 (Reuters) - The United States ...   \n4      LONDON, Oct 11 (Reuters) - Britain reported a ...   \n...                                                  ...   \n50129  AT&T in advanced talks to merge WarnerMedia wi...   \n50130  ## In this article\\n\\nFollow your favorite sto...   \n50131  MOSCOW, Jan 28 (Reuters) - Russian President V...   \n50132  BRUSSELS/LONDON, June 24 (Reuters) - The poten...   \n50133  The best way to make CEOs focus on inequality ...   \n\n                                                 summary  \\\n0                                             IMPOSSIBLE   \n1                                             IMPOSSIBLE   \n2      Check out this $1,000 TV that hides in its own...   \n3      U.S. and China unveil emissions deal in bid to...   \n4                                             IMPOSSIBLE   \n...                                                  ...   \n50129  AT&T in advanced talks to merge WarnerMedia wi...   \n50130                                         IMPOSSIBLE   \n50131  Putin says West has not addressed key concerns...   \n50132  EXCLUSIVE: Gas infrastructure across Europe le...   \n50133                                         IMPOSSIBLE   \n\n                                                question  \n0      How much money have foreign donors and compani...  \n1      How much will AngloGold Ashanti lose as a resu...  \n2      What is the resolution of the StanbyME Go's di...  \n3      What specific actions are countries being aske...  \n4                 Why are people leaving the job market?  \n...                                                  ...  \n50129               What is the name of the new company?  \n50130  How will the approval of Biogen's ALS drug imp...  \n50131              Is Russia planning to invade Ukraine?  \n50132  What are the sources of methane emissions in E...  \n50133  What specific actions is Nasdaq taking to addr...  \n\n[50132 rows x 3 columns]",
      "text/html": "<div>\n<style scoped>\n    .dataframe tbody tr th:only-of-type {\n        vertical-align: middle;\n    }\n\n    .dataframe tbody tr th {\n        vertical-align: top;\n    }\n\n    .dataframe thead th {\n        text-align: right;\n    }\n</style>\n<table border=\"1\" class=\"dataframe\">\n  <thead>\n    <tr style=\"text-align: right;\">\n      <th></th>\n      <th>body</th>\n      <th>summary</th>\n      <th>question</th>\n    </tr>\n  </thead>\n  <tbody>\n    <tr>\n      <th>0</th>\n      <td>Sen. Catherine Cortez Masto, D-Nev., center, h...</td>\n      <td>IMPOSSIBLE</td>\n      <td>How much money have foreign donors and compani...</td>\n    </tr>\n    <tr>\n      <th>1</th>\n      <td>Feb 22 (Reuters) - AngloGold Ashanti (ANGJ.J) ...</td>\n      <td>IMPOSSIBLE</td>\n      <td>How much will AngloGold Ashanti lose as a resu...</td>\n    </tr>\n    <tr>\n      <th>2</th>\n      <td>## In this article\\n\\nFollow your favorite sto...</td>\n      <td>Check out this $1,000 TV that hides in its own...</td>\n      <td>What is the resolution of the StanbyME Go's di...</td>\n    </tr>\n    <tr>\n      <th>3</th>\n      <td>GLASGOW, Nov 10 (Reuters) - The United States ...</td>\n      <td>U.S. and China unveil emissions deal in bid to...</td>\n      <td>What specific actions are countries being aske...</td>\n    </tr>\n    <tr>\n      <th>4</th>\n      <td>LONDON, Oct 11 (Reuters) - Britain reported a ...</td>\n      <td>IMPOSSIBLE</td>\n      <td>Why are people leaving the job market?</td>\n    </tr>\n    <tr>\n      <th>...</th>\n      <td>...</td>\n      <td>...</td>\n      <td>...</td>\n    </tr>\n    <tr>\n      <th>50129</th>\n      <td>AT&amp;T in advanced talks to merge WarnerMedia wi...</td>\n      <td>AT&amp;T in advanced talks to merge WarnerMedia wi...</td>\n      <td>What is the name of the new company?</td>\n    </tr>\n    <tr>\n      <th>50130</th>\n      <td>## In this article\\n\\nFollow your favorite sto...</td>\n      <td>IMPOSSIBLE</td>\n      <td>How will the approval of Biogen's ALS drug imp...</td>\n    </tr>\n    <tr>\n      <th>50131</th>\n      <td>MOSCOW, Jan 28 (Reuters) - Russian President V...</td>\n      <td>Putin says West has not addressed key concerns...</td>\n      <td>Is Russia planning to invade Ukraine?</td>\n    </tr>\n    <tr>\n      <th>50132</th>\n      <td>BRUSSELS/LONDON, June 24 (Reuters) - The poten...</td>\n      <td>EXCLUSIVE: Gas infrastructure across Europe le...</td>\n      <td>What are the sources of methane emissions in E...</td>\n    </tr>\n    <tr>\n      <th>50133</th>\n      <td>The best way to make CEOs focus on inequality ...</td>\n      <td>IMPOSSIBLE</td>\n      <td>What specific actions is Nasdaq taking to addr...</td>\n    </tr>\n  </tbody>\n</table>\n<p>50132 rows × 3 columns</p>\n</div>"
     },
     "execution_count": 9,
     "metadata": {},
     "output_type": "execute_result"
    }
   ],
   "source": [
    "extraction_regex = re.compile(r\"context: (?P<context>(.|\\n)+)\\n\\nquestion: (?P<question>(.|\\n)+)\\n\\nsummarize the\")\n",
    "\n",
    "def extract_context(body):\n",
    "    context = extraction_regex.search(body)\n",
    "    if not context:\n",
    "        return None\n",
    "    return context.group(\"context\")\n",
    "\n",
    "\n",
    "def extract_question(body):\n",
    "    question = extraction_regex.search(body)\n",
    "    if not question:\n",
    "        return None\n",
    "    return question.group(\"question\")\n",
    "\n",
    "unwrapped_train[\"body\"] = train_data.body.apply(extract_context)\n",
    "unwrapped_train[\"question\"] = train_data.body.apply(extract_question)\n",
    "unwrapped_train = unwrapped_train.dropna()\n",
    "unwrapped_train"
   ],
   "metadata": {
    "collapsed": false
   }
  },
  {
   "cell_type": "code",
   "execution_count": 11,
   "outputs": [],
   "source": [
    "unwrapped_train.to_parquet(\"gs://scraped-news-article-data-null/fine-tune-summary-train.parquet\", index=False)"
   ],
   "metadata": {
    "collapsed": false
   }
  },
  {
   "cell_type": "code",
   "execution_count": 12,
   "outputs": [
    {
     "data": {
      "text/plain": "                                                  body  \\\n0    This spring, millionaires felt relatively pess...   \n1    TOKYO, Feb 7 (Reuters) - Toshiba Corp (6502.T)...   \n2    BERLIN, Jan 19 (Reuters) - Germany's Greens pa...   \n3    PARIS/ROME, Nov 11 (Reuters) - A charity-run s...   \n4    Feb 24 (Reuters) - European shares slid on Fri...   \n..                                                 ...   \n995  European Central Bank member Jens Weidmann ann...   \n996  ## In this article\\n\\nFollow your favorite sto...   \n997  INCHEON, May 2 (Reuters) - Asian finance leade...   \n998  A factory at the mobile phone plant of Rising ...   \n999  VATICAN CITY, July 4 (Reuters) - Pope Francis ...   \n\n                                               summary  \\\n0    Millionaires see market volatility, inflation ...   \n1    Toshiba now plans to split into two, bumps up ...   \n2    Germany's Greens must squeeze coalition on cli...   \n3                                           IMPOSSIBLE   \n4                                           IMPOSSIBLE   \n..                                                 ...   \n995                                         IMPOSSIBLE   \n996  Google is offering an on-campus hotel 'special...   \n997  Asian finance leaders look to improve market s...   \n998  Apple supplier Foxconn cautious despite beatin...   \n999                                         IMPOSSIBLE   \n\n                                              question  \n0    What are the top three threats to personal wea...  \n1    What businesses is Toshiba splitting off and s...  \n2    What did the Greens secure in exchange for sup...  \n3    What are the potential economic and political ...  \n4    What factors contributed to the 0.4% shrinkage...  \n..                                                 ...  \n995  How will Weidmann's departure affect the futur...  \n996       Is Google facing any financial difficulties?  \n997  What are the benefits of expanding the Chiang ...  \n998  What are the specific factors contributing to ...  \n999  What specific health issues is the Pope facing...  \n\n[1000 rows x 3 columns]",
      "text/html": "<div>\n<style scoped>\n    .dataframe tbody tr th:only-of-type {\n        vertical-align: middle;\n    }\n\n    .dataframe tbody tr th {\n        vertical-align: top;\n    }\n\n    .dataframe thead th {\n        text-align: right;\n    }\n</style>\n<table border=\"1\" class=\"dataframe\">\n  <thead>\n    <tr style=\"text-align: right;\">\n      <th></th>\n      <th>body</th>\n      <th>summary</th>\n      <th>question</th>\n    </tr>\n  </thead>\n  <tbody>\n    <tr>\n      <th>0</th>\n      <td>This spring, millionaires felt relatively pess...</td>\n      <td>Millionaires see market volatility, inflation ...</td>\n      <td>What are the top three threats to personal wea...</td>\n    </tr>\n    <tr>\n      <th>1</th>\n      <td>TOKYO, Feb 7 (Reuters) - Toshiba Corp (6502.T)...</td>\n      <td>Toshiba now plans to split into two, bumps up ...</td>\n      <td>What businesses is Toshiba splitting off and s...</td>\n    </tr>\n    <tr>\n      <th>2</th>\n      <td>BERLIN, Jan 19 (Reuters) - Germany's Greens pa...</td>\n      <td>Germany's Greens must squeeze coalition on cli...</td>\n      <td>What did the Greens secure in exchange for sup...</td>\n    </tr>\n    <tr>\n      <th>3</th>\n      <td>PARIS/ROME, Nov 11 (Reuters) - A charity-run s...</td>\n      <td>IMPOSSIBLE</td>\n      <td>What are the potential economic and political ...</td>\n    </tr>\n    <tr>\n      <th>4</th>\n      <td>Feb 24 (Reuters) - European shares slid on Fri...</td>\n      <td>IMPOSSIBLE</td>\n      <td>What factors contributed to the 0.4% shrinkage...</td>\n    </tr>\n    <tr>\n      <th>...</th>\n      <td>...</td>\n      <td>...</td>\n      <td>...</td>\n    </tr>\n    <tr>\n      <th>995</th>\n      <td>European Central Bank member Jens Weidmann ann...</td>\n      <td>IMPOSSIBLE</td>\n      <td>How will Weidmann's departure affect the futur...</td>\n    </tr>\n    <tr>\n      <th>996</th>\n      <td>## In this article\\n\\nFollow your favorite sto...</td>\n      <td>Google is offering an on-campus hotel 'special...</td>\n      <td>Is Google facing any financial difficulties?</td>\n    </tr>\n    <tr>\n      <th>997</th>\n      <td>INCHEON, May 2 (Reuters) - Asian finance leade...</td>\n      <td>Asian finance leaders look to improve market s...</td>\n      <td>What are the benefits of expanding the Chiang ...</td>\n    </tr>\n    <tr>\n      <th>998</th>\n      <td>A factory at the mobile phone plant of Rising ...</td>\n      <td>Apple supplier Foxconn cautious despite beatin...</td>\n      <td>What are the specific factors contributing to ...</td>\n    </tr>\n    <tr>\n      <th>999</th>\n      <td>VATICAN CITY, July 4 (Reuters) - Pope Francis ...</td>\n      <td>IMPOSSIBLE</td>\n      <td>What specific health issues is the Pope facing...</td>\n    </tr>\n  </tbody>\n</table>\n<p>1000 rows × 3 columns</p>\n</div>"
     },
     "execution_count": 12,
     "metadata": {},
     "output_type": "execute_result"
    }
   ],
   "source": [
    "unwrapped_test[\"body\"] = test_data.body.apply(extract_context)\n",
    "unwrapped_test[\"question\"] = test_data.body.apply(extract_question)\n",
    "unwrapped_test = unwrapped_test.dropna()\n",
    "unwrapped_test"
   ],
   "metadata": {
    "collapsed": false
   }
  },
  {
   "cell_type": "code",
   "execution_count": 13,
   "outputs": [],
   "source": [
    "unwrapped_test.to_parquet(\"gs://scraped-news-article-data-null/fine-tune-summary-test.parquet\", index=False)"
   ],
   "metadata": {
    "collapsed": false
   }
  },
  {
   "cell_type": "code",
   "execution_count": null,
   "outputs": [],
   "source": [],
   "metadata": {
    "collapsed": false
   }
  }
 ],
 "metadata": {
  "kernelspec": {
   "display_name": "Python 3",
   "language": "python",
   "name": "python3"
  },
  "language_info": {
   "codemirror_mode": {
    "name": "ipython",
    "version": 2
   },
   "file_extension": ".py",
   "mimetype": "text/x-python",
   "name": "python",
   "nbconvert_exporter": "python",
   "pygments_lexer": "ipython2",
   "version": "2.7.6"
  }
 },
 "nbformat": 4,
 "nbformat_minor": 0
}
