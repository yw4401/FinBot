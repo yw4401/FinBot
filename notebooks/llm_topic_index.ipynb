{
 "cells": [
  {
   "cell_type": "code",
   "execution_count": 1,
   "id": "acc39e3f-6e1e-474a-98f0-85b11779ae9d",
   "metadata": {},
   "outputs": [
    {
     "data": {
      "text/html": [
       "<div>\n",
       "<style scoped>\n",
       "    .dataframe tbody tr th:only-of-type {\n",
       "        vertical-align: middle;\n",
       "    }\n",
       "\n",
       "    .dataframe tbody tr th {\n",
       "        vertical-align: top;\n",
       "    }\n",
       "\n",
       "    .dataframe thead th {\n",
       "        text-align: right;\n",
       "    }\n",
       "</style>\n",
       "<table border=\"1\" class=\"dataframe\">\n",
       "  <thead>\n",
       "    <tr style=\"text-align: right;\">\n",
       "      <th></th>\n",
       "      <th>topics</th>\n",
       "      <th>summary</th>\n",
       "    </tr>\n",
       "  </thead>\n",
       "  <tbody>\n",
       "    <tr>\n",
       "      <th>0</th>\n",
       "      <td>0</td>\n",
       "      <td>The news articles revolve around the advanceme...</td>\n",
       "    </tr>\n",
       "    <tr>\n",
       "      <th>1</th>\n",
       "      <td>1</td>\n",
       "      <td>The news articles cover the fluctuations in oi...</td>\n",
       "    </tr>\n",
       "    <tr>\n",
       "      <th>2</th>\n",
       "      <td>2</td>\n",
       "      <td>The news articles revolve around the security ...</td>\n",
       "    </tr>\n",
       "    <tr>\n",
       "      <th>3</th>\n",
       "      <td>3</td>\n",
       "      <td>The Federal Reserve's interest rate decisions ...</td>\n",
       "    </tr>\n",
       "    <tr>\n",
       "      <th>4</th>\n",
       "      <td>4</td>\n",
       "      <td>The news articles cover various aspects of the...</td>\n",
       "    </tr>\n",
       "  </tbody>\n",
       "</table>\n",
       "</div>"
      ],
      "text/plain": [
       "   topics                                            summary\n",
       "0       0  The news articles revolve around the advanceme...\n",
       "1       1  The news articles cover the fluctuations in oi...\n",
       "2       2  The news articles revolve around the security ...\n",
       "3       3  The Federal Reserve's interest rate decisions ...\n",
       "4       4  The news articles cover various aspects of the..."
      ]
     },
     "execution_count": 1,
     "metadata": {},
     "output_type": "execute_result"
    }
   ],
   "source": [
    "import sys\n",
    "import pandas as pd\n",
    "from llama_index import GPTVectorStoreIndex, SimpleDirectoryReader, LLMPredictor, PromptHelper\n",
    "from llama_index.storage.storage_context import StorageContext\n",
    "from llama_index.llm_predictor import HuggingFaceLLMPredictor\n",
    "from langchain.embeddings.huggingface import HuggingFaceEmbeddings\n",
    "from IPython.display import Markdown, display\n",
    "from llama_index import ServiceContext, LangchainEmbedding\n",
    "import os\n",
    "import pandas as pd\n",
    "from transformers import LlamaTokenizer, LlamaForCausalLM\n",
    "import torch\n",
    "from llama_index.prompts.prompts import SimpleInputPrompt\n",
    "from langchain.llms.base import LLM\n",
    "from typing import Optional, List, Mapping, Any\n",
    "from langchain.llms import OpenAI\n",
    "import logging\n",
    "from langchain.chat_models import ChatOpenAI\n",
    "from llama_index import QuestionAnswerPrompt\n",
    "import gc\n",
    "\n",
    "\n",
    "sys.path.insert(0, '..')\n",
    "\n",
    "\n",
    "topic_df = pd.read_parquet(\"gs://scraped-news-article-data-null/2023-topics-%s.parquet\" % \"openai\")\n",
    "topic_df.head()"
   ]
  },
  {
   "cell_type": "code",
   "execution_count": 2,
   "id": "ed80ebd8-49f2-4856-b930-91cef2b37bd6",
   "metadata": {},
   "outputs": [],
   "source": [
    "import sys\n",
    "\n",
    "\n",
    "logging.basicConfig(level=logging.WARN, stream=sys.stdout)"
   ]
  },
  {
   "cell_type": "code",
   "execution_count": 3,
   "id": "8579aaf8-3dcc-4f1b-b15a-74d7c4e4e7ea",
   "metadata": {},
   "outputs": [
    {
     "data": {
      "text/plain": [
       "0    The news articles revolve around the advanceme...\n",
       "1    The news articles cover the fluctuations in oi...\n",
       "2    The news articles revolve around the security ...\n",
       "3    The Federal Reserve's interest rate decisions ...\n",
       "4    The news articles cover various aspects of the...\n",
       "Name: summary, dtype: object"
      ]
     },
     "execution_count": 3,
     "metadata": {},
     "output_type": "execute_result"
    }
   ],
   "source": [
    "topic_existing_sum = topic_df.loc[(topic_df.summary.str.len() > 0) & (topic_df.summary.str.lower().str.strip() != \"no theme\")]\n",
    "topic_existing_sum.summary.head()"
   ]
  },
  {
   "cell_type": "code",
   "execution_count": 4,
   "id": "ef5441f9-4271-4555-9e14-bf8bd6dc671c",
   "metadata": {},
   "outputs": [],
   "source": [
    "from summarizer.topic_sum import create_topic_filter, load_faiss_topic_filter"
   ]
  },
  {
   "cell_type": "code",
   "execution_count": null,
   "id": "59adcde0-5a38-4f21-b102-2484d0d03508",
   "metadata": {},
   "outputs": [],
   "source": [
    "with open(\"/home/jupyter/apikey\", \"r\") as api_fp:\n",
    "    api_key = api_fp.read().strip()\n",
    "\n",
    "\n",
    "filter_llm = create_topic_filter(api_key=api_key, temperature=0)\n",
    "embed_model = LangchainEmbedding(HuggingFaceEmbeddings(model_name=\"all-MiniLM-L6-v2\"))"
   ]
  },
  {
   "cell_type": "code",
   "execution_count": null,
   "id": "dcf02813-dfd3-4dac-9f37-f788312b1104",
   "metadata": {},
   "outputs": [],
   "source": [
    "class LlamaBased(LLM):\n",
    "\n",
    "    tokenizer: LlamaTokenizer\n",
    "    model: LlamaForCausalLM\n",
    "    max_new_tokens: int\n",
    "    query_helper: SimpleInputPrompt\n",
    "    \n",
    "    def __init__(self, model_path, max_new_tokens, query_helper):\n",
    "        tokenizer = LlamaTokenizer.from_pretrained(model_path, device_map=\"auto\", max_input_size=2048)\n",
    "        model = LlamaForCausalLM.from_pretrained(model_path, torch_dtype=torch.float16, device_map=\"auto\")\n",
    "        LLM.__init__(self, tokenizer=tokenizer, model=model, max_new_tokens=max_new_tokens, query_helper=query_helper)\n",
    "    \n",
    "    def _call(self, prompt: str, stop: Optional[List[str]] = None) -> str:\n",
    "        prompt = self.query_helper.format(query_str=prompt)\n",
    "        logging.info(\"final prompt: \" + prompt)\n",
    "        inputs = self.tokenizer(prompt, return_tensors=\"pt\").to(\"cuda\")\n",
    "        outputs = self.model.generate(**inputs, max_new_tokens=self.max_new_tokens, \n",
    "                             do_sample=False, \n",
    "                             temperature=0)\n",
    "        result = self.tokenizer.batch_decode(outputs, skip_special_tokens=True, spaces_between_special_tokens=False)[0]\n",
    "        # only return newly generated tokens\n",
    "        return result[len(prompt):]\n",
    "\n",
    "    @property\n",
    "    def _identifying_params(self) -> Mapping[str, Any]:\n",
    "        return {\"name_of_model\": \"Koala\"}\n",
    "\n",
    "    @property\n",
    "    def _llm_type(self) -> str:\n",
    "        return \"llama\"\n",
    "    "
   ]
  },
  {
   "cell_type": "code",
   "execution_count": null,
   "id": "49ff12b5-4dea-44aa-8cfc-1e4b3cba2eb2",
   "metadata": {},
   "outputs": [],
   "source": [
    "def create_llama_service_context(embed_model, model_path, query_wrapper_prompt, num_output=512, max_chunk_overlap=20):\n",
    "    llm_predictor = LLMPredictor(llm=LlamaBased(model_path, num_output, query_wrapper_prompt))\n",
    "    prompt_helper = PromptHelper(max_input_size=2048, num_output=num_output, max_chunk_overlap=max_chunk_overlap)\n",
    "    service_context = ServiceContext.from_defaults(chunk_size_limit=512, llm_predictor=llm_predictor, embed_model=embed_model, prompt_helper=prompt_helper)\n",
    "    return service_context\n",
    "\n",
    "\n",
    "def create_openai_service_context(embed_model, api_key, num_output=512, max_chunk_overlap=20):\n",
    "    prompt_helper = PromptHelper(max_input_size=4096, num_output=num_output, max_chunk_overlap=max_chunk_overlap)\n",
    "    service_context = ServiceContext.from_defaults(chunk_size_limit=512, \n",
    "                                                   embed_model=embed_model, \n",
    "                                                   prompt_helper=prompt_helper,\n",
    "                                                   llm_predictor=LLMPredictor(llm=ChatOpenAI(model_name=\"gpt-3.5-turbo\", \n",
    "                                                                                             temperature=0, \n",
    "                                                                                             openai_api_key=api_key))\n",
    "                                                  )\n",
    "    return service_context\n",
    "    "
   ]
  },
  {
   "cell_type": "code",
   "execution_count": null,
   "id": "a5f51750-29d6-4110-9098-d83dd08efc6d",
   "metadata": {},
   "outputs": [],
   "source": [
    "from llama_index import load_index_from_storage, load_indices_from_storage, load_graph_from_storage\n",
    "from llama_index.storage.docstore import SimpleDocumentStore\n",
    "from llama_index.vector_stores import SimpleVectorStore\n",
    "from llama_index.storage.index_store import SimpleIndexStore\n",
    "from pathlib import Path\n",
    "\n",
    "\n",
    "persist_dir_base = \"/home/jupyter/topic_indices\"\n",
    "\n",
    "\n",
    "def create_llama_index_lazyloader(service_context, directory):\n",
    "    index_dict = {}\n",
    "    \n",
    "    def get_llama_index(topic_number):\n",
    "        if topic_number not in index_dict:\n",
    "            topic_index_dir = Path(directory, str(topic_number))\n",
    "            if not topic_index_dir.exists():\n",
    "                return None\n",
    "            storage_context = StorageContext.from_defaults(\n",
    "                docstore=SimpleDocumentStore.from_persist_dir(persist_dir=topic_index_dir),\n",
    "                vector_store=SimpleVectorStore.from_persist_dir(persist_dir=topic_index_dir),\n",
    "                index_store=SimpleIndexStore.from_persist_dir(persist_dir=topic_index_dir),\n",
    "            )\n",
    "            index = load_index_from_storage(storage_context=storage_context, service_context=service_context)\n",
    "            index_dict[topic_number] = index\n",
    "        return index_dict[topic_number]\n",
    "            \n",
    "    return get_llama_index\n",
    "        "
   ]
  },
  {
   "cell_type": "code",
   "execution_count": null,
   "id": "106bd88a-4fb3-4476-acd4-c52892fa094c",
   "metadata": {},
   "outputs": [],
   "source": [
    "faiss_path = \"/home/jupyter/faiss_topic.index\"\n",
    "\n",
    "\n",
    "lazy_loader = create_llama_index_lazyloader(create_openai_service_context(embed_model, api_key), persist_dir_base)\n",
    "faiss_topic_filter = load_faiss_topic_filter(faiss_path, embed_model=embed_model)"
   ]
  },
  {
   "cell_type": "code",
   "execution_count": 10,
   "id": "b1a4e835-974f-458c-9bf8-5f57f8597c3d",
   "metadata": {},
   "outputs": [
    {
     "name": "stdout",
     "output_type": "stream",
     "text": [
      "----------------------------------------------\n",
      "CANNOT ANSWER\n",
      "----------------------------------------------\n",
      "----------------------------------------------\n",
      "CANNOT ANSWER\n",
      "----------------------------------------------\n",
      "----------------------------------------------\n",
      "Response: Novo Nordisk is developing drugs for diabetes and obesity. The company has developed the highly popular Wegovy obesity drug, which has been launched in the U.S., Denmark, and Norway. The company expects the drug to be available in more European markets this year. Novo Nordisk also has a best-selling diabetes treatment drug called Ozempic. The company has faced some supply constraints this year, but a second contract manufacturer is ready to begin production of Wegovy, which would increase supply. In the first quarter of this year, Novo Nordisk's sales increased by 25% and operating profit rose by 28% in local currencies. The company will present full financial results for the first quarter of this year on May 4.\n",
      "----------------------------------------------\n",
      "----------------------------------------------\n",
      "Companies Developing Insulin Drugs: Eli Lilly, Novo Nordisk, and Sanofi\n",
      "----------------------------------------------\n",
      "----------------------------------------------\n",
      "RESPONSE: Drug Companies with Increased R&D Spending\n",
      "\n",
      "Several drug companies have reported increased research and development (R&D) costs in the first quarter of 2021. Merck & Co (MRK.N) reported a 66% jump in R&D costs, while AstraZeneca's R&D spending rose 22%. Amgen's R&D costs rose 12% in the first quarter, and Gilead Science Inc (GILD.O) reported a 25% research spending jump to $1.4 billion, driven partly by higher expenses in late-stage clinical studies. AstraZeneca has signed three licensing deals with Chinese companies in the last few months and is contemplating more acquisitions. Eli Lilly and Co (LLY.N) missed first-quarter earnings estimates mainly due to higher costs. Gilead Science Inc (GILD.O) also expects full-year R&D expenses to rise to a low-double-digit percentage compared to 2022.\n",
      "----------------------------------------------\n",
      "----------------------------------------------\n",
      "Response: AbbVie Inc (ABBV.N) is a company that is developing drugs. They have developed newer drugs such as Skyrizi for psoriasis and related conditions and Rinvoq for several autoimmune disorders. However, sales of these drugs were hit as customers worked through their inventories of AbbVie's flagship arthritis drug Humira. Botox sales for cosmetic and therapeutic applications also rose. AbbVie Inc (ABBV.N) beat sales expectations with revenue of $12.23 billion and now expects 2023 adjusted earnings of $10.72 to $11.12 per share.\n",
      "----------------------------------------------\n"
     ]
    }
   ],
   "source": [
    "inquiry = \"Which companies are developing drugs?\"\n",
    "\n",
    "\n",
    "OPENAI_FINAL_PROMPT = \"Several extracts from news articles are provided below. \" + \\\n",
    "\"Using only information from the news extracts, write a well written response with a heading that answers the given inquiry. \" + \\\n",
    "\"The response should read well in addition to providing relevant and accurate information.\" + \\\n",
    "'If the inqury cannot be answered using only the information from the provided article extracts, write \"CANNOT ANSWER\" as the response.' +\\\n",
    "'The response should be formatted in plain text.\\n\\n' + \\\n",
    "\"Inquiry: {query_str}\\n\\nNews Article Extracts:\\n{context_str}\\n\"\n",
    "\n",
    "\n",
    "QA_PROMPT = QuestionAnswerPrompt(OPENAI_FINAL_PROMPT)\n",
    "\n",
    "\n",
    "topic_filtered = faiss_topic_filter(inquiry, topic_existing_sum)\n",
    "for r in filter_llm(topic_filtered, inquiry):\n",
    "    if r.rating < 0.5:\n",
    "        continue\n",
    "    index = lazy_loader(r.topic_number)\n",
    "    if not index:\n",
    "        continue\n",
    "    query_engine = index.as_query_engine(text_qa_template=QA_PROMPT)\n",
    "    result_str = query_engine.query(inquiry)\n",
    "    logging.info(\"Generated response: %s\" % result_str.response)\n",
    "#    if \"INSUFFICIENT INFORMATION\" in result_str.response:\n",
    "#        continue\n",
    "    print(\"----------------------------------------------\")\n",
    "    print(result_str.response)\n",
    "    print(\"----------------------------------------------\")"
   ]
  },
  {
   "cell_type": "code",
   "execution_count": 11,
   "id": "ebf7cc1e-2612-46bc-ad9c-ca33e17dc4f9",
   "metadata": {},
   "outputs": [
    {
     "name": "stdout",
     "output_type": "stream",
     "text": [
      "----------------------------------------------\n",
      "Companies Developing New AI Products: Alphabet, Microsoft, Amazon, and Meta\n",
      "\n",
      "According to recent news articles, Alphabet, Microsoft, Amazon, and Meta are all developing new AI products. Google, a subsidiary of Alphabet, recently launched its own chatbot called Bard AI to rival Microsoft and OpenAI's ChatGPT. Tech investors are eager to see how much these industry leaders are investing in AI, as it is an area where they want to see hefty investments. Generative AI programs require specialized supercomputers that are not cheap, but tech CEOs emphasized the large sums of money they will be spending to build and run these applications. Sundar Pichai, CEO of Alphabet, is under intense pressure to deliver AI products due to the perceived threat that Alphabet's core Google search engine faces from the sophisticated chatbots hitting the market. Alphabet recently declared an internal \"code red.\"\n",
      "----------------------------------------------\n",
      "----------------------------------------------\n",
      "Response: \n",
      "\n",
      "Qualcomm has developed a new chip called the Cloud AI 100 that aims for parsimonious power consumption. In testing data published on Wednesday by MLCommons, an engineering consortium that maintains testing benchmarks widely used in the AI chip industry, Qualcomm's AI 100 beat Nvidia's flagship H100 chip at classifying images, based on how many data center server queries each chip can carry out per watt. Qualcomm's chips hit 227.4 server queries per watt versus 108.4 queries per watt for Nvidia. Qualcomm also beat Nvidia at object detection with a score of 3.8 queries per watt versus Nvidia's 2.4 queries per watt. Object detection can be used in applications like analyzing footage from retail stores to see where shoppers go most often. However, Nvidia took the top spot in both absolute performance terms and power efficiency terms in a test of natural language processing, which is the AI technology most widely used in systems like ChatGPT.\n",
      "----------------------------------------------\n",
      "----------------------------------------------\n",
      "Companies Developing New AI Products in the Legal Industry\n",
      "\n",
      "The legal industry has seen a remarkable pace of adoption of new AI products in the past few months. Several major firms, including DLA Piper, Orrick, Herrington & Sutcliffe, and Fisher Phillips, have signed deals to adopt new AI products. Legal research company Casetext has rolled out generative AI-powered tools, including its AI legal assistant product, CoCounsel, which uses GPT-4 to speed up tasks like legal research, contract analysis, and document review. Accounting giant PricewaterhouseCoopers has given 4,000 legal professionals access to large language model-based generative AI. Some firms, such as Holland & Knight, are developing capabilities in-house. Baker McKenzie has been baking large language models into existing services on a client-by-client \"pilot\" basis. The legal AI startup Harvey is also being used to automate some document drafting and research.\n",
      "----------------------------------------------\n",
      "----------------------------------------------\n",
      "CANNOT ANSWER\n",
      "----------------------------------------------\n"
     ]
    }
   ],
   "source": [
    "inquiry = \"Which companies are developing new AI products?\"\n",
    "\n",
    "\n",
    "topic_filtered = faiss_topic_filter(inquiry, topic_existing_sum)\n",
    "for r in filter_llm(topic_filtered, inquiry):\n",
    "    if r.rating < 0.5:\n",
    "        continue\n",
    "    index = lazy_loader(r.topic_number)\n",
    "    if not index:\n",
    "        continue\n",
    "    query_engine = index.as_query_engine(text_qa_template=QA_PROMPT)\n",
    "    result_str = query_engine.query(inquiry)\n",
    "    logging.info(\"Generated response: %s\" % result_str.response)\n",
    "#    if \"INSUFFICIENT INFORMATION\" in result_str.response:\n",
    "#        continue\n",
    "    print(\"----------------------------------------------\")\n",
    "    print(result_str.response)\n",
    "    print(\"----------------------------------------------\")"
   ]
  },
  {
   "cell_type": "code",
   "execution_count": 15,
   "id": "09b55318-0fe7-4da9-a35f-acc853552828",
   "metadata": {},
   "outputs": [],
   "source": [
    "system = \"A chat between a curious user and an artificial intelligence assistant. The assistant gives helpful, detailed, and polite answers to the user's questions. \"\n",
    "query_wrapper_prompt = SimpleInputPrompt(system + \"USER: {query_str} ASSISTANT:\")"
   ]
  },
  {
   "cell_type": "code",
   "execution_count": 16,
   "id": "9d83f858-d9f0-48e4-90e7-89281a5117a7",
   "metadata": {},
   "outputs": [
    {
     "data": {
      "application/vnd.jupyter.widget-view+json": {
       "model_id": "5c8f5958898e42c5be317227ce8f751b",
       "version_major": 2,
       "version_minor": 0
      },
      "text/plain": [
       "Loading checkpoint shards:   0%|          | 0/2 [00:00<?, ?it/s]"
      ]
     },
     "metadata": {},
     "output_type": "display_data"
    }
   ],
   "source": [
    "del query_engine\n",
    "gc.collect()\n",
    "torch.cuda.empty_cache()\n",
    "lazy_loader = create_llama_index_lazyloader(create_llama_service_context(embed_model, \"/home/jupyter/vicuna-7b\", query_wrapper_prompt), persist_dir_base)"
   ]
  },
  {
   "cell_type": "code",
   "execution_count": 10,
   "id": "b3fd2f8e-c7c9-4e53-8e67-e134b74faae3",
   "metadata": {},
   "outputs": [
    {
     "name": "stdout",
     "output_type": "stream",
     "text": [
      "----------------------------------------------\n",
      "BeiGene Ltd and Swiss firm Novartis AG are developing an experimental drug that could become the first-line of therapy for patients with advanced forms of gastric cancer. The drug is currently approved for 10 different cancer indications in China alone, but is not approved in the United States. The experimental drug, in combination with chemotherapy, prolonged survival in patients whose gastric cancer has either spread to other parts of the body, or is in advanced stages. The drug is currently under review by the U.S. Food and Drug Administration as a second-line therapy for another type of esophageal cancer after prior chemotherapy. No other companies developing drugs are mentioned in the news extracts.\n",
      "----------------------------------------------\n",
      "----------------------------------------------\n",
      "AbbVie Inc is developing drugs, including Skyrizi for psoriasis and related conditions, Rinvoq for several autoimmune disorders, and Botox for cosmetic and therapeutic use. They recently beat sales expectations with revenue of $12.23 billion and raised their 2023 adjusted earnings expectations. However, sales of newer drugs Skyrizi and Rinvoq were hit as customers worked through inventories of their flagship arthritis drug Humira.\n",
      "----------------------------------------------\n"
     ]
    }
   ],
   "source": [
    "VICUNA_FINAL_PROMPT = \"Several extracts from news articles are provided below. \" + \\\n",
    "\"Using only information from the news extracts, answer the given inquiry. \" + \\\n",
    "\"The answer should read well in addition to providing relevant and accurate information.\" + \\\n",
    "'If the inqury cannot be answered, write \"CANNOT ANSWER\" as the response.' +\\\n",
    "'Do not simply repeat the news extracts. ' +\\\n",
    "'The response should be formatted in plain text.\\n\\n' + \\\n",
    "\"Inquiry: {query_str}\\n\\nNews Article Extracts:\\n{context_str}\\n\"\n",
    "\n",
    "\n",
    "QA_PROMPT = QuestionAnswerPrompt(VICUNA_FINAL_PROMPT)\n",
    "inquiry = \"Which companies are developing drugs?\"\n",
    "\n",
    "\n",
    "topic_filtered = faiss_topic_filter(inquiry, topic_existing_sum)\n",
    "for r in filter_llm(topic_filtered, inquiry):\n",
    "    if r.rating < 0.5:\n",
    "        continue\n",
    "    index = lazy_loader(r.topic_number)\n",
    "    if not index:\n",
    "        continue\n",
    "    query_engine = index.as_query_engine(text_qa_template=QA_PROMPT)\n",
    "    result_str = query_engine.query(inquiry)\n",
    "    logging.info(\"Generated response: %s\" % result_str.response)\n",
    "#    if \"INSUFFICIENT INFORMATION\" in result_str.response:\n",
    "#        continue\n",
    "    print(\"----------------------------------------------\")\n",
    "    print(result_str.response)\n",
    "    print(\"----------------------------------------------\")"
   ]
  },
  {
   "cell_type": "code",
   "execution_count": 11,
   "id": "6232fa0c-92ed-4ea3-998c-f6dc30b216c1",
   "metadata": {},
   "outputs": [
    {
     "name": "stdout",
     "output_type": "stream",
     "text": [
      "----------------------------------------------\n",
      "Alphabet, Microsoft, Amazon, and Meta are all developing new AI products, including large language models (LLMs) that power chatbots like Google's Bard AI, which is designed to rival Microsoft and OpenAI's ChatGPT. Tech CEOs are emphasizing the need for large investments in AI, including specialized supercomputers for generative AI programs that produce outputs that seem like they were made by a human. Sundar Pichai, CEO of Alphabet, is under pressure to deliver AI products due to the perceived threat to Google's search engine from sophisticated chatbots.\n",
      "----------------------------------------------\n",
      "----------------------------------------------\n",
      "Qualcomm is developing a chip called the Cloud AI 100 that aims for parsimonious power consumption. In testing data published on Wednesday by MLCommons, Qualcomm's AI 100 beat Nvidia's flagship H100 chip at classifying images and object detection. Nvidia, however, took the top spot in both absolute performance terms and power efficiency terms in a test of natural language processing. Nvidia is a major supplier of chips and computing systems for artificial intelligence and aims to provide tools to put safety standards into software code if and when those standards do arrive, whether through industry consensus or regulation. CANNOT ANSWER which other companies are developing new AI products.\n",
      "----------------------------------------------\n",
      "----------------------------------------------\n",
      "Several companies are developing new AI products for the legal industry, including legal AI startup Harvey, accounting giant PricewaterhouseCoopers, legal research company Casetext, Holland & Knight, and Baker McKenzie. Law firms such as DLA Piper, Orrick, Herrington & Sutcliffe, and Fisher Phillips have signed deals to adopt these new AI products, which are designed to speed up tasks like legal research, contract analysis, and document review. Some firms are developing capabilities in-house, such as Holland & Knight's AI tool to help lawyers review and modify credit agreements.\n",
      "----------------------------------------------\n",
      "----------------------------------------------\n",
      "CANNOT ANSWER. The news extracts do not provide information on which companies are developing new AI products.\n",
      "----------------------------------------------\n"
     ]
    }
   ],
   "source": [
    "inquiry = \"Which companies are developing new AI products?\"\n",
    "\n",
    "\n",
    "topic_filtered = faiss_topic_filter(inquiry, topic_existing_sum)\n",
    "for r in filter_llm(topic_filtered, inquiry):\n",
    "    if r.rating < 0.5:\n",
    "        continue\n",
    "    index = lazy_loader(r.topic_number)\n",
    "    if not index:\n",
    "        continue\n",
    "    query_engine = index.as_query_engine(text_qa_template=QA_PROMPT)\n",
    "    result_str = query_engine.query(inquiry)\n",
    "    logging.info(\"Generated response: %s\" % result_str.response)\n",
    "#    if \"INSUFFICIENT INFORMATION\" in result_str.response:\n",
    "#        continue\n",
    "    print(\"----------------------------------------------\")\n",
    "    print(result_str.response)\n",
    "    print(\"----------------------------------------------\")"
   ]
  },
  {
   "cell_type": "code",
   "execution_count": null,
   "id": "1250469f-fbb8-499d-869a-6525f2c21eab",
   "metadata": {},
   "outputs": [],
   "source": []
  }
 ],
 "metadata": {
  "environment": {
   "kernel": "llamaidx",
   "name": "common-cu110.m108",
   "type": "gcloud",
   "uri": "gcr.io/deeplearning-platform-release/base-cu110:m108"
  },
  "kernelspec": {
   "display_name": "llamaidx",
   "language": "python",
   "name": "llamaidx"
  },
  "language_info": {
   "codemirror_mode": {
    "name": "ipython",
    "version": 3
   },
   "file_extension": ".py",
   "mimetype": "text/x-python",
   "name": "python",
   "nbconvert_exporter": "python",
   "pygments_lexer": "ipython3",
   "version": "3.10.11"
  }
 },
 "nbformat": 4,
 "nbformat_minor": 5
}
