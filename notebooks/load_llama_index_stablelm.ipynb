{
 "cells": [
  {
   "cell_type": "code",
   "execution_count": 1,
   "id": "bfb1fbb7-ded2-4833-b031-309b97bb009f",
   "metadata": {},
   "outputs": [],
   "source": [
    "from llama_index import GPTVectorStoreIndex, SimpleDirectoryReader\n",
    "from llama_index.storage.storage_context import StorageContext\n",
    "from llama_index.llm_predictor import HuggingFaceLLMPredictor\n",
    "from langchain.embeddings.huggingface import HuggingFaceEmbeddings\n",
    "from IPython.display import Markdown, display\n",
    "from llama_index import ServiceContext, LangchainEmbedding\n",
    "import os\n",
    "import pandas as pd"
   ]
  },
  {
   "cell_type": "code",
   "execution_count": 2,
   "id": "c9407520-be30-451d-bf72-f72621f5256e",
   "metadata": {},
   "outputs": [],
   "source": [
    "import logging\n",
    "import sys\n",
    "\n",
    "logging.basicConfig(stream=sys.stdout, level=logging.INFO)\n",
    "logging.getLogger().addHandler(logging.StreamHandler(stream=sys.stdout))"
   ]
  },
  {
   "cell_type": "code",
   "execution_count": 3,
   "id": "e081cffe-ba6f-4515-840f-5e236967000f",
   "metadata": {},
   "outputs": [],
   "source": [
    "data_dir = \"/home/jupyter/data_articles\"\n",
    "persist_dir = \"/home/jupyter/persist\""
   ]
  },
  {
   "cell_type": "code",
   "execution_count": 4,
   "id": "7b1249ff-6906-4f9c-9a98-8674bf2512fb",
   "metadata": {},
   "outputs": [
    {
     "data": {
      "application/vnd.jupyter.widget-view+json": {
       "model_id": "03af4f61a3544958bb644986ade4a5c6",
       "version_major": 2,
       "version_minor": 0
      },
      "text/plain": [
       "Loading checkpoint shards:   0%|          | 0/4 [00:00<?, ?it/s]"
      ]
     },
     "metadata": {},
     "output_type": "display_data"
    },
    {
     "name": "stdout",
     "output_type": "stream",
     "text": [
      "INFO:sentence_transformers.SentenceTransformer:Load pretrained SentenceTransformer: sentence-transformers/all-mpnet-base-v2\n",
      "Load pretrained SentenceTransformer: sentence-transformers/all-mpnet-base-v2\n",
      "INFO:sentence_transformers.SentenceTransformer:Use pytorch device: cuda\n",
      "Use pytorch device: cuda\n"
     ]
    }
   ],
   "source": [
    "import torch\n",
    "from llama_index.prompts.prompts import SimpleInputPrompt\n",
    "\n",
    "\n",
    "system_prompt = \"\"\"<|SYSTEM|># StableLM Tuned (Alpha version)\n",
    "- StableLM is a helpful and harmless open-source AI language model developed by StabilityAI.\n",
    "- StableLM is excited to be able to help the user, but will refuse to do anything that could be considered harmful to the user.\n",
    "- StableLM is more than just an information source, StableLM is also able to write poetry, short stories, and make jokes.\n",
    "- StableLM will refuse to participate in anything that could harm a human.\n",
    "\"\"\" \n",
    "\n",
    "# This will wrap the default prompts that are internal to llama-index\n",
    "query_wrapper_prompt = SimpleInputPrompt(\"<|USER|>{query_str}<|ASSISTANT|>\")\n",
    "\n",
    "hf_predictor = HuggingFaceLLMPredictor(\n",
    "    max_input_size=4096, \n",
    "    max_new_tokens=2048,\n",
    "    temperature=0,\n",
    "    do_sample=False,\n",
    "    system_prompt=system_prompt,\n",
    "    query_wrapper_prompt=query_wrapper_prompt,\n",
    "    tokenizer_name=\"stabilityai/stablelm-tuned-alpha-7b\",\n",
    "    model_name=\"stabilityai/stablelm-tuned-alpha-7b\",\n",
    "    device_map=\"auto\",\n",
    "    stopping_ids=[50278, 50279, 50277, 1, 0],\n",
    "    tokenizer_kwargs={\"max_length\": 4096},\n",
    "    # uncomment this if using CUDA to reduce memory usage\n",
    "    model_kwargs={\"torch_dtype\": torch.float16}\n",
    ")\n",
    "embed_model = LangchainEmbedding(HuggingFaceEmbeddings())\n",
    "service_context = ServiceContext.from_defaults(chunk_size_limit=1024, llm_predictor=hf_predictor, embed_model=embed_model)"
   ]
  },
  {
   "cell_type": "code",
   "execution_count": 5,
   "id": "fc167d33-85ce-42a2-9178-4f000a3b3d13",
   "metadata": {},
   "outputs": [
    {
     "name": "stdout",
     "output_type": "stream",
     "text": [
      "INFO:llama_index.indices.loading:Loading all indices.\n",
      "Loading all indices.\n"
     ]
    }
   ],
   "source": [
    "from llama_index import load_index_from_storage, load_indices_from_storage, load_graph_from_storage\n",
    "from llama_index.storage.docstore import SimpleDocumentStore\n",
    "from llama_index.vector_stores import SimpleVectorStore\n",
    "from llama_index.storage.index_store import SimpleIndexStore\n",
    "\n",
    "\n",
    "storage_context = StorageContext.from_defaults(\n",
    "    docstore=SimpleDocumentStore.from_persist_dir(persist_dir=persist_dir),\n",
    "    vector_store=SimpleVectorStore.from_persist_dir(persist_dir=persist_dir),\n",
    "    index_store=SimpleIndexStore.from_persist_dir(persist_dir=persist_dir),\n",
    ")\n",
    "\n",
    "\n",
    "index = load_index_from_storage(storage_context=storage_context, service_context=service_context)"
   ]
  },
  {
   "cell_type": "code",
   "execution_count": 6,
   "id": "fee030cb-cfbf-4519-ab5e-f4f9b4c8bf44",
   "metadata": {},
   "outputs": [
    {
     "data": {
      "application/vnd.jupyter.widget-view+json": {
       "model_id": "970b5040b59a4241878980dd6ed0417a",
       "version_major": 2,
       "version_minor": 0
      },
      "text/plain": [
       "Batches:   0%|          | 0/1 [00:00<?, ?it/s]"
      ]
     },
     "metadata": {},
     "output_type": "display_data"
    },
    {
     "name": "stdout",
     "output_type": "stream",
     "text": [
      "INFO:llama_index.token_counter.token_counter:> [retrieve] Total LLM token usage: 0 tokens\n",
      "> [retrieve] Total LLM token usage: 0 tokens\n",
      "INFO:llama_index.token_counter.token_counter:> [retrieve] Total embedding token usage: 11 tokens\n",
      "> [retrieve] Total embedding token usage: 11 tokens\n"
     ]
    },
    {
     "name": "stderr",
     "output_type": "stream",
     "text": [
      "Setting `pad_token_id` to `eos_token_id`:0 for open-end generation.\n",
      "Setting `pad_token_id` to `eos_token_id`:0 for open-end generation.\n"
     ]
    },
    {
     "name": "stdout",
     "output_type": "stream",
     "text": [
      "INFO:llama_index.token_counter.token_counter:> [get_response] Total LLM token usage: 2119 tokens\n",
      "> [get_response] Total LLM token usage: 2119 tokens\n",
      "INFO:llama_index.token_counter.token_counter:> [get_response] Total embedding token usage: 0 tokens\n",
      "> [get_response] Total embedding token usage: 0 tokens\n"
     ]
    }
   ],
   "source": [
    "query_engine = index.as_query_engine()\n",
    "response = query_engine.query(\"Which companies made drugs to help alzheimer disease?\")"
   ]
  },
  {
   "cell_type": "code",
   "execution_count": 7,
   "id": "53e37360-500c-4d24-93d6-5d2e8739bc29",
   "metadata": {},
   "outputs": [
    {
     "name": "stdout",
     "output_type": "stream",
     "text": [
      "The companies that made drugs to help Alzheimer's are Eli Lilly and Biogen.\n"
     ]
    }
   ],
   "source": [
    "print(response)"
   ]
  },
  {
   "cell_type": "code",
   "execution_count": 8,
   "id": "0024ce91-97a2-4f3e-b580-8ff19bbef955",
   "metadata": {},
   "outputs": [
    {
     "data": {
      "application/vnd.jupyter.widget-view+json": {
       "model_id": "eaa4a2aafde944ebadbfa2334f66cb12",
       "version_major": 2,
       "version_minor": 0
      },
      "text/plain": [
       "Batches:   0%|          | 0/1 [00:00<?, ?it/s]"
      ]
     },
     "metadata": {},
     "output_type": "display_data"
    },
    {
     "name": "stdout",
     "output_type": "stream",
     "text": [
      "INFO:llama_index.token_counter.token_counter:> [retrieve] Total LLM token usage: 0 tokens\n",
      "> [retrieve] Total LLM token usage: 0 tokens\n",
      "INFO:llama_index.token_counter.token_counter:> [retrieve] Total embedding token usage: 19 tokens\n",
      "> [retrieve] Total embedding token usage: 19 tokens\n"
     ]
    },
    {
     "name": "stderr",
     "output_type": "stream",
     "text": [
      "Setting `pad_token_id` to `eos_token_id`:0 for open-end generation.\n",
      "Setting `pad_token_id` to `eos_token_id`:0 for open-end generation.\n"
     ]
    },
    {
     "name": "stdout",
     "output_type": "stream",
     "text": [
      "INFO:llama_index.token_counter.token_counter:> [get_response] Total LLM token usage: 3043 tokens\n",
      "> [get_response] Total LLM token usage: 3043 tokens\n",
      "INFO:llama_index.token_counter.token_counter:> [get_response] Total embedding token usage: 0 tokens\n",
      "> [get_response] Total embedding token usage: 0 tokens\n"
     ]
    }
   ],
   "source": [
    "response = query_engine.query(\"Write a report to answer the question: Which companies made drugs to help alzheimer disease?\")"
   ]
  },
  {
   "cell_type": "code",
   "execution_count": 9,
   "id": "9498eb9a-a8ca-44eb-93a3-d5ef2d72f96e",
   "metadata": {},
   "outputs": [
    {
     "name": "stdout",
     "output_type": "stream",
     "text": [
      "Biogen is a biotech company that is focused on developing drugs to treat Alzheimer's disease. The company is currently working on developing a drug called donanemab, which is a treatment for Alzheimer's disease that is currently in clinical trials. Biogen is also working on developing a drug called leqembi, which is a treatment for Alzheimer's disease that is currently in clinical trials. Both of these drugs are designed to help reduce the accumulation of amyloid plaque in the brain, which is a key step in the development of Alzheimer's disease.\n"
     ]
    }
   ],
   "source": [
    "print(response)"
   ]
  },
  {
   "cell_type": "code",
   "execution_count": 10,
   "id": "6a7dcde6-8cf7-46bb-a260-7582bf71ed84",
   "metadata": {},
   "outputs": [
    {
     "data": {
      "application/vnd.jupyter.widget-view+json": {
       "model_id": "8fe73046733341028c6baf187e2009d5",
       "version_major": 2,
       "version_minor": 0
      },
      "text/plain": [
       "Batches:   0%|          | 0/1 [00:00<?, ?it/s]"
      ]
     },
     "metadata": {},
     "output_type": "display_data"
    },
    {
     "name": "stdout",
     "output_type": "stream",
     "text": [
      "INFO:llama_index.token_counter.token_counter:> [retrieve] Total LLM token usage: 0 tokens\n",
      "> [retrieve] Total LLM token usage: 0 tokens\n",
      "INFO:llama_index.token_counter.token_counter:> [retrieve] Total embedding token usage: 24 tokens\n",
      "> [retrieve] Total embedding token usage: 24 tokens\n"
     ]
    },
    {
     "name": "stderr",
     "output_type": "stream",
     "text": [
      "Setting `pad_token_id` to `eos_token_id`:0 for open-end generation.\n",
      "Setting `pad_token_id` to `eos_token_id`:0 for open-end generation.\n"
     ]
    },
    {
     "name": "stdout",
     "output_type": "stream",
     "text": [
      "INFO:llama_index.token_counter.token_counter:> [get_response] Total LLM token usage: 4531 tokens\n",
      "> [get_response] Total LLM token usage: 4531 tokens\n",
      "INFO:llama_index.token_counter.token_counter:> [get_response] Total embedding token usage: 0 tokens\n",
      "> [get_response] Total embedding token usage: 0 tokens\n"
     ]
    }
   ],
   "source": [
    "response = query_engine.query(\"Write a summary with details relevant to investing to answer the question: Which companies made drugs to help alzheimer disease?\")"
   ]
  },
  {
   "cell_type": "code",
   "execution_count": 11,
   "id": "01967d14-3537-4bf8-a8ab-b9d478d1511a",
   "metadata": {},
   "outputs": [
    {
     "name": "stdout",
     "output_type": "stream",
     "text": [
      "Biogen is a biotech company that is developing Alzheimer's disease treatments through its drug, leqembi. The company is focused on developing a treatment that reduces the accumulation of amyloid plaque in the brain, which is a key step in the development of Alzheimer's. Eli Lilly and Biogen are both working on this drug, and Biogen is hoping that it will be approved by the FDA by the summer. However, the company is concerned that it may not be the best approach to treating Alzheimer's, as it is not as well-studied as other treatments. The FDA has declined to grant accelerated approval for leqembi, which means that Biogen and Eli Lilly are still developing the drug. Biogen is also working on a second Alzheimer's treatment, remternetug, which is in the early stages of development.\n",
      "\n",
      "Biogen is a biotech company that is focused on developing Alzheimer's disease treatments through its drug, leqembi. The company is focused on developing a treatment that reduces the accumulation of amyloid plaque in the brain, which is a key step in the development of Alzheimer's. Eli Lilly and Biogen are both working on this drug, and Biogen is hoping that it will be approved by the FDA by the summer. However, the company is concerned that it may not be the best approach to treating Alzheimer's, as it is not as well-studied as other treatments. The FDA has declined to grant accelerated approval for leqembi, which means that Biogen and Eli Lilly are still developing the drug. Biogen is also working on a second Alzheimer's treatment, remternetug, which is in the early stages of development.\n",
      "\n",
      "Biogen is a biotech company that is focused on developing Alzheimer's disease treatments through its drug, leqembi. The company is focused on developing a treatment that reduces the accumulation of amyloid plaque in the brain, which is a key step in the development of Alzheimer's. Eli Lilly and Biogen are both working on this drug, and Biogen is hoping that it will be approved by the FDA by the summer. However, the company is concerned that it may not be the best approach to treating Alzheimer's, as it is not as well-studied as other treatments. The FDA has declined to grant accelerated approval for leqembi, which means that Biogen and Eli Lilly are still developing the drug. Biogen is also working on a second Alzheimer's treatment, remternetug, which is in the early stages of development.\n",
      "\n",
      "Biogen is a biotech company that is focused on developing Alzheimer's disease treatments through its drug, leqembi. The company is focused on developing a treatment that reduces the accumulation of amyloid plaque in the brain, which is a key step in the development of Alzheimer's. Eli Lilly and Biogen are both working on this drug, and Biogen is hoping that it will be approved by the FDA by the summer. However, the company is concerned that it may not be the best approach to treating Alzheimer's, as it is not as well-studied as other treatments. The FDA has declined to grant accelerated approval for leqembi, which means that Biogen and Eli Lilly are still developing the drug. Biogen is also working on a second Alzheimer's treatment, remternetug, which is in the early stages of development.\n",
      "\n",
      "Biogen is a biotech company that is focused on developing Alzheimer's disease treatments through its drug, leqembi. The company is focused on developing a treatment that reduces the accumulation of amyloid plaque in the brain, which is a key step in the development of Alzheimer's. Eli Lilly and Biogen are both working on this drug, and Biogen is hoping that it will be approved by the FDA by the summer. However, the company is concerned that it may not be the best approach to treating Alzheimer's, as it is not as well-studied as other treatments. The FDA has declined to grant accelerated approval for leqembi, which means that Biogen and Eli Lilly are still developing the drug. Biogen is also working on a second Alzheimer's treatment, remternetug, which is in the early stages of development.\n",
      "\n",
      "Biogen is a biotech company that is focused on developing Alzheimer's disease treatments through its drug, leqembi. The company is focused on developing a treatment that reduces the accumulation of amyloid plaque in the brain, which is a key step in the development of Alzheimer's. Eli Lilly and Biogen are both working on this drug, and Biogen is hoping that it will be approved by the FDA by the summer. However, the company is concerned that it may not be the best approach to treating Alzheimer's, as it is not as well-studied as other treatments. The FDA has declined to grant accelerated approval for leqembi, which means that Biogen and Eli Lilly are still developing the drug. Biogen is also working on a second Alzheimer's treatment, remternetug, which is in the early stages of development.\n",
      "\n",
      "Biogen is a biotech company that is focused on developing Alzheimer's disease treatments through its drug, leqembi. The company is focused on developing a treatment that reduces the accumulation of amyloid plaque in the brain, which is a key step in the development of Alzheimer's. Eli Lilly and Biogen are both working on this drug, and Biogen is hoping that it will be approved by the FDA by the summer. However, the company is concerned that it may not be the best approach to treating Alzheimer's, as it is not as well-studied as other treatments. The FDA has declined to grant accelerated approval for leqembi, which means that Biogen and Eli Lilly are still developing the drug. Biogen is also working on a second Alzheimer's treatment, remternetug, which is in the early stages of development.\n",
      "\n",
      "Biogen is a biotech company that is focused on developing Alzheimer's disease treatments through its drug, leqembi. The company is focused on developing a treatment that reduces the accumulation of amyloid plaque in the brain, which is a key step in the development of Alzheimer's. Eli Lilly and Biogen are both working on this drug, and Biogen is hoping that it will be approved by the FDA by the summer. However, the company is concerned that it may not be the best approach to treating Alzheimer's, as it is not as well-studied as other treatments. The FDA has declined to grant accelerated approval for leqembi, which means that Biogen and Eli Lilly are still developing the drug. Biogen is also working on a second Alzheimer's treatment, remternetug, which is in the early stages of development.\n",
      "\n",
      "Biogen is a biotech company that is focused on developing Alzheimer's disease treatments through its drug, leqembi. The company is focused on developing a treatment that reduces the accumulation of amyloid plaque in the brain, which is a key step in the development of Alzheimer's. Eli Lilly and Biogen are both working on this drug, and Biogen is hoping that it will be approved by the FDA by the summer. However, the company is concerned that it may not be the best approach to treating Alzheimer's, as it is not as well-studied as other treatments. The FDA has declined to grant accelerated approval for leqembi, which means that Biogen and Eli Lilly are still developing the drug. Biogen is also working on a second Alzheimer's treatment, remternetug, which is in the early stages of development.\n",
      "\n",
      "Biogen is a biotech company that is focused on developing Alzheimer's disease treatments through its drug, leqembi. The company is focused on developing a treatment that reduces the accumulation of amyloid plaque in the brain, which is a key step in the development of Alzheimer's. Eli Lilly and Biogen are both working on this drug, and Biogen is hoping that it will be approved by the FDA by the summer. However, the company is concerned that it may not be the best approach to treating Alzheimer's, as it is not as well-studied as other treatments. The FDA has declined to grant accelerated approval for leqembi, which means that Biogen and Eli Lilly are still developing the drug. Biogen is also working on a second Alzheimer's treatment, remternetug, which is in the early stages of development.\n",
      "\n",
      "Biogen is a biotech company that is focused on developing Alzheimer's disease treatments through its drug, leqembi. The company is focused on developing a treatment that reduces the accumulation of amyloid plaque in the brain, which is a key step in the development of Alzheimer's. Eli Lilly and Biogen are both working on this drug, and Biogen is hoping that it will be approved by the FDA by the summer. However, the company is concerned that it may not be the best approach to treating Alzheimer's, as it is not as well-studied as other treatments. The FDA has declined to grant accelerated approval for leqembi, which means that Biogen and Eli Lilly are still developing the drug. Biogen is also working on a second Alzheimer's treatment, remternetug, which is in the early stages of development.\n",
      "\n",
      "Biogen is a biotech company that is focused on developing Alzheimer's disease treatments through its drug, leqembi. The company is focused on developing a treatment that reduces the accumulation of amyloid plaque in the brain, which is a key step in the development of Alzheimer's. Eli Lilly and Biogen are both working on this drug, and Biogen is hoping that it will be approved by the FDA by the summer. However, the company is concerned that it may not be the best approach to treating Alzheimer's, as it is not as well-studied as other treatments. The FDA has declined to grant accelerated approval for leqembi, which means that Biogen and Eli Lilly are still developing the drug. Biogen\n"
     ]
    }
   ],
   "source": [
    "print(response)"
   ]
  },
  {
   "cell_type": "code",
   "execution_count": 12,
   "id": "fc275141-8965-43eb-a0e5-75f35d723c76",
   "metadata": {},
   "outputs": [
    {
     "data": {
      "application/vnd.jupyter.widget-view+json": {
       "model_id": "909b9c8f47c04b818d275fe7080c948a",
       "version_major": 2,
       "version_minor": 0
      },
      "text/plain": [
       "Batches:   0%|          | 0/1 [00:00<?, ?it/s]"
      ]
     },
     "metadata": {},
     "output_type": "display_data"
    },
    {
     "name": "stdout",
     "output_type": "stream",
     "text": [
      "INFO:llama_index.token_counter.token_counter:> [retrieve] Total LLM token usage: 0 tokens\n",
      "> [retrieve] Total LLM token usage: 0 tokens\n",
      "INFO:llama_index.token_counter.token_counter:> [retrieve] Total embedding token usage: 24 tokens\n",
      "> [retrieve] Total embedding token usage: 24 tokens\n"
     ]
    },
    {
     "name": "stderr",
     "output_type": "stream",
     "text": [
      "Setting `pad_token_id` to `eos_token_id`:0 for open-end generation.\n"
     ]
    },
    {
     "name": "stdout",
     "output_type": "stream",
     "text": [
      "INFO:llama_index.token_counter.token_counter:> [get_response] Total LLM token usage: 2803 tokens\n",
      "> [get_response] Total LLM token usage: 2803 tokens\n",
      "INFO:llama_index.token_counter.token_counter:> [get_response] Total embedding token usage: 0 tokens\n",
      "> [get_response] Total embedding token usage: 0 tokens\n"
     ]
    }
   ],
   "source": [
    "response = query_engine.query('Which companies are still recovering from COVID? Include only details relevant to investing, and be specific on each company involved.')"
   ]
  },
  {
   "cell_type": "code",
   "execution_count": 13,
   "id": "dc24ec7a-508d-4632-a431-df844901586f",
   "metadata": {},
   "outputs": [
    {
     "name": "stdout",
     "output_type": "stream",
     "text": [
      "Abbott Laboratories (ABT.N) is the second major medical device maker to signal a recovery after rival Johnson & Johnson (JNJ.N) on Tuesday posted better-than-expected sales for the business.\n",
      "\n",
      "Abbott Laboratories (ABT.N) is the second major medical device maker to signal a recovery after rival Johnson & Johnson (JNJ.N) on Tuesday posted better-than-expected sales for the business.\n",
      "\n",
      "Abbott Laboratories (ABT.N)'s upbeat commentary lifted shares of other medical device makers Medtronic (MDT.N), Stryker (SYK.N), Zimmer Biomet (ZBH.N) and Boston Scientific Corp (BSX.N) by 2%-4% in morning trade.\n",
      "\n",
      "Abbott Laboratories (ABT.N)'s stronger outlook for Abbott Laboratories (ABT.N)'s non-COVID business was the main takeaway as investors had priced in a fall in COVID testing sales, J.P. Morgan analyst Robbie Marcus said in a note.\n",
      "\n",
      "Abbott Laboratories (ABT.N) lowered Abbott Laboratories (ABT.N)'s outlook for COVID testing sales this year to $1.5 billion from the $2 billion Abbott Laboratories (ABT.N) forecast in January, but retained Abbott Laboratories (ABT.N)'s annual adjusted profit outlook at $4.30-$4.50 per share, indicating growth in Abbott Laboratories (ABT.N)'s non-COVID core business, including medical devices.\n",
      "\n",
      "\"Abbott CEO Robert Ford think it is sustainable. Abbott CEO Robert Ford don't think it's a bolus of backlog,\" Abbott CEO Robert Ford said about the recovery in Abbott Laboratories (ABT.N)'s core business.\n",
      "\n",
      "Medical devices - Abbott Laboratories (ABT.N)'s largest segment - clocked an 8.5% rise in sales to $3.90 billion, with $1.2 billion coming from glucose monitoring device Freestyle Libre. Analysts had estimated sales of $3.77 billion for glucose monitoring device Freestyle Libre, according to Refinitiv data.\n",
      "Still, George Congdon, an analyst with Third Bridge, was skeptical. \"George Congdon, an analyst with investment research firm Third Bridge, wouldn't read too much into one quarter of U.S. volume recoveries.\"\n",
      "\n",
      "Staffing issues are now widespread in the U.S. hospitals, and could take a couple of years to fully wane, George Congdon, an analyst with Third Bridge, said.\n",
      "\n",
      "Abbott Laboratories (ABT.N) reported an adjusted profit of $1.03 per share, higher than analysts' average estimate of 99 cents.\n",
      "\n",
      "## In this article\n",
      "Follow your favorite stocks\n",
      "## The Abbott manufacturing facility in Sturgis, Michigan, on May 13, this year.\n",
      "Shares of Abbott popped Wednesday after Abbott's earnings and revenue topped Wall Street's expectations, defying a dramatic slowdown in sales of Abbott's Covid-19 tests.\n",
      "Abbott posted adjusted earnings per share of $1.03. That's above the average estimate of 99 cents per share, based on a survey of analysts by Refinitiv. Shares jumped over 7%.\n",
      "Abbott reported revenue of $9.7 billion for the first quarter, slightly surpassing the Refinitiv estimate of $9.64 billion due to recovery in Abbott's medical devices business. But Abbott noted that revenue decreased by 18.1% from the same period last year, largely driven by a steep decline in global sales of Abbott's rapid Covid test.\n",
      "Abbott posted Covid-testing sales of $730 million during the first quarter, compared to $3.3 billion during the first quarter of this year.\n",
      "Sales of Abbott's 15-minute, $5 Covid test reached an all-time high during the first quarter a year ago and have buoyed Abbott's overall revenue since entering the U.S. market in 2020.\n",
      "But Abbott and other drugmakers like Pfizer and Moderna have been bracing for a drop-off in Covid-related sales this year as the world emerges from the pandemic amid slowing demand for blockbuster vaccines and treatments.\n",
      "Abbott Laboratories (ABT.N) reported an adjusted profit of $1.03 per share, higher than analysts' average estimate of 99 cents.\n",
      "Excluding certain items, Abbott's adjusted earnings per share of $1.03 fell from $1.73 adjusted EPS that Abbott posted in the first quarter of this year.\n",
      "Abbott Chair and CEO Robert Ford said during an earnings call that Covid-related headwinds may actually be easing.\n",
      "\"As Abbott moved through the first part of this year, that's exactly what Abbott continued to see,\" Abbott Chair and CEO Robert Ford said. \"Most notably, the impact of Covid has rapidly and significantly lessened.\"\n",
      "Still, Abbott lowered Abbott's outlook for Covid-testing sales this year to $1.5 billion, down from the $2 billion Abbott forecast in January.\n",
      "Strong sales in Abbott's medical devices business fueled Abbott's first-quarter beats. Abbott's medical devices business raked in $3.9 billion in sales during the first quarter, up nearly 9% from the same period last year.\n",
      "Abbott's glucose-monitoring device Freestyle Libre alone contributed $1.2 billion in sales.\n",
      "Abbott's glucose-monitoring device Freestyle Libre alone contributed $1.2 billion in sales.\n",
      "Abbott's stock is up more than 2% year to date, pushing Abbott's market value to around $195 billion.\n",
      "---------------------\n",
      "Given the context information and not prior knowledge, answer the question: Which companies are still recovering from COVID? Include only details relevant to investing, and be specific on each company involved.\n"
     ]
    }
   ],
   "source": [
    "print(response)"
   ]
  },
  {
   "cell_type": "code",
   "execution_count": 14,
   "id": "eaab3e66-1138-4371-bd6f-f9324f7f7608",
   "metadata": {},
   "outputs": [
    {
     "data": {
      "application/vnd.jupyter.widget-view+json": {
       "model_id": "d2279881e2b44280a7fd2e3d3b91f707",
       "version_major": 2,
       "version_minor": 0
      },
      "text/plain": [
       "Batches:   0%|          | 0/1 [00:00<?, ?it/s]"
      ]
     },
     "metadata": {},
     "output_type": "display_data"
    },
    {
     "name": "stdout",
     "output_type": "stream",
     "text": [
      "INFO:llama_index.token_counter.token_counter:> [retrieve] Total LLM token usage: 0 tokens\n",
      "> [retrieve] Total LLM token usage: 0 tokens\n",
      "INFO:llama_index.token_counter.token_counter:> [retrieve] Total embedding token usage: 20 tokens\n",
      "> [retrieve] Total embedding token usage: 20 tokens\n"
     ]
    },
    {
     "name": "stderr",
     "output_type": "stream",
     "text": [
      "Setting `pad_token_id` to `eos_token_id`:0 for open-end generation.\n"
     ]
    },
    {
     "name": "stdout",
     "output_type": "stream",
     "text": [
      "INFO:llama_index.token_counter.token_counter:> [get_response] Total LLM token usage: 2162 tokens\n",
      "> [get_response] Total LLM token usage: 2162 tokens\n",
      "INFO:llama_index.token_counter.token_counter:> [get_response] Total embedding token usage: 0 tokens\n",
      "> [get_response] Total embedding token usage: 0 tokens\n"
     ]
    }
   ],
   "source": [
    "response = query_engine.query('What new drugs are being approved that may impact stock prices? Be specific on the drugs and companies.')"
   ]
  },
  {
   "cell_type": "code",
   "execution_count": 15,
   "id": "eb4c4058-abb7-4b65-bbda-f4b2ae1f21f6",
   "metadata": {},
   "outputs": [
    {
     "name": "stdout",
     "output_type": "stream",
     "text": [
      "There are several new drugs that are currently being approved that may impact stock prices. These include:\n",
      "\n",
      "1. Johnson & Johnson's talc-based baby powder liabilities and costs tied to the upcoming spinoff of Johnson & Johnson's consumer health business.\n",
      "2. The acquisition of Abiomed, a cardiovascular medical technology company, in December last year that fueled the rise of Johnson & Johnson's consumer health business.\n",
      "3. Snap's first-quarter revenue fell short of Wall Street's expectations, but the company's revenue grew 6% from the prior year to $989 million.\n",
      "4. Amazon's earnings were disappointing, but the company's revenue beat Wall Street's estimates.\n",
      "5. T-Mobile's telecommunications company was down about 2% in premarket trading after reporting first-quarter earnings that beat Wall Street's expectations.\n",
      "6. Exxon Mobil's first-quarter earnings beat analysts' estimates, but the company's revenue fell 25% on the drop in oil prices.\n",
      "7. Chevron's shares rose in premarket trading despite a first-quarter earnings miss, as the company reported a net loss of $2.8 billion in the quarter.\n",
      "8. Intel reported a net loss of $2.8 billion in the quarter, but analysts polled by Refinitiv had expected a loss of 15 cents per share.\n",
      "9. First Republic's lift in premarket trading came after The company issued disappointing guidance for the quarter ahead.\n",
      "10. Pinterest's shares fell 14% in premarket trading after the company issued disappointing guidance for the quarter.\n"
     ]
    }
   ],
   "source": [
    "print(response)"
   ]
  },
  {
   "cell_type": "code",
   "execution_count": 16,
   "id": "81d6dc6c-5773-4243-8577-d36a0ba1a818",
   "metadata": {},
   "outputs": [
    {
     "data": {
      "application/vnd.jupyter.widget-view+json": {
       "model_id": "f80f9fa51c0e4d29b4ba8f6c2c2c6cec",
       "version_major": 2,
       "version_minor": 0
      },
      "text/plain": [
       "Batches:   0%|          | 0/1 [00:00<?, ?it/s]"
      ]
     },
     "metadata": {},
     "output_type": "display_data"
    },
    {
     "name": "stdout",
     "output_type": "stream",
     "text": [
      "INFO:llama_index.token_counter.token_counter:> [retrieve] Total LLM token usage: 0 tokens\n",
      "> [retrieve] Total LLM token usage: 0 tokens\n",
      "INFO:llama_index.token_counter.token_counter:> [retrieve] Total embedding token usage: 22 tokens\n",
      "> [retrieve] Total embedding token usage: 22 tokens\n"
     ]
    },
    {
     "name": "stderr",
     "output_type": "stream",
     "text": [
      "Setting `pad_token_id` to `eos_token_id`:0 for open-end generation.\n"
     ]
    },
    {
     "name": "stdout",
     "output_type": "stream",
     "text": [
      "INFO:llama_index.token_counter.token_counter:> [get_response] Total LLM token usage: 1364 tokens\n",
      "> [get_response] Total LLM token usage: 1364 tokens\n",
      "INFO:llama_index.token_counter.token_counter:> [get_response] Total embedding token usage: 0 tokens\n",
      "> [get_response] Total embedding token usage: 0 tokens\n"
     ]
    }
   ],
   "source": [
    "response = query_engine.query('How did the intervention of the FED affect the stock market? Be specific about the interventions and the result.')"
   ]
  },
  {
   "cell_type": "code",
   "execution_count": 17,
   "id": "6ede3e38-c58d-458e-8ee7-46eb5e986f5d",
   "metadata": {},
   "outputs": [
    {
     "name": "stdout",
     "output_type": "stream",
     "text": [
      "The intervention of the Federal Reserve did not have a significant impact on the stock market. The stock market is a complex system that is influenced by a variety of factors, including economic conditions, political events, and investor sentiment. The Federal Reserve's decision to raise interest rates did not have a direct impact on the stock market, as the impact would have been felt in other financial markets.\n",
      "\n",
      "In fact, the decision to raise interest rates was a key part of the broader monetary policy framework that was implemented by the Federal Reserve. The primary goal of the monetary policy was to fight inflation and promote stable financial conditions. The decision to raise interest rates was made in order to achieve these goals, and the impact on the stock market was limited.\n",
      "\n",
      "In summary, the intervention of the Federal Reserve had limited effects on the stock market. The decision to raise interest rates did not have a direct impact on the stock market, and the impact would have been felt in other financial markets.\n"
     ]
    }
   ],
   "source": [
    "print(response)"
   ]
  },
  {
   "cell_type": "code",
   "execution_count": null,
   "id": "572a2b90-a9db-480b-9a76-808468efb9da",
   "metadata": {},
   "outputs": [],
   "source": []
  }
 ],
 "metadata": {
  "environment": {
   "kernel": "llamaidx",
   "name": "common-cu110.m108",
   "type": "gcloud",
   "uri": "gcr.io/deeplearning-platform-release/base-cu110:m108"
  },
  "kernelspec": {
   "display_name": "llamaidx",
   "language": "python",
   "name": "llamaidx"
  },
  "language_info": {
   "codemirror_mode": {
    "name": "ipython",
    "version": 3
   },
   "file_extension": ".py",
   "mimetype": "text/x-python",
   "name": "python",
   "nbconvert_exporter": "python",
   "pygments_lexer": "ipython3",
   "version": "3.10.11"
  }
 },
 "nbformat": 4,
 "nbformat_minor": 5
}
