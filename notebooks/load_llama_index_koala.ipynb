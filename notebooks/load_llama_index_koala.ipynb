{
 "cells": [
  {
   "cell_type": "code",
   "execution_count": 1,
   "id": "bfb1fbb7-ded2-4833-b031-309b97bb009f",
   "metadata": {},
   "outputs": [],
   "source": [
    "from llama_index import GPTVectorStoreIndex, SimpleDirectoryReader, LLMPredictor, PromptHelper\n",
    "from llama_index.storage.storage_context import StorageContext\n",
    "from llama_index.llm_predictor import HuggingFaceLLMPredictor\n",
    "from langchain.embeddings.huggingface import HuggingFaceEmbeddings\n",
    "from IPython.display import Markdown, display\n",
    "from llama_index import ServiceContext, LangchainEmbedding\n",
    "import os\n",
    "import pandas as pd\n",
    "from transformers import LlamaTokenizer, LlamaForCausalLM"
   ]
  },
  {
   "cell_type": "code",
   "execution_count": 2,
   "id": "c9407520-be30-451d-bf72-f72621f5256e",
   "metadata": {},
   "outputs": [],
   "source": [
    "import logging\n",
    "import sys\n",
    "\n",
    "logging.basicConfig(stream=sys.stdout, level=logging.INFO)\n",
    "logging.getLogger().addHandler(logging.StreamHandler(stream=sys.stdout))"
   ]
  },
  {
   "cell_type": "code",
   "execution_count": 3,
   "id": "e081cffe-ba6f-4515-840f-5e236967000f",
   "metadata": {},
   "outputs": [],
   "source": [
    "data_dir = \"/home/jupyter/data_articles\"\n",
    "persist_dir = \"/home/jupyter/persist\""
   ]
  },
  {
   "cell_type": "code",
   "execution_count": 4,
   "id": "89977649-699a-4f5f-bc3c-91a5ed10fa97",
   "metadata": {},
   "outputs": [
    {
     "data": {
      "text/plain": [
       "'USER: test GPT:'"
      ]
     },
     "execution_count": 4,
     "metadata": {},
     "output_type": "execute_result"
    }
   ],
   "source": [
    "import torch\n",
    "from llama_index.prompts.prompts import SimpleInputPrompt\n",
    "from langchain.llms.base import LLM\n",
    "from typing import Optional, List, Mapping, Any\n",
    "\n",
    "\n",
    "system_prompt = \"\"\"BEGINNING OF CONVERSATION: \"\"\" \n",
    "\n",
    "# This will wrap the default prompts that are internal to llama-index\n",
    "query_wrapper_prompt = SimpleInputPrompt(\"USER: {query_str} GPT:\")\n",
    "query_wrapper_prompt.format(query_str=\"test\")"
   ]
  },
  {
   "cell_type": "code",
   "execution_count": 5,
   "id": "7b1249ff-6906-4f9c-9a98-8674bf2512fb",
   "metadata": {},
   "outputs": [
    {
     "data": {
      "application/vnd.jupyter.widget-view+json": {
       "model_id": "32b59cc9e16145e39e0b0b8c00ca3574",
       "version_major": 2,
       "version_minor": 0
      },
      "text/plain": [
       "Loading checkpoint shards:   0%|          | 0/2 [00:00<?, ?it/s]"
      ]
     },
     "metadata": {},
     "output_type": "display_data"
    },
    {
     "name": "stdout",
     "output_type": "stream",
     "text": [
      "INFO:sentence_transformers.SentenceTransformer:Load pretrained SentenceTransformer: sentence-transformers/all-mpnet-base-v2\n",
      "Load pretrained SentenceTransformer: sentence-transformers/all-mpnet-base-v2\n",
      "INFO:sentence_transformers.SentenceTransformer:Use pytorch device: cuda\n",
      "Use pytorch device: cuda\n"
     ]
    }
   ],
   "source": [
    "tokenizer = LlamaTokenizer.from_pretrained(\"/home/jupyter/koala_transformer\", device_map=\"auto\", max_input_size=2048)\n",
    "model = LlamaForCausalLM.from_pretrained(\"/home/jupyter/koala_transformer\", torch_dtype=torch.float16, device_map=\"auto\", cache_dir=\"/home/jupyter/data/transformers\")\n",
    "\n",
    "\n",
    "class CustomLLM(LLM):\n",
    "\n",
    "    def _call(self, prompt: str, stop: Optional[List[str]] = None) -> str:\n",
    "        prompt = query_wrapper_prompt.format(query_str=prompt)\n",
    "        inputs = tokenizer(prompt, return_tensors=\"pt\").to(\"cuda\")\n",
    "        outputs = model.generate(**inputs, max_new_tokens=1024, \n",
    "                             do_sample=False, \n",
    "                             temperature=0)\n",
    "        result = tokenizer.batch_decode(outputs, skip_special_tokens=True, spaces_between_special_tokens=False)[0]\n",
    "        # only return newly generated tokens\n",
    "        return result[len(prompt):]\n",
    "\n",
    "    @property\n",
    "    def _identifying_params(self) -> Mapping[str, Any]:\n",
    "        return {\"name_of_model\": \"Koala\"}\n",
    "\n",
    "    @property\n",
    "    def _llm_type(self) -> str:\n",
    "        return \"llama\"\n",
    "\n",
    "# define our LLM\n",
    "num_output = 512\n",
    "max_chunk_overlap = 20\n",
    "llm_predictor = LLMPredictor(llm=CustomLLM())\n",
    "\n",
    "\n",
    "prompt_helper = PromptHelper(max_input_size=2048, num_output=num_output, max_chunk_overlap=max_chunk_overlap)\n",
    "\n",
    "\n",
    "hf_predictor = LLMPredictor(llm=CustomLLM())\n",
    "embed_model = LangchainEmbedding(HuggingFaceEmbeddings())\n",
    "service_context = ServiceContext.from_defaults(chunk_size_limit=1024, llm_predictor=hf_predictor, embed_model=embed_model, prompt_helper=prompt_helper)"
   ]
  },
  {
   "cell_type": "code",
   "execution_count": 6,
   "id": "fc167d33-85ce-42a2-9178-4f000a3b3d13",
   "metadata": {},
   "outputs": [
    {
     "name": "stdout",
     "output_type": "stream",
     "text": [
      "INFO:llama_index.indices.loading:Loading all indices.\n",
      "Loading all indices.\n"
     ]
    }
   ],
   "source": [
    "from llama_index import load_index_from_storage, load_indices_from_storage, load_graph_from_storage\n",
    "from llama_index.storage.docstore import SimpleDocumentStore\n",
    "from llama_index.vector_stores import SimpleVectorStore\n",
    "from llama_index.storage.index_store import SimpleIndexStore\n",
    "\n",
    "\n",
    "storage_context = StorageContext.from_defaults(\n",
    "    docstore=SimpleDocumentStore.from_persist_dir(persist_dir=persist_dir),\n",
    "    vector_store=SimpleVectorStore.from_persist_dir(persist_dir=persist_dir),\n",
    "    index_store=SimpleIndexStore.from_persist_dir(persist_dir=persist_dir),\n",
    ")\n",
    "\n",
    "\n",
    "index = load_index_from_storage(storage_context=storage_context, service_context=service_context)"
   ]
  },
  {
   "cell_type": "code",
   "execution_count": 7,
   "id": "fee030cb-cfbf-4519-ab5e-f4f9b4c8bf44",
   "metadata": {},
   "outputs": [
    {
     "data": {
      "application/vnd.jupyter.widget-view+json": {
       "model_id": "03f43911a3024eada0a83c323f4b9081",
       "version_major": 2,
       "version_minor": 0
      },
      "text/plain": [
       "Batches:   0%|          | 0/1 [00:00<?, ?it/s]"
      ]
     },
     "metadata": {},
     "output_type": "display_data"
    },
    {
     "name": "stdout",
     "output_type": "stream",
     "text": [
      "INFO:llama_index.token_counter.token_counter:> [retrieve] Total LLM token usage: 0 tokens\n",
      "> [retrieve] Total LLM token usage: 0 tokens\n",
      "INFO:llama_index.token_counter.token_counter:> [retrieve] Total embedding token usage: 11 tokens\n",
      "> [retrieve] Total embedding token usage: 11 tokens\n",
      "INFO:llama_index.token_counter.token_counter:> [get_response] Total LLM token usage: 2255 tokens\n",
      "> [get_response] Total LLM token usage: 2255 tokens\n",
      "INFO:llama_index.token_counter.token_counter:> [get_response] Total embedding token usage: 0 tokens\n",
      "> [get_response] Total embedding token usage: 0 tokens\n"
     ]
    }
   ],
   "source": [
    "query_engine = index.as_query_engine()\n",
    "response = query_engine.query(\"Which companies made drugs to help alzheimer disease?\")"
   ]
  },
  {
   "cell_type": "code",
   "execution_count": 8,
   "id": "53e37360-500c-4d24-93d6-5d2e8739bc29",
   "metadata": {},
   "outputs": [
    {
     "name": "stdout",
     "output_type": "stream",
     "text": [
      " Biogen and Eli Lilly are two companies that have developed drugs to treat Alzheimer's disease. Biogen's drug, leqembi, reduces a protein called amyloid, which builds up on the brain in Alzheimer's's patients and disrupts cell function. Eli Lilly's experimental Alzheimer's drug, remternetug, lowered levels of brain plaque in patients who are in the earliest stages of Alzheimer's, according to early clinical trial data. Both companies are racing to bring a new Alzheimer's treatment to the market after both of their previous drugs flopped. Biogen is banking on the success of Biogen's drug leqembi after the disastrous approval and rollout of Biogen's old Alzheimer's drug aduhelm last year. Eli Lilly is developing donanemab and another drug, remternetug, after Eli Lilly's older treatment, solanezumab, failed to slow the progression of Alzheimer's's in clinical trials. An estimated 6.7 million Americans age 65 and older are living with Alzheimer's's, according to the Alzheimer's Association. By 2050, an estimated 6.7 million Americans age 65 and older is projected to rise to almost 13 million. One in three seniors die with Alzheimer's's or another form of dementia, which kills more people than breast cancer.\n"
     ]
    }
   ],
   "source": [
    "print(response)"
   ]
  },
  {
   "cell_type": "code",
   "execution_count": 9,
   "id": "0024ce91-97a2-4f3e-b580-8ff19bbef955",
   "metadata": {},
   "outputs": [
    {
     "data": {
      "application/vnd.jupyter.widget-view+json": {
       "model_id": "2a2b9a2f8bde44019327c2b5357ceb22",
       "version_major": 2,
       "version_minor": 0
      },
      "text/plain": [
       "Batches:   0%|          | 0/1 [00:00<?, ?it/s]"
      ]
     },
     "metadata": {},
     "output_type": "display_data"
    },
    {
     "name": "stdout",
     "output_type": "stream",
     "text": [
      "INFO:llama_index.token_counter.token_counter:> [retrieve] Total LLM token usage: 0 tokens\n",
      "> [retrieve] Total LLM token usage: 0 tokens\n",
      "INFO:llama_index.token_counter.token_counter:> [retrieve] Total embedding token usage: 18 tokens\n",
      "> [retrieve] Total embedding token usage: 18 tokens\n",
      "INFO:llama_index.token_counter.token_counter:> [get_response] Total LLM token usage: 2324 tokens\n",
      "> [get_response] Total LLM token usage: 2324 tokens\n",
      "INFO:llama_index.token_counter.token_counter:> [get_response] Total embedding token usage: 0 tokens\n",
      "> [get_response] Total embedding token usage: 0 tokens\n"
     ]
    }
   ],
   "source": [
    "response = query_engine.query(\"Write a report to answer the question which companies made drugs to help alzheimer disease?\")"
   ]
  },
  {
   "cell_type": "code",
   "execution_count": 10,
   "id": "9498eb9a-a8ca-44eb-93a3-d5ef2d72f96e",
   "metadata": {},
   "outputs": [
    {
     "name": "stdout",
     "output_type": "stream",
     "text": [
      " Based on the new context, it appears that Eli Lilly and Biogen are two companies that are developing drugs to treat Alzheimer's disease. Eli Lilly's experimental Alzheimer's drug, which is in the early stages of development, has shown promising results in reducing levels of brain plaque in patients with the disease. Biogen's drug, leqembi, is also in development and is expected to be approved in the near future.\n",
      "\n",
      "Eli Lilly and Biogen are racing to bring a new Alzheimer's's treatment to the market after both of Eli Lilly's and Biogen's previous drugs flopped. Biogen is banking on the success of Biogen's drug leqembi after the disastrous approval and rollout of Biogen's old Alzheimer's's drug aduhelm last year. Biogen said Biogen booked an $18 million loss from Alzheimer's treatments during the first quarter. Eli Lilly is developing donanemab and another drug, remternetug, after Eli Lilly's older treatment, solanezumab, failed to slow the progression of Alzheimer's's in clinical trials.\n",
      "\n",
      "An estimated 6.7 million Americans age 65 and older are living with Alzheimer's's, according to the Alzheimer's Association. By 2050, an estimated 6.7 million Americans age 65 and older is projected to rise to almost 13 million. One in three seniors die with Alzheimer's's or another form of dementia, which kills more people than breast cancer.\n",
      "\n",
      "It is important to note that the treatment of Alzheimer's disease is still in its early stages and more research is needed to fully understand the disease and develop effective treatments.\n"
     ]
    }
   ],
   "source": [
    "print(response)"
   ]
  },
  {
   "cell_type": "code",
   "execution_count": 11,
   "id": "6a7dcde6-8cf7-46bb-a260-7582bf71ed84",
   "metadata": {},
   "outputs": [
    {
     "data": {
      "application/vnd.jupyter.widget-view+json": {
       "model_id": "a293103bf45449f49e2aff4057982937",
       "version_major": 2,
       "version_minor": 0
      },
      "text/plain": [
       "Batches:   0%|          | 0/1 [00:00<?, ?it/s]"
      ]
     },
     "metadata": {},
     "output_type": "display_data"
    },
    {
     "name": "stdout",
     "output_type": "stream",
     "text": [
      "INFO:llama_index.token_counter.token_counter:> [retrieve] Total LLM token usage: 0 tokens\n",
      "> [retrieve] Total LLM token usage: 0 tokens\n",
      "INFO:llama_index.token_counter.token_counter:> [retrieve] Total embedding token usage: 24 tokens\n",
      "> [retrieve] Total embedding token usage: 24 tokens\n",
      "INFO:llama_index.token_counter.token_counter:> [get_response] Total LLM token usage: 3509 tokens\n",
      "> [get_response] Total LLM token usage: 3509 tokens\n",
      "INFO:llama_index.token_counter.token_counter:> [get_response] Total embedding token usage: 0 tokens\n",
      "> [get_response] Total embedding token usage: 0 tokens\n"
     ]
    }
   ],
   "source": [
    "response = query_engine.query(\"Write a summary with details relevant to investing to answer the question: Which companies made drugs to help alzheimer disease?\")"
   ]
  },
  {
   "cell_type": "code",
   "execution_count": 12,
   "id": "01967d14-3537-4bf8-a8ab-b9d478d1511a",
   "metadata": {},
   "outputs": [
    {
     "name": "stdout",
     "output_type": "stream",
     "text": [
      " Based on the new context, it appears that Biogen is a biotechnology company that is developing drugs to treat Alzheimer's disease. The company's CEO stated that Biogen is not worried about competing with Eli Lilly, another biotechnology company that is also developing drugs to treat Alzheimer's disease.\n",
      "\n",
      "Biogen's CEO mentioned that both Eli Lilly's donanemab and leqembi, a highly anticipated drug from Biogen and Japanese drugmaker Eisai, reduce a protein called amyloid. Amyloid is a protein that builds up on the brain in Alzheimer's disease and disrupts cell function.\n",
      "\n",
      "The CEO also mentioned that Biogen's drug leqembi is expected to receive full approval from the Food and Drug Administration (FDA) by the summer. Eli Lilly's donanemab is also expected to receive full approval from the FDA, but the CEO stated that Eli Lilly's decision to stop dosing donanemab after donanemab clears a certain amount of amyloid plaque in a patient may not be the best approach to treating Alzheimer's disease.\n",
      "\n",
      "The CEO also mentioned that Biogen's drug leqembi is expected to receive full approval from the Food and Drug Administration (FDA) by the summer. Eli Lilly's donanemab is also expected to receive full approval from the FDA, but the CEO stated that Eli Lilly's decision to stop dosing donanemab after donanemab clears a certain amount of amyloid plaque in a patient may not be the best approach to treating Alzheimer's disease.\n",
      "\n",
      "The CEO also mentioned that Biogen's drug leqembi is expected to receive full approval from the Food and Drug Administration (FDA) by the summer. Eli Lilly's donanemab is also expected to receive full approval from the FDA, but the CEO stated that Eli Lilly's decision to stop dosing donanemab after donanemab clears a certain amount of amyloid plaque in a patient may not be the best approach to treating Alzheimer's disease.\n",
      "\n",
      "The CEO also mentioned that Biogen's drug leqembi is expected to receive full approval from the Food and Drug Administration (FDA) by the summer. Eli Lilly's donanemab is also expected to receive full approval from the FDA, but the CEO stated that Eli Lilly's decision to stop dosing donanemab after donanemab clears a certain amount of amyloid plaque in a patient may not be the best approach to treating Alzheimer's disease.\n",
      "\n",
      "The CEO also mentioned that Biogen's drug leqembi is expected to receive full approval from the Food and Drug Administration (FDA) by the summer. Eli Lilly's donanemab is also expected to receive full approval from the FDA, but the CEO stated that Eli Lilly's decision to stop dosing donanemab after donanemab clears a certain amount of amyloid plaque in a patient may not be the best approach to treating Alzheimer's disease.\n",
      "\n",
      "The CEO also mentioned that Biogen's drug leqembi is expected to receive full approval from the Food and Drug Administration (FDA) by the summer. Eli Lilly's donanemab is also expected to receive full approval from the FDA, but the CEO stated that Eli Lilly's decision to stop dosing donanemab after donanemab clears a certain amount of amyloid plaque in a patient may not be the best approach to treating Alzheimer's disease.\n",
      "\n",
      "The CEO also mentioned that Biogen's drug leqembi is expected to receive full approval from the Food and Drug Administration (FDA) by the summer. Eli Lilly's donanemab is also expected to receive full approval from the FDA, but the CEO stated that Eli Lilly's decision to stop dosing donanemab after donanemab clears a certain amount of amyloid plaque in a patient may not be the best approach to treating Alzheimer's disease.\n",
      "\n",
      "The CEO also mentioned that Biogen's drug leqembi is expected to receive full approval from the Food and Drug Administration (FDA) by the summer. Eli Lilly's donanemab is also expected to receive\n"
     ]
    }
   ],
   "source": [
    "print(response)"
   ]
  },
  {
   "cell_type": "code",
   "execution_count": 13,
   "id": "fc275141-8965-43eb-a0e5-75f35d723c76",
   "metadata": {},
   "outputs": [
    {
     "data": {
      "application/vnd.jupyter.widget-view+json": {
       "model_id": "76b6ff5bfe774f7cafbdde4b12a0899e",
       "version_major": 2,
       "version_minor": 0
      },
      "text/plain": [
       "Batches:   0%|          | 0/1 [00:00<?, ?it/s]"
      ]
     },
     "metadata": {},
     "output_type": "display_data"
    },
    {
     "name": "stdout",
     "output_type": "stream",
     "text": [
      "INFO:llama_index.token_counter.token_counter:> [retrieve] Total LLM token usage: 0 tokens\n",
      "> [retrieve] Total LLM token usage: 0 tokens\n",
      "INFO:llama_index.token_counter.token_counter:> [retrieve] Total embedding token usage: 24 tokens\n",
      "> [retrieve] Total embedding token usage: 24 tokens\n",
      "INFO:llama_index.token_counter.token_counter:> [get_response] Total LLM token usage: 2052 tokens\n",
      "> [get_response] Total LLM token usage: 2052 tokens\n",
      "INFO:llama_index.token_counter.token_counter:> [get_response] Total embedding token usage: 0 tokens\n",
      "> [get_response] Total embedding token usage: 0 tokens\n"
     ]
    }
   ],
   "source": [
    "response = query_engine.query('Which companies are still recovering from COVID? Include only details relevant to investing, and be specific on each company involved.')"
   ]
  },
  {
   "cell_type": "code",
   "execution_count": 14,
   "id": "dc24ec7a-508d-4632-a431-df844901586f",
   "metadata": {},
   "outputs": [
    {
     "name": "stdout",
     "output_type": "stream",
     "text": [
      " Based on the new context, Abbott Laboratories (ABT.N) is recovering from COVID-19, as the company reported a recovery in elective surgeries globally and raised its forecast for Abbott Laboratories (ABT.N)'s core business, even as Covid testing-related sales were seen a fall in Covid testing sales sharply. Abbott Laboratories (ABT.N) is the second major medical device maker to signal a recovery after rival Johnson & Johnson (JNJ.N) on Tuesday posted better-than-expected sales for the business. The company's glucose-monitoring device Freestyle Libre alone contributed $1.2 billion in sales. Abbott Chair and CEO Robert Ford said the rise signals a recovery in demand for surgical procedures, pointing to an improvement in staffing levels at hospitals across the U.S. \"Abbott Chair and CEO Robert Ford think the hospital systems have done a really good job right now at managing through the staffing shortages, and we're starting to see the impact there,\" Abbott Chair and CEO Robert Ford said during an earnings call. The strong results come after rival Johnson & Johnson reported similar growth in rival Johnson & Johnson's own medical devices unit, noting that surgical procedures are \"well in recovery.\" Abbott's stock is up more than 2% year to date, pushing Abbott's market value to around $195 billion.\n"
     ]
    }
   ],
   "source": [
    "print(response)"
   ]
  },
  {
   "cell_type": "code",
   "execution_count": 15,
   "id": "eaab3e66-1138-4371-bd6f-f9324f7f7608",
   "metadata": {},
   "outputs": [
    {
     "data": {
      "application/vnd.jupyter.widget-view+json": {
       "model_id": "03bf7edb634943c19aa3a9d7dc1e894a",
       "version_major": 2,
       "version_minor": 0
      },
      "text/plain": [
       "Batches:   0%|          | 0/1 [00:00<?, ?it/s]"
      ]
     },
     "metadata": {},
     "output_type": "display_data"
    },
    {
     "name": "stdout",
     "output_type": "stream",
     "text": [
      "INFO:llama_index.token_counter.token_counter:> [retrieve] Total LLM token usage: 0 tokens\n",
      "> [retrieve] Total LLM token usage: 0 tokens\n",
      "INFO:llama_index.token_counter.token_counter:> [retrieve] Total embedding token usage: 20 tokens\n",
      "> [retrieve] Total embedding token usage: 20 tokens\n",
      "INFO:llama_index.token_counter.token_counter:> [get_response] Total LLM token usage: 2030 tokens\n",
      "> [get_response] Total LLM token usage: 2030 tokens\n",
      "INFO:llama_index.token_counter.token_counter:> [get_response] Total embedding token usage: 0 tokens\n",
      "> [get_response] Total embedding token usage: 0 tokens\n"
     ]
    }
   ],
   "source": [
    "response = query_engine.query('What new drugs are being approved that may impact stock prices? Be specific on the drugs and companies.')"
   ]
  },
  {
   "cell_type": "code",
   "execution_count": 16,
   "id": "eb4c4058-abb7-4b65-bbda-f4b2ae1f21f6",
   "metadata": {},
   "outputs": [
    {
     "name": "stdout",
     "output_type": "stream",
     "text": [
      " Based on the new context, it appears that there are no new drugs being approved that may impact stock prices. The article focuses on Johnson & Johnson's earnings report and the company's guidance for its pharmaceutical business. The article does not mention any new drugs being approved that may impact stock prices.\n",
      "\n",
      "However, it is worth noting that the article does mention some companies that have reported earnings and revenue that beat expectations, including Intel, First Solar, Alteryx, L3 Harris Technologies, and Pinterest. These companies may have seen an impact on their stock prices as a result of their earnings reports.\n"
     ]
    }
   ],
   "source": [
    "print(response)"
   ]
  },
  {
   "cell_type": "code",
   "execution_count": 17,
   "id": "81d6dc6c-5773-4243-8577-d36a0ba1a818",
   "metadata": {},
   "outputs": [
    {
     "data": {
      "application/vnd.jupyter.widget-view+json": {
       "model_id": "babf0180da804e69a9782a5a6e8a8551",
       "version_major": 2,
       "version_minor": 0
      },
      "text/plain": [
       "Batches:   0%|          | 0/1 [00:00<?, ?it/s]"
      ]
     },
     "metadata": {},
     "output_type": "display_data"
    },
    {
     "name": "stdout",
     "output_type": "stream",
     "text": [
      "INFO:llama_index.token_counter.token_counter:> [retrieve] Total LLM token usage: 0 tokens\n",
      "> [retrieve] Total LLM token usage: 0 tokens\n",
      "INFO:llama_index.token_counter.token_counter:> [retrieve] Total embedding token usage: 22 tokens\n",
      "> [retrieve] Total embedding token usage: 22 tokens\n",
      "INFO:llama_index.token_counter.token_counter:> [get_response] Total LLM token usage: 1143 tokens\n",
      "> [get_response] Total LLM token usage: 1143 tokens\n",
      "INFO:llama_index.token_counter.token_counter:> [get_response] Total embedding token usage: 0 tokens\n",
      "> [get_response] Total embedding token usage: 0 tokens\n"
     ]
    }
   ],
   "source": [
    "response = query_engine.query('How did the intervention of the FED affect the stock market? Be specific about the interventions and the result.')"
   ]
  },
  {
   "cell_type": "code",
   "execution_count": 18,
   "id": "6ede3e38-c58d-458e-8ee7-46eb5e986f5d",
   "metadata": {},
   "outputs": [
    {
     "name": "stdout",
     "output_type": "stream",
     "text": [
      " Based on the context information, it is not clear how the interventions of the FED affected the stock market. The FED's interventions were focused on addressing the financial crisis and stabilizing the banking system, rather than directly affecting the stock market. The FED's actions included raising interest rates, providing emergency loans to banks, and implementing other measures to address the crisis. However, it is not clear how these actions specifically affected the stock market.\n"
     ]
    }
   ],
   "source": [
    "print(response)"
   ]
  },
  {
   "cell_type": "code",
   "execution_count": null,
   "id": "572a2b90-a9db-480b-9a76-808468efb9da",
   "metadata": {},
   "outputs": [],
   "source": []
  }
 ],
 "metadata": {
  "environment": {
   "kernel": "llamaidx",
   "name": "common-cu110.m108",
   "type": "gcloud",
   "uri": "gcr.io/deeplearning-platform-release/base-cu110:m108"
  },
  "kernelspec": {
   "display_name": "llamaidx",
   "language": "python",
   "name": "llamaidx"
  },
  "language_info": {
   "codemirror_mode": {
    "name": "ipython",
    "version": 3
   },
   "file_extension": ".py",
   "mimetype": "text/x-python",
   "name": "python",
   "nbconvert_exporter": "python",
   "pygments_lexer": "ipython3",
   "version": "3.10.11"
  }
 },
 "nbformat": 4,
 "nbformat_minor": 5
}
